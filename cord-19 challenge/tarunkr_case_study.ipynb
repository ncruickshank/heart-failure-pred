{
 "cells": [
  {
   "cell_type": "markdown",
   "metadata": {},
   "source": [
    "# COVID-19 Open Research Dataset Challenge (CORD-19)\n",
    "  \n",
    "https://www.kaggle.com/allen-institute-for-ai/CORD-19-research-challenge"
   ]
  },
  {
   "cell_type": "markdown",
   "metadata": {},
   "source": [
    "This notebook is specifically inspired by the following notebook:  \n",
    "  \n",
    "https://www.kaggle.com/tarunkr/covid-19-case-study-analysis-viz-comparisons"
   ]
  },
  {
   "cell_type": "code",
   "execution_count": 14,
   "metadata": {},
   "outputs": [
    {
     "name": "stderr",
     "output_type": "stream",
     "text": [
      "Using TensorFlow backend.\n"
     ]
    }
   ],
   "source": [
    "import pandas as pd\n",
    "import numpy as np\n",
    "import matplotlib.pyplot as plt\n",
    "from matplotlib import ticker \n",
    "import pycountry_convert as pc\n",
    "import folium\n",
    "import branca\n",
    "from datetime import datetime, timedelta,date\n",
    "from scipy.interpolate import make_interp_spline, BSpline\n",
    "import plotly.express as px\n",
    "import json, requests\n",
    "import calmap\n",
    "\n",
    "from keras.layers import Input, Dense, Activation, LeakyReLU, Dropout\n",
    "from keras import models\n",
    "from keras.optimizers import RMSprop, Adam"
   ]
  },
  {
   "cell_type": "code",
   "execution_count": 15,
   "metadata": {},
   "outputs": [],
   "source": [
    "import warnings\n",
    "warnings.filterwarnings('ignore')\n",
    "\n",
    "%matplotlib inline"
   ]
  },
  {
   "cell_type": "code",
   "execution_count": 18,
   "metadata": {},
   "outputs": [],
   "source": [
    "# retrieve data from internet\n",
    "df_confirmed = pd.read_csv('https://raw.githubusercontent.com/CSSEGISandData/COVID-19/master/csse_covid_19_data/csse_covid_19_time_series/time_series_covid19_confirmed_global.csv')\n",
    "df_deaths = pd.read_csv('https://raw.githubusercontent.com/CSSEGISandData/COVID-19/master/csse_covid_19_data/csse_covid_19_time_series/time_series_covid19_deaths_global.csv')\n",
    "\n",
    "# Depricated\n",
    "# df_recovered = pd.read_csv('https://raw.githubusercontent.com/CSSEGISandData/COVID-19/master/csse_covid_19_data/csse_covid_19_time_series/time_series_19-covid-Recovered.csv')\n",
    "df_covid19 = pd.read_csv(\"https://raw.githubusercontent.com/CSSEGISandData/COVID-19/web-data/data/cases_country.csv\")\n",
    "df_table = pd.read_csv(\"https://raw.githubusercontent.com/CSSEGISandData/COVID-19/web-data/data/cases_time.csv\",parse_dates=['Last_Update'])"
   ]
  }
 ],
 "metadata": {
  "kernelspec": {
   "display_name": "Python 3",
   "language": "python",
   "name": "python3"
  },
  "language_info": {
   "codemirror_mode": {
    "name": "ipython",
    "version": 3
   },
   "file_extension": ".py",
   "mimetype": "text/x-python",
   "name": "python",
   "nbconvert_exporter": "python",
   "pygments_lexer": "ipython3",
   "version": "3.7.7"
  }
 },
 "nbformat": 4,
 "nbformat_minor": 4
}
