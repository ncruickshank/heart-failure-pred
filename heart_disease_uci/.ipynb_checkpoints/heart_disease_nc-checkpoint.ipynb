{
 "cells": [
  {
   "cell_type": "markdown",
   "metadata": {},
   "source": [
    "# Heart Disease Predictions"
   ]
  },
  {
   "cell_type": "markdown",
   "metadata": {},
   "source": [
    "Originally Posted At: https://www.kaggle.com/ronitf/heart-disease-uci  \n",
    "Revised and Posted Again At: https://www.kaggle.com/cherngs/heart-disease-cleveland-uci"
   ]
  },
  {
   "cell_type": "markdown",
   "metadata": {},
   "source": [
    "(insert image here)"
   ]
  },
  {
   "cell_type": "markdown",
   "metadata": {},
   "source": [
    "(insert introductory paragraph(s) here)"
   ]
  },
  {
   "cell_type": "code",
   "execution_count": 32,
   "metadata": {},
   "outputs": [],
   "source": [
    "# import libraries\n",
    "## general use\n",
    "import numpy as np\n",
    "import pandas as pd\n",
    "\n",
    "## plotting\n",
    "import matplotlib as mpl\n",
    "import matplotlib.pyplot as plt\n",
    "import seaborn as sns\n",
    "from plotly.offline import plot, iplot, init_notebook_mode\n",
    "import plotly.graph_objects as go\n",
    "from plotly.subplots import make_subplots\n",
    "import plotly.express as px\n",
    "import plotly.graph_objs as gobj\n",
    "from colorama import Fore, Back, Style\n",
    "import plotly.figure_factory as ff\n",
    "\n",
    "## machine learning\n",
    "from sklearn.model_selection import train_test_split\n",
    "from sklearn.metrics import confusion_matrix, accuracy_score, roc_auc_score\n",
    "from sklearn.model_selection import GridSearchCV\n",
    "from mlxtend.plotting import plot_confusion_matrix\n",
    "from sklearn.svm import SVC\n",
    "from sklearn.ensemble import GradientBoostingClassifier, RandomForestClassifier\n",
    "from sklearn.tree import DecisionTreeClassifier\n",
    "from sklearn.neighbors import KNeighborsClassifier\n",
    "from sklearn.linear_model import LogisticRegression"
   ]
  },
  {
   "cell_type": "code",
   "execution_count": 58,
   "metadata": {},
   "outputs": [],
   "source": [
    "# import dataframe\n",
    "df = pd.read_csv('heart_cleveland_upload.csv')"
   ]
  },
  {
   "cell_type": "code",
   "execution_count": 108,
   "metadata": {},
   "outputs": [],
   "source": [
    "# tidy df\n",
    "df['condition'] = df['condition'].astype(str)"
   ]
  },
  {
   "cell_type": "code",
   "execution_count": 59,
   "metadata": {},
   "outputs": [
    {
     "data": {
      "text/html": [
       "<div>\n",
       "<style scoped>\n",
       "    .dataframe tbody tr th:only-of-type {\n",
       "        vertical-align: middle;\n",
       "    }\n",
       "\n",
       "    .dataframe tbody tr th {\n",
       "        vertical-align: top;\n",
       "    }\n",
       "\n",
       "    .dataframe thead th {\n",
       "        text-align: right;\n",
       "    }\n",
       "</style>\n",
       "<table border=\"1\" class=\"dataframe\">\n",
       "  <thead>\n",
       "    <tr style=\"text-align: right;\">\n",
       "      <th></th>\n",
       "      <th>age</th>\n",
       "      <th>sex</th>\n",
       "      <th>cp</th>\n",
       "      <th>trestbps</th>\n",
       "      <th>chol</th>\n",
       "      <th>fbs</th>\n",
       "      <th>restecg</th>\n",
       "      <th>thalach</th>\n",
       "      <th>exang</th>\n",
       "      <th>oldpeak</th>\n",
       "      <th>slope</th>\n",
       "      <th>ca</th>\n",
       "      <th>thal</th>\n",
       "      <th>condition</th>\n",
       "    </tr>\n",
       "  </thead>\n",
       "  <tbody>\n",
       "    <tr>\n",
       "      <th>0</th>\n",
       "      <td>69</td>\n",
       "      <td>1</td>\n",
       "      <td>0</td>\n",
       "      <td>160</td>\n",
       "      <td>234</td>\n",
       "      <td>1</td>\n",
       "      <td>2</td>\n",
       "      <td>131</td>\n",
       "      <td>0</td>\n",
       "      <td>0.1</td>\n",
       "      <td>1</td>\n",
       "      <td>1</td>\n",
       "      <td>0</td>\n",
       "      <td>0</td>\n",
       "    </tr>\n",
       "    <tr>\n",
       "      <th>1</th>\n",
       "      <td>69</td>\n",
       "      <td>0</td>\n",
       "      <td>0</td>\n",
       "      <td>140</td>\n",
       "      <td>239</td>\n",
       "      <td>0</td>\n",
       "      <td>0</td>\n",
       "      <td>151</td>\n",
       "      <td>0</td>\n",
       "      <td>1.8</td>\n",
       "      <td>0</td>\n",
       "      <td>2</td>\n",
       "      <td>0</td>\n",
       "      <td>0</td>\n",
       "    </tr>\n",
       "    <tr>\n",
       "      <th>2</th>\n",
       "      <td>66</td>\n",
       "      <td>0</td>\n",
       "      <td>0</td>\n",
       "      <td>150</td>\n",
       "      <td>226</td>\n",
       "      <td>0</td>\n",
       "      <td>0</td>\n",
       "      <td>114</td>\n",
       "      <td>0</td>\n",
       "      <td>2.6</td>\n",
       "      <td>2</td>\n",
       "      <td>0</td>\n",
       "      <td>0</td>\n",
       "      <td>0</td>\n",
       "    </tr>\n",
       "    <tr>\n",
       "      <th>3</th>\n",
       "      <td>65</td>\n",
       "      <td>1</td>\n",
       "      <td>0</td>\n",
       "      <td>138</td>\n",
       "      <td>282</td>\n",
       "      <td>1</td>\n",
       "      <td>2</td>\n",
       "      <td>174</td>\n",
       "      <td>0</td>\n",
       "      <td>1.4</td>\n",
       "      <td>1</td>\n",
       "      <td>1</td>\n",
       "      <td>0</td>\n",
       "      <td>1</td>\n",
       "    </tr>\n",
       "    <tr>\n",
       "      <th>4</th>\n",
       "      <td>64</td>\n",
       "      <td>1</td>\n",
       "      <td>0</td>\n",
       "      <td>110</td>\n",
       "      <td>211</td>\n",
       "      <td>0</td>\n",
       "      <td>2</td>\n",
       "      <td>144</td>\n",
       "      <td>1</td>\n",
       "      <td>1.8</td>\n",
       "      <td>1</td>\n",
       "      <td>0</td>\n",
       "      <td>0</td>\n",
       "      <td>0</td>\n",
       "    </tr>\n",
       "  </tbody>\n",
       "</table>\n",
       "</div>"
      ],
      "text/plain": [
       "   age  sex  cp  trestbps  chol  fbs  restecg  thalach  exang  oldpeak  slope  \\\n",
       "0   69    1   0       160   234    1        2      131      0      0.1      1   \n",
       "1   69    0   0       140   239    0        0      151      0      1.8      0   \n",
       "2   66    0   0       150   226    0        0      114      0      2.6      2   \n",
       "3   65    1   0       138   282    1        2      174      0      1.4      1   \n",
       "4   64    1   0       110   211    0        2      144      1      1.8      1   \n",
       "\n",
       "   ca  thal  condition  \n",
       "0   1     0          0  \n",
       "1   2     0          0  \n",
       "2   0     0          0  \n",
       "3   1     0          1  \n",
       "4   0     0          0  "
      ]
     },
     "execution_count": 59,
     "metadata": {},
     "output_type": "execute_result"
    }
   ],
   "source": [
    "# preliminary descriptions of the df.\n",
    "## head\n",
    "df.head()"
   ]
  },
  {
   "cell_type": "code",
   "execution_count": 60,
   "metadata": {
    "scrolled": true
   },
   "outputs": [
    {
     "data": {
      "text/plain": [
       "(297, 14)"
      ]
     },
     "execution_count": 60,
     "metadata": {},
     "output_type": "execute_result"
    }
   ],
   "source": [
    "# shape (row, column)\n",
    "df.shape"
   ]
  },
  {
   "cell_type": "code",
   "execution_count": 61,
   "metadata": {
    "scrolled": true
   },
   "outputs": [
    {
     "data": {
      "text/html": [
       "<div>\n",
       "<style scoped>\n",
       "    .dataframe tbody tr th:only-of-type {\n",
       "        vertical-align: middle;\n",
       "    }\n",
       "\n",
       "    .dataframe tbody tr th {\n",
       "        vertical-align: top;\n",
       "    }\n",
       "\n",
       "    .dataframe thead th {\n",
       "        text-align: right;\n",
       "    }\n",
       "</style>\n",
       "<table border=\"1\" class=\"dataframe\">\n",
       "  <thead>\n",
       "    <tr style=\"text-align: right;\">\n",
       "      <th></th>\n",
       "      <th>age</th>\n",
       "      <th>sex</th>\n",
       "      <th>cp</th>\n",
       "      <th>trestbps</th>\n",
       "      <th>chol</th>\n",
       "      <th>fbs</th>\n",
       "      <th>restecg</th>\n",
       "      <th>thalach</th>\n",
       "      <th>exang</th>\n",
       "      <th>oldpeak</th>\n",
       "      <th>slope</th>\n",
       "      <th>ca</th>\n",
       "      <th>thal</th>\n",
       "      <th>condition</th>\n",
       "    </tr>\n",
       "  </thead>\n",
       "  <tbody>\n",
       "    <tr>\n",
       "      <th>count</th>\n",
       "      <td>297.000000</td>\n",
       "      <td>297.000000</td>\n",
       "      <td>297.000000</td>\n",
       "      <td>297.000000</td>\n",
       "      <td>297.000000</td>\n",
       "      <td>297.000000</td>\n",
       "      <td>297.000000</td>\n",
       "      <td>297.000000</td>\n",
       "      <td>297.000000</td>\n",
       "      <td>297.000000</td>\n",
       "      <td>297.000000</td>\n",
       "      <td>297.000000</td>\n",
       "      <td>297.000000</td>\n",
       "      <td>297.000000</td>\n",
       "    </tr>\n",
       "    <tr>\n",
       "      <th>mean</th>\n",
       "      <td>54.542088</td>\n",
       "      <td>0.676768</td>\n",
       "      <td>2.158249</td>\n",
       "      <td>131.693603</td>\n",
       "      <td>247.350168</td>\n",
       "      <td>0.144781</td>\n",
       "      <td>0.996633</td>\n",
       "      <td>149.599327</td>\n",
       "      <td>0.326599</td>\n",
       "      <td>1.055556</td>\n",
       "      <td>0.602694</td>\n",
       "      <td>0.676768</td>\n",
       "      <td>0.835017</td>\n",
       "      <td>0.461279</td>\n",
       "    </tr>\n",
       "    <tr>\n",
       "      <th>std</th>\n",
       "      <td>9.049736</td>\n",
       "      <td>0.468500</td>\n",
       "      <td>0.964859</td>\n",
       "      <td>17.762806</td>\n",
       "      <td>51.997583</td>\n",
       "      <td>0.352474</td>\n",
       "      <td>0.994914</td>\n",
       "      <td>22.941562</td>\n",
       "      <td>0.469761</td>\n",
       "      <td>1.166123</td>\n",
       "      <td>0.618187</td>\n",
       "      <td>0.938965</td>\n",
       "      <td>0.956690</td>\n",
       "      <td>0.499340</td>\n",
       "    </tr>\n",
       "    <tr>\n",
       "      <th>min</th>\n",
       "      <td>29.000000</td>\n",
       "      <td>0.000000</td>\n",
       "      <td>0.000000</td>\n",
       "      <td>94.000000</td>\n",
       "      <td>126.000000</td>\n",
       "      <td>0.000000</td>\n",
       "      <td>0.000000</td>\n",
       "      <td>71.000000</td>\n",
       "      <td>0.000000</td>\n",
       "      <td>0.000000</td>\n",
       "      <td>0.000000</td>\n",
       "      <td>0.000000</td>\n",
       "      <td>0.000000</td>\n",
       "      <td>0.000000</td>\n",
       "    </tr>\n",
       "    <tr>\n",
       "      <th>25%</th>\n",
       "      <td>48.000000</td>\n",
       "      <td>0.000000</td>\n",
       "      <td>2.000000</td>\n",
       "      <td>120.000000</td>\n",
       "      <td>211.000000</td>\n",
       "      <td>0.000000</td>\n",
       "      <td>0.000000</td>\n",
       "      <td>133.000000</td>\n",
       "      <td>0.000000</td>\n",
       "      <td>0.000000</td>\n",
       "      <td>0.000000</td>\n",
       "      <td>0.000000</td>\n",
       "      <td>0.000000</td>\n",
       "      <td>0.000000</td>\n",
       "    </tr>\n",
       "    <tr>\n",
       "      <th>50%</th>\n",
       "      <td>56.000000</td>\n",
       "      <td>1.000000</td>\n",
       "      <td>2.000000</td>\n",
       "      <td>130.000000</td>\n",
       "      <td>243.000000</td>\n",
       "      <td>0.000000</td>\n",
       "      <td>1.000000</td>\n",
       "      <td>153.000000</td>\n",
       "      <td>0.000000</td>\n",
       "      <td>0.800000</td>\n",
       "      <td>1.000000</td>\n",
       "      <td>0.000000</td>\n",
       "      <td>0.000000</td>\n",
       "      <td>0.000000</td>\n",
       "    </tr>\n",
       "    <tr>\n",
       "      <th>75%</th>\n",
       "      <td>61.000000</td>\n",
       "      <td>1.000000</td>\n",
       "      <td>3.000000</td>\n",
       "      <td>140.000000</td>\n",
       "      <td>276.000000</td>\n",
       "      <td>0.000000</td>\n",
       "      <td>2.000000</td>\n",
       "      <td>166.000000</td>\n",
       "      <td>1.000000</td>\n",
       "      <td>1.600000</td>\n",
       "      <td>1.000000</td>\n",
       "      <td>1.000000</td>\n",
       "      <td>2.000000</td>\n",
       "      <td>1.000000</td>\n",
       "    </tr>\n",
       "    <tr>\n",
       "      <th>max</th>\n",
       "      <td>77.000000</td>\n",
       "      <td>1.000000</td>\n",
       "      <td>3.000000</td>\n",
       "      <td>200.000000</td>\n",
       "      <td>564.000000</td>\n",
       "      <td>1.000000</td>\n",
       "      <td>2.000000</td>\n",
       "      <td>202.000000</td>\n",
       "      <td>1.000000</td>\n",
       "      <td>6.200000</td>\n",
       "      <td>2.000000</td>\n",
       "      <td>3.000000</td>\n",
       "      <td>2.000000</td>\n",
       "      <td>1.000000</td>\n",
       "    </tr>\n",
       "  </tbody>\n",
       "</table>\n",
       "</div>"
      ],
      "text/plain": [
       "              age         sex          cp    trestbps        chol         fbs  \\\n",
       "count  297.000000  297.000000  297.000000  297.000000  297.000000  297.000000   \n",
       "mean    54.542088    0.676768    2.158249  131.693603  247.350168    0.144781   \n",
       "std      9.049736    0.468500    0.964859   17.762806   51.997583    0.352474   \n",
       "min     29.000000    0.000000    0.000000   94.000000  126.000000    0.000000   \n",
       "25%     48.000000    0.000000    2.000000  120.000000  211.000000    0.000000   \n",
       "50%     56.000000    1.000000    2.000000  130.000000  243.000000    0.000000   \n",
       "75%     61.000000    1.000000    3.000000  140.000000  276.000000    0.000000   \n",
       "max     77.000000    1.000000    3.000000  200.000000  564.000000    1.000000   \n",
       "\n",
       "          restecg     thalach       exang     oldpeak       slope          ca  \\\n",
       "count  297.000000  297.000000  297.000000  297.000000  297.000000  297.000000   \n",
       "mean     0.996633  149.599327    0.326599    1.055556    0.602694    0.676768   \n",
       "std      0.994914   22.941562    0.469761    1.166123    0.618187    0.938965   \n",
       "min      0.000000   71.000000    0.000000    0.000000    0.000000    0.000000   \n",
       "25%      0.000000  133.000000    0.000000    0.000000    0.000000    0.000000   \n",
       "50%      1.000000  153.000000    0.000000    0.800000    1.000000    0.000000   \n",
       "75%      2.000000  166.000000    1.000000    1.600000    1.000000    1.000000   \n",
       "max      2.000000  202.000000    1.000000    6.200000    2.000000    3.000000   \n",
       "\n",
       "             thal   condition  \n",
       "count  297.000000  297.000000  \n",
       "mean     0.835017    0.461279  \n",
       "std      0.956690    0.499340  \n",
       "min      0.000000    0.000000  \n",
       "25%      0.000000    0.000000  \n",
       "50%      0.000000    0.000000  \n",
       "75%      2.000000    1.000000  \n",
       "max      2.000000    1.000000  "
      ]
     },
     "execution_count": 61,
     "metadata": {},
     "output_type": "execute_result"
    }
   ],
   "source": [
    "# describe\n",
    "df.describe()"
   ]
  },
  {
   "cell_type": "markdown",
   "metadata": {},
   "source": [
    "#### Attribute Information"
   ]
  },
  {
   "cell_type": "markdown",
   "metadata": {},
   "source": [
    "Column | Description | Possible Values\n",
    "-------------|------|------------\n",
    "age | Age of patient in years | continuous\n",
    "sex | Gender of patient | (1 = male, 0 = female)\n",
    "cp | chest pain type | 0 = typical angina, 1 = atypical angina, 2 = non-anginal pain, 3 = asymptomatic\n",
    "trestbps | resting blood pressure (in mmHg on admission to hospital) | continous\n",
    "chol | serum cholestoral in mg/dl | continous\n",
    "fbs | fasting blood sugar & gt; 120mg/dl | 1 = true, 0 = false\n",
    "restecg | resting electrocardiographic results | 0 = normal, 1 = having ST-T wave abnormality (T wave inversions and/or ST elevation or depression of > 0.05mV), 2 = showing probable or definite left ventricular hypertrphy by Estes' criteria, 1 = normal\n",
    "thalach | maximum heart rate achieved | continous\n",
    "exang | exercise induced anginga | 1 = yes, 0 = no\n",
    "oldpeak | ST depression induced by exercise relative to rest | continous\n",
    "slope | the slope of the peak exercise ST segment | 0 = upsloping, 1 = flat, 2 = downsloping\n",
    "ca | number of major vessels (0-3) colored by flouroscopy | 0, 1, 2, or 3\n",
    "thal | thalium, a radioactive tracer injected during a stress test | 0 = normal, 1 = fixed defect, 2 = reversable defect\n",
    "condition | target value | 0 = no disease, 1 = disease"
   ]
  },
  {
   "cell_type": "markdown",
   "metadata": {},
   "source": [
    "## Exploratory Data Analysis"
   ]
  },
  {
   "cell_type": "markdown",
   "metadata": {},
   "source": [
    "(brief prose)"
   ]
  },
  {
   "cell_type": "markdown",
   "metadata": {},
   "source": [
    "### Which Features Are Most Highly Correlated to 'Condition'"
   ]
  },
  {
   "cell_type": "code",
   "execution_count": 62,
   "metadata": {},
   "outputs": [
    {
     "data": {
      "image/png": "[encoded data removed]",
      "text/plain": [
       "<Figure size 720x720 with 2 Axes>"
      ]
     },
     "metadata": {
      "needs_background": "light"
     },
     "output_type": "display_data"
    }
   ],
   "source": [
    "# sns.heatmap to assess correlation with target\n",
    "plt.figure(figsize = (10,10))\n",
    "sns.heatmap(df.corr(),vmin = -1, cmap = 'coolwarm', annot = True);"
   ]
  },
  {
   "cell_type": "code",
   "execution_count": 65,
   "metadata": {},
   "outputs": [
    {
     "data": {
      "text/plain": [
       "['ca', 'oldpeak', 'thalach', 'exang', 'cp', 'slope', 'sex']"
      ]
     },
     "execution_count": 65,
     "metadata": {},
     "output_type": "execute_result"
    }
   ],
   "source": [
    "corrs = df.corr()['condition'].reset_index(name = 'corr')\n",
    "\n",
    "corrs['corr'] = corrs['corr'].abs()\n",
    "\n",
    "highest_corr = corrs[(corrs['corr'] > 0.25) & (corrs['index'] != 'condition')]\n",
    "\n",
    "#features with an absolute correlation of > 0.25\n",
    "features = list(highest_corr.sort_values(by = 'corr', ascending=False)[1:9]['index'].unique())\n",
    "\n",
    "features"
   ]
  },
  {
   "cell_type": "markdown",
   "metadata": {},
   "source": [
    "(prose analyzing the heatmap)"
   ]
  },
  {
   "cell_type": "markdown",
   "metadata": {},
   "source": [
    "### Relationship between 'ca' and 'condition'"
   ]
  },
  {
   "cell_type": "markdown",
   "metadata": {},
   "source": [
    "(provide brief description of what [x] is, and how it might relate to [target])"
   ]
  },
  {
   "cell_type": "code",
   "execution_count": 114,
   "metadata": {},
   "outputs": [
    {
     "data": {
      "application/vnd.plotly.v1+json": {
       "config": {
        "plotlyServerURL": "https://plot.ly"
       },
       "data": [
        {
         "alignmentgroup": "True",
         "hovertemplate": "condition=0<br>ca=%{x}<br>count=%{y}<extra></extra>",
         "legendgroup": "0",
         "marker": {
          "color": "#636efa"
         },
         "name": "0",
         "offsetgroup": "0",
         "orientation": "v",
         "showlegend": true,
         "textposition": "auto",
         "type": "bar",
         "x": [
          0,
          1,
          2,
          3
         ],
         "xaxis": "x",
         "y": [
          129,
          21,
          7,
          3
         ],
         "yaxis": "y"
        },
        {
         "alignmentgroup": "True",
         "hovertemplate": "condition=1<br>ca=%{x}<br>count=%{y}<extra></extra>",
         "legendgroup": "1",
         "marker": {
          "color": "#EF553B"
         },
         "name": "1",
         "offsetgroup": "1",
         "orientation": "v",
         "showlegend": true,
         "textposition": "auto",
         "type": "bar",
         "x": [
          0,
          1,
          2,
          3
         ],
         "xaxis": "x",
         "y": [
          45,
          44,
          31,
          17
         ],
         "yaxis": "y"
        }
       ],
       "layout": {
        "barmode": "group",
        "legend": {
         "title": {
          "text": "condition"
         },
         "tracegroupgap": 0
        },
        "template": {
         "data": {
          "bar": [
           {
            "error_x": {
             "color": "#2a3f5f"
            },
            "error_y": {
             "color": "#2a3f5f"
            },
            "marker": {
             "line": {
              "color": "#E5ECF6",
              "width": 0.5
             }
            },
            "type": "bar"
           }
          ],
          "barpolar": [
           {
            "marker": {
             "line": {
              "color": "#E5ECF6",
              "width": 0.5
             }
            },
            "type": "barpolar"
           }
          ],
          "carpet": [
           {
            "aaxis": {
             "endlinecolor": "#2a3f5f",
             "gridcolor": "white",
             "linecolor": "white",
             "minorgridcolor": "white",
             "startlinecolor": "#2a3f5f"
            },
            "baxis": {
             "endlinecolor": "#2a3f5f",
             "gridcolor": "white",
             "linecolor": "white",
             "minorgridcolor": "white",
             "startlinecolor": "#2a3f5f"
            },
            "type": "carpet"
           }
          ],
          "choropleth": [
           {
            "colorbar": {
             "outlinewidth": 0,
             "ticks": ""
            },
            "type": "choropleth"
           }
          ],
          "contour": [
           {
            "colorbar": {
             "outlinewidth": 0,
             "ticks": ""
            },
            "colorscale": [
             [
              0,
              "#0d0887"
             ],
             [
              0.1111111111111111,
              "#46039f"
             ],
             [
              0.2222222222222222,
              "#7201a8"
             ],
             [
              0.3333333333333333,
              "#9c179e"
             ],
             [
              0.4444444444444444,
              "#bd3786"
             ],
             [
              0.5555555555555556,
              "#d8576b"
             ],
             [
              0.6666666666666666,
              "#ed7953"
             ],
             [
              0.7777777777777778,
              "#fb9f3a"
             ],
             [
              0.8888888888888888,
              "#fdca26"
             ],
             [
              1,
              "#f0f921"
             ]
            ],
            "type": "contour"
           }
          ],
          "contourcarpet": [
           {
            "colorbar": {
             "outlinewidth": 0,
             "ticks": ""
            },
            "type": "contourcarpet"
           }
          ],
          "heatmap": [
           {
            "colorbar": {
             "outlinewidth": 0,
             "ticks": ""
            },
            "colorscale": [
             [
              0,
              "#0d0887"
             ],
             [
              0.1111111111111111,
              "#46039f"
             ],
             [
              0.2222222222222222,
              "#7201a8"
             ],
             [
              0.3333333333333333,
              "#9c179e"
             ],
             [
              0.4444444444444444,
              "#bd3786"
             ],
             [
              0.5555555555555556,
              "#d8576b"
             ],
             [
              0.6666666666666666,
              "#ed7953"
             ],
             [
              0.7777777777777778,
              "#fb9f3a"
             ],
             [
              0.8888888888888888,
              "#fdca26"
             ],
             [
              1,
              "#f0f921"
             ]
            ],
            "type": "heatmap"
           }
          ],
          "heatmapgl": [
           {
            "colorbar": {
             "outlinewidth": 0,
             "ticks": ""
            },
            "colorscale": [
             [
              0,
              "#0d0887"
             ],
             [
              0.1111111111111111,
              "#46039f"
             ],
             [
              0.2222222222222222,
              "#7201a8"
             ],
             [
              0.3333333333333333,
              "#9c179e"
             ],
             [
              0.4444444444444444,
              "#bd3786"
             ],
             [
              0.5555555555555556,
              "#d8576b"
             ],
             [
              0.6666666666666666,
              "#ed7953"
             ],
             [
              0.7777777777777778,
              "#fb9f3a"
             ],
             [
              0.8888888888888888,
              "#fdca26"
             ],
             [
              1,
              "#f0f921"
             ]
            ],
            "type": "heatmapgl"
           }
          ],
          "histogram": [
           {
            "marker": {
             "colorbar": {
              "outlinewidth": 0,
              "ticks": ""
             }
            },
            "type": "histogram"
           }
          ],
          "histogram2d": [
           {
            "colorbar": {
             "outlinewidth": 0,
             "ticks": ""
            },
            "colorscale": [
             [
              0,
              "#0d0887"
             ],
             [
              0.1111111111111111,
              "#46039f"
             ],
             [
              0.2222222222222222,
              "#7201a8"
             ],
             [
              0.3333333333333333,
              "#9c179e"
             ],
             [
              0.4444444444444444,
              "#bd3786"
             ],
             [
              0.5555555555555556,
              "#d8576b"
             ],
             [
              0.6666666666666666,
              "#ed7953"
             ],
             [
              0.7777777777777778,
              "#fb9f3a"
             ],
             [
              0.8888888888888888,
              "#fdca26"
             ],
             [
              1,
              "#f0f921"
             ]
            ],
            "type": "histogram2d"
           }
          ],
          "histogram2dcontour": [
           {
            "colorbar": {
             "outlinewidth": 0,
             "ticks": ""
            },
            "colorscale": [
             [
              0,
              "#0d0887"
             ],
             [
              0.1111111111111111,
              "#46039f"
             ],
             [
              0.2222222222222222,
              "#7201a8"
             ],
             [
              0.3333333333333333,
              "#9c179e"
             ],
             [
              0.4444444444444444,
              "#bd3786"
             ],
             [
              0.5555555555555556,
              "#d8576b"
             ],
             [
              0.6666666666666666,
              "#ed7953"
             ],
             [
              0.7777777777777778,
              "#fb9f3a"
             ],
             [
              0.8888888888888888,
              "#fdca26"
             ],
             [
              1,
              "#f0f921"
             ]
            ],
            "type": "histogram2dcontour"
           }
          ],
          "mesh3d": [
           {
            "colorbar": {
             "outlinewidth": 0,
             "ticks": ""
            },
            "type": "mesh3d"
           }
          ],
          "parcoords": [
           {
            "line": {
             "colorbar": {
              "outlinewidth": 0,
              "ticks": ""
             }
            },
            "type": "parcoords"
           }
          ],
          "pie": [
           {
            "automargin": true,
            "type": "pie"
           }
          ],
          "scatter": [
           {
            "marker": {
             "colorbar": {
              "outlinewidth": 0,
              "ticks": ""
             }
            },
            "type": "scatter"
           }
          ],
          "scatter3d": [
           {
            "line": {
             "colorbar": {
              "outlinewidth": 0,
              "ticks": ""
             }
            },
            "marker": {
             "colorbar": {
              "outlinewidth": 0,
              "ticks": ""
             }
            },
            "type": "scatter3d"
           }
          ],
          "scattercarpet": [
           {
            "marker": {
             "colorbar": {
              "outlinewidth": 0,
              "ticks": ""
             }
            },
            "type": "scattercarpet"
           }
          ],
          "scattergeo": [
           {
            "marker": {
             "colorbar": {
              "outlinewidth": 0,
              "ticks": ""
             }
            },
            "type": "scattergeo"
           }
          ],
          "scattergl": [
           {
            "marker": {
             "colorbar": {
              "outlinewidth": 0,
              "ticks": ""
             }
            },
            "type": "scattergl"
           }
          ],
          "scattermapbox": [
           {
            "marker": {
             "colorbar": {
              "outlinewidth": 0,
              "ticks": ""
             }
            },
            "type": "scattermapbox"
           }
          ],
          "scatterpolar": [
           {
            "marker": {
             "colorbar": {
              "outlinewidth": 0,
              "ticks": ""
             }
            },
            "type": "scatterpolar"
           }
          ],
          "scatterpolargl": [
           {
            "marker": {
             "colorbar": {
              "outlinewidth": 0,
              "ticks": ""
             }
            },
            "type": "scatterpolargl"
           }
          ],
          "scatterternary": [
           {
            "marker": {
             "colorbar": {
              "outlinewidth": 0,
              "ticks": ""
             }
            },
            "type": "scatterternary"
           }
          ],
          "surface": [
           {
            "colorbar": {
             "outlinewidth": 0,
             "ticks": ""
            },
            "colorscale": [
             [
              0,
              "#0d0887"
             ],
             [
              0.1111111111111111,
              "#46039f"
             ],
             [
              0.2222222222222222,
              "#7201a8"
             ],
             [
              0.3333333333333333,
              "#9c179e"
             ],
             [
              0.4444444444444444,
              "#bd3786"
             ],
             [
              0.5555555555555556,
              "#d8576b"
             ],
             [
              0.6666666666666666,
              "#ed7953"
             ],
             [
              0.7777777777777778,
              "#fb9f3a"
             ],
             [
              0.8888888888888888,
              "#fdca26"
             ],
             [
              1,
              "#f0f921"
             ]
            ],
            "type": "surface"
           }
          ],
          "table": [
           {
            "cells": {
             "fill": {
              "color": "#EBF0F8"
             },
             "line": {
              "color": "white"
             }
            },
            "header": {
             "fill": {
              "color": "#C8D4E3"
             },
             "line": {
              "color": "white"
             }
            },
            "type": "table"
           }
          ]
         },
         "layout": {
          "annotationdefaults": {
           "arrowcolor": "#2a3f5f",
           "arrowhead": 0,
           "arrowwidth": 1
          },
          "coloraxis": {
           "colorbar": {
            "outlinewidth": 0,
            "ticks": ""
           }
          },
          "colorscale": {
           "diverging": [
            [
             0,
             "#8e0152"
            ],
            [
             0.1,
             "#c51b7d"
            ],
            [
             0.2,
             "#de77ae"
            ],
            [
             0.3,
             "#f1b6da"
            ],
            [
             0.4,
             "#fde0ef"
            ],
            [
             0.5,
             "#f7f7f7"
            ],
            [
             0.6,
             "#e6f5d0"
            ],
            [
             0.7,
             "#b8e186"
            ],
            [
             0.8,
             "#7fbc41"
            ],
            [
             0.9,
             "#4d9221"
            ],
            [
             1,
             "#276419"
            ]
           ],
           "sequential": [
            [
             0,
             "#0d0887"
            ],
            [
             0.1111111111111111,
             "#46039f"
            ],
            [
             0.2222222222222222,
             "#7201a8"
            ],
            [
             0.3333333333333333,
             "#9c179e"
            ],
            [
             0.4444444444444444,
             "#bd3786"
            ],
            [
             0.5555555555555556,
             "#d8576b"
            ],
            [
             0.6666666666666666,
             "#ed7953"
            ],
            [
             0.7777777777777778,
             "#fb9f3a"
            ],
            [
             0.8888888888888888,
             "#fdca26"
            ],
            [
             1,
             "#f0f921"
            ]
           ],
           "sequentialminus": [
            [
             0,
             "#0d0887"
            ],
            [
             0.1111111111111111,
             "#46039f"
            ],
            [
             0.2222222222222222,
             "#7201a8"
            ],
            [
             0.3333333333333333,
             "#9c179e"
            ],
            [
             0.4444444444444444,
             "#bd3786"
            ],
            [
             0.5555555555555556,
             "#d8576b"
            ],
            [
             0.6666666666666666,
             "#ed7953"
            ],
            [
             0.7777777777777778,
             "#fb9f3a"
            ],
            [
             0.8888888888888888,
             "#fdca26"
            ],
            [
             1,
             "#f0f921"
            ]
           ]
          },
          "colorway": [
           "#636efa",
           "#EF553B",
           "#00cc96",
           "#ab63fa",
           "#FFA15A",
           "#19d3f3",
           "#FF6692",
           "#B6E880",
           "#FF97FF",
           "#FECB52"
          ],
          "font": {
           "color": "#2a3f5f"
          },
          "geo": {
           "bgcolor": "white",
           "lakecolor": "white",
           "landcolor": "#E5ECF6",
           "showlakes": true,
           "showland": true,
           "subunitcolor": "white"
          },
          "hoverlabel": {
           "align": "left"
          },
          "hovermode": "closest",
          "mapbox": {
           "style": "light"
          },
          "paper_bgcolor": "white",
          "plot_bgcolor": "#E5ECF6",
          "polar": {
           "angularaxis": {
            "gridcolor": "white",
            "linecolor": "white",
            "ticks": ""
           },
           "bgcolor": "#E5ECF6",
           "radialaxis": {
            "gridcolor": "white",
            "linecolor": "white",
            "ticks": ""
           }
          },
          "scene": {
           "xaxis": {
            "backgroundcolor": "#E5ECF6",
            "gridcolor": "white",
            "gridwidth": 2,
            "linecolor": "white",
            "showbackground": true,
            "ticks": "",
            "zerolinecolor": "white"
           },
           "yaxis": {
            "backgroundcolor": "#E5ECF6",
            "gridcolor": "white",
            "gridwidth": 2,
            "linecolor": "white",
            "showbackground": true,
            "ticks": "",
            "zerolinecolor": "white"
           },
           "zaxis": {
            "backgroundcolor": "#E5ECF6",
            "gridcolor": "white",
            "gridwidth": 2,
            "linecolor": "white",
            "showbackground": true,
            "ticks": "",
            "zerolinecolor": "white"
           }
          },
          "shapedefaults": {
           "line": {
            "color": "#2a3f5f"
           }
          },
          "ternary": {
           "aaxis": {
            "gridcolor": "white",
            "linecolor": "white",
            "ticks": ""
           },
           "baxis": {
            "gridcolor": "white",
            "linecolor": "white",
            "ticks": ""
           },
           "bgcolor": "#E5ECF6",
           "caxis": {
            "gridcolor": "white",
            "linecolor": "white",
            "ticks": ""
           }
          },
          "title": {
           "x": 0.05
          },
          "xaxis": {
           "automargin": true,
           "gridcolor": "white",
           "linecolor": "white",
           "ticks": "",
           "title": {
            "standoff": 15
           },
           "zerolinecolor": "white",
           "zerolinewidth": 2
          },
          "yaxis": {
           "automargin": true,
           "gridcolor": "white",
           "linecolor": "white",
           "ticks": "",
           "title": {
            "standoff": 15
           },
           "zerolinecolor": "white",
           "zerolinewidth": 2
          }
         }
        },
        "title": {
         "text": "Number of colored arteries by condition (0 = no heart disease, 1 = heart disease)"
        },
        "xaxis": {
         "anchor": "y",
         "domain": [
          0,
          1
         ],
         "title": {
          "text": "ca"
         }
        },
        "yaxis": {
         "anchor": "x",
         "domain": [
          0,
          1
         ],
         "title": {
          "text": "count"
         }
        }
       }
      },
      "text/html": [
       "<div>                            <div id=\"d29db057-445a-45b5-b790-ebbbaccbc89e\" class=\"plotly-graph-div\" style=\"height:525px; width:100%;\"></div>            <script type=\"text/javascript\">                require([\"plotly\"], function(Plotly) {                    window.PLOTLYENV=window.PLOTLYENV || {};                                    if (document.getElementById(\"d29db057-445a-45b5-b790-ebbbaccbc89e\")) {                    Plotly.newPlot(                        \"d29db057-445a-45b5-b790-ebbbaccbc89e\",                        [{\"alignmentgroup\": \"True\", \"hovertemplate\": \"condition=0<br>ca=%{x}<br>count=%{y}<extra></extra>\", \"legendgroup\": \"0\", \"marker\": {\"color\": \"#636efa\"}, \"name\": \"0\", \"offsetgroup\": \"0\", \"orientation\": \"v\", \"showlegend\": true, \"textposition\": \"auto\", \"type\": \"bar\", \"x\": [0, 1, 2, 3], \"xaxis\": \"x\", \"y\": [129, 21, 7, 3], \"yaxis\": \"y\"}, {\"alignmentgroup\": \"True\", \"hovertemplate\": \"condition=1<br>ca=%{x}<br>count=%{y}<extra></extra>\", \"legendgroup\": \"1\", \"marker\": {\"color\": \"#EF553B\"}, \"name\": \"1\", \"offsetgroup\": \"1\", \"orientation\": \"v\", \"showlegend\": true, \"textposition\": \"auto\", \"type\": \"bar\", \"x\": [0, 1, 2, 3], \"xaxis\": \"x\", \"y\": [45, 44, 31, 17], \"yaxis\": \"y\"}],                        {\"barmode\": \"group\", \"legend\": {\"title\": {\"text\": \"condition\"}, \"tracegroupgap\": 0}, \"template\": {\"data\": {\"bar\": [{\"error_x\": {\"color\": \"#2a3f5f\"}, \"error_y\": {\"color\": \"#2a3f5f\"}, \"marker\": {\"line\": {\"color\": \"#E5ECF6\", \"width\": 0.5}}, \"type\": \"bar\"}], \"barpolar\": [{\"marker\": {\"line\": {\"color\": \"#E5ECF6\", \"width\": 0.5}}, \"type\": \"barpolar\"}], \"carpet\": [{\"aaxis\": {\"endlinecolor\": \"#2a3f5f\", \"gridcolor\": \"white\", \"linecolor\": \"white\", \"minorgridcolor\": \"white\", \"startlinecolor\": \"#2a3f5f\"}, \"baxis\": {\"endlinecolor\": \"#2a3f5f\", \"gridcolor\": \"white\", \"linecolor\": \"white\", \"minorgridcolor\": \"white\", \"startlinecolor\": \"#2a3f5f\"}, \"type\": \"carpet\"}], \"choropleth\": [{\"colorbar\": {\"outlinewidth\": 0, \"ticks\": \"\"}, \"type\": \"choropleth\"}], \"contour\": [{\"colorbar\": {\"outlinewidth\": 0, \"ticks\": \"\"}, \"colorscale\": [[0.0, \"#0d0887\"], [0.1111111111111111, \"#46039f\"], [0.2222222222222222, \"#7201a8\"], [0.3333333333333333, \"#9c179e\"], [0.4444444444444444, \"#bd3786\"], [0.5555555555555556, \"#d8576b\"], [0.6666666666666666, \"#ed7953\"], [0.7777777777777778, \"#fb9f3a\"], [0.8888888888888888, \"#fdca26\"], [1.0, \"#f0f921\"]], \"type\": \"contour\"}], \"contourcarpet\": [{\"colorbar\": {\"outlinewidth\": 0, \"ticks\": \"\"}, \"type\": \"contourcarpet\"}], \"heatmap\": [{\"colorbar\": {\"outlinewidth\": 0, \"ticks\": \"\"}, \"colorscale\": [[0.0, \"#0d0887\"], [0.1111111111111111, \"#46039f\"], [0.2222222222222222, \"#7201a8\"], [0.3333333333333333, \"#9c179e\"], [0.4444444444444444, \"#bd3786\"], [0.5555555555555556, \"#d8576b\"], [0.6666666666666666, \"#ed7953\"], [0.7777777777777778, \"#fb9f3a\"], [0.8888888888888888, \"#fdca26\"], [1.0, \"#f0f921\"]], \"type\": \"heatmap\"}], \"heatmapgl\": [{\"colorbar\": {\"outlinewidth\": 0, \"ticks\": \"\"}, \"colorscale\": [[0.0, \"#0d0887\"], [0.1111111111111111, \"#46039f\"], [0.2222222222222222, \"#7201a8\"], [0.3333333333333333, \"#9c179e\"], [0.4444444444444444, \"#bd3786\"], [0.5555555555555556, \"#d8576b\"], [0.6666666666666666, \"#ed7953\"], [0.7777777777777778, \"#fb9f3a\"], [0.8888888888888888, \"#fdca26\"], [1.0, \"#f0f921\"]], \"type\": \"heatmapgl\"}], \"histogram\": [{\"marker\": {\"colorbar\": {\"outlinewidth\": 0, \"ticks\": \"\"}}, \"type\": \"histogram\"}], \"histogram2d\": [{\"colorbar\": {\"outlinewidth\": 0, \"ticks\": \"\"}, \"colorscale\": [[0.0, \"#0d0887\"], [0.1111111111111111, \"#46039f\"], [0.2222222222222222, \"#7201a8\"], [0.3333333333333333, \"#9c179e\"], [0.4444444444444444, \"#bd3786\"], [0.5555555555555556, \"#d8576b\"], [0.6666666666666666, \"#ed7953\"], [0.7777777777777778, \"#fb9f3a\"], [0.8888888888888888, \"#fdca26\"], [1.0, \"#f0f921\"]], \"type\": \"histogram2d\"}], \"histogram2dcontour\": [{\"colorbar\": {\"outlinewidth\": 0, \"ticks\": \"\"}, \"colorscale\": [[0.0, \"#0d0887\"], [0.1111111111111111, \"#46039f\"], [0.2222222222222222, \"#7201a8\"], [0.3333333333333333, \"#9c179e\"], [0.4444444444444444, \"#bd3786\"], [0.5555555555555556, \"#d8576b\"], [0.6666666666666666, \"#ed7953\"], [0.7777777777777778, \"#fb9f3a\"], [0.8888888888888888, \"#fdca26\"], [1.0, \"#f0f921\"]], \"type\": \"histogram2dcontour\"}], \"mesh3d\": [{\"colorbar\": {\"outlinewidth\": 0, \"ticks\": \"\"}, \"type\": \"mesh3d\"}], \"parcoords\": [{\"line\": {\"colorbar\": {\"outlinewidth\": 0, \"ticks\": \"\"}}, \"type\": \"parcoords\"}], \"pie\": [{\"automargin\": true, \"type\": \"pie\"}], \"scatter\": [{\"marker\": {\"colorbar\": {\"outlinewidth\": 0, \"ticks\": \"\"}}, \"type\": \"scatter\"}], \"scatter3d\": [{\"line\": {\"colorbar\": {\"outlinewidth\": 0, \"ticks\": \"\"}}, \"marker\": {\"colorbar\": {\"outlinewidth\": 0, \"ticks\": \"\"}}, \"type\": \"scatter3d\"}], \"scattercarpet\": [{\"marker\": {\"colorbar\": {\"outlinewidth\": 0, \"ticks\": \"\"}}, \"type\": \"scattercarpet\"}], \"scattergeo\": [{\"marker\": {\"colorbar\": {\"outlinewidth\": 0, \"ticks\": \"\"}}, \"type\": \"scattergeo\"}], \"scattergl\": [{\"marker\": {\"colorbar\": {\"outlinewidth\": 0, \"ticks\": \"\"}}, \"type\": \"scattergl\"}], \"scattermapbox\": [{\"marker\": {\"colorbar\": {\"outlinewidth\": 0, \"ticks\": \"\"}}, \"type\": \"scattermapbox\"}], \"scatterpolar\": [{\"marker\": {\"colorbar\": {\"outlinewidth\": 0, \"ticks\": \"\"}}, \"type\": \"scatterpolar\"}], \"scatterpolargl\": [{\"marker\": {\"colorbar\": {\"outlinewidth\": 0, \"ticks\": \"\"}}, \"type\": \"scatterpolargl\"}], \"scatterternary\": [{\"marker\": {\"colorbar\": {\"outlinewidth\": 0, \"ticks\": \"\"}}, \"type\": \"scatterternary\"}], \"surface\": [{\"colorbar\": {\"outlinewidth\": 0, \"ticks\": \"\"}, \"colorscale\": [[0.0, \"#0d0887\"], [0.1111111111111111, \"#46039f\"], [0.2222222222222222, \"#7201a8\"], [0.3333333333333333, \"#9c179e\"], [0.4444444444444444, \"#bd3786\"], [0.5555555555555556, \"#d8576b\"], [0.6666666666666666, \"#ed7953\"], [0.7777777777777778, \"#fb9f3a\"], [0.8888888888888888, \"#fdca26\"], [1.0, \"#f0f921\"]], \"type\": \"surface\"}], \"table\": [{\"cells\": {\"fill\": {\"color\": \"#EBF0F8\"}, \"line\": {\"color\": \"white\"}}, \"header\": {\"fill\": {\"color\": \"#C8D4E3\"}, \"line\": {\"color\": \"white\"}}, \"type\": \"table\"}]}, \"layout\": {\"annotationdefaults\": {\"arrowcolor\": \"#2a3f5f\", \"arrowhead\": 0, \"arrowwidth\": 1}, \"coloraxis\": {\"colorbar\": {\"outlinewidth\": 0, \"ticks\": \"\"}}, \"colorscale\": {\"diverging\": [[0, \"#8e0152\"], [0.1, \"#c51b7d\"], [0.2, \"#de77ae\"], [0.3, \"#f1b6da\"], [0.4, \"#fde0ef\"], [0.5, \"#f7f7f7\"], [0.6, \"#e6f5d0\"], [0.7, \"#b8e186\"], [0.8, \"#7fbc41\"], [0.9, \"#4d9221\"], [1, \"#276419\"]], \"sequential\": [[0.0, \"#0d0887\"], [0.1111111111111111, \"#46039f\"], [0.2222222222222222, \"#7201a8\"], [0.3333333333333333, \"#9c179e\"], [0.4444444444444444, \"#bd3786\"], [0.5555555555555556, \"#d8576b\"], [0.6666666666666666, \"#ed7953\"], [0.7777777777777778, \"#fb9f3a\"], [0.8888888888888888, \"#fdca26\"], [1.0, \"#f0f921\"]], \"sequentialminus\": [[0.0, \"#0d0887\"], [0.1111111111111111, \"#46039f\"], [0.2222222222222222, \"#7201a8\"], [0.3333333333333333, \"#9c179e\"], [0.4444444444444444, \"#bd3786\"], [0.5555555555555556, \"#d8576b\"], [0.6666666666666666, \"#ed7953\"], [0.7777777777777778, \"#fb9f3a\"], [0.8888888888888888, \"#fdca26\"], [1.0, \"#f0f921\"]]}, \"colorway\": [\"#636efa\", \"#EF553B\", \"#00cc96\", \"#ab63fa\", \"#FFA15A\", \"#19d3f3\", \"#FF6692\", \"#B6E880\", \"#FF97FF\", \"#FECB52\"], \"font\": {\"color\": \"#2a3f5f\"}, \"geo\": {\"bgcolor\": \"white\", \"lakecolor\": \"white\", \"landcolor\": \"#E5ECF6\", \"showlakes\": true, \"showland\": true, \"subunitcolor\": \"white\"}, \"hoverlabel\": {\"align\": \"left\"}, \"hovermode\": \"closest\", \"mapbox\": {\"style\": \"light\"}, \"paper_bgcolor\": \"white\", \"plot_bgcolor\": \"#E5ECF6\", \"polar\": {\"angularaxis\": {\"gridcolor\": \"white\", \"linecolor\": \"white\", \"ticks\": \"\"}, \"bgcolor\": \"#E5ECF6\", \"radialaxis\": {\"gridcolor\": \"white\", \"linecolor\": \"white\", \"ticks\": \"\"}}, \"scene\": {\"xaxis\": {\"backgroundcolor\": \"#E5ECF6\", \"gridcolor\": \"white\", \"gridwidth\": 2, \"linecolor\": \"white\", \"showbackground\": true, \"ticks\": \"\", \"zerolinecolor\": \"white\"}, \"yaxis\": {\"backgroundcolor\": \"#E5ECF6\", \"gridcolor\": \"white\", \"gridwidth\": 2, \"linecolor\": \"white\", \"showbackground\": true, \"ticks\": \"\", \"zerolinecolor\": \"white\"}, \"zaxis\": {\"backgroundcolor\": \"#E5ECF6\", \"gridcolor\": \"white\", \"gridwidth\": 2, \"linecolor\": \"white\", \"showbackground\": true, \"ticks\": \"\", \"zerolinecolor\": \"white\"}}, \"shapedefaults\": {\"line\": {\"color\": \"#2a3f5f\"}}, \"ternary\": {\"aaxis\": {\"gridcolor\": \"white\", \"linecolor\": \"white\", \"ticks\": \"\"}, \"baxis\": {\"gridcolor\": \"white\", \"linecolor\": \"white\", \"ticks\": \"\"}, \"bgcolor\": \"#E5ECF6\", \"caxis\": {\"gridcolor\": \"white\", \"linecolor\": \"white\", \"ticks\": \"\"}}, \"title\": {\"x\": 0.05}, \"xaxis\": {\"automargin\": true, \"gridcolor\": \"white\", \"linecolor\": \"white\", \"ticks\": \"\", \"title\": {\"standoff\": 15}, \"zerolinecolor\": \"white\", \"zerolinewidth\": 2}, \"yaxis\": {\"automargin\": true, \"gridcolor\": \"white\", \"linecolor\": \"white\", \"ticks\": \"\", \"title\": {\"standoff\": 15}, \"zerolinecolor\": \"white\", \"zerolinewidth\": 2}}}, \"title\": {\"text\": \"Number of colored arteries by condition (0 = no heart disease, 1 = heart disease)\"}, \"xaxis\": {\"anchor\": \"y\", \"domain\": [0.0, 1.0], \"title\": {\"text\": \"ca\"}}, \"yaxis\": {\"anchor\": \"x\", \"domain\": [0.0, 1.0], \"title\": {\"text\": \"count\"}}},                        {\"responsive\": true}                    ).then(function(){\n",
       "                            \n",
       "var gd = document.getElementById('d29db057-445a-45b5-b790-ebbbaccbc89e');\n",
       "var x = new MutationObserver(function (mutations, observer) {{\n",
       "        var display = window.getComputedStyle(gd).display;\n",
       "        if (!display || display === 'none') {{\n",
       "            console.log([gd, 'removed!']);\n",
       "            Plotly.purge(gd);\n",
       "            observer.disconnect();\n",
       "        }}\n",
       "}});\n",
       "\n",
       "// Listen for the removal of the full notebook cells\n",
       "var notebookContainer = gd.closest('#notebook-container');\n",
       "if (notebookContainer) {{\n",
       "    x.observe(notebookContainer, {childList: true});\n",
       "}}\n",
       "\n",
       "// Listen for the clearing of the current output cell\n",
       "var outputEl = gd.closest('.output');\n",
       "if (outputEl) {{\n",
       "    x.observe(outputEl, {childList: true});\n",
       "}}\n",
       "\n",
       "                        })                };                });            </script>        </div>"
      ]
     },
     "metadata": {},
     "output_type": "display_data"
    }
   ],
   "source": [
    "ca_counts = df.groupby(['ca', 'condition']).size().reset_index(name = 'count')\n",
    "\n",
    "fig = px.bar(ca_counts,\n",
    "             x = 'ca',\n",
    "             y = 'count',\n",
    "             color = 'condition',\n",
    "            barmode = 'group',\n",
    "            title = 'Number of colored arteries by condition (0 = no heart disease, 1 = heart disease)')\n",
    "fig.show()"
   ]
  },
  {
   "cell_type": "code",
   "execution_count": 90,
   "metadata": {},
   "outputs": [
    {
     "data": {
      "application/vnd.plotly.v1+json": {
       "config": {
        "plotlyServerURL": "https://plot.ly"
       },
       "data": [
        {
         "alignmentgroup": "True",
         "bingroup": "x",
         "hovertemplate": "condition=0<br>ca=%{x}<br>count=%{y}<extra></extra>",
         "legendgroup": "0",
         "marker": {
          "color": "#636efa"
         },
         "name": "0",
         "offsetgroup": "0",
         "orientation": "v",
         "showlegend": true,
         "type": "histogram",
         "x": [
          1,
          2,
          0,
          0,
          0,
          0,
          0,
          0,
          0,
          0,
          0,
          0,
          1,
          2,
          0,
          0,
          1,
          2,
          0,
          2,
          0,
          0,
          0,
          0,
          0,
          0,
          0,
          0,
          0,
          0,
          1,
          0,
          1,
          0,
          0,
          0,
          0,
          0,
          0,
          0,
          0,
          0,
          0,
          0,
          0,
          0,
          0,
          0,
          0,
          1,
          0,
          0,
          0,
          0,
          0,
          0,
          0,
          1,
          0,
          1,
          0,
          1,
          1,
          1,
          0,
          0,
          0,
          0,
          3,
          0,
          1,
          0,
          0,
          0,
          0,
          0,
          0,
          1,
          1,
          0,
          0,
          0,
          0,
          0,
          1,
          0,
          3,
          0,
          0,
          0,
          0,
          0,
          1,
          0,
          1,
          0,
          0,
          0,
          0,
          2,
          0,
          0,
          0,
          0,
          1,
          0,
          0,
          0,
          0,
          1,
          0,
          0,
          0,
          0,
          0,
          0,
          0,
          0,
          0,
          0,
          0,
          0,
          2,
          0,
          0,
          0,
          2,
          1,
          0,
          0,
          0,
          0,
          0,
          0,
          0,
          0,
          0,
          0,
          1,
          0,
          0,
          0,
          0,
          0,
          3,
          0,
          0,
          0,
          0,
          0,
          0,
          0,
          0,
          0,
          0,
          0,
          0,
          0,
          0,
          0
         ],
         "xaxis": "x",
         "yaxis": "y"
        },
        {
         "alignmentgroup": "True",
         "bingroup": "x",
         "hovertemplate": "condition=1<br>ca=%{x}<br>count=%{y}<extra></extra>",
         "legendgroup": "1",
         "marker": {
          "color": "#EF553B"
         },
         "name": "1",
         "offsetgroup": "1",
         "orientation": "v",
         "showlegend": true,
         "type": "histogram",
         "x": [
          1,
          2,
          0,
          0,
          2,
          0,
          0,
          3,
          1,
          0,
          2,
          1,
          0,
          1,
          1,
          0,
          1,
          3,
          0,
          0,
          0,
          0,
          1,
          0,
          1,
          1,
          2,
          1,
          1,
          1,
          3,
          3,
          0,
          0,
          3,
          0,
          3,
          2,
          3,
          2,
          2,
          2,
          0,
          2,
          1,
          3,
          1,
          2,
          1,
          2,
          1,
          3,
          2,
          0,
          3,
          2,
          2,
          3,
          2,
          3,
          0,
          1,
          0,
          1,
          0,
          1,
          1,
          2,
          2,
          1,
          2,
          2,
          2,
          1,
          0,
          0,
          1,
          0,
          2,
          1,
          3,
          3,
          2,
          1,
          2,
          0,
          2,
          1,
          1,
          3,
          1,
          1,
          0,
          1,
          2,
          0,
          1,
          1,
          2,
          0,
          1,
          1,
          0,
          1,
          1,
          1,
          1,
          1,
          2,
          0,
          2,
          1,
          1,
          2,
          0,
          3,
          0,
          0,
          0,
          0,
          2,
          1,
          2,
          0,
          3,
          0,
          1,
          1,
          0,
          0,
          0,
          0,
          0,
          0,
          0,
          0,
          0
         ],
         "xaxis": "x",
         "yaxis": "y"
        }
       ],
       "layout": {
        "barmode": "relative",
        "legend": {
         "title": {
          "text": "condition"
         },
         "tracegroupgap": 0
        },
        "margin": {
         "t": 60
        },
        "template": {
         "data": {
          "bar": [
           {
            "error_x": {
             "color": "#2a3f5f"
            },
            "error_y": {
             "color": "#2a3f5f"
            },
            "marker": {
             "line": {
              "color": "#E5ECF6",
              "width": 0.5
             }
            },
            "type": "bar"
           }
          ],
          "barpolar": [
           {
            "marker": {
             "line": {
              "color": "#E5ECF6",
              "width": 0.5
             }
            },
            "type": "barpolar"
           }
          ],
          "carpet": [
           {
            "aaxis": {
             "endlinecolor": "#2a3f5f",
             "gridcolor": "white",
             "linecolor": "white",
             "minorgridcolor": "white",
             "startlinecolor": "#2a3f5f"
            },
            "baxis": {
             "endlinecolor": "#2a3f5f",
             "gridcolor": "white",
             "linecolor": "white",
             "minorgridcolor": "white",
             "startlinecolor": "#2a3f5f"
            },
            "type": "carpet"
           }
          ],
          "choropleth": [
           {
            "colorbar": {
             "outlinewidth": 0,
             "ticks": ""
            },
            "type": "choropleth"
           }
          ],
          "contour": [
           {
            "colorbar": {
             "outlinewidth": 0,
             "ticks": ""
            },
            "colorscale": [
             [
              0,
              "#0d0887"
             ],
             [
              0.1111111111111111,
              "#46039f"
             ],
             [
              0.2222222222222222,
              "#7201a8"
             ],
             [
              0.3333333333333333,
              "#9c179e"
             ],
             [
              0.4444444444444444,
              "#bd3786"
             ],
             [
              0.5555555555555556,
              "#d8576b"
             ],
             [
              0.6666666666666666,
              "#ed7953"
             ],
             [
              0.7777777777777778,
              "#fb9f3a"
             ],
             [
              0.8888888888888888,
              "#fdca26"
             ],
             [
              1,
              "#f0f921"
             ]
            ],
            "type": "contour"
           }
          ],
          "contourcarpet": [
           {
            "colorbar": {
             "outlinewidth": 0,
             "ticks": ""
            },
            "type": "contourcarpet"
           }
          ],
          "heatmap": [
           {
            "colorbar": {
             "outlinewidth": 0,
             "ticks": ""
            },
            "colorscale": [
             [
              0,
              "#0d0887"
             ],
             [
              0.1111111111111111,
              "#46039f"
             ],
             [
              0.2222222222222222,
              "#7201a8"
             ],
             [
              0.3333333333333333,
              "#9c179e"
             ],
             [
              0.4444444444444444,
              "#bd3786"
             ],
             [
              0.5555555555555556,
              "#d8576b"
             ],
             [
              0.6666666666666666,
              "#ed7953"
             ],
             [
              0.7777777777777778,
              "#fb9f3a"
             ],
             [
              0.8888888888888888,
              "#fdca26"
             ],
             [
              1,
              "#f0f921"
             ]
            ],
            "type": "heatmap"
           }
          ],
          "heatmapgl": [
           {
            "colorbar": {
             "outlinewidth": 0,
             "ticks": ""
            },
            "colorscale": [
             [
              0,
              "#0d0887"
             ],
             [
              0.1111111111111111,
              "#46039f"
             ],
             [
              0.2222222222222222,
              "#7201a8"
             ],
             [
              0.3333333333333333,
              "#9c179e"
             ],
             [
              0.4444444444444444,
              "#bd3786"
             ],
             [
              0.5555555555555556,
              "#d8576b"
             ],
             [
              0.6666666666666666,
              "#ed7953"
             ],
             [
              0.7777777777777778,
              "#fb9f3a"
             ],
             [
              0.8888888888888888,
              "#fdca26"
             ],
             [
              1,
              "#f0f921"
             ]
            ],
            "type": "heatmapgl"
           }
          ],
          "histogram": [
           {
            "marker": {
             "colorbar": {
              "outlinewidth": 0,
              "ticks": ""
             }
            },
            "type": "histogram"
           }
          ],
          "histogram2d": [
           {
            "colorbar": {
             "outlinewidth": 0,
             "ticks": ""
            },
            "colorscale": [
             [
              0,
              "#0d0887"
             ],
             [
              0.1111111111111111,
              "#46039f"
             ],
             [
              0.2222222222222222,
              "#7201a8"
             ],
             [
              0.3333333333333333,
              "#9c179e"
             ],
             [
              0.4444444444444444,
              "#bd3786"
             ],
             [
              0.5555555555555556,
              "#d8576b"
             ],
             [
              0.6666666666666666,
              "#ed7953"
             ],
             [
              0.7777777777777778,
              "#fb9f3a"
             ],
             [
              0.8888888888888888,
              "#fdca26"
             ],
             [
              1,
              "#f0f921"
             ]
            ],
            "type": "histogram2d"
           }
          ],
          "histogram2dcontour": [
           {
            "colorbar": {
             "outlinewidth": 0,
             "ticks": ""
            },
            "colorscale": [
             [
              0,
              "#0d0887"
             ],
             [
              0.1111111111111111,
              "#46039f"
             ],
             [
              0.2222222222222222,
              "#7201a8"
             ],
             [
              0.3333333333333333,
              "#9c179e"
             ],
             [
              0.4444444444444444,
              "#bd3786"
             ],
             [
              0.5555555555555556,
              "#d8576b"
             ],
             [
              0.6666666666666666,
              "#ed7953"
             ],
             [
              0.7777777777777778,
              "#fb9f3a"
             ],
             [
              0.8888888888888888,
              "#fdca26"
             ],
             [
              1,
              "#f0f921"
             ]
            ],
            "type": "histogram2dcontour"
           }
          ],
          "mesh3d": [
           {
            "colorbar": {
             "outlinewidth": 0,
             "ticks": ""
            },
            "type": "mesh3d"
           }
          ],
          "parcoords": [
           {
            "line": {
             "colorbar": {
              "outlinewidth": 0,
              "ticks": ""
             }
            },
            "type": "parcoords"
           }
          ],
          "pie": [
           {
            "automargin": true,
            "type": "pie"
           }
          ],
          "scatter": [
           {
            "marker": {
             "colorbar": {
              "outlinewidth": 0,
              "ticks": ""
             }
            },
            "type": "scatter"
           }
          ],
          "scatter3d": [
           {
            "line": {
             "colorbar": {
              "outlinewidth": 0,
              "ticks": ""
             }
            },
            "marker": {
             "colorbar": {
              "outlinewidth": 0,
              "ticks": ""
             }
            },
            "type": "scatter3d"
           }
          ],
          "scattercarpet": [
           {
            "marker": {
             "colorbar": {
              "outlinewidth": 0,
              "ticks": ""
             }
            },
            "type": "scattercarpet"
           }
          ],
          "scattergeo": [
           {
            "marker": {
             "colorbar": {
              "outlinewidth": 0,
              "ticks": ""
             }
            },
            "type": "scattergeo"
           }
          ],
          "scattergl": [
           {
            "marker": {
             "colorbar": {
              "outlinewidth": 0,
              "ticks": ""
             }
            },
            "type": "scattergl"
           }
          ],
          "scattermapbox": [
           {
            "marker": {
             "colorbar": {
              "outlinewidth": 0,
              "ticks": ""
             }
            },
            "type": "scattermapbox"
           }
          ],
          "scatterpolar": [
           {
            "marker": {
             "colorbar": {
              "outlinewidth": 0,
              "ticks": ""
             }
            },
            "type": "scatterpolar"
           }
          ],
          "scatterpolargl": [
           {
            "marker": {
             "colorbar": {
              "outlinewidth": 0,
              "ticks": ""
             }
            },
            "type": "scatterpolargl"
           }
          ],
          "scatterternary": [
           {
            "marker": {
             "colorbar": {
              "outlinewidth": 0,
              "ticks": ""
             }
            },
            "type": "scatterternary"
           }
          ],
          "surface": [
           {
            "colorbar": {
             "outlinewidth": 0,
             "ticks": ""
            },
            "colorscale": [
             [
              0,
              "#0d0887"
             ],
             [
              0.1111111111111111,
              "#46039f"
             ],
             [
              0.2222222222222222,
              "#7201a8"
             ],
             [
              0.3333333333333333,
              "#9c179e"
             ],
             [
              0.4444444444444444,
              "#bd3786"
             ],
             [
              0.5555555555555556,
              "#d8576b"
             ],
             [
              0.6666666666666666,
              "#ed7953"
             ],
             [
              0.7777777777777778,
              "#fb9f3a"
             ],
             [
              0.8888888888888888,
              "#fdca26"
             ],
             [
              1,
              "#f0f921"
             ]
            ],
            "type": "surface"
           }
          ],
          "table": [
           {
            "cells": {
             "fill": {
              "color": "#EBF0F8"
             },
             "line": {
              "color": "white"
             }
            },
            "header": {
             "fill": {
              "color": "#C8D4E3"
             },
             "line": {
              "color": "white"
             }
            },
            "type": "table"
           }
          ]
         },
         "layout": {
          "annotationdefaults": {
           "arrowcolor": "#2a3f5f",
           "arrowhead": 0,
           "arrowwidth": 1
          },
          "coloraxis": {
           "colorbar": {
            "outlinewidth": 0,
            "ticks": ""
           }
          },
          "colorscale": {
           "diverging": [
            [
             0,
             "#8e0152"
            ],
            [
             0.1,
             "#c51b7d"
            ],
            [
             0.2,
             "#de77ae"
            ],
            [
             0.3,
             "#f1b6da"
            ],
            [
             0.4,
             "#fde0ef"
            ],
            [
             0.5,
             "#f7f7f7"
            ],
            [
             0.6,
             "#e6f5d0"
            ],
            [
             0.7,
             "#b8e186"
            ],
            [
             0.8,
             "#7fbc41"
            ],
            [
             0.9,
             "#4d9221"
            ],
            [
             1,
             "#276419"
            ]
           ],
           "sequential": [
            [
             0,
             "#0d0887"
            ],
            [
             0.1111111111111111,
             "#46039f"
            ],
            [
             0.2222222222222222,
             "#7201a8"
            ],
            [
             0.3333333333333333,
             "#9c179e"
            ],
            [
             0.4444444444444444,
             "#bd3786"
            ],
            [
             0.5555555555555556,
             "#d8576b"
            ],
            [
             0.6666666666666666,
             "#ed7953"
            ],
            [
             0.7777777777777778,
             "#fb9f3a"
            ],
            [
             0.8888888888888888,
             "#fdca26"
            ],
            [
             1,
             "#f0f921"
            ]
           ],
           "sequentialminus": [
            [
             0,
             "#0d0887"
            ],
            [
             0.1111111111111111,
             "#46039f"
            ],
            [
             0.2222222222222222,
             "#7201a8"
            ],
            [
             0.3333333333333333,
             "#9c179e"
            ],
            [
             0.4444444444444444,
             "#bd3786"
            ],
            [
             0.5555555555555556,
             "#d8576b"
            ],
            [
             0.6666666666666666,
             "#ed7953"
            ],
            [
             0.7777777777777778,
             "#fb9f3a"
            ],
            [
             0.8888888888888888,
             "#fdca26"
            ],
            [
             1,
             "#f0f921"
            ]
           ]
          },
          "colorway": [
           "#636efa",
           "#EF553B",
           "#00cc96",
           "#ab63fa",
           "#FFA15A",
           "#19d3f3",
           "#FF6692",
           "#B6E880",
           "#FF97FF",
           "#FECB52"
          ],
          "font": {
           "color": "#2a3f5f"
          },
          "geo": {
           "bgcolor": "white",
           "lakecolor": "white",
           "landcolor": "#E5ECF6",
           "showlakes": true,
           "showland": true,
           "subunitcolor": "white"
          },
          "hoverlabel": {
           "align": "left"
          },
          "hovermode": "closest",
          "mapbox": {
           "style": "light"
          },
          "paper_bgcolor": "white",
          "plot_bgcolor": "#E5ECF6",
          "polar": {
           "angularaxis": {
            "gridcolor": "white",
            "linecolor": "white",
            "ticks": ""
           },
           "bgcolor": "#E5ECF6",
           "radialaxis": {
            "gridcolor": "white",
            "linecolor": "white",
            "ticks": ""
           }
          },
          "scene": {
           "xaxis": {
            "backgroundcolor": "#E5ECF6",
            "gridcolor": "white",
            "gridwidth": 2,
            "linecolor": "white",
            "showbackground": true,
            "ticks": "",
            "zerolinecolor": "white"
           },
           "yaxis": {
            "backgroundcolor": "#E5ECF6",
            "gridcolor": "white",
            "gridwidth": 2,
            "linecolor": "white",
            "showbackground": true,
            "ticks": "",
            "zerolinecolor": "white"
           },
           "zaxis": {
            "backgroundcolor": "#E5ECF6",
            "gridcolor": "white",
            "gridwidth": 2,
            "linecolor": "white",
            "showbackground": true,
            "ticks": "",
            "zerolinecolor": "white"
           }
          },
          "shapedefaults": {
           "line": {
            "color": "#2a3f5f"
           }
          },
          "ternary": {
           "aaxis": {
            "gridcolor": "white",
            "linecolor": "white",
            "ticks": ""
           },
           "baxis": {
            "gridcolor": "white",
            "linecolor": "white",
            "ticks": ""
           },
           "bgcolor": "#E5ECF6",
           "caxis": {
            "gridcolor": "white",
            "linecolor": "white",
            "ticks": ""
           }
          },
          "title": {
           "x": 0.05
          },
          "xaxis": {
           "automargin": true,
           "gridcolor": "white",
           "linecolor": "white",
           "ticks": "",
           "title": {
            "standoff": 15
           },
           "zerolinecolor": "white",
           "zerolinewidth": 2
          },
          "yaxis": {
           "automargin": true,
           "gridcolor": "white",
           "linecolor": "white",
           "ticks": "",
           "title": {
            "standoff": 15
           },
           "zerolinecolor": "white",
           "zerolinewidth": 2
          }
         }
        },
        "title": {
         "text": "Histogram of the number of colored arteries by condition"
        },
        "xaxis": {
         "anchor": "y",
         "domain": [
          0,
          1
         ],
         "title": {
          "text": "ca"
         }
        },
        "yaxis": {
         "anchor": "x",
         "domain": [
          0,
          1
         ],
         "title": {
          "text": "count"
         }
        }
       }
      },
      "text/html": [
       "<div>                            <div id=\"0de8a5d9-c9b2-45f2-b2d9-3eee08535ee7\" class=\"plotly-graph-div\" style=\"height:525px; width:100%;\"></div>            <script type=\"text/javascript\">                require([\"plotly\"], function(Plotly) {                    window.PLOTLYENV=window.PLOTLYENV || {};                                    if (document.getElementById(\"0de8a5d9-c9b2-45f2-b2d9-3eee08535ee7\")) {                    Plotly.newPlot(                        \"0de8a5d9-c9b2-45f2-b2d9-3eee08535ee7\",                        [{\"alignmentgroup\": \"True\", \"bingroup\": \"x\", \"hovertemplate\": \"condition=0<br>ca=%{x}<br>count=%{y}<extra></extra>\", \"legendgroup\": \"0\", \"marker\": {\"color\": \"#636efa\"}, \"name\": \"0\", \"offsetgroup\": \"0\", \"orientation\": \"v\", \"showlegend\": true, \"type\": \"histogram\", \"x\": [1, 2, 0, 0, 0, 0, 0, 0, 0, 0, 0, 0, 1, 2, 0, 0, 1, 2, 0, 2, 0, 0, 0, 0, 0, 0, 0, 0, 0, 0, 1, 0, 1, 0, 0, 0, 0, 0, 0, 0, 0, 0, 0, 0, 0, 0, 0, 0, 0, 1, 0, 0, 0, 0, 0, 0, 0, 1, 0, 1, 0, 1, 1, 1, 0, 0, 0, 0, 3, 0, 1, 0, 0, 0, 0, 0, 0, 1, 1, 0, 0, 0, 0, 0, 1, 0, 3, 0, 0, 0, 0, 0, 1, 0, 1, 0, 0, 0, 0, 2, 0, 0, 0, 0, 1, 0, 0, 0, 0, 1, 0, 0, 0, 0, 0, 0, 0, 0, 0, 0, 0, 0, 2, 0, 0, 0, 2, 1, 0, 0, 0, 0, 0, 0, 0, 0, 0, 0, 1, 0, 0, 0, 0, 0, 3, 0, 0, 0, 0, 0, 0, 0, 0, 0, 0, 0, 0, 0, 0, 0], \"xaxis\": \"x\", \"yaxis\": \"y\"}, {\"alignmentgroup\": \"True\", \"bingroup\": \"x\", \"hovertemplate\": \"condition=1<br>ca=%{x}<br>count=%{y}<extra></extra>\", \"legendgroup\": \"1\", \"marker\": {\"color\": \"#EF553B\"}, \"name\": \"1\", \"offsetgroup\": \"1\", \"orientation\": \"v\", \"showlegend\": true, \"type\": \"histogram\", \"x\": [1, 2, 0, 0, 2, 0, 0, 3, 1, 0, 2, 1, 0, 1, 1, 0, 1, 3, 0, 0, 0, 0, 1, 0, 1, 1, 2, 1, 1, 1, 3, 3, 0, 0, 3, 0, 3, 2, 3, 2, 2, 2, 0, 2, 1, 3, 1, 2, 1, 2, 1, 3, 2, 0, 3, 2, 2, 3, 2, 3, 0, 1, 0, 1, 0, 1, 1, 2, 2, 1, 2, 2, 2, 1, 0, 0, 1, 0, 2, 1, 3, 3, 2, 1, 2, 0, 2, 1, 1, 3, 1, 1, 0, 1, 2, 0, 1, 1, 2, 0, 1, 1, 0, 1, 1, 1, 1, 1, 2, 0, 2, 1, 1, 2, 0, 3, 0, 0, 0, 0, 2, 1, 2, 0, 3, 0, 1, 1, 0, 0, 0, 0, 0, 0, 0, 0, 0], \"xaxis\": \"x\", \"yaxis\": \"y\"}],                        {\"barmode\": \"relative\", \"legend\": {\"title\": {\"text\": \"condition\"}, \"tracegroupgap\": 0}, \"margin\": {\"t\": 60}, \"template\": {\"data\": {\"bar\": [{\"error_x\": {\"color\": \"#2a3f5f\"}, \"error_y\": {\"color\": \"#2a3f5f\"}, \"marker\": {\"line\": {\"color\": \"#E5ECF6\", \"width\": 0.5}}, \"type\": \"bar\"}], \"barpolar\": [{\"marker\": {\"line\": {\"color\": \"#E5ECF6\", \"width\": 0.5}}, \"type\": \"barpolar\"}], \"carpet\": [{\"aaxis\": {\"endlinecolor\": \"#2a3f5f\", \"gridcolor\": \"white\", \"linecolor\": \"white\", \"minorgridcolor\": \"white\", \"startlinecolor\": \"#2a3f5f\"}, \"baxis\": {\"endlinecolor\": \"#2a3f5f\", \"gridcolor\": \"white\", \"linecolor\": \"white\", \"minorgridcolor\": \"white\", \"startlinecolor\": \"#2a3f5f\"}, \"type\": \"carpet\"}], \"choropleth\": [{\"colorbar\": {\"outlinewidth\": 0, \"ticks\": \"\"}, \"type\": \"choropleth\"}], \"contour\": [{\"colorbar\": {\"outlinewidth\": 0, \"ticks\": \"\"}, \"colorscale\": [[0.0, \"#0d0887\"], [0.1111111111111111, \"#46039f\"], [0.2222222222222222, \"#7201a8\"], [0.3333333333333333, \"#9c179e\"], [0.4444444444444444, \"#bd3786\"], [0.5555555555555556, \"#d8576b\"], [0.6666666666666666, \"#ed7953\"], [0.7777777777777778, \"#fb9f3a\"], [0.8888888888888888, \"#fdca26\"], [1.0, \"#f0f921\"]], \"type\": \"contour\"}], \"contourcarpet\": [{\"colorbar\": {\"outlinewidth\": 0, \"ticks\": \"\"}, \"type\": \"contourcarpet\"}], \"heatmap\": [{\"colorbar\": {\"outlinewidth\": 0, \"ticks\": \"\"}, \"colorscale\": [[0.0, \"#0d0887\"], [0.1111111111111111, \"#46039f\"], [0.2222222222222222, \"#7201a8\"], [0.3333333333333333, \"#9c179e\"], [0.4444444444444444, \"#bd3786\"], [0.5555555555555556, \"#d8576b\"], [0.6666666666666666, \"#ed7953\"], [0.7777777777777778, \"#fb9f3a\"], [0.8888888888888888, \"#fdca26\"], [1.0, \"#f0f921\"]], \"type\": \"heatmap\"}], \"heatmapgl\": [{\"colorbar\": {\"outlinewidth\": 0, \"ticks\": \"\"}, \"colorscale\": [[0.0, \"#0d0887\"], [0.1111111111111111, \"#46039f\"], [0.2222222222222222, \"#7201a8\"], [0.3333333333333333, \"#9c179e\"], [0.4444444444444444, \"#bd3786\"], [0.5555555555555556, \"#d8576b\"], [0.6666666666666666, \"#ed7953\"], [0.7777777777777778, \"#fb9f3a\"], [0.8888888888888888, \"#fdca26\"], [1.0, \"#f0f921\"]], \"type\": \"heatmapgl\"}], \"histogram\": [{\"marker\": {\"colorbar\": {\"outlinewidth\": 0, \"ticks\": \"\"}}, \"type\": \"histogram\"}], \"histogram2d\": [{\"colorbar\": {\"outlinewidth\": 0, \"ticks\": \"\"}, \"colorscale\": [[0.0, \"#0d0887\"], [0.1111111111111111, \"#46039f\"], [0.2222222222222222, \"#7201a8\"], [0.3333333333333333, \"#9c179e\"], [0.4444444444444444, \"#bd3786\"], [0.5555555555555556, \"#d8576b\"], [0.6666666666666666, \"#ed7953\"], [0.7777777777777778, \"#fb9f3a\"], [0.8888888888888888, \"#fdca26\"], [1.0, \"#f0f921\"]], \"type\": \"histogram2d\"}], \"histogram2dcontour\": [{\"colorbar\": {\"outlinewidth\": 0, \"ticks\": \"\"}, \"colorscale\": [[0.0, \"#0d0887\"], [0.1111111111111111, \"#46039f\"], [0.2222222222222222, \"#7201a8\"], [0.3333333333333333, \"#9c179e\"], [0.4444444444444444, \"#bd3786\"], [0.5555555555555556, \"#d8576b\"], [0.6666666666666666, \"#ed7953\"], [0.7777777777777778, \"#fb9f3a\"], [0.8888888888888888, \"#fdca26\"], [1.0, \"#f0f921\"]], \"type\": \"histogram2dcontour\"}], \"mesh3d\": [{\"colorbar\": {\"outlinewidth\": 0, \"ticks\": \"\"}, \"type\": \"mesh3d\"}], \"parcoords\": [{\"line\": {\"colorbar\": {\"outlinewidth\": 0, \"ticks\": \"\"}}, \"type\": \"parcoords\"}], \"pie\": [{\"automargin\": true, \"type\": \"pie\"}], \"scatter\": [{\"marker\": {\"colorbar\": {\"outlinewidth\": 0, \"ticks\": \"\"}}, \"type\": \"scatter\"}], \"scatter3d\": [{\"line\": {\"colorbar\": {\"outlinewidth\": 0, \"ticks\": \"\"}}, \"marker\": {\"colorbar\": {\"outlinewidth\": 0, \"ticks\": \"\"}}, \"type\": \"scatter3d\"}], \"scattercarpet\": [{\"marker\": {\"colorbar\": {\"outlinewidth\": 0, \"ticks\": \"\"}}, \"type\": \"scattercarpet\"}], \"scattergeo\": [{\"marker\": {\"colorbar\": {\"outlinewidth\": 0, \"ticks\": \"\"}}, \"type\": \"scattergeo\"}], \"scattergl\": [{\"marker\": {\"colorbar\": {\"outlinewidth\": 0, \"ticks\": \"\"}}, \"type\": \"scattergl\"}], \"scattermapbox\": [{\"marker\": {\"colorbar\": {\"outlinewidth\": 0, \"ticks\": \"\"}}, \"type\": \"scattermapbox\"}], \"scatterpolar\": [{\"marker\": {\"colorbar\": {\"outlinewidth\": 0, \"ticks\": \"\"}}, \"type\": \"scatterpolar\"}], \"scatterpolargl\": [{\"marker\": {\"colorbar\": {\"outlinewidth\": 0, \"ticks\": \"\"}}, \"type\": \"scatterpolargl\"}], \"scatterternary\": [{\"marker\": {\"colorbar\": {\"outlinewidth\": 0, \"ticks\": \"\"}}, \"type\": \"scatterternary\"}], \"surface\": [{\"colorbar\": {\"outlinewidth\": 0, \"ticks\": \"\"}, \"colorscale\": [[0.0, \"#0d0887\"], [0.1111111111111111, \"#46039f\"], [0.2222222222222222, \"#7201a8\"], [0.3333333333333333, \"#9c179e\"], [0.4444444444444444, \"#bd3786\"], [0.5555555555555556, \"#d8576b\"], [0.6666666666666666, \"#ed7953\"], [0.7777777777777778, \"#fb9f3a\"], [0.8888888888888888, \"#fdca26\"], [1.0, \"#f0f921\"]], \"type\": \"surface\"}], \"table\": [{\"cells\": {\"fill\": {\"color\": \"#EBF0F8\"}, \"line\": {\"color\": \"white\"}}, \"header\": {\"fill\": {\"color\": \"#C8D4E3\"}, \"line\": {\"color\": \"white\"}}, \"type\": \"table\"}]}, \"layout\": {\"annotationdefaults\": {\"arrowcolor\": \"#2a3f5f\", \"arrowhead\": 0, \"arrowwidth\": 1}, \"coloraxis\": {\"colorbar\": {\"outlinewidth\": 0, \"ticks\": \"\"}}, \"colorscale\": {\"diverging\": [[0, \"#8e0152\"], [0.1, \"#c51b7d\"], [0.2, \"#de77ae\"], [0.3, \"#f1b6da\"], [0.4, \"#fde0ef\"], [0.5, \"#f7f7f7\"], [0.6, \"#e6f5d0\"], [0.7, \"#b8e186\"], [0.8, \"#7fbc41\"], [0.9, \"#4d9221\"], [1, \"#276419\"]], \"sequential\": [[0.0, \"#0d0887\"], [0.1111111111111111, \"#46039f\"], [0.2222222222222222, \"#7201a8\"], [0.3333333333333333, \"#9c179e\"], [0.4444444444444444, \"#bd3786\"], [0.5555555555555556, \"#d8576b\"], [0.6666666666666666, \"#ed7953\"], [0.7777777777777778, \"#fb9f3a\"], [0.8888888888888888, \"#fdca26\"], [1.0, \"#f0f921\"]], \"sequentialminus\": [[0.0, \"#0d0887\"], [0.1111111111111111, \"#46039f\"], [0.2222222222222222, \"#7201a8\"], [0.3333333333333333, \"#9c179e\"], [0.4444444444444444, \"#bd3786\"], [0.5555555555555556, \"#d8576b\"], [0.6666666666666666, \"#ed7953\"], [0.7777777777777778, \"#fb9f3a\"], [0.8888888888888888, \"#fdca26\"], [1.0, \"#f0f921\"]]}, \"colorway\": [\"#636efa\", \"#EF553B\", \"#00cc96\", \"#ab63fa\", \"#FFA15A\", \"#19d3f3\", \"#FF6692\", \"#B6E880\", \"#FF97FF\", \"#FECB52\"], \"font\": {\"color\": \"#2a3f5f\"}, \"geo\": {\"bgcolor\": \"white\", \"lakecolor\": \"white\", \"landcolor\": \"#E5ECF6\", \"showlakes\": true, \"showland\": true, \"subunitcolor\": \"white\"}, \"hoverlabel\": {\"align\": \"left\"}, \"hovermode\": \"closest\", \"mapbox\": {\"style\": \"light\"}, \"paper_bgcolor\": \"white\", \"plot_bgcolor\": \"#E5ECF6\", \"polar\": {\"angularaxis\": {\"gridcolor\": \"white\", \"linecolor\": \"white\", \"ticks\": \"\"}, \"bgcolor\": \"#E5ECF6\", \"radialaxis\": {\"gridcolor\": \"white\", \"linecolor\": \"white\", \"ticks\": \"\"}}, \"scene\": {\"xaxis\": {\"backgroundcolor\": \"#E5ECF6\", \"gridcolor\": \"white\", \"gridwidth\": 2, \"linecolor\": \"white\", \"showbackground\": true, \"ticks\": \"\", \"zerolinecolor\": \"white\"}, \"yaxis\": {\"backgroundcolor\": \"#E5ECF6\", \"gridcolor\": \"white\", \"gridwidth\": 2, \"linecolor\": \"white\", \"showbackground\": true, \"ticks\": \"\", \"zerolinecolor\": \"white\"}, \"zaxis\": {\"backgroundcolor\": \"#E5ECF6\", \"gridcolor\": \"white\", \"gridwidth\": 2, \"linecolor\": \"white\", \"showbackground\": true, \"ticks\": \"\", \"zerolinecolor\": \"white\"}}, \"shapedefaults\": {\"line\": {\"color\": \"#2a3f5f\"}}, \"ternary\": {\"aaxis\": {\"gridcolor\": \"white\", \"linecolor\": \"white\", \"ticks\": \"\"}, \"baxis\": {\"gridcolor\": \"white\", \"linecolor\": \"white\", \"ticks\": \"\"}, \"bgcolor\": \"#E5ECF6\", \"caxis\": {\"gridcolor\": \"white\", \"linecolor\": \"white\", \"ticks\": \"\"}}, \"title\": {\"x\": 0.05}, \"xaxis\": {\"automargin\": true, \"gridcolor\": \"white\", \"linecolor\": \"white\", \"ticks\": \"\", \"title\": {\"standoff\": 15}, \"zerolinecolor\": \"white\", \"zerolinewidth\": 2}, \"yaxis\": {\"automargin\": true, \"gridcolor\": \"white\", \"linecolor\": \"white\", \"ticks\": \"\", \"title\": {\"standoff\": 15}, \"zerolinecolor\": \"white\", \"zerolinewidth\": 2}}}, \"title\": {\"text\": \"Histogram of the number of colored arteries by condition\"}, \"xaxis\": {\"anchor\": \"y\", \"domain\": [0.0, 1.0], \"title\": {\"text\": \"ca\"}}, \"yaxis\": {\"anchor\": \"x\", \"domain\": [0.0, 1.0], \"title\": {\"text\": \"count\"}}},                        {\"responsive\": true}                    ).then(function(){\n",
       "                            \n",
       "var gd = document.getElementById('0de8a5d9-c9b2-45f2-b2d9-3eee08535ee7');\n",
       "var x = new MutationObserver(function (mutations, observer) {{\n",
       "        var display = window.getComputedStyle(gd).display;\n",
       "        if (!display || display === 'none') {{\n",
       "            console.log([gd, 'removed!']);\n",
       "            Plotly.purge(gd);\n",
       "            observer.disconnect();\n",
       "        }}\n",
       "}});\n",
       "\n",
       "// Listen for the removal of the full notebook cells\n",
       "var notebookContainer = gd.closest('#notebook-container');\n",
       "if (notebookContainer) {{\n",
       "    x.observe(notebookContainer, {childList: true});\n",
       "}}\n",
       "\n",
       "// Listen for the clearing of the current output cell\n",
       "var outputEl = gd.closest('.output');\n",
       "if (outputEl) {{\n",
       "    x.observe(outputEl, {childList: true});\n",
       "}}\n",
       "\n",
       "                        })                };                });            </script>        </div>"
      ]
     },
     "metadata": {},
     "output_type": "display_data"
    }
   ],
   "source": [
    "# histogram\n",
    "fig = px.histogram(df,\n",
    "               x = 'ca',\n",
    "               color = 'condition',\n",
    "               hover_data = df.columns)\n",
    "fig.update_layout(\n",
    "    title_text = 'Histogram of the number of colored arteries by condition')\n",
    "fig.show()"
   ]
  },
  {
   "cell_type": "markdown",
   "metadata": {},
   "source": [
    "### Relationship between 'oldpeak' and 'condition'"
   ]
  },
  {
   "cell_type": "markdown",
   "metadata": {},
   "source": [
    "(provide brief description of what [x] is, and how it might relate to [target])"
   ]
  },
  {
   "cell_type": "code",
   "execution_count": 72,
   "metadata": {},
   "outputs": [
    {
     "data": {
      "application/vnd.plotly.v1+json": {
       "config": {
        "plotlyServerURL": "https://plot.ly"
       },
       "data": [
        {
         "alignmentgroup": "True",
         "bingroup": "x",
         "hovertemplate": "condition=0<br>oldpeak=%{x}<br>count=%{y}<extra></extra>",
         "legendgroup": "0",
         "marker": {
          "color": "#636efa"
         },
         "name": "0",
         "offsetgroup": "0",
         "orientation": "v",
         "showlegend": true,
         "type": "histogram",
         "x": [
          0.1,
          1.8,
          2.6,
          1.8,
          0.6,
          2.3,
          0.9,
          4.2,
          1,
          1.9,
          0,
          1.2,
          1.4,
          0.8,
          1.4,
          0,
          0.2,
          0.4,
          0,
          0,
          0,
          0,
          0,
          1.3,
          0.8,
          0,
          1.4,
          0,
          1.2,
          0,
          0,
          0.2,
          0.8,
          0,
          1.1,
          0,
          0.6,
          0.2,
          0,
          0,
          0.6,
          0,
          0,
          0,
          0,
          0,
          0,
          0,
          1.4,
          0,
          0,
          0,
          0,
          0,
          0.7,
          0,
          1.1,
          0,
          1.5,
          1,
          1.6,
          0,
          0,
          0.8,
          0.8,
          0.8,
          0.2,
          0,
          1.8,
          1,
          0,
          0,
          1.6,
          0.6,
          0,
          0,
          1.6,
          0.2,
          0.5,
          0.4,
          1.6,
          0,
          1.6,
          0,
          0,
          1.2,
          0,
          0.1,
          0.5,
          1.2,
          2.4,
          0.6,
          1.5,
          0.5,
          0,
          0.6,
          1.6,
          0,
          0.2,
          0,
          0,
          0,
          1.4,
          0.6,
          0.3,
          0.4,
          0,
          0,
          0.2,
          1.9,
          0.8,
          0,
          0,
          2,
          0,
          0,
          0,
          0,
          0,
          3.5,
          0,
          1.6,
          0.3,
          0.4,
          2.3,
          0.4,
          2,
          0.2,
          0,
          1.2,
          0,
          0.5,
          0,
          1,
          0.6,
          0.4,
          1.5,
          0.6,
          0,
          0,
          1.2,
          0.4,
          0,
          0,
          0.1,
          0,
          0,
          0,
          0,
          0.1,
          0,
          3,
          0.2,
          0,
          1.2,
          1.5,
          0,
          0.6,
          0,
          1.4
         ],
         "xaxis": "x",
         "yaxis": "y"
        },
        {
         "alignmentgroup": "True",
         "customdata": [
          [
           69,
           1,
           0,
           160,
           234,
           1,
           2,
           131,
           0,
           0.1,
           1,
           1,
           0,
           0
          ],
          [
           69,
           0,
           0,
           140,
           239,
           0,
           0,
           151,
           0,
           1.8,
           0,
           2,
           0,
           0
          ],
          [
           66,
           0,
           0,
           150,
           226,
           0,
           0,
           114,
           0,
           2.6,
           2,
           0,
           0,
           0
          ],
          [
           64,
           1,
           0,
           110,
           211,
           0,
           2,
           144,
           1,
           1.8,
           1,
           0,
           0,
           0
          ],
          [
           64,
           1,
           0,
           170,
           227,
           0,
           2,
           155,
           0,
           0.6,
           1,
           0,
           2,
           0
          ],
          [
           63,
           1,
           0,
           145,
           233,
           1,
           2,
           150,
           0,
           2.3,
           2,
           0,
           1,
           0
          ],
          [
           60,
           0,
           0,
           150,
           240,
           0,
           0,
           171,
           0,
           0.9,
           0,
           0,
           0,
           0
          ],
          [
           59,
           1,
           0,
           178,
           270,
           0,
           2,
           145,
           0,
           4.2,
           2,
           0,
           2,
           0
          ],
          [
           58,
           0,
           0,
           150,
           283,
           1,
           2,
           162,
           0,
           1,
           0,
           0,
           0,
           0
          ],
          [
           56,
           1,
           0,
           120,
           193,
           0,
           2,
           162,
           0,
           1.9,
           1,
           0,
           2,
           0
          ],
          [
           52,
           1,
           0,
           118,
           186,
           0,
           2,
           190,
           0,
           0,
           1,
           0,
           1,
           0
          ],
          [
           52,
           1,
           0,
           152,
           298,
           1,
           0,
           178,
           0,
           1.2,
           1,
           0,
           2,
           0
          ],
          [
           51,
           1,
           0,
           125,
           213,
           0,
           2,
           125,
           1,
           1.4,
           0,
           1,
           0,
           0
          ],
          [
           42,
           1,
           0,
           148,
           244,
           0,
           2,
           178,
           0,
           0.8,
           0,
           2,
           0,
           0
          ],
          [
           40,
           1,
           0,
           140,
           199,
           0,
           0,
           178,
           1,
           1.4,
           0,
           0,
           2,
           0
          ],
          [
           34,
           1,
           0,
           118,
           182,
           0,
           2,
           174,
           0,
           0,
           0,
           0,
           0,
           0
          ],
          [
           74,
           0,
           1,
           120,
           269,
           0,
           2,
           121,
           1,
           0.2,
           0,
           1,
           0,
           0
          ],
          [
           71,
           0,
           1,
           160,
           302,
           0,
           0,
           162,
           0,
           0.4,
           0,
           2,
           0,
           0
          ],
          [
           70,
           1,
           1,
           156,
           245,
           0,
           2,
           143,
           0,
           0,
           0,
           0,
           0,
           0
          ],
          [
           63,
           0,
           1,
           140,
           195,
           0,
           0,
           179,
           0,
           0,
           0,
           2,
           0,
           0
          ],
          [
           62,
           1,
           1,
           128,
           208,
           1,
           2,
           140,
           0,
           0,
           0,
           0,
           0,
           0
          ],
          [
           59,
           1,
           1,
           140,
           221,
           0,
           0,
           164,
           1,
           0,
           0,
           0,
           0,
           0
          ],
          [
           56,
           1,
           1,
           120,
           240,
           0,
           0,
           169,
           0,
           0,
           2,
           0,
           0,
           0
          ],
          [
           56,
           0,
           1,
           140,
           294,
           0,
           2,
           153,
           0,
           1.3,
           1,
           0,
           0,
           0
          ],
          [
           56,
           1,
           1,
           120,
           236,
           0,
           0,
           178,
           0,
           0.8,
           0,
           0,
           0,
           0
          ],
          [
           56,
           1,
           1,
           130,
           221,
           0,
           2,
           163,
           0,
           0,
           0,
           0,
           2,
           0
          ],
          [
           55,
           0,
           1,
           135,
           250,
           0,
           2,
           161,
           0,
           1.4,
           1,
           0,
           0,
           0
          ],
          [
           55,
           1,
           1,
           130,
           262,
           0,
           0,
           155,
           0,
           0,
           0,
           0,
           0,
           0
          ],
          [
           55,
           0,
           1,
           132,
           342,
           0,
           0,
           166,
           0,
           1.2,
           0,
           0,
           0,
           0
          ],
          [
           54,
           1,
           1,
           108,
           309,
           0,
           0,
           156,
           0,
           0,
           0,
           0,
           2,
           0
          ],
          [
           54,
           0,
           1,
           132,
           288,
           1,
           2,
           159,
           1,
           0,
           0,
           1,
           0,
           0
          ],
          [
           52,
           1,
           1,
           120,
           325,
           0,
           0,
           172,
           0,
           0.2,
           0,
           0,
           0,
           0
          ],
          [
           52,
           1,
           1,
           134,
           201,
           0,
           0,
           158,
           0,
           0.8,
           0,
           1,
           0,
           0
          ],
          [
           52,
           1,
           1,
           128,
           205,
           1,
           0,
           184,
           0,
           0,
           0,
           0,
           0,
           0
          ],
          [
           50,
           0,
           1,
           120,
           244,
           0,
           0,
           162,
           0,
           1.1,
           0,
           0,
           0,
           0
          ],
          [
           49,
           0,
           1,
           134,
           271,
           0,
           0,
           162,
           0,
           0,
           1,
           0,
           0,
           0
          ],
          [
           49,
           1,
           1,
           130,
           266,
           0,
           0,
           171,
           0,
           0.6,
           0,
           0,
           0,
           0
          ],
          [
           48,
           1,
           1,
           130,
           245,
           0,
           2,
           180,
           0,
           0.2,
           1,
           0,
           0,
           0
          ],
          [
           46,
           1,
           1,
           101,
           197,
           1,
           0,
           156,
           0,
           0,
           0,
           0,
           2,
           0
          ],
          [
           46,
           0,
           1,
           105,
           204,
           0,
           0,
           172,
           0,
           0,
           0,
           0,
           0,
           0
          ],
          [
           45,
           0,
           1,
           130,
           234,
           0,
           2,
           175,
           0,
           0.6,
           1,
           0,
           0,
           0
          ],
          [
           45,
           0,
           1,
           112,
           160,
           0,
           0,
           138,
           0,
           0,
           1,
           0,
           0,
           0
          ],
          [
           45,
           1,
           1,
           128,
           308,
           0,
           2,
           170,
           0,
           0,
           0,
           0,
           0,
           0
          ],
          [
           44,
           1,
           1,
           120,
           263,
           0,
           0,
           173,
           0,
           0,
           0,
           0,
           2,
           0
          ],
          [
           44,
           1,
           1,
           130,
           219,
           0,
           2,
           188,
           0,
           0,
           0,
           0,
           0,
           0
          ],
          [
           44,
           1,
           1,
           120,
           220,
           0,
           0,
           170,
           0,
           0,
           0,
           0,
           0,
           0
          ],
          [
           42,
           1,
           1,
           120,
           295,
           0,
           0,
           162,
           0,
           0,
           0,
           0,
           0,
           0
          ],
          [
           41,
           1,
           1,
           135,
           203,
           0,
           0,
           132,
           0,
           0,
           1,
           0,
           1,
           0
          ],
          [
           41,
           0,
           1,
           130,
           204,
           0,
           2,
           172,
           0,
           1.4,
           0,
           0,
           0,
           0
          ],
          [
           41,
           0,
           1,
           105,
           198,
           0,
           0,
           168,
           0,
           0,
           0,
           1,
           0,
           0
          ],
          [
           41,
           1,
           1,
           110,
           235,
           0,
           0,
           153,
           0,
           0,
           0,
           0,
           0,
           0
          ],
          [
           41,
           0,
           1,
           126,
           306,
           0,
           0,
           163,
           0,
           0,
           0,
           0,
           0,
           0
          ],
          [
           41,
           1,
           1,
           120,
           157,
           0,
           0,
           182,
           0,
           0,
           0,
           0,
           0,
           0
          ],
          [
           35,
           1,
           1,
           122,
           192,
           0,
           0,
           174,
           0,
           0,
           0,
           0,
           0,
           0
          ],
          [
           34,
           0,
           1,
           118,
           210,
           0,
           0,
           192,
           0,
           0.7,
           0,
           0,
           0,
           0
          ],
          [
           29,
           1,
           1,
           130,
           204,
           0,
           2,
           202,
           0,
           0,
           0,
           0,
           0,
           0
          ],
          [
           76,
           0,
           2,
           140,
           197,
           0,
           1,
           116,
           0,
           1.1,
           1,
           0,
           0,
           0
          ],
          [
           71,
           0,
           2,
           110,
           265,
           1,
           2,
           130,
           0,
           0,
           0,
           1,
           0,
           0
          ],
          [
           68,
           0,
           2,
           120,
           211,
           0,
           2,
           115,
           0,
           1.5,
           1,
           0,
           0,
           0
          ],
          [
           68,
           1,
           2,
           118,
           277,
           0,
           0,
           151,
           0,
           1,
           0,
           1,
           2,
           0
          ],
          [
           67,
           0,
           2,
           115,
           564,
           0,
           2,
           160,
           0,
           1.6,
           1,
           0,
           2,
           0
          ],
          [
           67,
           0,
           2,
           152,
           277,
           0,
           0,
           172,
           0,
           0,
           0,
           1,
           0,
           0
          ],
          [
           66,
           0,
           2,
           146,
           278,
           0,
           2,
           152,
           0,
           0,
           1,
           1,
           0,
           0
          ],
          [
           65,
           0,
           2,
           140,
           417,
           1,
           2,
           157,
           0,
           0.8,
           0,
           1,
           0,
           0
          ],
          [
           65,
           0,
           2,
           155,
           269,
           0,
           0,
           148,
           0,
           0.8,
           0,
           0,
           0,
           0
          ],
          [
           65,
           0,
           2,
           160,
           360,
           0,
           2,
           151,
           0,
           0.8,
           0,
           0,
           0,
           0
          ],
          [
           64,
           0,
           2,
           140,
           313,
           0,
           0,
           133,
           0,
           0.2,
           0,
           0,
           2,
           0
          ],
          [
           63,
           0,
           2,
           135,
           252,
           0,
           2,
           172,
           0,
           0,
           0,
           0,
           0,
           0
          ],
          [
           62,
           1,
           2,
           130,
           231,
           0,
           0,
           146,
           0,
           1.8,
           1,
           3,
           2,
           0
          ],
          [
           61,
           1,
           2,
           150,
           243,
           1,
           0,
           137,
           1,
           1,
           1,
           0,
           0,
           0
          ],
          [
           60,
           0,
           2,
           102,
           318,
           0,
           0,
           160,
           0,
           0,
           0,
           1,
           0,
           0
          ],
          [
           60,
           0,
           2,
           120,
           178,
           1,
           0,
           96,
           0,
           0,
           0,
           0,
           0,
           0
          ],
          [
           59,
           1,
           2,
           150,
           212,
           1,
           0,
           157,
           0,
           1.6,
           0,
           0,
           0,
           0
          ],
          [
           58,
           1,
           2,
           105,
           240,
           0,
           2,
           154,
           1,
           0.6,
           1,
           0,
           2,
           0
          ],
          [
           58,
           0,
           2,
           120,
           340,
           0,
           0,
           172,
           0,
           0,
           0,
           0,
           0,
           0
          ],
          [
           58,
           1,
           2,
           140,
           211,
           1,
           2,
           165,
           0,
           0,
           0,
           0,
           0,
           0
          ],
          [
           57,
           1,
           2,
           150,
           168,
           0,
           0,
           174,
           0,
           1.6,
           0,
           0,
           0,
           0
          ],
          [
           57,
           1,
           2,
           150,
           126,
           1,
           0,
           173,
           0,
           0.2,
           0,
           1,
           2,
           0
          ],
          [
           54,
           1,
           2,
           125,
           273,
           0,
           2,
           152,
           0,
           0.5,
           2,
           1,
           0,
           0
          ],
          [
           54,
           1,
           2,
           120,
           258,
           0,
           2,
           147,
           0,
           0.4,
           1,
           0,
           2,
           0
          ],
          [
           54,
           0,
           2,
           110,
           214,
           0,
           0,
           158,
           0,
           1.6,
           1,
           0,
           0,
           0
          ],
          [
           54,
           0,
           2,
           135,
           304,
           1,
           0,
           170,
           0,
           0,
           0,
           0,
           0,
           0
          ],
          [
           54,
           1,
           2,
           150,
           232,
           0,
           2,
           165,
           0,
           1.6,
           0,
           0,
           2,
           0
          ],
          [
           54,
           0,
           2,
           108,
           267,
           0,
           2,
           167,
           0,
           0,
           0,
           0,
           0,
           0
          ],
          [
           54,
           0,
           2,
           160,
           201,
           0,
           0,
           163,
           0,
           0,
           0,
           1,
           0,
           0
          ],
          [
           53,
           1,
           2,
           130,
           197,
           1,
           2,
           152,
           0,
           1.2,
           2,
           0,
           0,
           0
          ],
          [
           53,
           1,
           2,
           130,
           246,
           1,
           2,
           173,
           0,
           0,
           0,
           3,
           0,
           0
          ],
          [
           52,
           0,
           2,
           136,
           196,
           0,
           2,
           169,
           0,
           0.1,
           1,
           0,
           0,
           0
          ],
          [
           52,
           1,
           2,
           172,
           199,
           1,
           0,
           162,
           0,
           0.5,
           0,
           0,
           2,
           0
          ],
          [
           51,
           1,
           2,
           100,
           222,
           0,
           0,
           143,
           1,
           1.2,
           1,
           0,
           0,
           0
          ],
          [
           51,
           1,
           2,
           125,
           245,
           1,
           2,
           166,
           0,
           2.4,
           1,
           0,
           0,
           0
          ],
          [
           51,
           1,
           2,
           110,
           175,
           0,
           0,
           123,
           0,
           0.6,
           0,
           0,
           0,
           0
          ],
          [
           51,
           0,
           2,
           140,
           308,
           0,
           2,
           142,
           0,
           1.5,
           0,
           1,
           0,
           0
          ],
          [
           51,
           0,
           2,
           130,
           256,
           0,
           2,
           149,
           0,
           0.5,
           0,
           0,
           0,
           0
          ],
          [
           51,
           1,
           2,
           94,
           227,
           0,
           0,
           154,
           1,
           0,
           0,
           1,
           2,
           0
          ],
          [
           51,
           0,
           2,
           120,
           295,
           0,
           2,
           157,
           0,
           0.6,
           0,
           0,
           0,
           0
          ],
          [
           50,
           0,
           2,
           120,
           219,
           0,
           0,
           158,
           0,
           1.6,
           1,
           0,
           0,
           0
          ],
          [
           50,
           1,
           2,
           129,
           196,
           0,
           0,
           163,
           0,
           0,
           0,
           0,
           0,
           0
          ],
          [
           48,
           0,
           2,
           130,
           275,
           0,
           0,
           139,
           0,
           0.2,
           0,
           0,
           0,
           0
          ],
          [
           48,
           1,
           2,
           124,
           255,
           1,
           0,
           175,
           0,
           0,
           0,
           2,
           0,
           0
          ],
          [
           47,
           1,
           2,
           138,
           257,
           0,
           2,
           156,
           0,
           0,
           0,
           0,
           0,
           0
          ],
          [
           47,
           1,
           2,
           130,
           253,
           0,
           0,
           179,
           0,
           0,
           0,
           0,
           0,
           0
          ],
          [
           46,
           0,
           2,
           142,
           177,
           0,
           2,
           160,
           1,
           1.4,
           2,
           0,
           0,
           0
          ],
          [
           44,
           0,
           2,
           108,
           141,
           0,
           0,
           175,
           0,
           0.6,
           1,
           0,
           0,
           0
          ],
          [
           44,
           0,
           2,
           118,
           242,
           0,
           0,
           149,
           0,
           0.3,
           1,
           1,
           0,
           0
          ],
          [
           44,
           1,
           2,
           130,
           233,
           0,
           0,
           179,
           1,
           0.4,
           0,
           0,
           0,
           0
          ],
          [
           44,
           1,
           2,
           140,
           235,
           0,
           2,
           180,
           0,
           0,
           0,
           0,
           0,
           0
          ],
          [
           44,
           1,
           2,
           120,
           226,
           0,
           0,
           169,
           0,
           0,
           0,
           0,
           0,
           0
          ],
          [
           43,
           0,
           2,
           122,
           213,
           0,
           0,
           165,
           0,
           0.2,
           1,
           0,
           0,
           0
          ],
          [
           43,
           1,
           2,
           130,
           315,
           0,
           0,
           162,
           0,
           1.9,
           0,
           1,
           0,
           0
          ],
          [
           42,
           1,
           2,
           120,
           240,
           1,
           0,
           194,
           0,
           0.8,
           2,
           0,
           2,
           0
          ],
          [
           42,
           0,
           2,
           120,
           209,
           0,
           0,
           173,
           0,
           0,
           1,
           0,
           0,
           0
          ],
          [
           42,
           1,
           2,
           130,
           180,
           0,
           0,
           150,
           0,
           0,
           0,
           0,
           0,
           0
          ],
          [
           41,
           1,
           2,
           130,
           214,
           0,
           2,
           168,
           0,
           2,
           1,
           0,
           0,
           0
          ],
          [
           41,
           1,
           2,
           112,
           250,
           0,
           0,
           179,
           0,
           0,
           0,
           0,
           0,
           0
          ],
          [
           41,
           0,
           2,
           112,
           268,
           0,
           2,
           172,
           1,
           0,
           0,
           0,
           0,
           0
          ],
          [
           39,
           0,
           2,
           138,
           220,
           0,
           0,
           152,
           0,
           0,
           1,
           0,
           0,
           0
          ],
          [
           39,
           1,
           2,
           140,
           321,
           0,
           2,
           182,
           0,
           0,
           0,
           0,
           0,
           0
          ],
          [
           39,
           0,
           2,
           94,
           199,
           0,
           0,
           179,
           0,
           0,
           0,
           0,
           0,
           0
          ],
          [
           37,
           1,
           2,
           130,
           250,
           0,
           0,
           187,
           0,
           3.5,
           2,
           0,
           0,
           0
          ],
          [
           37,
           0,
           2,
           120,
           215,
           0,
           0,
           170,
           0,
           0,
           0,
           0,
           0,
           0
          ],
          [
           71,
           0,
           3,
           112,
           149,
           0,
           0,
           125,
           0,
           1.6,
           1,
           0,
           0,
           0
          ],
          [
           67,
           0,
           3,
           106,
           223,
           0,
           0,
           142,
           0,
           0.3,
           0,
           2,
           0,
           0
          ],
          [
           66,
           1,
           3,
           120,
           302,
           0,
           2,
           151,
           0,
           0.4,
           1,
           0,
           0,
           0
          ],
          [
           66,
           1,
           3,
           160,
           228,
           0,
           2,
           138,
           0,
           2.3,
           0,
           0,
           1,
           0
          ],
          [
           65,
           1,
           3,
           120,
           177,
           0,
           0,
           140,
           0,
           0.4,
           0,
           0,
           2,
           0
          ],
          [
           64,
           0,
           3,
           130,
           303,
           0,
           0,
           122,
           0,
           2,
           1,
           2,
           0,
           0
          ],
          [
           64,
           1,
           3,
           128,
           263,
           0,
           0,
           105,
           1,
           0.2,
           1,
           1,
           2,
           0
          ],
          [
           64,
           0,
           3,
           180,
           325,
           0,
           0,
           154,
           1,
           0,
           0,
           0,
           0,
           0
          ],
          [
           62,
           0,
           3,
           140,
           394,
           0,
           2,
           157,
           0,
           1.2,
           1,
           0,
           0,
           0
          ],
          [
           62,
           0,
           3,
           124,
           209,
           0,
           0,
           163,
           0,
           0,
           0,
           0,
           0,
           0
          ],
          [
           59,
           1,
           3,
           135,
           234,
           0,
           0,
           161,
           0,
           0.5,
           1,
           0,
           2,
           0
          ],
          [
           59,
           1,
           3,
           138,
           271,
           0,
           2,
           182,
           0,
           0,
           0,
           0,
           0,
           0
          ],
          [
           58,
           0,
           3,
           100,
           248,
           0,
           2,
           122,
           0,
           1,
           1,
           0,
           0,
           0
          ],
          [
           58,
           0,
           3,
           130,
           197,
           0,
           0,
           131,
           0,
           0.6,
           1,
           0,
           0,
           0
          ],
          [
           57,
           1,
           3,
           140,
           192,
           0,
           0,
           148,
           0,
           0.4,
           1,
           0,
           1,
           0
          ],
          [
           57,
           1,
           3,
           110,
           201,
           0,
           0,
           126,
           1,
           1.5,
           1,
           0,
           1,
           0
          ],
          [
           57,
           0,
           3,
           120,
           354,
           0,
           0,
           163,
           1,
           0.6,
           0,
           0,
           0,
           0
          ],
          [
           57,
           0,
           3,
           128,
           303,
           0,
           2,
           159,
           0,
           0,
           0,
           1,
           0,
           0
          ],
          [
           57,
           1,
           3,
           132,
           207,
           0,
           0,
           168,
           1,
           0,
           0,
           0,
           2,
           0
          ],
          [
           54,
           1,
           3,
           140,
           239,
           0,
           0,
           160,
           0,
           1.2,
           0,
           0,
           0,
           0
          ],
          [
           53,
           0,
           3,
           130,
           264,
           0,
           2,
           143,
           0,
           0.4,
           1,
           0,
           0,
           0
          ],
          [
           53,
           0,
           3,
           138,
           234,
           0,
           2,
           160,
           0,
           0,
           0,
           0,
           0,
           0
          ],
          [
           53,
           1,
           3,
           142,
           226,
           0,
           2,
           111,
           1,
           0,
           0,
           0,
           2,
           0
          ],
          [
           52,
           1,
           3,
           108,
           233,
           1,
           0,
           147,
           0,
           0.1,
           0,
           3,
           2,
           0
          ],
          [
           51,
           1,
           3,
           140,
           261,
           0,
           2,
           186,
           1,
           0,
           0,
           0,
           0,
           0
          ],
          [
           50,
           0,
           3,
           110,
           254,
           0,
           2,
           159,
           0,
           0,
           0,
           0,
           0,
           0
          ],
          [
           49,
           0,
           3,
           130,
           269,
           0,
           0,
           163,
           0,
           0,
           0,
           0,
           0,
           0
          ],
          [
           48,
           1,
           3,
           122,
           222,
           0,
           2,
           186,
           0,
           0,
           0,
           0,
           0,
           0
          ],
          [
           47,
           1,
           3,
           112,
           204,
           0,
           0,
           143,
           0,
           0.1,
           0,
           0,
           0,
           0
          ],
          [
           46,
           0,
           3,
           138,
           243,
           0,
           2,
           152,
           1,
           0,
           1,
           0,
           0,
           0
          ],
          [
           45,
           1,
           3,
           104,
           208,
           0,
           2,
           148,
           1,
           3,
           1,
           0,
           0,
           0
          ],
          [
           45,
           0,
           3,
           138,
           236,
           0,
           2,
           152,
           1,
           0.2,
           1,
           0,
           0,
           0
          ],
          [
           45,
           1,
           3,
           115,
           260,
           0,
           2,
           185,
           0,
           0,
           0,
           0,
           0,
           0
          ],
          [
           43,
           1,
           3,
           115,
           303,
           0,
           0,
           181,
           0,
           1.2,
           1,
           0,
           0,
           0
          ],
          [
           43,
           1,
           3,
           150,
           247,
           0,
           0,
           171,
           0,
           1.5,
           0,
           0,
           0,
           0
          ],
          [
           43,
           1,
           3,
           110,
           211,
           0,
           0,
           161,
           0,
           0,
           0,
           0,
           2,
           0
          ],
          [
           42,
           0,
           3,
           102,
           265,
           0,
           2,
           122,
           0,
           0.6,
           1,
           0,
           0,
           0
          ],
          [
           42,
           1,
           3,
           140,
           226,
           0,
           0,
           178,
           0,
           0,
           0,
           0,
           0,
           0
          ],
          [
           35,
           0,
           3,
           138,
           183,
           0,
           0,
           182,
           0,
           1.4,
           0,
           0,
           0,
           0
          ]
         ],
         "hovertemplate": "condition=%{customdata[13]}<br>oldpeak=%{customdata[9]}<br>age=%{customdata[0]}<br>sex=%{customdata[1]}<br>cp=%{customdata[2]}<br>trestbps=%{customdata[3]}<br>chol=%{customdata[4]}<br>fbs=%{customdata[5]}<br>restecg=%{customdata[6]}<br>thalach=%{customdata[7]}<br>exang=%{customdata[8]}<br>slope=%{customdata[10]}<br>ca=%{customdata[11]}<br>thal=%{customdata[12]}<extra></extra>",
         "legendgroup": "0",
         "marker": {
          "color": "#636efa"
         },
         "name": "0",
         "offsetgroup": "0",
         "scalegroup": "x",
         "showlegend": false,
         "type": "violin",
         "x": [
          0.1,
          1.8,
          2.6,
          1.8,
          0.6,
          2.3,
          0.9,
          4.2,
          1,
          1.9,
          0,
          1.2,
          1.4,
          0.8,
          1.4,
          0,
          0.2,
          0.4,
          0,
          0,
          0,
          0,
          0,
          1.3,
          0.8,
          0,
          1.4,
          0,
          1.2,
          0,
          0,
          0.2,
          0.8,
          0,
          1.1,
          0,
          0.6,
          0.2,
          0,
          0,
          0.6,
          0,
          0,
          0,
          0,
          0,
          0,
          0,
          1.4,
          0,
          0,
          0,
          0,
          0,
          0.7,
          0,
          1.1,
          0,
          1.5,
          1,
          1.6,
          0,
          0,
          0.8,
          0.8,
          0.8,
          0.2,
          0,
          1.8,
          1,
          0,
          0,
          1.6,
          0.6,
          0,
          0,
          1.6,
          0.2,
          0.5,
          0.4,
          1.6,
          0,
          1.6,
          0,
          0,
          1.2,
          0,
          0.1,
          0.5,
          1.2,
          2.4,
          0.6,
          1.5,
          0.5,
          0,
          0.6,
          1.6,
          0,
          0.2,
          0,
          0,
          0,
          1.4,
          0.6,
          0.3,
          0.4,
          0,
          0,
          0.2,
          1.9,
          0.8,
          0,
          0,
          2,
          0,
          0,
          0,
          0,
          0,
          3.5,
          0,
          1.6,
          0.3,
          0.4,
          2.3,
          0.4,
          2,
          0.2,
          0,
          1.2,
          0,
          0.5,
          0,
          1,
          0.6,
          0.4,
          1.5,
          0.6,
          0,
          0,
          1.2,
          0.4,
          0,
          0,
          0.1,
          0,
          0,
          0,
          0,
          0.1,
          0,
          3,
          0.2,
          0,
          1.2,
          1.5,
          0,
          0.6,
          0,
          1.4
         ],
         "xaxis": "x2",
         "yaxis": "y2"
        },
        {
         "alignmentgroup": "True",
         "bingroup": "x",
         "hovertemplate": "condition=1<br>oldpeak=%{x}<br>count=%{y}<extra></extra>",
         "legendgroup": "1",
         "marker": {
          "color": "#EF553B"
         },
         "name": "1",
         "offsetgroup": "1",
         "orientation": "v",
         "showlegend": true,
         "type": "histogram",
         "x": [
          1.4,
          2.6,
          0.2,
          0,
          0.8,
          1.2,
          3.8,
          0,
          1.4,
          1.8,
          0,
          0,
          0.3,
          0,
          0,
          1,
          2.9,
          2,
          1.6,
          0.8,
          1.8,
          0,
          1.2,
          3,
          2.2,
          2.5,
          3.2,
          0.4,
          0.6,
          0.6,
          2,
          0.8,
          0,
          3.6,
          0,
          2.6,
          2.4,
          3.4,
          1.5,
          2.6,
          0.2,
          0.9,
          1,
          1,
          0.1,
          1,
          2.8,
          0.6,
          2.2,
          2,
          1.4,
          4,
          1.8,
          0,
          1.8,
          4,
          3.6,
          6.2,
          1.8,
          1.9,
          1.4,
          3.6,
          1,
          3.6,
          0,
          1.9,
          0,
          2.4,
          2.8,
          2.8,
          2.6,
          1.2,
          1.4,
          1.4,
          0,
          3.4,
          1.2,
          0,
          1,
          0,
          4.4,
          2.2,
          3,
          2,
          2.8,
          0.8,
          0,
          0.1,
          0.6,
          1,
          1.2,
          3,
          0.2,
          1.2,
          4,
          1.6,
          1.2,
          2.1,
          1.9,
          5.6,
          1.2,
          0.8,
          3.4,
          2,
          2.2,
          1.4,
          2.8,
          0,
          3.2,
          3.1,
          2,
          0,
          0,
          1,
          1.2,
          4.2,
          1.6,
          2.6,
          0.9,
          0.5,
          0,
          1,
          1.8,
          0.8,
          0,
          2.8,
          0,
          0,
          2.5,
          3,
          1.8,
          0,
          2,
          0,
          1.2,
          1.6,
          0
         ],
         "xaxis": "x",
         "yaxis": "y"
        },
        {
         "alignmentgroup": "True",
         "customdata": [
          [
           65,
           1,
           0,
           138,
           282,
           1,
           2,
           174,
           0,
           1.4,
           1,
           1,
           0,
           1
          ],
          [
           61,
           1,
           0,
           134,
           234,
           0,
           0,
           145,
           0,
           2.6,
           1,
           2,
           0,
           1
          ],
          [
           59,
           1,
           0,
           170,
           288,
           0,
           2,
           159,
           0,
           0.2,
           1,
           0,
           2,
           1
          ],
          [
           59,
           1,
           0,
           160,
           273,
           0,
           2,
           125,
           0,
           0,
           0,
           0,
           0,
           1
          ],
          [
           59,
           1,
           0,
           134,
           204,
           0,
           0,
           162,
           0,
           0.8,
           0,
           2,
           0,
           1
          ],
          [
           45,
           1,
           0,
           110,
           264,
           0,
           0,
           132,
           0,
           1.2,
           1,
           0,
           2,
           1
          ],
          [
           38,
           1,
           0,
           120,
           231,
           0,
           0,
           182,
           1,
           3.8,
           1,
           0,
           2,
           1
          ],
          [
           66,
           1,
           1,
           160,
           246,
           0,
           0,
           120,
           1,
           0,
           1,
           3,
           1,
           1
          ],
          [
           62,
           1,
           1,
           120,
           281,
           0,
           2,
           103,
           0,
           1.4,
           1,
           1,
           2,
           1
          ],
          [
           58,
           1,
           1,
           120,
           284,
           0,
           2,
           160,
           0,
           1.8,
           1,
           0,
           0,
           1
          ],
          [
           58,
           0,
           1,
           136,
           319,
           1,
           2,
           152,
           0,
           0,
           0,
           2,
           0,
           1
          ],
          [
           57,
           0,
           1,
           130,
           236,
           0,
           2,
           174,
           0,
           0,
           1,
           1,
           0,
           1
          ],
          [
           57,
           1,
           1,
           124,
           261,
           0,
           0,
           141,
           0,
           0.3,
           0,
           0,
           2,
           1
          ],
          [
           57,
           1,
           1,
           154,
           232,
           0,
           2,
           164,
           0,
           0,
           0,
           1,
           0,
           1
          ],
          [
           54,
           1,
           1,
           192,
           283,
           0,
           2,
           195,
           0,
           0,
           0,
           1,
           2,
           1
          ],
          [
           48,
           1,
           1,
           110,
           229,
           0,
           0,
           168,
           0,
           1,
           2,
           0,
           2,
           1
          ],
          [
           70,
           1,
           2,
           160,
           269,
           0,
           0,
           112,
           1,
           2.9,
           1,
           1,
           2,
           1
          ],
          [
           69,
           1,
           2,
           140,
           254,
           0,
           2,
           146,
           0,
           2,
           1,
           3,
           2,
           1
          ],
          [
           68,
           1,
           2,
           180,
           274,
           1,
           2,
           150,
           1,
           1.6,
           1,
           0,
           2,
           1
          ],
          [
           67,
           1,
           2,
           152,
           212,
           0,
           2,
           150,
           0,
           0.8,
           1,
           0,
           2,
           1
          ],
          [
           64,
           1,
           2,
           125,
           309,
           0,
           0,
           131,
           1,
           1.8,
           1,
           0,
           2,
           1
          ],
          [
           64,
           1,
           2,
           140,
           335,
           0,
           0,
           158,
           0,
           0,
           0,
           0,
           0,
           1
          ],
          [
           62,
           0,
           2,
           130,
           263,
           0,
           0,
           97,
           0,
           1.2,
           1,
           1,
           2,
           1
          ],
          [
           60,
           1,
           2,
           140,
           185,
           0,
           2,
           155,
           0,
           3,
           1,
           0,
           0,
           1
          ],
          [
           59,
           1,
           2,
           126,
           218,
           1,
           0,
           134,
           0,
           2.2,
           1,
           1,
           1,
           1
          ],
          [
           58,
           1,
           2,
           112,
           230,
           0,
           2,
           165,
           0,
           2.5,
           1,
           1,
           2,
           1
          ],
          [
           58,
           1,
           2,
           132,
           224,
           0,
           2,
           173,
           0,
           3.2,
           0,
           2,
           2,
           1
          ],
          [
           57,
           1,
           2,
           128,
           229,
           0,
           2,
           150,
           0,
           0.4,
           1,
           1,
           2,
           1
          ],
          [
           56,
           1,
           2,
           130,
           256,
           1,
           2,
           142,
           1,
           0.6,
           1,
           1,
           1,
           1
          ],
          [
           50,
           1,
           2,
           140,
           233,
           0,
           0,
           163,
           0,
           0.6,
           1,
           1,
           2,
           1
          ],
          [
           49,
           1,
           2,
           120,
           188,
           0,
           0,
           139,
           0,
           2,
           1,
           3,
           2,
           1
          ],
          [
           49,
           1,
           2,
           118,
           149,
           0,
           2,
           126,
           0,
           0.8,
           0,
           3,
           0,
           1
          ],
          [
           47,
           1,
           2,
           108,
           243,
           0,
           0,
           152,
           0,
           0,
           0,
           0,
           0,
           1
          ],
          [
           46,
           1,
           2,
           150,
           231,
           0,
           0,
           147,
           0,
           3.6,
           1,
           0,
           0,
           1
          ],
          [
           77,
           1,
           3,
           125,
           304,
           0,
           2,
           162,
           1,
           0,
           0,
           3,
           0,
           1
          ],
          [
           70,
           1,
           3,
           145,
           174,
           0,
           0,
           125,
           1,
           2.6,
           2,
           0,
           2,
           1
          ],
          [
           70,
           1,
           3,
           130,
           322,
           0,
           2,
           109,
           0,
           2.4,
           1,
           3,
           0,
           1
          ],
          [
           68,
           1,
           3,
           144,
           193,
           1,
           0,
           141,
           0,
           3.4,
           1,
           2,
           2,
           1
          ],
          [
           67,
           1,
           3,
           160,
           286,
           0,
           2,
           108,
           1,
           1.5,
           1,
           3,
           0,
           1
          ],
          [
           67,
           1,
           3,
           120,
           229,
           0,
           2,
           129,
           1,
           2.6,
           1,
           2,
           2,
           1
          ],
          [
           67,
           1,
           3,
           125,
           254,
           1,
           0,
           163,
           0,
           0.2,
           1,
           2,
           2,
           1
          ],
          [
           67,
           1,
           3,
           100,
           299,
           0,
           2,
           125,
           1,
           0.9,
           1,
           2,
           0,
           1
          ],
          [
           67,
           1,
           3,
           120,
           237,
           0,
           0,
           71,
           0,
           1,
           1,
           0,
           0,
           1
          ],
          [
           66,
           0,
           3,
           178,
           228,
           1,
           0,
           165,
           1,
           1,
           1,
           2,
           2,
           1
          ],
          [
           66,
           1,
           3,
           112,
           212,
           0,
           2,
           132,
           1,
           0.1,
           0,
           1,
           0,
           1
          ],
          [
           65,
           0,
           3,
           150,
           225,
           0,
           2,
           114,
           0,
           1,
           1,
           3,
           2,
           1
          ],
          [
           65,
           1,
           3,
           135,
           254,
           0,
           2,
           127,
           0,
           2.8,
           1,
           1,
           2,
           1
          ],
          [
           65,
           1,
           3,
           110,
           248,
           0,
           2,
           158,
           0,
           0.6,
           0,
           2,
           1,
           1
          ],
          [
           64,
           1,
           3,
           120,
           246,
           0,
           2,
           96,
           1,
           2.2,
           2,
           1,
           0,
           1
          ],
          [
           64,
           1,
           3,
           145,
           212,
           0,
           2,
           132,
           0,
           2,
           1,
           2,
           1,
           1
          ],
          [
           63,
           1,
           3,
           130,
           254,
           0,
           2,
           147,
           0,
           1.4,
           1,
           1,
           2,
           1
          ],
          [
           63,
           0,
           3,
           150,
           407,
           0,
           2,
           154,
           0,
           4,
           1,
           3,
           2,
           1
          ],
          [
           63,
           0,
           3,
           108,
           269,
           0,
           0,
           169,
           1,
           1.8,
           1,
           2,
           0,
           1
          ],
          [
           63,
           0,
           3,
           124,
           197,
           0,
           0,
           136,
           1,
           0,
           1,
           0,
           0,
           1
          ],
          [
           63,
           1,
           3,
           130,
           330,
           1,
           2,
           132,
           1,
           1.8,
           0,
           3,
           2,
           1
          ],
          [
           63,
           1,
           3,
           140,
           187,
           0,
           2,
           144,
           1,
           4,
           0,
           2,
           2,
           1
          ],
          [
           62,
           0,
           3,
           140,
           268,
           0,
           2,
           160,
           0,
           3.6,
           2,
           2,
           0,
           1
          ],
          [
           62,
           0,
           3,
           160,
           164,
           0,
           2,
           145,
           0,
           6.2,
           2,
           3,
           2,
           1
          ],
          [
           62,
           1,
           3,
           120,
           267,
           0,
           0,
           99,
           1,
           1.8,
           1,
           2,
           2,
           1
          ],
          [
           62,
           0,
           3,
           138,
           294,
           1,
           0,
           106,
           0,
           1.9,
           1,
           3,
           0,
           1
          ],
          [
           62,
           0,
           3,
           150,
           244,
           0,
           0,
           154,
           1,
           1.4,
           1,
           0,
           0,
           1
          ],
          [
           61,
           1,
           3,
           120,
           260,
           0,
           0,
           140,
           1,
           3.6,
           1,
           1,
           2,
           1
          ],
          [
           61,
           0,
           3,
           145,
           307,
           0,
           2,
           146,
           1,
           1,
           1,
           0,
           2,
           1
          ],
          [
           61,
           1,
           3,
           138,
           166,
           0,
           2,
           125,
           1,
           3.6,
           1,
           1,
           0,
           1
          ],
          [
           61,
           0,
           3,
           130,
           330,
           0,
           2,
           169,
           0,
           0,
           0,
           0,
           0,
           1
          ],
          [
           61,
           1,
           3,
           140,
           207,
           0,
           2,
           138,
           1,
           1.9,
           0,
           1,
           2,
           1
          ],
          [
           61,
           1,
           3,
           148,
           203,
           0,
           0,
           161,
           0,
           0,
           0,
           1,
           2,
           1
          ],
          [
           60,
           1,
           3,
           130,
           206,
           0,
           2,
           132,
           1,
           2.4,
           1,
           2,
           2,
           1
          ],
          [
           60,
           1,
           3,
           145,
           282,
           0,
           2,
           142,
           1,
           2.8,
           1,
           2,
           2,
           1
          ],
          [
           60,
           1,
           3,
           125,
           258,
           0,
           2,
           141,
           1,
           2.8,
           1,
           1,
           2,
           1
          ],
          [
           60,
           0,
           3,
           150,
           258,
           0,
           2,
           157,
           0,
           2.6,
           1,
           2,
           2,
           1
          ],
          [
           60,
           1,
           3,
           140,
           293,
           0,
           2,
           170,
           0,
           1.2,
           1,
           2,
           2,
           1
          ],
          [
           60,
           1,
           3,
           117,
           230,
           1,
           0,
           160,
           1,
           1.4,
           0,
           2,
           2,
           1
          ],
          [
           60,
           1,
           3,
           130,
           253,
           0,
           0,
           144,
           1,
           1.4,
           0,
           1,
           2,
           1
          ],
          [
           60,
           0,
           3,
           158,
           305,
           0,
           2,
           161,
           0,
           0,
           0,
           0,
           0,
           1
          ],
          [
           59,
           1,
           3,
           170,
           326,
           0,
           2,
           140,
           1,
           3.4,
           2,
           0,
           2,
           1
          ],
          [
           59,
           1,
           3,
           110,
           239,
           0,
           2,
           142,
           1,
           1.2,
           1,
           1,
           2,
           1
          ],
          [
           59,
           0,
           3,
           174,
           249,
           0,
           0,
           143,
           1,
           0,
           1,
           0,
           0,
           1
          ],
          [
           59,
           1,
           3,
           164,
           176,
           1,
           2,
           90,
           0,
           1,
           1,
           2,
           1,
           1
          ],
          [
           59,
           1,
           3,
           140,
           177,
           0,
           0,
           162,
           1,
           0,
           0,
           1,
           2,
           1
          ],
          [
           58,
           1,
           3,
           114,
           318,
           0,
           1,
           140,
           0,
           4.4,
           2,
           3,
           1,
           1
          ],
          [
           58,
           1,
           3,
           128,
           216,
           0,
           2,
           131,
           1,
           2.2,
           1,
           3,
           2,
           1
          ],
          [
           58,
           1,
           3,
           128,
           259,
           0,
           2,
           130,
           1,
           3,
           1,
           2,
           2,
           1
          ],
          [
           58,
           1,
           3,
           146,
           218,
           0,
           0,
           105,
           0,
           2,
           1,
           1,
           2,
           1
          ],
          [
           58,
           0,
           3,
           170,
           225,
           1,
           2,
           146,
           1,
           2.8,
           1,
           2,
           1,
           1
          ],
          [
           58,
           1,
           3,
           150,
           270,
           0,
           2,
           111,
           1,
           0.8,
           0,
           0,
           2,
           1
          ],
          [
           58,
           1,
           3,
           125,
           300,
           0,
           2,
           171,
           0,
           0,
           0,
           2,
           2,
           1
          ],
          [
           58,
           1,
           3,
           100,
           234,
           0,
           0,
           156,
           0,
           0.1,
           0,
           1,
           2,
           1
          ],
          [
           57,
           1,
           3,
           150,
           276,
           0,
           2,
           112,
           1,
           0.6,
           1,
           1,
           1,
           1
          ],
          [
           57,
           1,
           3,
           165,
           289,
           1,
           2,
           124,
           0,
           1,
           1,
           3,
           2,
           1
          ],
          [
           57,
           1,
           3,
           152,
           274,
           0,
           0,
           88,
           1,
           1.2,
           1,
           1,
           2,
           1
          ],
          [
           57,
           1,
           3,
           110,
           335,
           0,
           0,
           143,
           1,
           3,
           1,
           1,
           2,
           1
          ],
          [
           57,
           0,
           3,
           140,
           241,
           0,
           0,
           123,
           1,
           0.2,
           1,
           0,
           2,
           1
          ],
          [
           57,
           1,
           3,
           130,
           131,
           0,
           0,
           115,
           1,
           1.2,
           1,
           1,
           2,
           1
          ],
          [
           56,
           0,
           3,
           200,
           288,
           1,
           2,
           133,
           1,
           4,
           2,
           2,
           2,
           1
          ],
          [
           56,
           1,
           3,
           130,
           283,
           1,
           2,
           103,
           1,
           1.6,
           2,
           0,
           2,
           1
          ],
          [
           56,
           1,
           3,
           125,
           249,
           1,
           2,
           144,
           1,
           1.2,
           1,
           1,
           0,
           1
          ],
          [
           56,
           1,
           3,
           132,
           184,
           0,
           2,
           105,
           1,
           2.1,
           1,
           1,
           1,
           1
          ],
          [
           56,
           0,
           3,
           134,
           409,
           0,
           2,
           150,
           1,
           1.9,
           1,
           2,
           2,
           1
          ],
          [
           55,
           1,
           3,
           140,
           217,
           0,
           0,
           111,
           1,
           5.6,
           2,
           0,
           2,
           1
          ],
          [
           55,
           1,
           3,
           132,
           353,
           0,
           0,
           132,
           1,
           1.2,
           1,
           1,
           2,
           1
          ],
          [
           55,
           1,
           3,
           160,
           289,
           0,
           2,
           145,
           1,
           0.8,
           1,
           1,
           2,
           1
          ],
          [
           55,
           0,
           3,
           180,
           327,
           0,
           1,
           117,
           1,
           3.4,
           1,
           0,
           0,
           1
          ],
          [
           55,
           0,
           3,
           128,
           205,
           0,
           1,
           130,
           1,
           2,
           1,
           1,
           2,
           1
          ],
          [
           54,
           1,
           3,
           124,
           266,
           0,
           2,
           109,
           1,
           2.2,
           1,
           1,
           2,
           1
          ],
          [
           54,
           1,
           3,
           120,
           188,
           0,
           0,
           113,
           0,
           1.4,
           1,
           1,
           2,
           1
          ],
          [
           54,
           1,
           3,
           110,
           239,
           0,
           0,
           126,
           1,
           2.8,
           1,
           1,
           2,
           1
          ],
          [
           54,
           1,
           3,
           110,
           206,
           0,
           2,
           108,
           1,
           0,
           1,
           1,
           0,
           1
          ],
          [
           54,
           1,
           3,
           122,
           286,
           0,
           2,
           116,
           1,
           3.2,
           1,
           2,
           0,
           1
          ],
          [
           53,
           1,
           3,
           140,
           203,
           1,
           2,
           155,
           1,
           3.1,
           2,
           0,
           2,
           1
          ],
          [
           53,
           1,
           3,
           123,
           282,
           0,
           0,
           95,
           1,
           2,
           1,
           2,
           2,
           1
          ],
          [
           52,
           1,
           3,
           128,
           255,
           0,
           0,
           161,
           1,
           0,
           0,
           1,
           2,
           1
          ],
          [
           52,
           1,
           3,
           112,
           230,
           0,
           0,
           160,
           0,
           0,
           0,
           1,
           0,
           1
          ],
          [
           52,
           1,
           3,
           125,
           212,
           0,
           0,
           168,
           0,
           1,
           0,
           2,
           2,
           1
          ],
          [
           51,
           0,
           3,
           130,
           305,
           0,
           0,
           142,
           1,
           1.2,
           1,
           0,
           2,
           1
          ],
          [
           51,
           1,
           3,
           140,
           298,
           0,
           0,
           122,
           1,
           4.2,
           1,
           3,
           2,
           1
          ],
          [
           51,
           1,
           3,
           140,
           299,
           0,
           0,
           173,
           1,
           1.6,
           0,
           0,
           2,
           1
          ],
          [
           50,
           1,
           3,
           150,
           243,
           0,
           2,
           128,
           0,
           2.6,
           1,
           0,
           2,
           1
          ],
          [
           50,
           1,
           3,
           144,
           200,
           0,
           2,
           126,
           1,
           0.9,
           1,
           0,
           2,
           1
          ],
          [
           48,
           1,
           3,
           124,
           274,
           0,
           2,
           166,
           0,
           0.5,
           1,
           0,
           2,
           1
          ],
          [
           48,
           1,
           3,
           130,
           256,
           1,
           2,
           150,
           1,
           0,
           0,
           2,
           2,
           1
          ],
          [
           47,
           1,
           3,
           110,
           275,
           0,
           2,
           118,
           1,
           1,
           1,
           1,
           0,
           1
          ],
          [
           46,
           1,
           3,
           140,
           311,
           0,
           0,
           120,
           1,
           1.8,
           1,
           2,
           2,
           1
          ],
          [
           46,
           1,
           3,
           120,
           249,
           0,
           2,
           144,
           0,
           0.8,
           0,
           0,
           2,
           1
          ],
          [
           45,
           1,
           3,
           142,
           309,
           0,
           2,
           147,
           1,
           0,
           1,
           3,
           2,
           1
          ],
          [
           44,
           1,
           3,
           120,
           169,
           0,
           0,
           144,
           1,
           2.8,
           2,
           0,
           1,
           1
          ],
          [
           44,
           1,
           3,
           112,
           290,
           0,
           2,
           153,
           0,
           0,
           0,
           1,
           0,
           1
          ],
          [
           44,
           1,
           3,
           110,
           197,
           0,
           2,
           177,
           0,
           0,
           0,
           1,
           0,
           1
          ],
          [
           43,
           1,
           3,
           120,
           177,
           0,
           2,
           120,
           1,
           2.5,
           1,
           0,
           2,
           1
          ],
          [
           43,
           0,
           3,
           132,
           341,
           1,
           2,
           136,
           1,
           3,
           1,
           0,
           2,
           1
          ],
          [
           42,
           1,
           3,
           136,
           315,
           0,
           0,
           125,
           1,
           1.8,
           1,
           0,
           1,
           1
          ],
          [
           41,
           1,
           3,
           110,
           172,
           0,
           2,
           158,
           0,
           0,
           0,
           0,
           2,
           1
          ],
          [
           40,
           1,
           3,
           110,
           167,
           0,
           2,
           114,
           1,
           2,
           1,
           0,
           2,
           1
          ],
          [
           40,
           1,
           3,
           152,
           223,
           0,
           0,
           181,
           0,
           0,
           0,
           0,
           2,
           1
          ],
          [
           39,
           1,
           3,
           118,
           219,
           0,
           0,
           140,
           0,
           1.2,
           1,
           0,
           2,
           1
          ],
          [
           35,
           1,
           3,
           120,
           198,
           0,
           0,
           130,
           1,
           1.6,
           1,
           0,
           2,
           1
          ],
          [
           35,
           1,
           3,
           126,
           282,
           0,
           2,
           156,
           1,
           0,
           0,
           0,
           2,
           1
          ]
         ],
         "hovertemplate": "condition=%{customdata[13]}<br>oldpeak=%{customdata[9]}<br>age=%{customdata[0]}<br>sex=%{customdata[1]}<br>cp=%{customdata[2]}<br>trestbps=%{customdata[3]}<br>chol=%{customdata[4]}<br>fbs=%{customdata[5]}<br>restecg=%{customdata[6]}<br>thalach=%{customdata[7]}<br>exang=%{customdata[8]}<br>slope=%{customdata[10]}<br>ca=%{customdata[11]}<br>thal=%{customdata[12]}<extra></extra>",
         "legendgroup": "1",
         "marker": {
          "color": "#EF553B"
         },
         "name": "1",
         "offsetgroup": "1",
         "scalegroup": "x",
         "showlegend": false,
         "type": "violin",
         "x": [
          1.4,
          2.6,
          0.2,
          0,
          0.8,
          1.2,
          3.8,
          0,
          1.4,
          1.8,
          0,
          0,
          0.3,
          0,
          0,
          1,
          2.9,
          2,
          1.6,
          0.8,
          1.8,
          0,
          1.2,
          3,
          2.2,
          2.5,
          3.2,
          0.4,
          0.6,
          0.6,
          2,
          0.8,
          0,
          3.6,
          0,
          2.6,
          2.4,
          3.4,
          1.5,
          2.6,
          0.2,
          0.9,
          1,
          1,
          0.1,
          1,
          2.8,
          0.6,
          2.2,
          2,
          1.4,
          4,
          1.8,
          0,
          1.8,
          4,
          3.6,
          6.2,
          1.8,
          1.9,
          1.4,
          3.6,
          1,
          3.6,
          0,
          1.9,
          0,
          2.4,
          2.8,
          2.8,
          2.6,
          1.2,
          1.4,
          1.4,
          0,
          3.4,
          1.2,
          0,
          1,
          0,
          4.4,
          2.2,
          3,
          2,
          2.8,
          0.8,
          0,
          0.1,
          0.6,
          1,
          1.2,
          3,
          0.2,
          1.2,
          4,
          1.6,
          1.2,
          2.1,
          1.9,
          5.6,
          1.2,
          0.8,
          3.4,
          2,
          2.2,
          1.4,
          2.8,
          0,
          3.2,
          3.1,
          2,
          0,
          0,
          1,
          1.2,
          4.2,
          1.6,
          2.6,
          0.9,
          0.5,
          0,
          1,
          1.8,
          0.8,
          0,
          2.8,
          0,
          0,
          2.5,
          3,
          1.8,
          0,
          2,
          0,
          1.2,
          1.6,
          0
         ],
         "xaxis": "x2",
         "yaxis": "y2"
        }
       ],
       "layout": {
        "barmode": "relative",
        "legend": {
         "title": {
          "text": "condition"
         },
         "tracegroupgap": 0
        },
        "margin": {
         "t": 60
        },
        "template": {
         "data": {
          "bar": [
           {
            "error_x": {
             "color": "#2a3f5f"
            },
            "error_y": {
             "color": "#2a3f5f"
            },
            "marker": {
             "line": {
              "color": "#E5ECF6",
              "width": 0.5
             }
            },
            "type": "bar"
           }
          ],
          "barpolar": [
           {
            "marker": {
             "line": {
              "color": "#E5ECF6",
              "width": 0.5
             }
            },
            "type": "barpolar"
           }
          ],
          "carpet": [
           {
            "aaxis": {
             "endlinecolor": "#2a3f5f",
             "gridcolor": "white",
             "linecolor": "white",
             "minorgridcolor": "white",
             "startlinecolor": "#2a3f5f"
            },
            "baxis": {
             "endlinecolor": "#2a3f5f",
             "gridcolor": "white",
             "linecolor": "white",
             "minorgridcolor": "white",
             "startlinecolor": "#2a3f5f"
            },
            "type": "carpet"
           }
          ],
          "choropleth": [
           {
            "colorbar": {
             "outlinewidth": 0,
             "ticks": ""
            },
            "type": "choropleth"
           }
          ],
          "contour": [
           {
            "colorbar": {
             "outlinewidth": 0,
             "ticks": ""
            },
            "colorscale": [
             [
              0,
              "#0d0887"
             ],
             [
              0.1111111111111111,
              "#46039f"
             ],
             [
              0.2222222222222222,
              "#7201a8"
             ],
             [
              0.3333333333333333,
              "#9c179e"
             ],
             [
              0.4444444444444444,
              "#bd3786"
             ],
             [
              0.5555555555555556,
              "#d8576b"
             ],
             [
              0.6666666666666666,
              "#ed7953"
             ],
             [
              0.7777777777777778,
              "#fb9f3a"
             ],
             [
              0.8888888888888888,
              "#fdca26"
             ],
             [
              1,
              "#f0f921"
             ]
            ],
            "type": "contour"
           }
          ],
          "contourcarpet": [
           {
            "colorbar": {
             "outlinewidth": 0,
             "ticks": ""
            },
            "type": "contourcarpet"
           }
          ],
          "heatmap": [
           {
            "colorbar": {
             "outlinewidth": 0,
             "ticks": ""
            },
            "colorscale": [
             [
              0,
              "#0d0887"
             ],
             [
              0.1111111111111111,
              "#46039f"
             ],
             [
              0.2222222222222222,
              "#7201a8"
             ],
             [
              0.3333333333333333,
              "#9c179e"
             ],
             [
              0.4444444444444444,
              "#bd3786"
             ],
             [
              0.5555555555555556,
              "#d8576b"
             ],
             [
              0.6666666666666666,
              "#ed7953"
             ],
             [
              0.7777777777777778,
              "#fb9f3a"
             ],
             [
              0.8888888888888888,
              "#fdca26"
             ],
             [
              1,
              "#f0f921"
             ]
            ],
            "type": "heatmap"
           }
          ],
          "heatmapgl": [
           {
            "colorbar": {
             "outlinewidth": 0,
             "ticks": ""
            },
            "colorscale": [
             [
              0,
              "#0d0887"
             ],
             [
              0.1111111111111111,
              "#46039f"
             ],
             [
              0.2222222222222222,
              "#7201a8"
             ],
             [
              0.3333333333333333,
              "#9c179e"
             ],
             [
              0.4444444444444444,
              "#bd3786"
             ],
             [
              0.5555555555555556,
              "#d8576b"
             ],
             [
              0.6666666666666666,
              "#ed7953"
             ],
             [
              0.7777777777777778,
              "#fb9f3a"
             ],
             [
              0.8888888888888888,
              "#fdca26"
             ],
             [
              1,
              "#f0f921"
             ]
            ],
            "type": "heatmapgl"
           }
          ],
          "histogram": [
           {
            "marker": {
             "colorbar": {
              "outlinewidth": 0,
              "ticks": ""
             }
            },
            "type": "histogram"
           }
          ],
          "histogram2d": [
           {
            "colorbar": {
             "outlinewidth": 0,
             "ticks": ""
            },
            "colorscale": [
             [
              0,
              "#0d0887"
             ],
             [
              0.1111111111111111,
              "#46039f"
             ],
             [
              0.2222222222222222,
              "#7201a8"
             ],
             [
              0.3333333333333333,
              "#9c179e"
             ],
             [
              0.4444444444444444,
              "#bd3786"
             ],
             [
              0.5555555555555556,
              "#d8576b"
             ],
             [
              0.6666666666666666,
              "#ed7953"
             ],
             [
              0.7777777777777778,
              "#fb9f3a"
             ],
             [
              0.8888888888888888,
              "#fdca26"
             ],
             [
              1,
              "#f0f921"
             ]
            ],
            "type": "histogram2d"
           }
          ],
          "histogram2dcontour": [
           {
            "colorbar": {
             "outlinewidth": 0,
             "ticks": ""
            },
            "colorscale": [
             [
              0,
              "#0d0887"
             ],
             [
              0.1111111111111111,
              "#46039f"
             ],
             [
              0.2222222222222222,
              "#7201a8"
             ],
             [
              0.3333333333333333,
              "#9c179e"
             ],
             [
              0.4444444444444444,
              "#bd3786"
             ],
             [
              0.5555555555555556,
              "#d8576b"
             ],
             [
              0.6666666666666666,
              "#ed7953"
             ],
             [
              0.7777777777777778,
              "#fb9f3a"
             ],
             [
              0.8888888888888888,
              "#fdca26"
             ],
             [
              1,
              "#f0f921"
             ]
            ],
            "type": "histogram2dcontour"
           }
          ],
          "mesh3d": [
           {
            "colorbar": {
             "outlinewidth": 0,
             "ticks": ""
            },
            "type": "mesh3d"
           }
          ],
          "parcoords": [
           {
            "line": {
             "colorbar": {
              "outlinewidth": 0,
              "ticks": ""
             }
            },
            "type": "parcoords"
           }
          ],
          "pie": [
           {
            "automargin": true,
            "type": "pie"
           }
          ],
          "scatter": [
           {
            "marker": {
             "colorbar": {
              "outlinewidth": 0,
              "ticks": ""
             }
            },
            "type": "scatter"
           }
          ],
          "scatter3d": [
           {
            "line": {
             "colorbar": {
              "outlinewidth": 0,
              "ticks": ""
             }
            },
            "marker": {
             "colorbar": {
              "outlinewidth": 0,
              "ticks": ""
             }
            },
            "type": "scatter3d"
           }
          ],
          "scattercarpet": [
           {
            "marker": {
             "colorbar": {
              "outlinewidth": 0,
              "ticks": ""
             }
            },
            "type": "scattercarpet"
           }
          ],
          "scattergeo": [
           {
            "marker": {
             "colorbar": {
              "outlinewidth": 0,
              "ticks": ""
             }
            },
            "type": "scattergeo"
           }
          ],
          "scattergl": [
           {
            "marker": {
             "colorbar": {
              "outlinewidth": 0,
              "ticks": ""
             }
            },
            "type": "scattergl"
           }
          ],
          "scattermapbox": [
           {
            "marker": {
             "colorbar": {
              "outlinewidth": 0,
              "ticks": ""
             }
            },
            "type": "scattermapbox"
           }
          ],
          "scatterpolar": [
           {
            "marker": {
             "colorbar": {
              "outlinewidth": 0,
              "ticks": ""
             }
            },
            "type": "scatterpolar"
           }
          ],
          "scatterpolargl": [
           {
            "marker": {
             "colorbar": {
              "outlinewidth": 0,
              "ticks": ""
             }
            },
            "type": "scatterpolargl"
           }
          ],
          "scatterternary": [
           {
            "marker": {
             "colorbar": {
              "outlinewidth": 0,
              "ticks": ""
             }
            },
            "type": "scatterternary"
           }
          ],
          "surface": [
           {
            "colorbar": {
             "outlinewidth": 0,
             "ticks": ""
            },
            "colorscale": [
             [
              0,
              "#0d0887"
             ],
             [
              0.1111111111111111,
              "#46039f"
             ],
             [
              0.2222222222222222,
              "#7201a8"
             ],
             [
              0.3333333333333333,
              "#9c179e"
             ],
             [
              0.4444444444444444,
              "#bd3786"
             ],
             [
              0.5555555555555556,
              "#d8576b"
             ],
             [
              0.6666666666666666,
              "#ed7953"
             ],
             [
              0.7777777777777778,
              "#fb9f3a"
             ],
             [
              0.8888888888888888,
              "#fdca26"
             ],
             [
              1,
              "#f0f921"
             ]
            ],
            "type": "surface"
           }
          ],
          "table": [
           {
            "cells": {
             "fill": {
              "color": "#EBF0F8"
             },
             "line": {
              "color": "white"
             }
            },
            "header": {
             "fill": {
              "color": "#C8D4E3"
             },
             "line": {
              "color": "white"
             }
            },
            "type": "table"
           }
          ]
         },
         "layout": {
          "annotationdefaults": {
           "arrowcolor": "#2a3f5f",
           "arrowhead": 0,
           "arrowwidth": 1
          },
          "coloraxis": {
           "colorbar": {
            "outlinewidth": 0,
            "ticks": ""
           }
          },
          "colorscale": {
           "diverging": [
            [
             0,
             "#8e0152"
            ],
            [
             0.1,
             "#c51b7d"
            ],
            [
             0.2,
             "#de77ae"
            ],
            [
             0.3,
             "#f1b6da"
            ],
            [
             0.4,
             "#fde0ef"
            ],
            [
             0.5,
             "#f7f7f7"
            ],
            [
             0.6,
             "#e6f5d0"
            ],
            [
             0.7,
             "#b8e186"
            ],
            [
             0.8,
             "#7fbc41"
            ],
            [
             0.9,
             "#4d9221"
            ],
            [
             1,
             "#276419"
            ]
           ],
           "sequential": [
            [
             0,
             "#0d0887"
            ],
            [
             0.1111111111111111,
             "#46039f"
            ],
            [
             0.2222222222222222,
             "#7201a8"
            ],
            [
             0.3333333333333333,
             "#9c179e"
            ],
            [
             0.4444444444444444,
             "#bd3786"
            ],
            [
             0.5555555555555556,
             "#d8576b"
            ],
            [
             0.6666666666666666,
             "#ed7953"
            ],
            [
             0.7777777777777778,
             "#fb9f3a"
            ],
            [
             0.8888888888888888,
             "#fdca26"
            ],
            [
             1,
             "#f0f921"
            ]
           ],
           "sequentialminus": [
            [
             0,
             "#0d0887"
            ],
            [
             0.1111111111111111,
             "#46039f"
            ],
            [
             0.2222222222222222,
             "#7201a8"
            ],
            [
             0.3333333333333333,
             "#9c179e"
            ],
            [
             0.4444444444444444,
             "#bd3786"
            ],
            [
             0.5555555555555556,
             "#d8576b"
            ],
            [
             0.6666666666666666,
             "#ed7953"
            ],
            [
             0.7777777777777778,
             "#fb9f3a"
            ],
            [
             0.8888888888888888,
             "#fdca26"
            ],
            [
             1,
             "#f0f921"
            ]
           ]
          },
          "colorway": [
           "#636efa",
           "#EF553B",
           "#00cc96",
           "#ab63fa",
           "#FFA15A",
           "#19d3f3",
           "#FF6692",
           "#B6E880",
           "#FF97FF",
           "#FECB52"
          ],
          "font": {
           "color": "#2a3f5f"
          },
          "geo": {
           "bgcolor": "white",
           "lakecolor": "white",
           "landcolor": "#E5ECF6",
           "showlakes": true,
           "showland": true,
           "subunitcolor": "white"
          },
          "hoverlabel": {
           "align": "left"
          },
          "hovermode": "closest",
          "mapbox": {
           "style": "light"
          },
          "paper_bgcolor": "white",
          "plot_bgcolor": "#E5ECF6",
          "polar": {
           "angularaxis": {
            "gridcolor": "white",
            "linecolor": "white",
            "ticks": ""
           },
           "bgcolor": "#E5ECF6",
           "radialaxis": {
            "gridcolor": "white",
            "linecolor": "white",
            "ticks": ""
           }
          },
          "scene": {
           "xaxis": {
            "backgroundcolor": "#E5ECF6",
            "gridcolor": "white",
            "gridwidth": 2,
            "linecolor": "white",
            "showbackground": true,
            "ticks": "",
            "zerolinecolor": "white"
           },
           "yaxis": {
            "backgroundcolor": "#E5ECF6",
            "gridcolor": "white",
            "gridwidth": 2,
            "linecolor": "white",
            "showbackground": true,
            "ticks": "",
            "zerolinecolor": "white"
           },
           "zaxis": {
            "backgroundcolor": "#E5ECF6",
            "gridcolor": "white",
            "gridwidth": 2,
            "linecolor": "white",
            "showbackground": true,
            "ticks": "",
            "zerolinecolor": "white"
           }
          },
          "shapedefaults": {
           "line": {
            "color": "#2a3f5f"
           }
          },
          "ternary": {
           "aaxis": {
            "gridcolor": "white",
            "linecolor": "white",
            "ticks": ""
           },
           "baxis": {
            "gridcolor": "white",
            "linecolor": "white",
            "ticks": ""
           },
           "bgcolor": "#E5ECF6",
           "caxis": {
            "gridcolor": "white",
            "linecolor": "white",
            "ticks": ""
           }
          },
          "title": {
           "x": 0.05
          },
          "xaxis": {
           "automargin": true,
           "gridcolor": "white",
           "linecolor": "white",
           "ticks": "",
           "title": {
            "standoff": 15
           },
           "zerolinecolor": "white",
           "zerolinewidth": 2
          },
          "yaxis": {
           "automargin": true,
           "gridcolor": "white",
           "linecolor": "white",
           "ticks": "",
           "title": {
            "standoff": 15
           },
           "zerolinecolor": "white",
           "zerolinewidth": 2
          }
         }
        },
        "title": {
         "text": "Histogram of \"oldpeak\" by condition"
        },
        "xaxis": {
         "anchor": "y",
         "domain": [
          0,
          1
         ],
         "title": {
          "text": "oldpeak"
         }
        },
        "xaxis2": {
         "anchor": "y2",
         "domain": [
          0,
          1
         ],
         "matches": "x",
         "showgrid": true,
         "showticklabels": false
        },
        "yaxis": {
         "anchor": "x",
         "domain": [
          0,
          0.7326
         ],
         "title": {
          "text": "count"
         }
        },
        "yaxis2": {
         "anchor": "x2",
         "domain": [
          0.7426,
          1
         ],
         "matches": "y2",
         "showgrid": false,
         "showline": false,
         "showticklabels": false,
         "ticks": ""
        }
       }
      },
      "text/html": [
       "<div>                            <div id=\"114a0716-ceee-4e9d-ad02-15f36f07b589\" class=\"plotly-graph-div\" style=\"height:525px; width:100%;\"></div>            <script type=\"text/javascript\">                require([\"plotly\"], function(Plotly) {                    window.PLOTLYENV=window.PLOTLYENV || {};                                    if (document.getElementById(\"114a0716-ceee-4e9d-ad02-15f36f07b589\")) {                    Plotly.newPlot(                        \"114a0716-ceee-4e9d-ad02-15f36f07b589\",                        [{\"alignmentgroup\": \"True\", \"bingroup\": \"x\", \"hovertemplate\": \"condition=0<br>oldpeak=%{x}<br>count=%{y}<extra></extra>\", \"legendgroup\": \"0\", \"marker\": {\"color\": \"#636efa\"}, \"name\": \"0\", \"offsetgroup\": \"0\", \"orientation\": \"v\", \"showlegend\": true, \"type\": \"histogram\", \"x\": [0.1, 1.8, 2.6, 1.8, 0.6, 2.3, 0.9, 4.2, 1.0, 1.9, 0.0, 1.2, 1.4, 0.8, 1.4, 0.0, 0.2, 0.4, 0.0, 0.0, 0.0, 0.0, 0.0, 1.3, 0.8, 0.0, 1.4, 0.0, 1.2, 0.0, 0.0, 0.2, 0.8, 0.0, 1.1, 0.0, 0.6, 0.2, 0.0, 0.0, 0.6, 0.0, 0.0, 0.0, 0.0, 0.0, 0.0, 0.0, 1.4, 0.0, 0.0, 0.0, 0.0, 0.0, 0.7, 0.0, 1.1, 0.0, 1.5, 1.0, 1.6, 0.0, 0.0, 0.8, 0.8, 0.8, 0.2, 0.0, 1.8, 1.0, 0.0, 0.0, 1.6, 0.6, 0.0, 0.0, 1.6, 0.2, 0.5, 0.4, 1.6, 0.0, 1.6, 0.0, 0.0, 1.2, 0.0, 0.1, 0.5, 1.2, 2.4, 0.6, 1.5, 0.5, 0.0, 0.6, 1.6, 0.0, 0.2, 0.0, 0.0, 0.0, 1.4, 0.6, 0.3, 0.4, 0.0, 0.0, 0.2, 1.9, 0.8, 0.0, 0.0, 2.0, 0.0, 0.0, 0.0, 0.0, 0.0, 3.5, 0.0, 1.6, 0.3, 0.4, 2.3, 0.4, 2.0, 0.2, 0.0, 1.2, 0.0, 0.5, 0.0, 1.0, 0.6, 0.4, 1.5, 0.6, 0.0, 0.0, 1.2, 0.4, 0.0, 0.0, 0.1, 0.0, 0.0, 0.0, 0.0, 0.1, 0.0, 3.0, 0.2, 0.0, 1.2, 1.5, 0.0, 0.6, 0.0, 1.4], \"xaxis\": \"x\", \"yaxis\": \"y\"}, {\"alignmentgroup\": \"True\", \"customdata\": [[69.0, 1.0, 0.0, 160.0, 234.0, 1.0, 2.0, 131.0, 0.0, 0.1, 1.0, 1.0, 0.0, 0.0], [69.0, 0.0, 0.0, 140.0, 239.0, 0.0, 0.0, 151.0, 0.0, 1.8, 0.0, 2.0, 0.0, 0.0], [66.0, 0.0, 0.0, 150.0, 226.0, 0.0, 0.0, 114.0, 0.0, 2.6, 2.0, 0.0, 0.0, 0.0], [64.0, 1.0, 0.0, 110.0, 211.0, 0.0, 2.0, 144.0, 1.0, 1.8, 1.0, 0.0, 0.0, 0.0], [64.0, 1.0, 0.0, 170.0, 227.0, 0.0, 2.0, 155.0, 0.0, 0.6, 1.0, 0.0, 2.0, 0.0], [63.0, 1.0, 0.0, 145.0, 233.0, 1.0, 2.0, 150.0, 0.0, 2.3, 2.0, 0.0, 1.0, 0.0], [60.0, 0.0, 0.0, 150.0, 240.0, 0.0, 0.0, 171.0, 0.0, 0.9, 0.0, 0.0, 0.0, 0.0], [59.0, 1.0, 0.0, 178.0, 270.0, 0.0, 2.0, 145.0, 0.0, 4.2, 2.0, 0.0, 2.0, 0.0], [58.0, 0.0, 0.0, 150.0, 283.0, 1.0, 2.0, 162.0, 0.0, 1.0, 0.0, 0.0, 0.0, 0.0], [56.0, 1.0, 0.0, 120.0, 193.0, 0.0, 2.0, 162.0, 0.0, 1.9, 1.0, 0.0, 2.0, 0.0], [52.0, 1.0, 0.0, 118.0, 186.0, 0.0, 2.0, 190.0, 0.0, 0.0, 1.0, 0.0, 1.0, 0.0], [52.0, 1.0, 0.0, 152.0, 298.0, 1.0, 0.0, 178.0, 0.0, 1.2, 1.0, 0.0, 2.0, 0.0], [51.0, 1.0, 0.0, 125.0, 213.0, 0.0, 2.0, 125.0, 1.0, 1.4, 0.0, 1.0, 0.0, 0.0], [42.0, 1.0, 0.0, 148.0, 244.0, 0.0, 2.0, 178.0, 0.0, 0.8, 0.0, 2.0, 0.0, 0.0], [40.0, 1.0, 0.0, 140.0, 199.0, 0.0, 0.0, 178.0, 1.0, 1.4, 0.0, 0.0, 2.0, 0.0], [34.0, 1.0, 0.0, 118.0, 182.0, 0.0, 2.0, 174.0, 0.0, 0.0, 0.0, 0.0, 0.0, 0.0], [74.0, 0.0, 1.0, 120.0, 269.0, 0.0, 2.0, 121.0, 1.0, 0.2, 0.0, 1.0, 0.0, 0.0], [71.0, 0.0, 1.0, 160.0, 302.0, 0.0, 0.0, 162.0, 0.0, 0.4, 0.0, 2.0, 0.0, 0.0], [70.0, 1.0, 1.0, 156.0, 245.0, 0.0, 2.0, 143.0, 0.0, 0.0, 0.0, 0.0, 0.0, 0.0], [63.0, 0.0, 1.0, 140.0, 195.0, 0.0, 0.0, 179.0, 0.0, 0.0, 0.0, 2.0, 0.0, 0.0], [62.0, 1.0, 1.0, 128.0, 208.0, 1.0, 2.0, 140.0, 0.0, 0.0, 0.0, 0.0, 0.0, 0.0], [59.0, 1.0, 1.0, 140.0, 221.0, 0.0, 0.0, 164.0, 1.0, 0.0, 0.0, 0.0, 0.0, 0.0], [56.0, 1.0, 1.0, 120.0, 240.0, 0.0, 0.0, 169.0, 0.0, 0.0, 2.0, 0.0, 0.0, 0.0], [56.0, 0.0, 1.0, 140.0, 294.0, 0.0, 2.0, 153.0, 0.0, 1.3, 1.0, 0.0, 0.0, 0.0], [56.0, 1.0, 1.0, 120.0, 236.0, 0.0, 0.0, 178.0, 0.0, 0.8, 0.0, 0.0, 0.0, 0.0], [56.0, 1.0, 1.0, 130.0, 221.0, 0.0, 2.0, 163.0, 0.0, 0.0, 0.0, 0.0, 2.0, 0.0], [55.0, 0.0, 1.0, 135.0, 250.0, 0.0, 2.0, 161.0, 0.0, 1.4, 1.0, 0.0, 0.0, 0.0], [55.0, 1.0, 1.0, 130.0, 262.0, 0.0, 0.0, 155.0, 0.0, 0.0, 0.0, 0.0, 0.0, 0.0], [55.0, 0.0, 1.0, 132.0, 342.0, 0.0, 0.0, 166.0, 0.0, 1.2, 0.0, 0.0, 0.0, 0.0], [54.0, 1.0, 1.0, 108.0, 309.0, 0.0, 0.0, 156.0, 0.0, 0.0, 0.0, 0.0, 2.0, 0.0], [54.0, 0.0, 1.0, 132.0, 288.0, 1.0, 2.0, 159.0, 1.0, 0.0, 0.0, 1.0, 0.0, 0.0], [52.0, 1.0, 1.0, 120.0, 325.0, 0.0, 0.0, 172.0, 0.0, 0.2, 0.0, 0.0, 0.0, 0.0], [52.0, 1.0, 1.0, 134.0, 201.0, 0.0, 0.0, 158.0, 0.0, 0.8, 0.0, 1.0, 0.0, 0.0], [52.0, 1.0, 1.0, 128.0, 205.0, 1.0, 0.0, 184.0, 0.0, 0.0, 0.0, 0.0, 0.0, 0.0], [50.0, 0.0, 1.0, 120.0, 244.0, 0.0, 0.0, 162.0, 0.0, 1.1, 0.0, 0.0, 0.0, 0.0], [49.0, 0.0, 1.0, 134.0, 271.0, 0.0, 0.0, 162.0, 0.0, 0.0, 1.0, 0.0, 0.0, 0.0], [49.0, 1.0, 1.0, 130.0, 266.0, 0.0, 0.0, 171.0, 0.0, 0.6, 0.0, 0.0, 0.0, 0.0], [48.0, 1.0, 1.0, 130.0, 245.0, 0.0, 2.0, 180.0, 0.0, 0.2, 1.0, 0.0, 0.0, 0.0], [46.0, 1.0, 1.0, 101.0, 197.0, 1.0, 0.0, 156.0, 0.0, 0.0, 0.0, 0.0, 2.0, 0.0], [46.0, 0.0, 1.0, 105.0, 204.0, 0.0, 0.0, 172.0, 0.0, 0.0, 0.0, 0.0, 0.0, 0.0], [45.0, 0.0, 1.0, 130.0, 234.0, 0.0, 2.0, 175.0, 0.0, 0.6, 1.0, 0.0, 0.0, 0.0], [45.0, 0.0, 1.0, 112.0, 160.0, 0.0, 0.0, 138.0, 0.0, 0.0, 1.0, 0.0, 0.0, 0.0], [45.0, 1.0, 1.0, 128.0, 308.0, 0.0, 2.0, 170.0, 0.0, 0.0, 0.0, 0.0, 0.0, 0.0], [44.0, 1.0, 1.0, 120.0, 263.0, 0.0, 0.0, 173.0, 0.0, 0.0, 0.0, 0.0, 2.0, 0.0], [44.0, 1.0, 1.0, 130.0, 219.0, 0.0, 2.0, 188.0, 0.0, 0.0, 0.0, 0.0, 0.0, 0.0], [44.0, 1.0, 1.0, 120.0, 220.0, 0.0, 0.0, 170.0, 0.0, 0.0, 0.0, 0.0, 0.0, 0.0], [42.0, 1.0, 1.0, 120.0, 295.0, 0.0, 0.0, 162.0, 0.0, 0.0, 0.0, 0.0, 0.0, 0.0], [41.0, 1.0, 1.0, 135.0, 203.0, 0.0, 0.0, 132.0, 0.0, 0.0, 1.0, 0.0, 1.0, 0.0], [41.0, 0.0, 1.0, 130.0, 204.0, 0.0, 2.0, 172.0, 0.0, 1.4, 0.0, 0.0, 0.0, 0.0], [41.0, 0.0, 1.0, 105.0, 198.0, 0.0, 0.0, 168.0, 0.0, 0.0, 0.0, 1.0, 0.0, 0.0], [41.0, 1.0, 1.0, 110.0, 235.0, 0.0, 0.0, 153.0, 0.0, 0.0, 0.0, 0.0, 0.0, 0.0], [41.0, 0.0, 1.0, 126.0, 306.0, 0.0, 0.0, 163.0, 0.0, 0.0, 0.0, 0.0, 0.0, 0.0], [41.0, 1.0, 1.0, 120.0, 157.0, 0.0, 0.0, 182.0, 0.0, 0.0, 0.0, 0.0, 0.0, 0.0], [35.0, 1.0, 1.0, 122.0, 192.0, 0.0, 0.0, 174.0, 0.0, 0.0, 0.0, 0.0, 0.0, 0.0], [34.0, 0.0, 1.0, 118.0, 210.0, 0.0, 0.0, 192.0, 0.0, 0.7, 0.0, 0.0, 0.0, 0.0], [29.0, 1.0, 1.0, 130.0, 204.0, 0.0, 2.0, 202.0, 0.0, 0.0, 0.0, 0.0, 0.0, 0.0], [76.0, 0.0, 2.0, 140.0, 197.0, 0.0, 1.0, 116.0, 0.0, 1.1, 1.0, 0.0, 0.0, 0.0], [71.0, 0.0, 2.0, 110.0, 265.0, 1.0, 2.0, 130.0, 0.0, 0.0, 0.0, 1.0, 0.0, 0.0], [68.0, 0.0, 2.0, 120.0, 211.0, 0.0, 2.0, 115.0, 0.0, 1.5, 1.0, 0.0, 0.0, 0.0], [68.0, 1.0, 2.0, 118.0, 277.0, 0.0, 0.0, 151.0, 0.0, 1.0, 0.0, 1.0, 2.0, 0.0], [67.0, 0.0, 2.0, 115.0, 564.0, 0.0, 2.0, 160.0, 0.0, 1.6, 1.0, 0.0, 2.0, 0.0], [67.0, 0.0, 2.0, 152.0, 277.0, 0.0, 0.0, 172.0, 0.0, 0.0, 0.0, 1.0, 0.0, 0.0], [66.0, 0.0, 2.0, 146.0, 278.0, 0.0, 2.0, 152.0, 0.0, 0.0, 1.0, 1.0, 0.0, 0.0], [65.0, 0.0, 2.0, 140.0, 417.0, 1.0, 2.0, 157.0, 0.0, 0.8, 0.0, 1.0, 0.0, 0.0], [65.0, 0.0, 2.0, 155.0, 269.0, 0.0, 0.0, 148.0, 0.0, 0.8, 0.0, 0.0, 0.0, 0.0], [65.0, 0.0, 2.0, 160.0, 360.0, 0.0, 2.0, 151.0, 0.0, 0.8, 0.0, 0.0, 0.0, 0.0], [64.0, 0.0, 2.0, 140.0, 313.0, 0.0, 0.0, 133.0, 0.0, 0.2, 0.0, 0.0, 2.0, 0.0], [63.0, 0.0, 2.0, 135.0, 252.0, 0.0, 2.0, 172.0, 0.0, 0.0, 0.0, 0.0, 0.0, 0.0], [62.0, 1.0, 2.0, 130.0, 231.0, 0.0, 0.0, 146.0, 0.0, 1.8, 1.0, 3.0, 2.0, 0.0], [61.0, 1.0, 2.0, 150.0, 243.0, 1.0, 0.0, 137.0, 1.0, 1.0, 1.0, 0.0, 0.0, 0.0], [60.0, 0.0, 2.0, 102.0, 318.0, 0.0, 0.0, 160.0, 0.0, 0.0, 0.0, 1.0, 0.0, 0.0], [60.0, 0.0, 2.0, 120.0, 178.0, 1.0, 0.0, 96.0, 0.0, 0.0, 0.0, 0.0, 0.0, 0.0], [59.0, 1.0, 2.0, 150.0, 212.0, 1.0, 0.0, 157.0, 0.0, 1.6, 0.0, 0.0, 0.0, 0.0], [58.0, 1.0, 2.0, 105.0, 240.0, 0.0, 2.0, 154.0, 1.0, 0.6, 1.0, 0.0, 2.0, 0.0], [58.0, 0.0, 2.0, 120.0, 340.0, 0.0, 0.0, 172.0, 0.0, 0.0, 0.0, 0.0, 0.0, 0.0], [58.0, 1.0, 2.0, 140.0, 211.0, 1.0, 2.0, 165.0, 0.0, 0.0, 0.0, 0.0, 0.0, 0.0], [57.0, 1.0, 2.0, 150.0, 168.0, 0.0, 0.0, 174.0, 0.0, 1.6, 0.0, 0.0, 0.0, 0.0], [57.0, 1.0, 2.0, 150.0, 126.0, 1.0, 0.0, 173.0, 0.0, 0.2, 0.0, 1.0, 2.0, 0.0], [54.0, 1.0, 2.0, 125.0, 273.0, 0.0, 2.0, 152.0, 0.0, 0.5, 2.0, 1.0, 0.0, 0.0], [54.0, 1.0, 2.0, 120.0, 258.0, 0.0, 2.0, 147.0, 0.0, 0.4, 1.0, 0.0, 2.0, 0.0], [54.0, 0.0, 2.0, 110.0, 214.0, 0.0, 0.0, 158.0, 0.0, 1.6, 1.0, 0.0, 0.0, 0.0], [54.0, 0.0, 2.0, 135.0, 304.0, 1.0, 0.0, 170.0, 0.0, 0.0, 0.0, 0.0, 0.0, 0.0], [54.0, 1.0, 2.0, 150.0, 232.0, 0.0, 2.0, 165.0, 0.0, 1.6, 0.0, 0.0, 2.0, 0.0], [54.0, 0.0, 2.0, 108.0, 267.0, 0.0, 2.0, 167.0, 0.0, 0.0, 0.0, 0.0, 0.0, 0.0], [54.0, 0.0, 2.0, 160.0, 201.0, 0.0, 0.0, 163.0, 0.0, 0.0, 0.0, 1.0, 0.0, 0.0], [53.0, 1.0, 2.0, 130.0, 197.0, 1.0, 2.0, 152.0, 0.0, 1.2, 2.0, 0.0, 0.0, 0.0], [53.0, 1.0, 2.0, 130.0, 246.0, 1.0, 2.0, 173.0, 0.0, 0.0, 0.0, 3.0, 0.0, 0.0], [52.0, 0.0, 2.0, 136.0, 196.0, 0.0, 2.0, 169.0, 0.0, 0.1, 1.0, 0.0, 0.0, 0.0], [52.0, 1.0, 2.0, 172.0, 199.0, 1.0, 0.0, 162.0, 0.0, 0.5, 0.0, 0.0, 2.0, 0.0], [51.0, 1.0, 2.0, 100.0, 222.0, 0.0, 0.0, 143.0, 1.0, 1.2, 1.0, 0.0, 0.0, 0.0], [51.0, 1.0, 2.0, 125.0, 245.0, 1.0, 2.0, 166.0, 0.0, 2.4, 1.0, 0.0, 0.0, 0.0], [51.0, 1.0, 2.0, 110.0, 175.0, 0.0, 0.0, 123.0, 0.0, 0.6, 0.0, 0.0, 0.0, 0.0], [51.0, 0.0, 2.0, 140.0, 308.0, 0.0, 2.0, 142.0, 0.0, 1.5, 0.0, 1.0, 0.0, 0.0], [51.0, 0.0, 2.0, 130.0, 256.0, 0.0, 2.0, 149.0, 0.0, 0.5, 0.0, 0.0, 0.0, 0.0], [51.0, 1.0, 2.0, 94.0, 227.0, 0.0, 0.0, 154.0, 1.0, 0.0, 0.0, 1.0, 2.0, 0.0], [51.0, 0.0, 2.0, 120.0, 295.0, 0.0, 2.0, 157.0, 0.0, 0.6, 0.0, 0.0, 0.0, 0.0], [50.0, 0.0, 2.0, 120.0, 219.0, 0.0, 0.0, 158.0, 0.0, 1.6, 1.0, 0.0, 0.0, 0.0], [50.0, 1.0, 2.0, 129.0, 196.0, 0.0, 0.0, 163.0, 0.0, 0.0, 0.0, 0.0, 0.0, 0.0], [48.0, 0.0, 2.0, 130.0, 275.0, 0.0, 0.0, 139.0, 0.0, 0.2, 0.0, 0.0, 0.0, 0.0], [48.0, 1.0, 2.0, 124.0, 255.0, 1.0, 0.0, 175.0, 0.0, 0.0, 0.0, 2.0, 0.0, 0.0], [47.0, 1.0, 2.0, 138.0, 257.0, 0.0, 2.0, 156.0, 0.0, 0.0, 0.0, 0.0, 0.0, 0.0], [47.0, 1.0, 2.0, 130.0, 253.0, 0.0, 0.0, 179.0, 0.0, 0.0, 0.0, 0.0, 0.0, 0.0], [46.0, 0.0, 2.0, 142.0, 177.0, 0.0, 2.0, 160.0, 1.0, 1.4, 2.0, 0.0, 0.0, 0.0], [44.0, 0.0, 2.0, 108.0, 141.0, 0.0, 0.0, 175.0, 0.0, 0.6, 1.0, 0.0, 0.0, 0.0], [44.0, 0.0, 2.0, 118.0, 242.0, 0.0, 0.0, 149.0, 0.0, 0.3, 1.0, 1.0, 0.0, 0.0], [44.0, 1.0, 2.0, 130.0, 233.0, 0.0, 0.0, 179.0, 1.0, 0.4, 0.0, 0.0, 0.0, 0.0], [44.0, 1.0, 2.0, 140.0, 235.0, 0.0, 2.0, 180.0, 0.0, 0.0, 0.0, 0.0, 0.0, 0.0], [44.0, 1.0, 2.0, 120.0, 226.0, 0.0, 0.0, 169.0, 0.0, 0.0, 0.0, 0.0, 0.0, 0.0], [43.0, 0.0, 2.0, 122.0, 213.0, 0.0, 0.0, 165.0, 0.0, 0.2, 1.0, 0.0, 0.0, 0.0], [43.0, 1.0, 2.0, 130.0, 315.0, 0.0, 0.0, 162.0, 0.0, 1.9, 0.0, 1.0, 0.0, 0.0], [42.0, 1.0, 2.0, 120.0, 240.0, 1.0, 0.0, 194.0, 0.0, 0.8, 2.0, 0.0, 2.0, 0.0], [42.0, 0.0, 2.0, 120.0, 209.0, 0.0, 0.0, 173.0, 0.0, 0.0, 1.0, 0.0, 0.0, 0.0], [42.0, 1.0, 2.0, 130.0, 180.0, 0.0, 0.0, 150.0, 0.0, 0.0, 0.0, 0.0, 0.0, 0.0], [41.0, 1.0, 2.0, 130.0, 214.0, 0.0, 2.0, 168.0, 0.0, 2.0, 1.0, 0.0, 0.0, 0.0], [41.0, 1.0, 2.0, 112.0, 250.0, 0.0, 0.0, 179.0, 0.0, 0.0, 0.0, 0.0, 0.0, 0.0], [41.0, 0.0, 2.0, 112.0, 268.0, 0.0, 2.0, 172.0, 1.0, 0.0, 0.0, 0.0, 0.0, 0.0], [39.0, 0.0, 2.0, 138.0, 220.0, 0.0, 0.0, 152.0, 0.0, 0.0, 1.0, 0.0, 0.0, 0.0], [39.0, 1.0, 2.0, 140.0, 321.0, 0.0, 2.0, 182.0, 0.0, 0.0, 0.0, 0.0, 0.0, 0.0], [39.0, 0.0, 2.0, 94.0, 199.0, 0.0, 0.0, 179.0, 0.0, 0.0, 0.0, 0.0, 0.0, 0.0], [37.0, 1.0, 2.0, 130.0, 250.0, 0.0, 0.0, 187.0, 0.0, 3.5, 2.0, 0.0, 0.0, 0.0], [37.0, 0.0, 2.0, 120.0, 215.0, 0.0, 0.0, 170.0, 0.0, 0.0, 0.0, 0.0, 0.0, 0.0], [71.0, 0.0, 3.0, 112.0, 149.0, 0.0, 0.0, 125.0, 0.0, 1.6, 1.0, 0.0, 0.0, 0.0], [67.0, 0.0, 3.0, 106.0, 223.0, 0.0, 0.0, 142.0, 0.0, 0.3, 0.0, 2.0, 0.0, 0.0], [66.0, 1.0, 3.0, 120.0, 302.0, 0.0, 2.0, 151.0, 0.0, 0.4, 1.0, 0.0, 0.0, 0.0], [66.0, 1.0, 3.0, 160.0, 228.0, 0.0, 2.0, 138.0, 0.0, 2.3, 0.0, 0.0, 1.0, 0.0], [65.0, 1.0, 3.0, 120.0, 177.0, 0.0, 0.0, 140.0, 0.0, 0.4, 0.0, 0.0, 2.0, 0.0], [64.0, 0.0, 3.0, 130.0, 303.0, 0.0, 0.0, 122.0, 0.0, 2.0, 1.0, 2.0, 0.0, 0.0], [64.0, 1.0, 3.0, 128.0, 263.0, 0.0, 0.0, 105.0, 1.0, 0.2, 1.0, 1.0, 2.0, 0.0], [64.0, 0.0, 3.0, 180.0, 325.0, 0.0, 0.0, 154.0, 1.0, 0.0, 0.0, 0.0, 0.0, 0.0], [62.0, 0.0, 3.0, 140.0, 394.0, 0.0, 2.0, 157.0, 0.0, 1.2, 1.0, 0.0, 0.0, 0.0], [62.0, 0.0, 3.0, 124.0, 209.0, 0.0, 0.0, 163.0, 0.0, 0.0, 0.0, 0.0, 0.0, 0.0], [59.0, 1.0, 3.0, 135.0, 234.0, 0.0, 0.0, 161.0, 0.0, 0.5, 1.0, 0.0, 2.0, 0.0], [59.0, 1.0, 3.0, 138.0, 271.0, 0.0, 2.0, 182.0, 0.0, 0.0, 0.0, 0.0, 0.0, 0.0], [58.0, 0.0, 3.0, 100.0, 248.0, 0.0, 2.0, 122.0, 0.0, 1.0, 1.0, 0.0, 0.0, 0.0], [58.0, 0.0, 3.0, 130.0, 197.0, 0.0, 0.0, 131.0, 0.0, 0.6, 1.0, 0.0, 0.0, 0.0], [57.0, 1.0, 3.0, 140.0, 192.0, 0.0, 0.0, 148.0, 0.0, 0.4, 1.0, 0.0, 1.0, 0.0], [57.0, 1.0, 3.0, 110.0, 201.0, 0.0, 0.0, 126.0, 1.0, 1.5, 1.0, 0.0, 1.0, 0.0], [57.0, 0.0, 3.0, 120.0, 354.0, 0.0, 0.0, 163.0, 1.0, 0.6, 0.0, 0.0, 0.0, 0.0], [57.0, 0.0, 3.0, 128.0, 303.0, 0.0, 2.0, 159.0, 0.0, 0.0, 0.0, 1.0, 0.0, 0.0], [57.0, 1.0, 3.0, 132.0, 207.0, 0.0, 0.0, 168.0, 1.0, 0.0, 0.0, 0.0, 2.0, 0.0], [54.0, 1.0, 3.0, 140.0, 239.0, 0.0, 0.0, 160.0, 0.0, 1.2, 0.0, 0.0, 0.0, 0.0], [53.0, 0.0, 3.0, 130.0, 264.0, 0.0, 2.0, 143.0, 0.0, 0.4, 1.0, 0.0, 0.0, 0.0], [53.0, 0.0, 3.0, 138.0, 234.0, 0.0, 2.0, 160.0, 0.0, 0.0, 0.0, 0.0, 0.0, 0.0], [53.0, 1.0, 3.0, 142.0, 226.0, 0.0, 2.0, 111.0, 1.0, 0.0, 0.0, 0.0, 2.0, 0.0], [52.0, 1.0, 3.0, 108.0, 233.0, 1.0, 0.0, 147.0, 0.0, 0.1, 0.0, 3.0, 2.0, 0.0], [51.0, 1.0, 3.0, 140.0, 261.0, 0.0, 2.0, 186.0, 1.0, 0.0, 0.0, 0.0, 0.0, 0.0], [50.0, 0.0, 3.0, 110.0, 254.0, 0.0, 2.0, 159.0, 0.0, 0.0, 0.0, 0.0, 0.0, 0.0], [49.0, 0.0, 3.0, 130.0, 269.0, 0.0, 0.0, 163.0, 0.0, 0.0, 0.0, 0.0, 0.0, 0.0], [48.0, 1.0, 3.0, 122.0, 222.0, 0.0, 2.0, 186.0, 0.0, 0.0, 0.0, 0.0, 0.0, 0.0], [47.0, 1.0, 3.0, 112.0, 204.0, 0.0, 0.0, 143.0, 0.0, 0.1, 0.0, 0.0, 0.0, 0.0], [46.0, 0.0, 3.0, 138.0, 243.0, 0.0, 2.0, 152.0, 1.0, 0.0, 1.0, 0.0, 0.0, 0.0], [45.0, 1.0, 3.0, 104.0, 208.0, 0.0, 2.0, 148.0, 1.0, 3.0, 1.0, 0.0, 0.0, 0.0], [45.0, 0.0, 3.0, 138.0, 236.0, 0.0, 2.0, 152.0, 1.0, 0.2, 1.0, 0.0, 0.0, 0.0], [45.0, 1.0, 3.0, 115.0, 260.0, 0.0, 2.0, 185.0, 0.0, 0.0, 0.0, 0.0, 0.0, 0.0], [43.0, 1.0, 3.0, 115.0, 303.0, 0.0, 0.0, 181.0, 0.0, 1.2, 1.0, 0.0, 0.0, 0.0], [43.0, 1.0, 3.0, 150.0, 247.0, 0.0, 0.0, 171.0, 0.0, 1.5, 0.0, 0.0, 0.0, 0.0], [43.0, 1.0, 3.0, 110.0, 211.0, 0.0, 0.0, 161.0, 0.0, 0.0, 0.0, 0.0, 2.0, 0.0], [42.0, 0.0, 3.0, 102.0, 265.0, 0.0, 2.0, 122.0, 0.0, 0.6, 1.0, 0.0, 0.0, 0.0], [42.0, 1.0, 3.0, 140.0, 226.0, 0.0, 0.0, 178.0, 0.0, 0.0, 0.0, 0.0, 0.0, 0.0], [35.0, 0.0, 3.0, 138.0, 183.0, 0.0, 0.0, 182.0, 0.0, 1.4, 0.0, 0.0, 0.0, 0.0]], \"hovertemplate\": \"condition=%{customdata[13]}<br>oldpeak=%{customdata[9]}<br>age=%{customdata[0]}<br>sex=%{customdata[1]}<br>cp=%{customdata[2]}<br>trestbps=%{customdata[3]}<br>chol=%{customdata[4]}<br>fbs=%{customdata[5]}<br>restecg=%{customdata[6]}<br>thalach=%{customdata[7]}<br>exang=%{customdata[8]}<br>slope=%{customdata[10]}<br>ca=%{customdata[11]}<br>thal=%{customdata[12]}<extra></extra>\", \"legendgroup\": \"0\", \"marker\": {\"color\": \"#636efa\"}, \"name\": \"0\", \"offsetgroup\": \"0\", \"scalegroup\": \"x\", \"showlegend\": false, \"type\": \"violin\", \"x\": [0.1, 1.8, 2.6, 1.8, 0.6, 2.3, 0.9, 4.2, 1.0, 1.9, 0.0, 1.2, 1.4, 0.8, 1.4, 0.0, 0.2, 0.4, 0.0, 0.0, 0.0, 0.0, 0.0, 1.3, 0.8, 0.0, 1.4, 0.0, 1.2, 0.0, 0.0, 0.2, 0.8, 0.0, 1.1, 0.0, 0.6, 0.2, 0.0, 0.0, 0.6, 0.0, 0.0, 0.0, 0.0, 0.0, 0.0, 0.0, 1.4, 0.0, 0.0, 0.0, 0.0, 0.0, 0.7, 0.0, 1.1, 0.0, 1.5, 1.0, 1.6, 0.0, 0.0, 0.8, 0.8, 0.8, 0.2, 0.0, 1.8, 1.0, 0.0, 0.0, 1.6, 0.6, 0.0, 0.0, 1.6, 0.2, 0.5, 0.4, 1.6, 0.0, 1.6, 0.0, 0.0, 1.2, 0.0, 0.1, 0.5, 1.2, 2.4, 0.6, 1.5, 0.5, 0.0, 0.6, 1.6, 0.0, 0.2, 0.0, 0.0, 0.0, 1.4, 0.6, 0.3, 0.4, 0.0, 0.0, 0.2, 1.9, 0.8, 0.0, 0.0, 2.0, 0.0, 0.0, 0.0, 0.0, 0.0, 3.5, 0.0, 1.6, 0.3, 0.4, 2.3, 0.4, 2.0, 0.2, 0.0, 1.2, 0.0, 0.5, 0.0, 1.0, 0.6, 0.4, 1.5, 0.6, 0.0, 0.0, 1.2, 0.4, 0.0, 0.0, 0.1, 0.0, 0.0, 0.0, 0.0, 0.1, 0.0, 3.0, 0.2, 0.0, 1.2, 1.5, 0.0, 0.6, 0.0, 1.4], \"xaxis\": \"x2\", \"yaxis\": \"y2\"}, {\"alignmentgroup\": \"True\", \"bingroup\": \"x\", \"hovertemplate\": \"condition=1<br>oldpeak=%{x}<br>count=%{y}<extra></extra>\", \"legendgroup\": \"1\", \"marker\": {\"color\": \"#EF553B\"}, \"name\": \"1\", \"offsetgroup\": \"1\", \"orientation\": \"v\", \"showlegend\": true, \"type\": \"histogram\", \"x\": [1.4, 2.6, 0.2, 0.0, 0.8, 1.2, 3.8, 0.0, 1.4, 1.8, 0.0, 0.0, 0.3, 0.0, 0.0, 1.0, 2.9, 2.0, 1.6, 0.8, 1.8, 0.0, 1.2, 3.0, 2.2, 2.5, 3.2, 0.4, 0.6, 0.6, 2.0, 0.8, 0.0, 3.6, 0.0, 2.6, 2.4, 3.4, 1.5, 2.6, 0.2, 0.9, 1.0, 1.0, 0.1, 1.0, 2.8, 0.6, 2.2, 2.0, 1.4, 4.0, 1.8, 0.0, 1.8, 4.0, 3.6, 6.2, 1.8, 1.9, 1.4, 3.6, 1.0, 3.6, 0.0, 1.9, 0.0, 2.4, 2.8, 2.8, 2.6, 1.2, 1.4, 1.4, 0.0, 3.4, 1.2, 0.0, 1.0, 0.0, 4.4, 2.2, 3.0, 2.0, 2.8, 0.8, 0.0, 0.1, 0.6, 1.0, 1.2, 3.0, 0.2, 1.2, 4.0, 1.6, 1.2, 2.1, 1.9, 5.6, 1.2, 0.8, 3.4, 2.0, 2.2, 1.4, 2.8, 0.0, 3.2, 3.1, 2.0, 0.0, 0.0, 1.0, 1.2, 4.2, 1.6, 2.6, 0.9, 0.5, 0.0, 1.0, 1.8, 0.8, 0.0, 2.8, 0.0, 0.0, 2.5, 3.0, 1.8, 0.0, 2.0, 0.0, 1.2, 1.6, 0.0], \"xaxis\": \"x\", \"yaxis\": \"y\"}, {\"alignmentgroup\": \"True\", \"customdata\": [[65.0, 1.0, 0.0, 138.0, 282.0, 1.0, 2.0, 174.0, 0.0, 1.4, 1.0, 1.0, 0.0, 1.0], [61.0, 1.0, 0.0, 134.0, 234.0, 0.0, 0.0, 145.0, 0.0, 2.6, 1.0, 2.0, 0.0, 1.0], [59.0, 1.0, 0.0, 170.0, 288.0, 0.0, 2.0, 159.0, 0.0, 0.2, 1.0, 0.0, 2.0, 1.0], [59.0, 1.0, 0.0, 160.0, 273.0, 0.0, 2.0, 125.0, 0.0, 0.0, 0.0, 0.0, 0.0, 1.0], [59.0, 1.0, 0.0, 134.0, 204.0, 0.0, 0.0, 162.0, 0.0, 0.8, 0.0, 2.0, 0.0, 1.0], [45.0, 1.0, 0.0, 110.0, 264.0, 0.0, 0.0, 132.0, 0.0, 1.2, 1.0, 0.0, 2.0, 1.0], [38.0, 1.0, 0.0, 120.0, 231.0, 0.0, 0.0, 182.0, 1.0, 3.8, 1.0, 0.0, 2.0, 1.0], [66.0, 1.0, 1.0, 160.0, 246.0, 0.0, 0.0, 120.0, 1.0, 0.0, 1.0, 3.0, 1.0, 1.0], [62.0, 1.0, 1.0, 120.0, 281.0, 0.0, 2.0, 103.0, 0.0, 1.4, 1.0, 1.0, 2.0, 1.0], [58.0, 1.0, 1.0, 120.0, 284.0, 0.0, 2.0, 160.0, 0.0, 1.8, 1.0, 0.0, 0.0, 1.0], [58.0, 0.0, 1.0, 136.0, 319.0, 1.0, 2.0, 152.0, 0.0, 0.0, 0.0, 2.0, 0.0, 1.0], [57.0, 0.0, 1.0, 130.0, 236.0, 0.0, 2.0, 174.0, 0.0, 0.0, 1.0, 1.0, 0.0, 1.0], [57.0, 1.0, 1.0, 124.0, 261.0, 0.0, 0.0, 141.0, 0.0, 0.3, 0.0, 0.0, 2.0, 1.0], [57.0, 1.0, 1.0, 154.0, 232.0, 0.0, 2.0, 164.0, 0.0, 0.0, 0.0, 1.0, 0.0, 1.0], [54.0, 1.0, 1.0, 192.0, 283.0, 0.0, 2.0, 195.0, 0.0, 0.0, 0.0, 1.0, 2.0, 1.0], [48.0, 1.0, 1.0, 110.0, 229.0, 0.0, 0.0, 168.0, 0.0, 1.0, 2.0, 0.0, 2.0, 1.0], [70.0, 1.0, 2.0, 160.0, 269.0, 0.0, 0.0, 112.0, 1.0, 2.9, 1.0, 1.0, 2.0, 1.0], [69.0, 1.0, 2.0, 140.0, 254.0, 0.0, 2.0, 146.0, 0.0, 2.0, 1.0, 3.0, 2.0, 1.0], [68.0, 1.0, 2.0, 180.0, 274.0, 1.0, 2.0, 150.0, 1.0, 1.6, 1.0, 0.0, 2.0, 1.0], [67.0, 1.0, 2.0, 152.0, 212.0, 0.0, 2.0, 150.0, 0.0, 0.8, 1.0, 0.0, 2.0, 1.0], [64.0, 1.0, 2.0, 125.0, 309.0, 0.0, 0.0, 131.0, 1.0, 1.8, 1.0, 0.0, 2.0, 1.0], [64.0, 1.0, 2.0, 140.0, 335.0, 0.0, 0.0, 158.0, 0.0, 0.0, 0.0, 0.0, 0.0, 1.0], [62.0, 0.0, 2.0, 130.0, 263.0, 0.0, 0.0, 97.0, 0.0, 1.2, 1.0, 1.0, 2.0, 1.0], [60.0, 1.0, 2.0, 140.0, 185.0, 0.0, 2.0, 155.0, 0.0, 3.0, 1.0, 0.0, 0.0, 1.0], [59.0, 1.0, 2.0, 126.0, 218.0, 1.0, 0.0, 134.0, 0.0, 2.2, 1.0, 1.0, 1.0, 1.0], [58.0, 1.0, 2.0, 112.0, 230.0, 0.0, 2.0, 165.0, 0.0, 2.5, 1.0, 1.0, 2.0, 1.0], [58.0, 1.0, 2.0, 132.0, 224.0, 0.0, 2.0, 173.0, 0.0, 3.2, 0.0, 2.0, 2.0, 1.0], [57.0, 1.0, 2.0, 128.0, 229.0, 0.0, 2.0, 150.0, 0.0, 0.4, 1.0, 1.0, 2.0, 1.0], [56.0, 1.0, 2.0, 130.0, 256.0, 1.0, 2.0, 142.0, 1.0, 0.6, 1.0, 1.0, 1.0, 1.0], [50.0, 1.0, 2.0, 140.0, 233.0, 0.0, 0.0, 163.0, 0.0, 0.6, 1.0, 1.0, 2.0, 1.0], [49.0, 1.0, 2.0, 120.0, 188.0, 0.0, 0.0, 139.0, 0.0, 2.0, 1.0, 3.0, 2.0, 1.0], [49.0, 1.0, 2.0, 118.0, 149.0, 0.0, 2.0, 126.0, 0.0, 0.8, 0.0, 3.0, 0.0, 1.0], [47.0, 1.0, 2.0, 108.0, 243.0, 0.0, 0.0, 152.0, 0.0, 0.0, 0.0, 0.0, 0.0, 1.0], [46.0, 1.0, 2.0, 150.0, 231.0, 0.0, 0.0, 147.0, 0.0, 3.6, 1.0, 0.0, 0.0, 1.0], [77.0, 1.0, 3.0, 125.0, 304.0, 0.0, 2.0, 162.0, 1.0, 0.0, 0.0, 3.0, 0.0, 1.0], [70.0, 1.0, 3.0, 145.0, 174.0, 0.0, 0.0, 125.0, 1.0, 2.6, 2.0, 0.0, 2.0, 1.0], [70.0, 1.0, 3.0, 130.0, 322.0, 0.0, 2.0, 109.0, 0.0, 2.4, 1.0, 3.0, 0.0, 1.0], [68.0, 1.0, 3.0, 144.0, 193.0, 1.0, 0.0, 141.0, 0.0, 3.4, 1.0, 2.0, 2.0, 1.0], [67.0, 1.0, 3.0, 160.0, 286.0, 0.0, 2.0, 108.0, 1.0, 1.5, 1.0, 3.0, 0.0, 1.0], [67.0, 1.0, 3.0, 120.0, 229.0, 0.0, 2.0, 129.0, 1.0, 2.6, 1.0, 2.0, 2.0, 1.0], [67.0, 1.0, 3.0, 125.0, 254.0, 1.0, 0.0, 163.0, 0.0, 0.2, 1.0, 2.0, 2.0, 1.0], [67.0, 1.0, 3.0, 100.0, 299.0, 0.0, 2.0, 125.0, 1.0, 0.9, 1.0, 2.0, 0.0, 1.0], [67.0, 1.0, 3.0, 120.0, 237.0, 0.0, 0.0, 71.0, 0.0, 1.0, 1.0, 0.0, 0.0, 1.0], [66.0, 0.0, 3.0, 178.0, 228.0, 1.0, 0.0, 165.0, 1.0, 1.0, 1.0, 2.0, 2.0, 1.0], [66.0, 1.0, 3.0, 112.0, 212.0, 0.0, 2.0, 132.0, 1.0, 0.1, 0.0, 1.0, 0.0, 1.0], [65.0, 0.0, 3.0, 150.0, 225.0, 0.0, 2.0, 114.0, 0.0, 1.0, 1.0, 3.0, 2.0, 1.0], [65.0, 1.0, 3.0, 135.0, 254.0, 0.0, 2.0, 127.0, 0.0, 2.8, 1.0, 1.0, 2.0, 1.0], [65.0, 1.0, 3.0, 110.0, 248.0, 0.0, 2.0, 158.0, 0.0, 0.6, 0.0, 2.0, 1.0, 1.0], [64.0, 1.0, 3.0, 120.0, 246.0, 0.0, 2.0, 96.0, 1.0, 2.2, 2.0, 1.0, 0.0, 1.0], [64.0, 1.0, 3.0, 145.0, 212.0, 0.0, 2.0, 132.0, 0.0, 2.0, 1.0, 2.0, 1.0, 1.0], [63.0, 1.0, 3.0, 130.0, 254.0, 0.0, 2.0, 147.0, 0.0, 1.4, 1.0, 1.0, 2.0, 1.0], [63.0, 0.0, 3.0, 150.0, 407.0, 0.0, 2.0, 154.0, 0.0, 4.0, 1.0, 3.0, 2.0, 1.0], [63.0, 0.0, 3.0, 108.0, 269.0, 0.0, 0.0, 169.0, 1.0, 1.8, 1.0, 2.0, 0.0, 1.0], [63.0, 0.0, 3.0, 124.0, 197.0, 0.0, 0.0, 136.0, 1.0, 0.0, 1.0, 0.0, 0.0, 1.0], [63.0, 1.0, 3.0, 130.0, 330.0, 1.0, 2.0, 132.0, 1.0, 1.8, 0.0, 3.0, 2.0, 1.0], [63.0, 1.0, 3.0, 140.0, 187.0, 0.0, 2.0, 144.0, 1.0, 4.0, 0.0, 2.0, 2.0, 1.0], [62.0, 0.0, 3.0, 140.0, 268.0, 0.0, 2.0, 160.0, 0.0, 3.6, 2.0, 2.0, 0.0, 1.0], [62.0, 0.0, 3.0, 160.0, 164.0, 0.0, 2.0, 145.0, 0.0, 6.2, 2.0, 3.0, 2.0, 1.0], [62.0, 1.0, 3.0, 120.0, 267.0, 0.0, 0.0, 99.0, 1.0, 1.8, 1.0, 2.0, 2.0, 1.0], [62.0, 0.0, 3.0, 138.0, 294.0, 1.0, 0.0, 106.0, 0.0, 1.9, 1.0, 3.0, 0.0, 1.0], [62.0, 0.0, 3.0, 150.0, 244.0, 0.0, 0.0, 154.0, 1.0, 1.4, 1.0, 0.0, 0.0, 1.0], [61.0, 1.0, 3.0, 120.0, 260.0, 0.0, 0.0, 140.0, 1.0, 3.6, 1.0, 1.0, 2.0, 1.0], [61.0, 0.0, 3.0, 145.0, 307.0, 0.0, 2.0, 146.0, 1.0, 1.0, 1.0, 0.0, 2.0, 1.0], [61.0, 1.0, 3.0, 138.0, 166.0, 0.0, 2.0, 125.0, 1.0, 3.6, 1.0, 1.0, 0.0, 1.0], [61.0, 0.0, 3.0, 130.0, 330.0, 0.0, 2.0, 169.0, 0.0, 0.0, 0.0, 0.0, 0.0, 1.0], [61.0, 1.0, 3.0, 140.0, 207.0, 0.0, 2.0, 138.0, 1.0, 1.9, 0.0, 1.0, 2.0, 1.0], [61.0, 1.0, 3.0, 148.0, 203.0, 0.0, 0.0, 161.0, 0.0, 0.0, 0.0, 1.0, 2.0, 1.0], [60.0, 1.0, 3.0, 130.0, 206.0, 0.0, 2.0, 132.0, 1.0, 2.4, 1.0, 2.0, 2.0, 1.0], [60.0, 1.0, 3.0, 145.0, 282.0, 0.0, 2.0, 142.0, 1.0, 2.8, 1.0, 2.0, 2.0, 1.0], [60.0, 1.0, 3.0, 125.0, 258.0, 0.0, 2.0, 141.0, 1.0, 2.8, 1.0, 1.0, 2.0, 1.0], [60.0, 0.0, 3.0, 150.0, 258.0, 0.0, 2.0, 157.0, 0.0, 2.6, 1.0, 2.0, 2.0, 1.0], [60.0, 1.0, 3.0, 140.0, 293.0, 0.0, 2.0, 170.0, 0.0, 1.2, 1.0, 2.0, 2.0, 1.0], [60.0, 1.0, 3.0, 117.0, 230.0, 1.0, 0.0, 160.0, 1.0, 1.4, 0.0, 2.0, 2.0, 1.0], [60.0, 1.0, 3.0, 130.0, 253.0, 0.0, 0.0, 144.0, 1.0, 1.4, 0.0, 1.0, 2.0, 1.0], [60.0, 0.0, 3.0, 158.0, 305.0, 0.0, 2.0, 161.0, 0.0, 0.0, 0.0, 0.0, 0.0, 1.0], [59.0, 1.0, 3.0, 170.0, 326.0, 0.0, 2.0, 140.0, 1.0, 3.4, 2.0, 0.0, 2.0, 1.0], [59.0, 1.0, 3.0, 110.0, 239.0, 0.0, 2.0, 142.0, 1.0, 1.2, 1.0, 1.0, 2.0, 1.0], [59.0, 0.0, 3.0, 174.0, 249.0, 0.0, 0.0, 143.0, 1.0, 0.0, 1.0, 0.0, 0.0, 1.0], [59.0, 1.0, 3.0, 164.0, 176.0, 1.0, 2.0, 90.0, 0.0, 1.0, 1.0, 2.0, 1.0, 1.0], [59.0, 1.0, 3.0, 140.0, 177.0, 0.0, 0.0, 162.0, 1.0, 0.0, 0.0, 1.0, 2.0, 1.0], [58.0, 1.0, 3.0, 114.0, 318.0, 0.0, 1.0, 140.0, 0.0, 4.4, 2.0, 3.0, 1.0, 1.0], [58.0, 1.0, 3.0, 128.0, 216.0, 0.0, 2.0, 131.0, 1.0, 2.2, 1.0, 3.0, 2.0, 1.0], [58.0, 1.0, 3.0, 128.0, 259.0, 0.0, 2.0, 130.0, 1.0, 3.0, 1.0, 2.0, 2.0, 1.0], [58.0, 1.0, 3.0, 146.0, 218.0, 0.0, 0.0, 105.0, 0.0, 2.0, 1.0, 1.0, 2.0, 1.0], [58.0, 0.0, 3.0, 170.0, 225.0, 1.0, 2.0, 146.0, 1.0, 2.8, 1.0, 2.0, 1.0, 1.0], [58.0, 1.0, 3.0, 150.0, 270.0, 0.0, 2.0, 111.0, 1.0, 0.8, 0.0, 0.0, 2.0, 1.0], [58.0, 1.0, 3.0, 125.0, 300.0, 0.0, 2.0, 171.0, 0.0, 0.0, 0.0, 2.0, 2.0, 1.0], [58.0, 1.0, 3.0, 100.0, 234.0, 0.0, 0.0, 156.0, 0.0, 0.1, 0.0, 1.0, 2.0, 1.0], [57.0, 1.0, 3.0, 150.0, 276.0, 0.0, 2.0, 112.0, 1.0, 0.6, 1.0, 1.0, 1.0, 1.0], [57.0, 1.0, 3.0, 165.0, 289.0, 1.0, 2.0, 124.0, 0.0, 1.0, 1.0, 3.0, 2.0, 1.0], [57.0, 1.0, 3.0, 152.0, 274.0, 0.0, 0.0, 88.0, 1.0, 1.2, 1.0, 1.0, 2.0, 1.0], [57.0, 1.0, 3.0, 110.0, 335.0, 0.0, 0.0, 143.0, 1.0, 3.0, 1.0, 1.0, 2.0, 1.0], [57.0, 0.0, 3.0, 140.0, 241.0, 0.0, 0.0, 123.0, 1.0, 0.2, 1.0, 0.0, 2.0, 1.0], [57.0, 1.0, 3.0, 130.0, 131.0, 0.0, 0.0, 115.0, 1.0, 1.2, 1.0, 1.0, 2.0, 1.0], [56.0, 0.0, 3.0, 200.0, 288.0, 1.0, 2.0, 133.0, 1.0, 4.0, 2.0, 2.0, 2.0, 1.0], [56.0, 1.0, 3.0, 130.0, 283.0, 1.0, 2.0, 103.0, 1.0, 1.6, 2.0, 0.0, 2.0, 1.0], [56.0, 1.0, 3.0, 125.0, 249.0, 1.0, 2.0, 144.0, 1.0, 1.2, 1.0, 1.0, 0.0, 1.0], [56.0, 1.0, 3.0, 132.0, 184.0, 0.0, 2.0, 105.0, 1.0, 2.1, 1.0, 1.0, 1.0, 1.0], [56.0, 0.0, 3.0, 134.0, 409.0, 0.0, 2.0, 150.0, 1.0, 1.9, 1.0, 2.0, 2.0, 1.0], [55.0, 1.0, 3.0, 140.0, 217.0, 0.0, 0.0, 111.0, 1.0, 5.6, 2.0, 0.0, 2.0, 1.0], [55.0, 1.0, 3.0, 132.0, 353.0, 0.0, 0.0, 132.0, 1.0, 1.2, 1.0, 1.0, 2.0, 1.0], [55.0, 1.0, 3.0, 160.0, 289.0, 0.0, 2.0, 145.0, 1.0, 0.8, 1.0, 1.0, 2.0, 1.0], [55.0, 0.0, 3.0, 180.0, 327.0, 0.0, 1.0, 117.0, 1.0, 3.4, 1.0, 0.0, 0.0, 1.0], [55.0, 0.0, 3.0, 128.0, 205.0, 0.0, 1.0, 130.0, 1.0, 2.0, 1.0, 1.0, 2.0, 1.0], [54.0, 1.0, 3.0, 124.0, 266.0, 0.0, 2.0, 109.0, 1.0, 2.2, 1.0, 1.0, 2.0, 1.0], [54.0, 1.0, 3.0, 120.0, 188.0, 0.0, 0.0, 113.0, 0.0, 1.4, 1.0, 1.0, 2.0, 1.0], [54.0, 1.0, 3.0, 110.0, 239.0, 0.0, 0.0, 126.0, 1.0, 2.8, 1.0, 1.0, 2.0, 1.0], [54.0, 1.0, 3.0, 110.0, 206.0, 0.0, 2.0, 108.0, 1.0, 0.0, 1.0, 1.0, 0.0, 1.0], [54.0, 1.0, 3.0, 122.0, 286.0, 0.0, 2.0, 116.0, 1.0, 3.2, 1.0, 2.0, 0.0, 1.0], [53.0, 1.0, 3.0, 140.0, 203.0, 1.0, 2.0, 155.0, 1.0, 3.1, 2.0, 0.0, 2.0, 1.0], [53.0, 1.0, 3.0, 123.0, 282.0, 0.0, 0.0, 95.0, 1.0, 2.0, 1.0, 2.0, 2.0, 1.0], [52.0, 1.0, 3.0, 128.0, 255.0, 0.0, 0.0, 161.0, 1.0, 0.0, 0.0, 1.0, 2.0, 1.0], [52.0, 1.0, 3.0, 112.0, 230.0, 0.0, 0.0, 160.0, 0.0, 0.0, 0.0, 1.0, 0.0, 1.0], [52.0, 1.0, 3.0, 125.0, 212.0, 0.0, 0.0, 168.0, 0.0, 1.0, 0.0, 2.0, 2.0, 1.0], [51.0, 0.0, 3.0, 130.0, 305.0, 0.0, 0.0, 142.0, 1.0, 1.2, 1.0, 0.0, 2.0, 1.0], [51.0, 1.0, 3.0, 140.0, 298.0, 0.0, 0.0, 122.0, 1.0, 4.2, 1.0, 3.0, 2.0, 1.0], [51.0, 1.0, 3.0, 140.0, 299.0, 0.0, 0.0, 173.0, 1.0, 1.6, 0.0, 0.0, 2.0, 1.0], [50.0, 1.0, 3.0, 150.0, 243.0, 0.0, 2.0, 128.0, 0.0, 2.6, 1.0, 0.0, 2.0, 1.0], [50.0, 1.0, 3.0, 144.0, 200.0, 0.0, 2.0, 126.0, 1.0, 0.9, 1.0, 0.0, 2.0, 1.0], [48.0, 1.0, 3.0, 124.0, 274.0, 0.0, 2.0, 166.0, 0.0, 0.5, 1.0, 0.0, 2.0, 1.0], [48.0, 1.0, 3.0, 130.0, 256.0, 1.0, 2.0, 150.0, 1.0, 0.0, 0.0, 2.0, 2.0, 1.0], [47.0, 1.0, 3.0, 110.0, 275.0, 0.0, 2.0, 118.0, 1.0, 1.0, 1.0, 1.0, 0.0, 1.0], [46.0, 1.0, 3.0, 140.0, 311.0, 0.0, 0.0, 120.0, 1.0, 1.8, 1.0, 2.0, 2.0, 1.0], [46.0, 1.0, 3.0, 120.0, 249.0, 0.0, 2.0, 144.0, 0.0, 0.8, 0.0, 0.0, 2.0, 1.0], [45.0, 1.0, 3.0, 142.0, 309.0, 0.0, 2.0, 147.0, 1.0, 0.0, 1.0, 3.0, 2.0, 1.0], [44.0, 1.0, 3.0, 120.0, 169.0, 0.0, 0.0, 144.0, 1.0, 2.8, 2.0, 0.0, 1.0, 1.0], [44.0, 1.0, 3.0, 112.0, 290.0, 0.0, 2.0, 153.0, 0.0, 0.0, 0.0, 1.0, 0.0, 1.0], [44.0, 1.0, 3.0, 110.0, 197.0, 0.0, 2.0, 177.0, 0.0, 0.0, 0.0, 1.0, 0.0, 1.0], [43.0, 1.0, 3.0, 120.0, 177.0, 0.0, 2.0, 120.0, 1.0, 2.5, 1.0, 0.0, 2.0, 1.0], [43.0, 0.0, 3.0, 132.0, 341.0, 1.0, 2.0, 136.0, 1.0, 3.0, 1.0, 0.0, 2.0, 1.0], [42.0, 1.0, 3.0, 136.0, 315.0, 0.0, 0.0, 125.0, 1.0, 1.8, 1.0, 0.0, 1.0, 1.0], [41.0, 1.0, 3.0, 110.0, 172.0, 0.0, 2.0, 158.0, 0.0, 0.0, 0.0, 0.0, 2.0, 1.0], [40.0, 1.0, 3.0, 110.0, 167.0, 0.0, 2.0, 114.0, 1.0, 2.0, 1.0, 0.0, 2.0, 1.0], [40.0, 1.0, 3.0, 152.0, 223.0, 0.0, 0.0, 181.0, 0.0, 0.0, 0.0, 0.0, 2.0, 1.0], [39.0, 1.0, 3.0, 118.0, 219.0, 0.0, 0.0, 140.0, 0.0, 1.2, 1.0, 0.0, 2.0, 1.0], [35.0, 1.0, 3.0, 120.0, 198.0, 0.0, 0.0, 130.0, 1.0, 1.6, 1.0, 0.0, 2.0, 1.0], [35.0, 1.0, 3.0, 126.0, 282.0, 0.0, 2.0, 156.0, 1.0, 0.0, 0.0, 0.0, 2.0, 1.0]], \"hovertemplate\": \"condition=%{customdata[13]}<br>oldpeak=%{customdata[9]}<br>age=%{customdata[0]}<br>sex=%{customdata[1]}<br>cp=%{customdata[2]}<br>trestbps=%{customdata[3]}<br>chol=%{customdata[4]}<br>fbs=%{customdata[5]}<br>restecg=%{customdata[6]}<br>thalach=%{customdata[7]}<br>exang=%{customdata[8]}<br>slope=%{customdata[10]}<br>ca=%{customdata[11]}<br>thal=%{customdata[12]}<extra></extra>\", \"legendgroup\": \"1\", \"marker\": {\"color\": \"#EF553B\"}, \"name\": \"1\", \"offsetgroup\": \"1\", \"scalegroup\": \"x\", \"showlegend\": false, \"type\": \"violin\", \"x\": [1.4, 2.6, 0.2, 0.0, 0.8, 1.2, 3.8, 0.0, 1.4, 1.8, 0.0, 0.0, 0.3, 0.0, 0.0, 1.0, 2.9, 2.0, 1.6, 0.8, 1.8, 0.0, 1.2, 3.0, 2.2, 2.5, 3.2, 0.4, 0.6, 0.6, 2.0, 0.8, 0.0, 3.6, 0.0, 2.6, 2.4, 3.4, 1.5, 2.6, 0.2, 0.9, 1.0, 1.0, 0.1, 1.0, 2.8, 0.6, 2.2, 2.0, 1.4, 4.0, 1.8, 0.0, 1.8, 4.0, 3.6, 6.2, 1.8, 1.9, 1.4, 3.6, 1.0, 3.6, 0.0, 1.9, 0.0, 2.4, 2.8, 2.8, 2.6, 1.2, 1.4, 1.4, 0.0, 3.4, 1.2, 0.0, 1.0, 0.0, 4.4, 2.2, 3.0, 2.0, 2.8, 0.8, 0.0, 0.1, 0.6, 1.0, 1.2, 3.0, 0.2, 1.2, 4.0, 1.6, 1.2, 2.1, 1.9, 5.6, 1.2, 0.8, 3.4, 2.0, 2.2, 1.4, 2.8, 0.0, 3.2, 3.1, 2.0, 0.0, 0.0, 1.0, 1.2, 4.2, 1.6, 2.6, 0.9, 0.5, 0.0, 1.0, 1.8, 0.8, 0.0, 2.8, 0.0, 0.0, 2.5, 3.0, 1.8, 0.0, 2.0, 0.0, 1.2, 1.6, 0.0], \"xaxis\": \"x2\", \"yaxis\": \"y2\"}],                        {\"barmode\": \"relative\", \"legend\": {\"title\": {\"text\": \"condition\"}, \"tracegroupgap\": 0}, \"margin\": {\"t\": 60}, \"template\": {\"data\": {\"bar\": [{\"error_x\": {\"color\": \"#2a3f5f\"}, \"error_y\": {\"color\": \"#2a3f5f\"}, \"marker\": {\"line\": {\"color\": \"#E5ECF6\", \"width\": 0.5}}, \"type\": \"bar\"}], \"barpolar\": [{\"marker\": {\"line\": {\"color\": \"#E5ECF6\", \"width\": 0.5}}, \"type\": \"barpolar\"}], \"carpet\": [{\"aaxis\": {\"endlinecolor\": \"#2a3f5f\", \"gridcolor\": \"white\", \"linecolor\": \"white\", \"minorgridcolor\": \"white\", \"startlinecolor\": \"#2a3f5f\"}, \"baxis\": {\"endlinecolor\": \"#2a3f5f\", \"gridcolor\": \"white\", \"linecolor\": \"white\", \"minorgridcolor\": \"white\", \"startlinecolor\": \"#2a3f5f\"}, \"type\": \"carpet\"}], \"choropleth\": [{\"colorbar\": {\"outlinewidth\": 0, \"ticks\": \"\"}, \"type\": \"choropleth\"}], \"contour\": [{\"colorbar\": {\"outlinewidth\": 0, \"ticks\": \"\"}, \"colorscale\": [[0.0, \"#0d0887\"], [0.1111111111111111, \"#46039f\"], [0.2222222222222222, \"#7201a8\"], [0.3333333333333333, \"#9c179e\"], [0.4444444444444444, \"#bd3786\"], [0.5555555555555556, \"#d8576b\"], [0.6666666666666666, \"#ed7953\"], [0.7777777777777778, \"#fb9f3a\"], [0.8888888888888888, \"#fdca26\"], [1.0, \"#f0f921\"]], \"type\": \"contour\"}], \"contourcarpet\": [{\"colorbar\": {\"outlinewidth\": 0, \"ticks\": \"\"}, \"type\": \"contourcarpet\"}], \"heatmap\": [{\"colorbar\": {\"outlinewidth\": 0, \"ticks\": \"\"}, \"colorscale\": [[0.0, \"#0d0887\"], [0.1111111111111111, \"#46039f\"], [0.2222222222222222, \"#7201a8\"], [0.3333333333333333, \"#9c179e\"], [0.4444444444444444, \"#bd3786\"], [0.5555555555555556, \"#d8576b\"], [0.6666666666666666, \"#ed7953\"], [0.7777777777777778, \"#fb9f3a\"], [0.8888888888888888, \"#fdca26\"], [1.0, \"#f0f921\"]], \"type\": \"heatmap\"}], \"heatmapgl\": [{\"colorbar\": {\"outlinewidth\": 0, \"ticks\": \"\"}, \"colorscale\": [[0.0, \"#0d0887\"], [0.1111111111111111, \"#46039f\"], [0.2222222222222222, \"#7201a8\"], [0.3333333333333333, \"#9c179e\"], [0.4444444444444444, \"#bd3786\"], [0.5555555555555556, \"#d8576b\"], [0.6666666666666666, \"#ed7953\"], [0.7777777777777778, \"#fb9f3a\"], [0.8888888888888888, \"#fdca26\"], [1.0, \"#f0f921\"]], \"type\": \"heatmapgl\"}], \"histogram\": [{\"marker\": {\"colorbar\": {\"outlinewidth\": 0, \"ticks\": \"\"}}, \"type\": \"histogram\"}], \"histogram2d\": [{\"colorbar\": {\"outlinewidth\": 0, \"ticks\": \"\"}, \"colorscale\": [[0.0, \"#0d0887\"], [0.1111111111111111, \"#46039f\"], [0.2222222222222222, \"#7201a8\"], [0.3333333333333333, \"#9c179e\"], [0.4444444444444444, \"#bd3786\"], [0.5555555555555556, \"#d8576b\"], [0.6666666666666666, \"#ed7953\"], [0.7777777777777778, \"#fb9f3a\"], [0.8888888888888888, \"#fdca26\"], [1.0, \"#f0f921\"]], \"type\": \"histogram2d\"}], \"histogram2dcontour\": [{\"colorbar\": {\"outlinewidth\": 0, \"ticks\": \"\"}, \"colorscale\": [[0.0, \"#0d0887\"], [0.1111111111111111, \"#46039f\"], [0.2222222222222222, \"#7201a8\"], [0.3333333333333333, \"#9c179e\"], [0.4444444444444444, \"#bd3786\"], [0.5555555555555556, \"#d8576b\"], [0.6666666666666666, \"#ed7953\"], [0.7777777777777778, \"#fb9f3a\"], [0.8888888888888888, \"#fdca26\"], [1.0, \"#f0f921\"]], \"type\": \"histogram2dcontour\"}], \"mesh3d\": [{\"colorbar\": {\"outlinewidth\": 0, \"ticks\": \"\"}, \"type\": \"mesh3d\"}], \"parcoords\": [{\"line\": {\"colorbar\": {\"outlinewidth\": 0, \"ticks\": \"\"}}, \"type\": \"parcoords\"}], \"pie\": [{\"automargin\": true, \"type\": \"pie\"}], \"scatter\": [{\"marker\": {\"colorbar\": {\"outlinewidth\": 0, \"ticks\": \"\"}}, \"type\": \"scatter\"}], \"scatter3d\": [{\"line\": {\"colorbar\": {\"outlinewidth\": 0, \"ticks\": \"\"}}, \"marker\": {\"colorbar\": {\"outlinewidth\": 0, \"ticks\": \"\"}}, \"type\": \"scatter3d\"}], \"scattercarpet\": [{\"marker\": {\"colorbar\": {\"outlinewidth\": 0, \"ticks\": \"\"}}, \"type\": \"scattercarpet\"}], \"scattergeo\": [{\"marker\": {\"colorbar\": {\"outlinewidth\": 0, \"ticks\": \"\"}}, \"type\": \"scattergeo\"}], \"scattergl\": [{\"marker\": {\"colorbar\": {\"outlinewidth\": 0, \"ticks\": \"\"}}, \"type\": \"scattergl\"}], \"scattermapbox\": [{\"marker\": {\"colorbar\": {\"outlinewidth\": 0, \"ticks\": \"\"}}, \"type\": \"scattermapbox\"}], \"scatterpolar\": [{\"marker\": {\"colorbar\": {\"outlinewidth\": 0, \"ticks\": \"\"}}, \"type\": \"scatterpolar\"}], \"scatterpolargl\": [{\"marker\": {\"colorbar\": {\"outlinewidth\": 0, \"ticks\": \"\"}}, \"type\": \"scatterpolargl\"}], \"scatterternary\": [{\"marker\": {\"colorbar\": {\"outlinewidth\": 0, \"ticks\": \"\"}}, \"type\": \"scatterternary\"}], \"surface\": [{\"colorbar\": {\"outlinewidth\": 0, \"ticks\": \"\"}, \"colorscale\": [[0.0, \"#0d0887\"], [0.1111111111111111, \"#46039f\"], [0.2222222222222222, \"#7201a8\"], [0.3333333333333333, \"#9c179e\"], [0.4444444444444444, \"#bd3786\"], [0.5555555555555556, \"#d8576b\"], [0.6666666666666666, \"#ed7953\"], [0.7777777777777778, \"#fb9f3a\"], [0.8888888888888888, \"#fdca26\"], [1.0, \"#f0f921\"]], \"type\": \"surface\"}], \"table\": [{\"cells\": {\"fill\": {\"color\": \"#EBF0F8\"}, \"line\": {\"color\": \"white\"}}, \"header\": {\"fill\": {\"color\": \"#C8D4E3\"}, \"line\": {\"color\": \"white\"}}, \"type\": \"table\"}]}, \"layout\": {\"annotationdefaults\": {\"arrowcolor\": \"#2a3f5f\", \"arrowhead\": 0, \"arrowwidth\": 1}, \"coloraxis\": {\"colorbar\": {\"outlinewidth\": 0, \"ticks\": \"\"}}, \"colorscale\": {\"diverging\": [[0, \"#8e0152\"], [0.1, \"#c51b7d\"], [0.2, \"#de77ae\"], [0.3, \"#f1b6da\"], [0.4, \"#fde0ef\"], [0.5, \"#f7f7f7\"], [0.6, \"#e6f5d0\"], [0.7, \"#b8e186\"], [0.8, \"#7fbc41\"], [0.9, \"#4d9221\"], [1, \"#276419\"]], \"sequential\": [[0.0, \"#0d0887\"], [0.1111111111111111, \"#46039f\"], [0.2222222222222222, \"#7201a8\"], [0.3333333333333333, \"#9c179e\"], [0.4444444444444444, \"#bd3786\"], [0.5555555555555556, \"#d8576b\"], [0.6666666666666666, \"#ed7953\"], [0.7777777777777778, \"#fb9f3a\"], [0.8888888888888888, \"#fdca26\"], [1.0, \"#f0f921\"]], \"sequentialminus\": [[0.0, \"#0d0887\"], [0.1111111111111111, \"#46039f\"], [0.2222222222222222, \"#7201a8\"], [0.3333333333333333, \"#9c179e\"], [0.4444444444444444, \"#bd3786\"], [0.5555555555555556, \"#d8576b\"], [0.6666666666666666, \"#ed7953\"], [0.7777777777777778, \"#fb9f3a\"], [0.8888888888888888, \"#fdca26\"], [1.0, \"#f0f921\"]]}, \"colorway\": [\"#636efa\", \"#EF553B\", \"#00cc96\", \"#ab63fa\", \"#FFA15A\", \"#19d3f3\", \"#FF6692\", \"#B6E880\", \"#FF97FF\", \"#FECB52\"], \"font\": {\"color\": \"#2a3f5f\"}, \"geo\": {\"bgcolor\": \"white\", \"lakecolor\": \"white\", \"landcolor\": \"#E5ECF6\", \"showlakes\": true, \"showland\": true, \"subunitcolor\": \"white\"}, \"hoverlabel\": {\"align\": \"left\"}, \"hovermode\": \"closest\", \"mapbox\": {\"style\": \"light\"}, \"paper_bgcolor\": \"white\", \"plot_bgcolor\": \"#E5ECF6\", \"polar\": {\"angularaxis\": {\"gridcolor\": \"white\", \"linecolor\": \"white\", \"ticks\": \"\"}, \"bgcolor\": \"#E5ECF6\", \"radialaxis\": {\"gridcolor\": \"white\", \"linecolor\": \"white\", \"ticks\": \"\"}}, \"scene\": {\"xaxis\": {\"backgroundcolor\": \"#E5ECF6\", \"gridcolor\": \"white\", \"gridwidth\": 2, \"linecolor\": \"white\", \"showbackground\": true, \"ticks\": \"\", \"zerolinecolor\": \"white\"}, \"yaxis\": {\"backgroundcolor\": \"#E5ECF6\", \"gridcolor\": \"white\", \"gridwidth\": 2, \"linecolor\": \"white\", \"showbackground\": true, \"ticks\": \"\", \"zerolinecolor\": \"white\"}, \"zaxis\": {\"backgroundcolor\": \"#E5ECF6\", \"gridcolor\": \"white\", \"gridwidth\": 2, \"linecolor\": \"white\", \"showbackground\": true, \"ticks\": \"\", \"zerolinecolor\": \"white\"}}, \"shapedefaults\": {\"line\": {\"color\": \"#2a3f5f\"}}, \"ternary\": {\"aaxis\": {\"gridcolor\": \"white\", \"linecolor\": \"white\", \"ticks\": \"\"}, \"baxis\": {\"gridcolor\": \"white\", \"linecolor\": \"white\", \"ticks\": \"\"}, \"bgcolor\": \"#E5ECF6\", \"caxis\": {\"gridcolor\": \"white\", \"linecolor\": \"white\", \"ticks\": \"\"}}, \"title\": {\"x\": 0.05}, \"xaxis\": {\"automargin\": true, \"gridcolor\": \"white\", \"linecolor\": \"white\", \"ticks\": \"\", \"title\": {\"standoff\": 15}, \"zerolinecolor\": \"white\", \"zerolinewidth\": 2}, \"yaxis\": {\"automargin\": true, \"gridcolor\": \"white\", \"linecolor\": \"white\", \"ticks\": \"\", \"title\": {\"standoff\": 15}, \"zerolinecolor\": \"white\", \"zerolinewidth\": 2}}}, \"title\": {\"text\": \"Histogram of \\\"oldpeak\\\" by condition\"}, \"xaxis\": {\"anchor\": \"y\", \"domain\": [0.0, 1.0], \"title\": {\"text\": \"oldpeak\"}}, \"xaxis2\": {\"anchor\": \"y2\", \"domain\": [0.0, 1.0], \"matches\": \"x\", \"showgrid\": true, \"showticklabels\": false}, \"yaxis\": {\"anchor\": \"x\", \"domain\": [0.0, 0.7326], \"title\": {\"text\": \"count\"}}, \"yaxis2\": {\"anchor\": \"x2\", \"domain\": [0.7426, 1.0], \"matches\": \"y2\", \"showgrid\": false, \"showline\": false, \"showticklabels\": false, \"ticks\": \"\"}},                        {\"responsive\": true}                    ).then(function(){\n",
       "                            \n",
       "var gd = document.getElementById('114a0716-ceee-4e9d-ad02-15f36f07b589');\n",
       "var x = new MutationObserver(function (mutations, observer) {{\n",
       "        var display = window.getComputedStyle(gd).display;\n",
       "        if (!display || display === 'none') {{\n",
       "            console.log([gd, 'removed!']);\n",
       "            Plotly.purge(gd);\n",
       "            observer.disconnect();\n",
       "        }}\n",
       "}});\n",
       "\n",
       "// Listen for the removal of the full notebook cells\n",
       "var notebookContainer = gd.closest('#notebook-container');\n",
       "if (notebookContainer) {{\n",
       "    x.observe(notebookContainer, {childList: true});\n",
       "}}\n",
       "\n",
       "// Listen for the clearing of the current output cell\n",
       "var outputEl = gd.closest('.output');\n",
       "if (outputEl) {{\n",
       "    x.observe(outputEl, {childList: true});\n",
       "}}\n",
       "\n",
       "                        })                };                });            </script>        </div>"
      ]
     },
     "metadata": {},
     "output_type": "display_data"
    }
   ],
   "source": [
    "# histogram\n",
    "fig = px.histogram(df,\n",
    "               x = 'oldpeak',\n",
    "               color = 'condition',\n",
    "               marginal = 'violin',\n",
    "               hover_data = df.columns)\n",
    "fig.update_layout(\n",
    "    title_text = 'Histogram of \"oldpeak\" by condition')\n",
    "fig.show()"
   ]
  },
  {
   "cell_type": "code",
   "execution_count": 74,
   "metadata": {},
   "outputs": [
    {
     "data": {
      "application/vnd.plotly.v1+json": {
       "config": {
        "plotlyServerURL": "https://plot.ly"
       },
       "data": [
        {
         "autobinx": false,
         "histnorm": "probability density",
         "legendgroup": "heart disease",
         "marker": {
          "color": "rgb(31, 119, 180)"
         },
         "name": "heart disease",
         "opacity": 0.7,
         "type": "histogram",
         "x": [
          1.4,
          2.6,
          0.2,
          0,
          0.8,
          1.2,
          3.8,
          0,
          1.4,
          1.8,
          0,
          0,
          0.3,
          0,
          0,
          1,
          2.9,
          2,
          1.6,
          0.8,
          1.8,
          0,
          1.2,
          3,
          2.2,
          2.5,
          3.2,
          0.4,
          0.6,
          0.6,
          2,
          0.8,
          0,
          3.6,
          0,
          2.6,
          2.4,
          3.4,
          1.5,
          2.6,
          0.2,
          0.9,
          1,
          1,
          0.1,
          1,
          2.8,
          0.6,
          2.2,
          2,
          1.4,
          4,
          1.8,
          0,
          1.8,
          4,
          3.6,
          6.2,
          1.8,
          1.9,
          1.4,
          3.6,
          1,
          3.6,
          0,
          1.9,
          0,
          2.4,
          2.8,
          2.8,
          2.6,
          1.2,
          1.4,
          1.4,
          0,
          3.4,
          1.2,
          0,
          1,
          0,
          4.4,
          2.2,
          3,
          2,
          2.8,
          0.8,
          0,
          0.1,
          0.6,
          1,
          1.2,
          3,
          0.2,
          1.2,
          4,
          1.6,
          1.2,
          2.1,
          1.9,
          5.6,
          1.2,
          0.8,
          3.4,
          2,
          2.2,
          1.4,
          2.8,
          0,
          3.2,
          3.1,
          2,
          0,
          0,
          1,
          1.2,
          4.2,
          1.6,
          2.6,
          0.9,
          0.5,
          0,
          1,
          1.8,
          0.8,
          0,
          2.8,
          0,
          0,
          2.5,
          3,
          1.8,
          0,
          2,
          0,
          1.2,
          1.6,
          0
         ],
         "xaxis": "x",
         "xbins": {
          "end": 6.2,
          "size": 0.5,
          "start": 0
         },
         "yaxis": "y"
        },
        {
         "autobinx": false,
         "histnorm": "probability density",
         "legendgroup": "no heart disease",
         "marker": {
          "color": "rgb(255, 127, 14)"
         },
         "name": "no heart disease",
         "opacity": 0.7,
         "type": "histogram",
         "x": [
          0.1,
          1.8,
          2.6,
          1.8,
          0.6,
          2.3,
          0.9,
          4.2,
          1,
          1.9,
          0,
          1.2,
          1.4,
          0.8,
          1.4,
          0,
          0.2,
          0.4,
          0,
          0,
          0,
          0,
          0,
          1.3,
          0.8,
          0,
          1.4,
          0,
          1.2,
          0,
          0,
          0.2,
          0.8,
          0,
          1.1,
          0,
          0.6,
          0.2,
          0,
          0,
          0.6,
          0,
          0,
          0,
          0,
          0,
          0,
          0,
          1.4,
          0,
          0,
          0,
          0,
          0,
          0.7,
          0,
          1.1,
          0,
          1.5,
          1,
          1.6,
          0,
          0,
          0.8,
          0.8,
          0.8,
          0.2,
          0,
          1.8,
          1,
          0,
          0,
          1.6,
          0.6,
          0,
          0,
          1.6,
          0.2,
          0.5,
          0.4,
          1.6,
          0,
          1.6,
          0,
          0,
          1.2,
          0,
          0.1,
          0.5,
          1.2,
          2.4,
          0.6,
          1.5,
          0.5,
          0,
          0.6,
          1.6,
          0,
          0.2,
          0,
          0,
          0,
          1.4,
          0.6,
          0.3,
          0.4,
          0,
          0,
          0.2,
          1.9,
          0.8,
          0,
          0,
          2,
          0,
          0,
          0,
          0,
          0,
          3.5,
          0,
          1.6,
          0.3,
          0.4,
          2.3,
          0.4,
          2,
          0.2,
          0,
          1.2,
          0,
          0.5,
          0,
          1,
          0.6,
          0.4,
          1.5,
          0.6,
          0,
          0,
          1.2,
          0.4,
          0,
          0,
          0.1,
          0,
          0,
          0,
          0,
          0.1,
          0,
          3,
          0.2,
          0,
          1.2,
          1.5,
          0,
          0.6,
          0,
          1.4
         ],
         "xaxis": "x",
         "xbins": {
          "end": 4.2,
          "size": 0.5,
          "start": 0
         },
         "yaxis": "y"
        },
        {
         "legendgroup": "heart disease",
         "marker": {
          "color": "rgb(31, 119, 180)"
         },
         "mode": "lines",
         "name": "heart disease",
         "showlegend": false,
         "type": "scatter",
         "x": [
          0,
          0.0124,
          0.0248,
          0.037200000000000004,
          0.0496,
          0.062,
          0.07440000000000001,
          0.0868,
          0.0992,
          0.1116,
          0.124,
          0.1364,
          0.14880000000000002,
          0.1612,
          0.1736,
          0.186,
          0.1984,
          0.21080000000000002,
          0.2232,
          0.2356,
          0.248,
          0.2604,
          0.2728,
          0.2852,
          0.29760000000000003,
          0.31,
          0.3224,
          0.3348,
          0.3472,
          0.35960000000000003,
          0.372,
          0.3844,
          0.3968,
          0.4092,
          0.42160000000000003,
          0.434,
          0.4464,
          0.4588,
          0.4712,
          0.48360000000000003,
          0.496,
          0.5084000000000001,
          0.5208,
          0.5332,
          0.5456,
          0.558,
          0.5704,
          0.5828000000000001,
          0.5952000000000001,
          0.6076,
          0.62,
          0.6324,
          0.6448,
          0.6572,
          0.6696,
          0.682,
          0.6944,
          0.7068000000000001,
          0.7192000000000001,
          0.7316,
          0.744,
          0.7564,
          0.7688,
          0.7812,
          0.7936,
          0.806,
          0.8184,
          0.8308000000000001,
          0.8432000000000001,
          0.8556,
          0.868,
          0.8804,
          0.8928,
          0.9052,
          0.9176,
          0.93,
          0.9424,
          0.9548000000000001,
          0.9672000000000001,
          0.9796,
          0.992,
          1.0044,
          1.0168000000000001,
          1.0292000000000001,
          1.0416,
          1.054,
          1.0664,
          1.0788,
          1.0912,
          1.1036000000000001,
          1.116,
          1.1284,
          1.1408,
          1.1532,
          1.1656000000000002,
          1.178,
          1.1904000000000001,
          1.2027999999999999,
          1.2152,
          1.2276000000000002,
          1.24,
          1.2524000000000002,
          1.2648,
          1.2772000000000001,
          1.2896,
          1.302,
          1.3144,
          1.3268,
          1.3392,
          1.3516000000000001,
          1.364,
          1.3764,
          1.3888,
          1.4012,
          1.4136000000000002,
          1.426,
          1.4384000000000001,
          1.4507999999999999,
          1.4632,
          1.4756000000000002,
          1.488,
          1.5004000000000002,
          1.5128,
          1.5252000000000001,
          1.5376,
          1.55,
          1.5624,
          1.5748,
          1.5872,
          1.5996000000000001,
          1.612,
          1.6244,
          1.6368,
          1.6492,
          1.6616000000000002,
          1.674,
          1.6864000000000001,
          1.6987999999999999,
          1.7112,
          1.7236000000000002,
          1.736,
          1.7484000000000002,
          1.7608,
          1.7732,
          1.7856,
          1.798,
          1.8104,
          1.8228,
          1.8352,
          1.8476000000000001,
          1.86,
          1.8724,
          1.8848,
          1.8972,
          1.9096000000000002,
          1.922,
          1.9344000000000001,
          1.9467999999999999,
          1.9592,
          1.9716000000000002,
          1.984,
          1.9964000000000002,
          2.0088,
          2.0212,
          2.0336000000000003,
          2.046,
          2.0584000000000002,
          2.0708,
          2.0832,
          2.0956,
          2.108,
          2.1204,
          2.1328,
          2.1452000000000004,
          2.1576,
          2.17,
          2.1824,
          2.1948000000000003,
          2.2072000000000003,
          2.2196,
          2.232,
          2.2444,
          2.2568,
          2.2692,
          2.2816,
          2.294,
          2.3064,
          2.3188,
          2.3312000000000004,
          2.3436,
          2.356,
          2.3684000000000003,
          2.3808000000000002,
          2.3932,
          2.4055999999999997,
          2.418,
          2.4304,
          2.4428,
          2.4552000000000005,
          2.4676,
          2.48,
          2.4924,
          2.5048000000000004,
          2.5172000000000003,
          2.5296,
          2.542,
          2.5544000000000002,
          2.5668,
          2.5792,
          2.5916,
          2.604,
          2.6164,
          2.6288,
          2.6412000000000004,
          2.6536,
          2.666,
          2.6784,
          2.6908000000000003,
          2.7032000000000003,
          2.7156,
          2.728,
          2.7404,
          2.7528,
          2.7652,
          2.7776,
          2.79,
          2.8024,
          2.8148,
          2.8272000000000004,
          2.8396,
          2.852,
          2.8644000000000003,
          2.8768000000000002,
          2.8892,
          2.9015999999999997,
          2.914,
          2.9264,
          2.9388,
          2.9512000000000005,
          2.9636,
          2.976,
          2.9884,
          3.0008000000000004,
          3.0132000000000003,
          3.0256,
          3.038,
          3.0504000000000002,
          3.0628,
          3.0752,
          3.0876,
          3.1,
          3.1124,
          3.1248,
          3.1372000000000004,
          3.1496,
          3.162,
          3.1744,
          3.1868000000000003,
          3.1992000000000003,
          3.2116,
          3.224,
          3.2364,
          3.2488,
          3.2612,
          3.2736,
          3.286,
          3.2984,
          3.3108,
          3.3232000000000004,
          3.3356,
          3.348,
          3.3604000000000003,
          3.3728000000000002,
          3.3852,
          3.3975999999999997,
          3.41,
          3.4224,
          3.4348,
          3.4472000000000005,
          3.4596,
          3.472,
          3.4844,
          3.4968000000000004,
          3.5092000000000003,
          3.5216,
          3.534,
          3.5464,
          3.5588,
          3.5712,
          3.5836,
          3.596,
          3.6084,
          3.6208,
          3.6332000000000004,
          3.6456,
          3.658,
          3.6704,
          3.6828000000000003,
          3.6952000000000003,
          3.7076,
          3.72,
          3.7324,
          3.7448,
          3.7572,
          3.7696,
          3.782,
          3.7944,
          3.8068,
          3.8192000000000004,
          3.8316,
          3.844,
          3.8564000000000003,
          3.8688000000000002,
          3.8812,
          3.8935999999999997,
          3.906,
          3.9184,
          3.9308,
          3.9432000000000005,
          3.9556,
          3.968,
          3.9804,
          3.9928000000000003,
          4.0052,
          4.0176,
          4.03,
          4.0424,
          4.0548,
          4.067200000000001,
          4.0796,
          4.092,
          4.104400000000001,
          4.1168000000000005,
          4.1292,
          4.1416,
          4.154,
          4.1664,
          4.1788,
          4.1912,
          4.203600000000001,
          4.216,
          4.228400000000001,
          4.2408,
          4.2532,
          4.2656,
          4.278,
          4.290400000000001,
          4.3028,
          4.3152,
          4.3276,
          4.34,
          4.3524,
          4.3648,
          4.3772,
          4.389600000000001,
          4.402,
          4.4144000000000005,
          4.4268,
          4.4392,
          4.4516,
          4.464,
          4.476400000000001,
          4.4888,
          4.5012,
          4.5136,
          4.526,
          4.5384,
          4.550800000000001,
          4.5632,
          4.5756000000000006,
          4.588,
          4.6004000000000005,
          4.6128,
          4.6251999999999995,
          4.6376,
          4.65,
          4.662400000000001,
          4.6748,
          4.6872,
          4.6996,
          4.712,
          4.7244,
          4.736800000000001,
          4.7492,
          4.7616000000000005,
          4.774,
          4.7864,
          4.7988,
          4.8111999999999995,
          4.823600000000001,
          4.836,
          4.848400000000001,
          4.8608,
          4.8732,
          4.8856,
          4.898,
          4.910400000000001,
          4.9228000000000005,
          4.9352,
          4.9476,
          4.96,
          4.9724,
          4.9848,
          4.997199999999999,
          5.009600000000001,
          5.022,
          5.034400000000001,
          5.0468,
          5.0592,
          5.0716,
          5.084,
          5.096400000000001,
          5.1088000000000005,
          5.1212,
          5.1336,
          5.146,
          5.1584,
          5.1708,
          5.1832,
          5.195600000000001,
          5.208,
          5.220400000000001,
          5.2328,
          5.2452,
          5.2576,
          5.27,
          5.282400000000001,
          5.2948,
          5.3072,
          5.3196,
          5.332,
          5.3444,
          5.3568,
          5.3692,
          5.381600000000001,
          5.394,
          5.4064000000000005,
          5.4188,
          5.4312,
          5.4436,
          5.456,
          5.468400000000001,
          5.4808,
          5.4932,
          5.5056,
          5.518,
          5.5304,
          5.542800000000001,
          5.5552,
          5.5676000000000005,
          5.58,
          5.5924000000000005,
          5.6048,
          5.6171999999999995,
          5.6296,
          5.642,
          5.654400000000001,
          5.6668,
          5.6792,
          5.6916,
          5.704,
          5.7164,
          5.728800000000001,
          5.7412,
          5.7536000000000005,
          5.766,
          5.7784,
          5.7908,
          5.8031999999999995,
          5.815600000000001,
          5.828,
          5.840400000000001,
          5.8528,
          5.8652,
          5.8776,
          5.89,
          5.902400000000001,
          5.9148000000000005,
          5.9272,
          5.9396,
          5.952,
          5.9644,
          5.9768,
          5.989199999999999,
          6.001600000000001,
          6.014,
          6.026400000000001,
          6.0388,
          6.0512,
          6.0636,
          6.076,
          6.088400000000001,
          6.1008000000000004,
          6.1132,
          6.1256,
          6.138,
          6.1504,
          6.1628,
          6.1752,
          6.187600000000001
         ],
         "xaxis": "x",
         "y": [
          0.22918879049077212,
          0.2310767750769591,
          0.23289050226625263,
          0.23462994039078974,
          0.23629523348799336,
          0.2378866994552651,
          0.23940482755721623,
          0.24085027529590616,
          0.24222386465764784,
          0.2435265777529745,
          0.24475955186931125,
          0.24592407395873175,
          0.24702157458592178,
          0.2480536213640539,
          0.24902191190872847,
          0.24992826634241486,
          0.25077461938393314,
          0.2515630120594316,
          0.2522955830730322,
          0.2529745598768202,
          0.25360224948114723,
          0.2541810290472844,
          0.2547133363052911,
          0.2552016598405723,
          0.2556485292929665,
          0.2560565055123301,
          0.25642817071447993,
          0.25676611868102334,
          0.257072945046019,
          0.25735123771163204,
          0.2576035674339175,
          0.2578324786186541,
          0.25804048036570065,
          0.25823003779874715,
          0.25840356371551443,
          0.25856341059148197,
          0.2587118629681061,
          0.25885113025421214,
          0.2589833399668389,
          0.2591105314353158,
          0.25923464998973744,
          0.2593575416523116,
          0.2594809483473106,
          0.2596065036425517,
          0.2597357290325092,
          0.2598700307703092,
          0.2600106972530299,
          0.26015889696190075,
          0.26031567695620783,
          0.2604819619169884,
          0.26065855373391106,
          0.2608461316261633,
          0.26104525278566426,
          0.26125635352852555,
          0.2614797509384227,
          0.2617156449833818,
          0.26196412108549005,
          0.26222515312117906,
          0.26249860682802917,
          0.2627842435925043,
          0.26308172459165846,
          0.2633906152606576,
          0.2637103900569433,
          0.2640404374910251,
          0.26438006539322106,
          0.26472850638520773,
          0.26508492352491503,
          0.2654484160932037,
          0.2658180254908093,
          0.26619274121426123,
          0.26657150687987724,
          0.26695322626549517,
          0.2673367693402991,
          0.2677209782539596,
          0.2681046732572926,
          0.26848665852777315,
          0.2688657278744737,
          0.26924067029834975,
          0.269610275385263,
          0.2699733385106551,
          0.2703286658364268,
          0.270675079082251,
          0.2710114200553085,
          0.27133655492421366,
          0.2716493782247294,
          0.2719488165867184,
          0.27223383217362057,
          0.2725034258276211,
          0.2727566399155018,
          0.27299256087199664,
          0.27321032143926843,
          0.27340910260285034,
          0.2735881352261147,
          0.27374670138694596,
          0.27388413542187606,
          0.2739998246844078,
          0.27409321002567993,
          0.2741637860069186,
          0.2742111008543511,
          0.2742347561683655,
          0.2742344063997086,
          0.274209758106418,
          0.2741605690059683,
          0.2740866468377803,
          0.2739878480517982,
          0.2738640763392873,
          0.2737152810223061,
          0.2735414553185374,
          0.27334263449822815,
          0.2731188939499886,
          0.2728703471720539,
          0.27259714370537924,
          0.2722994670246092,
          0.27197753240250455,
          0.27163158476290844,
          0.2712618965366952,
          0.2708687655344654,
          0.27045251284898275,
          0.2700134807994984,
          0.2695520309292446,
          0.2690685420664003,
          0.2685634084578758,
          0.26803703798421713,
          0.26748985046289103,
          0.2669222760461366,
          0.26633475371849047,
          0.26572772989800597,
          0.26510165714410533,
          0.2644569929739409,
          0.2637941987880849,
          0.26311373890535855,
          0.2624160797056175,
          0.26170168887837003,
          0.26097103477420186,
          0.26022458585514857,
          0.25946281023936246,
          0.2586861753346993,
          0.2578951475552037,
          0.25709019211387957,
          0.25627177288463643,
          0.25544035232586404,
          0.25459639145772833,
          0.2537403498850422,
          0.252872685857334,
          0.2519938563576583,
          0.25110431721166077,
          0.2502045232084491,
          0.24929492822496885,
          0.24837598534577301,
          0.24744814697037068,
          0.2465118649006658,
          0.24556759040142936,
          0.24461577422721026,
          0.2436568666096221,
          0.24269131719952822,
          0.2417195749592626,
          0.2407420880006994,
          0.23975930336567794,
          0.2387716667460109,
          0.23777962214105208,
          0.23678361145156984,
          0.23578407400940798,
          0.23478144604322887,
          0.2337761600813438,
          0.23276864429343397,
          0.23175932177365122,
          0.23074860976832826,
          0.2297369188521827,
          0.2287246520575427,
          0.22771220396172837,
          0.22669995973825918,
          0.22568829417807346,
          0.22467757068738883,
          0.2236681402692126,
          0.22266034049585362,
          0.22165449448004415,
          0.22065090985247837,
          0.21964987775371433,
          0.21865167184844617,
          0.21765654737015266,
          0.21666474020405857,
          0.21567646601621626,
          0.21469191943629992,
          0.2137112733014499,
          0.2127346779681807,
          0.21176226069897264,
          0.21079412512973608,
          0.20983035082384185,
          0.20887099291788025,
          0.20791608186371993,
          0.20696562327083165,
          0.20601959785217847,
          0.20507796147630603,
          0.2041406453275558,
          0.20320755617560324,
          0.20227857675480962,
          0.20135356625311207,
          0.20043236090947283,
          0.19951477471814533,
          0.19860060023732715,
          0.1976896094990413,
          0.19678155501642278,
          0.19587617088392534,
          0.19497317396534655,
          0.19407226516397405,
          0.19317313076862103,
          0.19227544386880382,
          0.19137886583187372,
          0.19048304783449535,
          0.18958763244052293,
          0.18869225521702687,
          0.18779654637998025,
          0.18690013246093767,
          0.1860026379859147,
          0.18510368715761194,
          0.18420290553212978,
          0.1832999216813691,
          0.18239436883242874,
          0.18148588647548622,
          0.18057412193186256,
          0.17965873187426032,
          0.17873938379148172,
          0.17781575739032246,
          0.1768875459277365,
          0.17595445746684957,
          0.1750162160508753,
          0.17407256278953387,
          0.17312325685312335,
          0.17216807636997958,
          0.1712068192236677,
          0.17023930374686475,
          0.1692653693095288,
          0.16828487679958468,
          0.16729770899500387,
          0.16630377082678893,
          0.1653029895330141,
          0.16429531470469386,
          0.16328071822485593,
          0.16225919410279954,
          0.1612307582060741,
          0.16019544789326967,
          0.159153321551221,
          0.1581044580407125,
          0.1570489560552256,
          0.15598693339768144,
          0.15491852618051086,
          0.15384388795472162,
          0.15276318877392464,
          0.1516766141995429,
          0.15058436425362612,
          0.14948665232587247,
          0.14838370404157783,
          0.1472757560973118,
          0.1461630550711614,
          0.1450458562143784,
          0.14392442223122126,
          0.1427990220536976,
          0.1416699296177902,
          0.14053742264759694,
          0.13940178145361418,
          0.1382632877511708,
          0.1371222235047745,
          0.13597886980383386,
          0.13483350577493008,
          0.1336864075354731,
          0.13253784719323577,
          0.13138809189588746,
          0.13023740293428548,
          0.12908603490287618,
          0.1279342349201755,
          0.12678224191188947,
          0.12563028595883208,
          0.12447858771139264,
          0.12332735787190593,
          0.12217679674587337,
          0.12102709386260022,
          0.1198784276654323,
          0.11873096527139734,
          0.11758486229970957,
          0.11644026276825051,
          0.11529729905680602,
          0.11415609193554427,
          0.11301675065691721,
          0.11187937310890789,
          0.11074404602728702,
          0.10961084526432548,
          0.10847983611119197,
          0.10735107367108697,
          0.10622460327999993,
          0.10510046097183523,
          0.10397867398453615,
          0.10285926130373543,
          0.10174223424039114,
          0.10062759703880314,
          0.0995153475113814,
          0.09840547769650952,
          0.09729797453586006,
          0.09619282056753227,
          0.09508999463142165,
          0.09398947258328462,
          0.09289122801402457,
          0.09179523297081173,
          0.09070145867673816,
          0.08960987624581264,
          0.08852045739021927,
          0.08743317511688103,
          0.08634800441050532,
          0.08526492290042392,
          0.08418391150868491,
          0.08310495507700318,
          0.08202804297032716,
          0.0809531696549378,
          0.0798803352491497,
          0.07880954604484915,
          0.07774081499825537,
          0.07667416218846014,
          0.07560961524244969,
          0.07454720972547843,
          0.07348698949581414,
          0.0724290070230277,
          0.07137332366915256,
          0.0703200099321823,
          0.06926914565151948,
          0.06822082017513026,
          0.06717513248828617,
          0.06613219130391583,
          0.06509211511470671,
          0.06405503220722013,
          0.06302108063840435,
          0.06199040817499219,
          0.06096317219638688,
          0.059939539561734326,
          0.0589196864419783,
          0.05790379811778682,
          0.056892068744326646,
          0.05588470108394059,
          0.05488190620785996,
          0.05388390316815893,
          0.052890918641219774,
          0.05190318654404282,
          0.05092094762479111,
          0.049944449029009366,
          0.04897394384300912,
          0.04800969061594806,
          0.04705195286217379,
          0.04610099854543473,
          0.04515709954658461,
          0.04422053111643839,
          0.04329157131544772,
          0.04237050044188606,
          0.041457600450238344,
          0.04055315436149687,
          0.039657445667067956,
          0.03877075772798607,
          0.03789337317112976,
          0.037025573284116216,
          0.03616763741053942,
          0.03531984234719322,
          0.03448246174489813,
          0.03365576551452167,
          0.032840019239749677,
          0.032035483598130764,
          0.03124241379187626,
          0.030461058989854736,
          0.029691661782175978,
          0.028934457648707806,
          0.028189674442818544,
          0.02745753189158296,
          0.026738241113631628,
          0.026032004155764385,
          0.025339013549386852,
          0.02465945188776465,
          0.023993491425024816,
          0.023341293697765986,
          0.02270300917007239,
          0.022078776902654893,
          0.021468724246772857,
          0.020872966563520674,
          0.02029160696898836,
          0.019724736105737113,
          0.019172431940956063,
          0.018634759591595378,
          0.01811177117670092,
          0.017603505697101535,
          0.01710998894253204,
          0.016631233426204817,
          0.016167238346772625,
          0.01571798957756062,
          0.01528345968287539,
          0.014863607961137315,
          0.014458380514516676,
          0.01406771034469202,
          0.013691517474291091,
          0.013329709093512202,
          0.012982179731371276,
          0.012648811450961793,
          0.012329474068063477,
          0.01202402539238488,
          0.011732311490675332,
          0.011454166970896466,
          0.011189415286598576,
          0.010937869060605197,
          0.01069933042707028,
          0.010473591390934846,
          0.01026043420377531,
          0.010059631755004536,
          0.009870947977355632,
          0.009694138265554018,
          0.0095289499070572,
          0.009375122523721961,
          0.009232388523240119,
          0.009100473559168204,
          0.008979096998365157,
          0.008867972394642048,
          0.008766807967422666,
          0.008675307084210613,
          0.008593168745659505,
          0.008520088072046685,
          0.008455756789958364,
          0.00839986371800518,
          0.00835209525040138,
          0.008312135837258962,
          0.00827966846046986,
          0.00825437510407417,
          0.008235937218041459,
          0.008224036174424297,
          0.008218353714879266,
          0.00821857238858982,
          0.008224375979668097,
          0.00823544992315906,
          0.008251481708819067,
          0.008272161271893584,
          0.008297181370173644,
          0.008326237946668294,
          0.00835903047729087,
          0.008395262303018727,
          0.008434640946051382,
          0.008476878409557156,
          0.008521691460666886,
          0.008568801896441042,
          0.008617936792606725,
          0.008668828734930306,
          0.008721216033161444,
          0.008774842917553937,
          0.00882945971803733,
          0.008884823026181208,
          0.008940695840160271,
          0.008996847692992535,
          0.009053054764385273,
          0.009109099976582817,
          0.009164773074666534,
          0.00921987069181097,
          0.009274196400048892,
          0.009327560747144192,
          0.009379781280211849,
          0.00943068255676156,
          0.009480096143872945,
          0.009527860606236867,
          0.009573821483819423,
          0.009617831259920972,
          0.00965974932041359,
          0.009699441904945783,
          0.009736782050902915,
          0.009771649530906465,
          0.009803930784624161,
          0.00983351884564672,
          0.00986031326416578,
          0.009884220026161005,
          0.009905151469773745,
          0.009923026199508914,
          0.009937768998867422,
          0.009949310741968354,
          0.009957588304673158,
          0.009962544475675,
          0.00996412786796379,
          0.00996229283102366,
          0.009956999364063586,
          0.009948213030524974,
          0.009935904874052624,
          0.009920051336057513,
          0.009900634174942894,
          0.009877640387008519,
          0.009851062128992777,
          0.00982089664215947,
          0.009787146177784863,
          0.009749817923852594,
          0.00970892393271897,
          0.00966448104946977,
          0.009616510840652176,
          0.00956503952303187,
          0.00951009789199701,
          0.009451721249206173,
          0.009389949329058704,
          0.009324826223551496,
          0.00925640030507775,
          0.00918472414671943,
          0.009109854439586963,
          0.009031851906766837,
          0.008950781213449527,
          0.008866710872827813
         ],
         "yaxis": "y"
        },
        {
         "legendgroup": "no heart disease",
         "marker": {
          "color": "rgb(255, 127, 14)"
         },
         "mode": "lines",
         "name": "no heart disease",
         "showlegend": false,
         "type": "scatter",
         "x": [
          0,
          0.008400000000000001,
          0.016800000000000002,
          0.025200000000000004,
          0.033600000000000005,
          0.042,
          0.05040000000000001,
          0.058800000000000005,
          0.06720000000000001,
          0.07560000000000001,
          0.084,
          0.09240000000000001,
          0.10080000000000001,
          0.1092,
          0.11760000000000001,
          0.126,
          0.13440000000000002,
          0.1428,
          0.15120000000000003,
          0.1596,
          0.168,
          0.1764,
          0.18480000000000002,
          0.1932,
          0.20160000000000003,
          0.21,
          0.2184,
          0.2268,
          0.23520000000000002,
          0.2436,
          0.252,
          0.2604,
          0.26880000000000004,
          0.2772,
          0.2856,
          0.294,
          0.30240000000000006,
          0.3108,
          0.3192,
          0.3276,
          0.336,
          0.34440000000000004,
          0.3528,
          0.36119999999999997,
          0.36960000000000004,
          0.378,
          0.3864,
          0.3948,
          0.40320000000000006,
          0.4116,
          0.42,
          0.42840000000000006,
          0.4368,
          0.44520000000000004,
          0.4536,
          0.462,
          0.47040000000000004,
          0.4788,
          0.4872,
          0.49560000000000004,
          0.504,
          0.5124,
          0.5208,
          0.5292,
          0.5376000000000001,
          0.546,
          0.5544,
          0.5628000000000001,
          0.5712,
          0.5796,
          0.588,
          0.5963999999999999,
          0.6048000000000001,
          0.6132000000000001,
          0.6216,
          0.63,
          0.6384,
          0.6468,
          0.6552,
          0.6636,
          0.672,
          0.6804,
          0.6888000000000001,
          0.6972,
          0.7056,
          0.714,
          0.7223999999999999,
          0.7308000000000001,
          0.7392000000000001,
          0.7476,
          0.756,
          0.7644,
          0.7728,
          0.7812,
          0.7896,
          0.798,
          0.8064000000000001,
          0.8148000000000001,
          0.8232,
          0.8316,
          0.84,
          0.8484,
          0.8568000000000001,
          0.8652000000000001,
          0.8736,
          0.882,
          0.8904000000000001,
          0.8988,
          0.9072,
          0.9156,
          0.924,
          0.9324000000000001,
          0.9408000000000001,
          0.9492,
          0.9576,
          0.966,
          0.9744,
          0.9828000000000001,
          0.9912000000000001,
          0.9996,
          1.008,
          1.0164000000000002,
          1.0248,
          1.0332000000000001,
          1.0416,
          1.05,
          1.0584,
          1.0668,
          1.0752000000000002,
          1.0836000000000001,
          1.092,
          1.1004,
          1.1088,
          1.1172,
          1.1256000000000002,
          1.134,
          1.1424,
          1.1508,
          1.1592,
          1.1676000000000002,
          1.176,
          1.1844000000000001,
          1.1927999999999999,
          1.2012,
          1.2096000000000002,
          1.218,
          1.2264000000000002,
          1.2348,
          1.2432,
          1.2516,
          1.26,
          1.2684000000000002,
          1.2768,
          1.2852000000000001,
          1.2936,
          1.302,
          1.3104,
          1.3188,
          1.3272,
          1.3356000000000001,
          1.344,
          1.3524,
          1.3608,
          1.3692,
          1.3776000000000002,
          1.386,
          1.3944,
          1.4028,
          1.4112,
          1.4196000000000002,
          1.428,
          1.4364000000000001,
          1.4447999999999999,
          1.4532,
          1.4616000000000002,
          1.47,
          1.4784000000000002,
          1.4868,
          1.4952,
          1.5036,
          1.512,
          1.5204000000000002,
          1.5288,
          1.5372000000000001,
          1.5456,
          1.554,
          1.5624,
          1.5708,
          1.5792,
          1.5876000000000001,
          1.596,
          1.6044,
          1.6128000000000002,
          1.6212,
          1.6296000000000002,
          1.638,
          1.6464,
          1.6548000000000003,
          1.6632,
          1.6716000000000002,
          1.68,
          1.6884000000000001,
          1.6968,
          1.7052,
          1.7136000000000002,
          1.722,
          1.7304000000000002,
          1.7388000000000001,
          1.7472,
          1.7556,
          1.764,
          1.7724000000000002,
          1.7808000000000002,
          1.7892000000000001,
          1.7976,
          1.806,
          1.8144,
          1.8228000000000002,
          1.8312,
          1.8396000000000001,
          1.848,
          1.8564,
          1.8648000000000002,
          1.8732,
          1.8816000000000002,
          1.89,
          1.8984,
          1.9068000000000003,
          1.9152,
          1.9236000000000002,
          1.932,
          1.9404000000000001,
          1.9488,
          1.9572,
          1.9656000000000002,
          1.974,
          1.9824000000000002,
          1.9908000000000001,
          1.9992,
          2.0076,
          2.016,
          2.0244,
          2.0328000000000004,
          2.0412,
          2.0496,
          2.058,
          2.0664000000000002,
          2.0748,
          2.0832,
          2.0916,
          2.1,
          2.1084,
          2.1168,
          2.1252000000000004,
          2.1336,
          2.142,
          2.1504000000000003,
          2.1588000000000003,
          2.1672000000000002,
          2.1755999999999998,
          2.184,
          2.1924,
          2.2008,
          2.2092,
          2.2176,
          2.226,
          2.2344,
          2.2428000000000003,
          2.2512000000000003,
          2.2596,
          2.268,
          2.2764,
          2.2848,
          2.2932,
          2.3016,
          2.31,
          2.3184,
          2.3268,
          2.3352000000000004,
          2.3436,
          2.352,
          2.3604000000000003,
          2.3688000000000002,
          2.3772,
          2.3855999999999997,
          2.394,
          2.4024,
          2.4108,
          2.4192000000000005,
          2.4276,
          2.436,
          2.4444,
          2.4528000000000003,
          2.4612000000000003,
          2.4696,
          2.478,
          2.4864,
          2.4948,
          2.5032,
          2.5116,
          2.52,
          2.5284,
          2.5368000000000004,
          2.5452000000000004,
          2.5536,
          2.562,
          2.5704000000000002,
          2.5788,
          2.5872,
          2.5956,
          2.604,
          2.6124,
          2.6208,
          2.6292000000000004,
          2.6376,
          2.646,
          2.6544,
          2.6628000000000003,
          2.6712000000000002,
          2.6795999999999998,
          2.688,
          2.6964,
          2.7048,
          2.7132,
          2.7216,
          2.73,
          2.7384,
          2.7468000000000004,
          2.7552000000000003,
          2.7636,
          2.772,
          2.7804,
          2.7888,
          2.7972,
          2.8056,
          2.814,
          2.8224,
          2.8308,
          2.8392000000000004,
          2.8476,
          2.856,
          2.8644000000000003,
          2.8728000000000002,
          2.8812,
          2.8895999999999997,
          2.898,
          2.9064,
          2.9148,
          2.9232000000000005,
          2.9316,
          2.94,
          2.9484,
          2.9568000000000003,
          2.9652000000000003,
          2.9736,
          2.982,
          2.9904,
          2.9988,
          3.0072,
          3.0156,
          3.024,
          3.0324,
          3.0408000000000004,
          3.0492000000000004,
          3.0576,
          3.066,
          3.0744000000000002,
          3.0828,
          3.0912,
          3.0995999999999997,
          3.108,
          3.1164,
          3.1248,
          3.1332000000000004,
          3.1416,
          3.15,
          3.1584,
          3.1668000000000003,
          3.1752000000000002,
          3.1835999999999998,
          3.192,
          3.2004,
          3.2088,
          3.2172,
          3.2256000000000005,
          3.234,
          3.2424,
          3.2508000000000004,
          3.2592000000000003,
          3.2676000000000003,
          3.276,
          3.2844,
          3.2928,
          3.3012,
          3.3096000000000005,
          3.318,
          3.3264,
          3.3348,
          3.3432000000000004,
          3.3516000000000004,
          3.36,
          3.3684000000000003,
          3.3768000000000002,
          3.3852,
          3.3936,
          3.402,
          3.4104,
          3.4188,
          3.4272000000000005,
          3.4356000000000004,
          3.444,
          3.4524,
          3.4608000000000003,
          3.4692000000000003,
          3.4776000000000002,
          3.486,
          3.4944,
          3.5028,
          3.5112,
          3.5196000000000005,
          3.528,
          3.5364,
          3.5448000000000004,
          3.5532000000000004,
          3.5616000000000003,
          3.57,
          3.5784000000000002,
          3.5868,
          3.5952,
          3.6036000000000006,
          3.612,
          3.6204,
          3.6288,
          3.6372000000000004,
          3.6456000000000004,
          3.654,
          3.6624,
          3.6708000000000003,
          3.6792000000000002,
          3.6876,
          3.696,
          3.7044,
          3.7128,
          3.7212,
          3.7296000000000005,
          3.738,
          3.7464,
          3.7548000000000004,
          3.7632000000000003,
          3.7716000000000003,
          3.78,
          3.7884,
          3.7968,
          3.8052,
          3.8136000000000005,
          3.822,
          3.8304,
          3.8388,
          3.8472000000000004,
          3.8556000000000004,
          3.864,
          3.8724000000000003,
          3.8808000000000002,
          3.8892,
          3.8976,
          3.906,
          3.9144,
          3.9228,
          3.9312000000000005,
          3.9396000000000004,
          3.948,
          3.9564,
          3.9648000000000003,
          3.9732000000000003,
          3.9816000000000003,
          3.99,
          3.9984,
          4.0068,
          4.0152,
          4.0236,
          4.032,
          4.0404,
          4.0488,
          4.0572,
          4.065600000000001,
          4.074,
          4.0824,
          4.0908,
          4.0992,
          4.107600000000001,
          4.116,
          4.1244000000000005,
          4.1328000000000005,
          4.1411999999999995,
          4.1496,
          4.158,
          4.1664,
          4.1748,
          4.1832,
          4.1916
         ],
         "xaxis": "x",
         "y": [
          0.7580855495576029,
          0.7618230657035541,
          0.7650475867216505,
          0.7677574945479035,
          0.7699524851503857,
          0.771633562203048,
          0.7728030250655816,
          0.7734644511571056,
          0.773622672845451,
          0.773283749006916,
          0.7724549314431282,
          0.7711446263720568,
          0.7693623512388612,
          0.7671186871190232,
          0.7644252270108867,
          0.761294520337128,
          0.7577400139945882,
          0.7537759903093585,
          0.7494175022686933,
          0.7446803064133307,
          0.7395807937829041,
          0.734135919313486,
          0.7283631300897107,
          0.7222802928544806,
          0.7159056211771264,
          0.7092576026757826,
          0.7023549266822114,
          0.6952164127270178,
          0.6878609402105631,
          0.6803073796099804,
          0.6725745255555117,
          0.6646810320904587,
          0.6566453504081206,
          0.6484856693367359,
          0.6402198588196831,
          0.6318654166132737,
          0.6234394183985981,
          0.61495847147737,
          0.6064386721946297,
          0.5978955672038435,
          0.5893441186626054,
          0.5807986734199091,
          0.5722729362291219,
          0.5637799469945247,
          0.5553320620337302,
          0.5469409393137104,
          0.5386175275945803,
          0.5303720593930301,
          0.5222140476563253,
          0.5141522860182968,
          0.5061948524908956,
          0.4983491164285755,
          0.4906217485882828,
          0.48301873409506696,
          0.4755453881123619,
          0.46820637400687315,
          0.4610057237906932,
          0.4539468606177542,
          0.4470326231080249,
          0.44026529127085884,
          0.43364661379860825,
          0.4271778365029173,
          0.42085973166896756,
          0.41469262810727464,
          0.4086764416882373,
          0.4028107061516266,
          0.39709460399121416,
          0.39152699722386985,
          0.386106457862469,
          0.3808312979227645,
          0.3756995988059093,
          0.37070923991035687,
          0.3658579263394028,
          0.3611432155834888,
          0.3565625430694152,
          0.35211324648182774,
          0.3477925887755051,
          0.3435977798100374,
          0.33952599655141613,
          0.3355744017976275,
          0.3317401613976566,
          0.3280204599450732,
          0.324412514938767,
          0.3209135894141229,
          0.31752100305814024,
          0.31423214183148784,
          0.31104446612934894,
          0.30795551752101996,
          0.304962924115606,
          0.30206440460781825,
          0.29925777106373447,
          0.2965409305115368,
          0.29391188540658236,
          0.29136873304383115,
          0.2889096639935348,
          0.2865329596383198,
          0.2842369888913014,
          0.2820202041757676,
          0.27988113674722664,
          0.2778183914382764,
          0.2758306409059344,
          0.27391661945964835,
          0.27207511654645994,
          0.27030496996745845,
          0.2686050588971421,
          0.26697429677428064,
          0.26541162412968416,
          0.26391600141277793,
          0.26248640187521954,
          0.2611218045659295,
          0.2598211874879557,
          0.2585835209635322,
          0.2574077612495991,
          0.25629284444192385,
          0.2552376807018905,
          0.25424114883594573,
          0.2533020912537278,
          0.25241930932703954,
          0.2515915591680349,
          0.2508175478413953,
          0.2500959300217875,
          0.24942530510462407,
          0.24880421477498635,
          0.24823114103668623,
          0.24770450470068361,
          0.2472226643295495,
          0.2467839156323206,
          0.24638649130198267,
          0.2460285612858568,
          0.24570823347743895,
          0.24542355481668557,
          0.2451725127843731,
          0.24495303727497267,
          0.244763002831417,
          0.24460023122431784,
          0.2444624943574108,
          0.24434751748043526,
          0.2442529826901851,
          0.24417653270007628,
          0.2441157748583572,
          0.24406828539485637,
          0.24403161387611225,
          0.24400328784866787,
          0.24398081765034016,
          0.2439617013693645,
          0.24394342993138926,
          0.24392349229447707,
          0.24389938073241468,
          0.24386859618682344,
          0.24382865366877546,
          0.24377708769082046,
          0.24371145771058936,
          0.2436293535673117,
          0.24352840089291566,
          0.2434062664795306,
          0.24326066358557522,
          0.24308935716279204,
          0.24289016898696256,
          0.24266098267528283,
          0.24239974857374486,
          0.2421044884982134,
          0.2417733003132708,
          0.2414043623333441,
          0.24099593753106227,
          0.24054637753833835,
          0.24005412642618804,
          0.23951772424993403,
          0.23893581034710096,
          0.23830712637602314,
          0.23763051908397856,
          0.23690494279450372,
          0.23612946160445827,
          0.23530325128235188,
          0.23442560086051997,
          0.23349591391476401,
          0.23251370952625805,
          0.23147862292169138,
          0.23039040578885758,
          0.2292489262661623,
          0.2280541686058589,
          0.22680623251210047,
          0.22550533215630422,
          0.22415179487361064,
          0.22274605954563165,
          0.22128867467597219,
          0.2197802961663598,
          0.21822168480247625,
          0.2166137034598437,
          0.21495731404131443,
          0.21325357415880383,
          0.21150363357302945,
          0.20970873040593058,
          0.20787018714138938,
          0.2059894064306363,
          0.2040678667194448,
          0.20210711771479903,
          0.20010877570920976,
          0.1980745187812042,
          0.1960060818908026,
          0.19390525188889765,
          0.1917738624594954,
          0.18961378901367487,
          0.18742694355392872,
          0.18521526952722153,
          0.182980736684703,
          0.1807253359654907,
          0.17845107442133756,
          0.1761599701983198,
          0.1738540475909078,
          0.1715353321829859,
          0.16920584608946734,
          0.16686760331126635,
          0.16452260521539472,
          0.16217283615098352,
          0.15982025921101115,
          0.15746681214853286,
          0.15511440345517152,
          0.15276490860866854,
          0.1504201664953021,
          0.14808197601205086,
          0.14575209285248258,
          0.14343222647947515,
          0.14112403728708425,
          0.13882913395311214,
          0.13654907098322414,
          0.13428534644684964,
          0.1320393999044997,
          0.12981261052564494,
          0.12760629539584015,
          0.1254217080113936,
          0.12326003695955137,
          0.12112240478189758,
          0.11900986701844625,
          0.11692341142972376,
          0.11486395739402278,
          0.11283235547689416,
          0.11082938716989657,
          0.10885576479557689,
          0.1069121315756249,
          0.10499906185914788,
          0.10311706150800008,
          0.10126656843608665,
          0.09944795329956285,
          0.09766152033480753,
          0.09590750834101368,
          0.0941860918041685,
          0.09249738215910323,
          0.09084142918616565,
          0.08921822253892087,
          0.08762769339909053,
          0.08606971625472222,
          0.0845441107973197,
          0.08305064393338422,
          0.08158903190547638,
          0.08015894251758009,
          0.07875999745914854,
          0.0773917747218308,
          0.07605381110244537,
          0.0747456047853446,
          0.07346661799686788,
          0.07221627972414617,
          0.07099398849008069,
          0.06979911517589589,
          0.06863100588225554,
          0.06748898481955205,
          0.06637235721762233,
          0.06528041224482774,
          0.06421242592616547,
          0.06316766404984943,
          0.06214538505163081,
          0.06114484286601497,
          0.060165289733483875,
          0.05920597895284569,
          0.05826616756792114,
          0.05734511897793733,
          0.05644210546121933,
          0.055556410602080594,
          0.054687331611187696,
          0.05383418153011658,
          0.05299629131133878,
          0.05217301176546193,
          0.05136371536819303,
          0.050567797920201135,
          0.04978468005382802,
          0.049013808581397714,
          0.04825465768074022,
          0.047506729914444254,
          0.04676955708026976,
          0.04604270089111295,
          0.04532575348387973,
          0.0446183377576008,
          0.043920107542098415,
          0.04323074759949351,
          0.04254997346179312,
          0.041877531108740276,
          0.041213196491016485,
          0.04055677490475853,
          0.03990810022418397,
          0.03926703399989987,
          0.038633464431197945,
          0.03800730522130319,
          0.0373884943251488,
          0.03677699259977728,
          0.03617278236793,
          0.03557586590576727,
          0.034986263865965,
          0.03440401364765555,
          0.033829167724821134,
          0.03326179194480507,
          0.032701963808582014,
          0.03214977074432102,
          0.03160530838559003,
          0.03106867886528389,
          0.03053998913601996,
          0.030019349327332044,
          0.02950687114951159,
          0.029002666353403556,
          0.028506845254855806,
          0.028019515331865797,
          0.027540779901758582,
          0.02707073688498117,
          0.02660947766131077,
          0.026157086023456066,
          0.025713637232190736,
          0.025279197176298427,
          0.024853821639739936,
          0.024437555677581144,
          0.02403043310134924,
          0.023632476073627413,
          0.023243694810852814,
          0.02286408739246401,
          0.022493639673752477,
          0.022132325299016636,
          0.021780105810901586,
          0.021436930851139166,
          0.021102738447283356,
          0.020777455379474924,
          0.02046099762076328,
          0.02015327084407554,
          0.01985417098854645,
          0.01956358487761699,
          0.019281390881074233,
          0.01900745961304015,
          0.01874165465782536,
          0.01848383331554461,
          0.018233847359443337,
          0.017991543797008316,
          0.017756765627127535,
          0.01752935258582569,
          0.017309141873424163,
          0.01709596885635963,
          0.016889667737338073,
          0.016690072187993236,
          0.01649701593876224,
          0.016310333321274333,
          0.016129859759170282,
          0.015955432203921836,
          0.015786889512897247,
          0.01562407276761413,
          0.015466825530826905,
          0.015314994041808593,
          0.015168427349895347,
          0.015026977387064697,
          0.01489049898100377,
          0.014758849810789282,
          0.014631890307937325,
          0.014509483506184652,
          0.01439149484392634,
          0.014277791923753344,
          0.014168244234002874,
          0.01406272283764887,
          0.013961100034217085,
          0.01386324900070419,
          0.013769043417712365,
          0.013678357087175224,
          0.013591063548148614,
          0.013507035697168735,
          0.013426145419639513,
          0.013348263238603532,
          0.013273257987075005,
          0.013200996509872873,
          0.013131343400588424,
          0.013064160778958526,
          0.012999308113495877,
          0.012936642093756051,
          0.012876016556102066,
          0.012817282466265689,
          0.012760287961406677,
          0.012704878453742007,
          0.012650896797163204,
          0.012598183517587798,
          0.012546577107106695,
          0.012495914381300047,
          0.01244603089840616,
          0.012396761438348555,
          0.012347940538960912,
          0.012299403086105712,
          0.012250984953765632,
          0.012202523689602875,
          0.012153859240936603,
          0.012104834715587372,
          0.012055297171584644,
          0.012005098429333722,
          0.011954095899494643,
          0.01190215341954243,
          0.011849142091756049,
          0.011794941115227239,
          0.01173943860438852,
          0.011682532386535504,
          0.011624130770860839,
          0.01156415328162565,
          0.011502531348268499,
          0.01143920894548965,
          0.011374143176648133,
          0.011307304794167227,
          0.011238678651058539,
          0.011168264078141255,
          0.011096075182047407,
          0.011022141059662227,
          0.010946505925245638,
          0.010869229147111305,
          0.01079038519139893,
          0.010710063471157471,
          0.010628368099656003,
          0.010545417547549696,
          0.010461344204245287,
          0.010376293844526511,
          0.010290425002211268,
          0.010203908253311841,
          0.010116925411852704,
          0.010029668642161644,
          0.009942339492084592,
          0.009855147852177464,
          0.009768310846495288,
          0.009682051661126402,
          0.0095965983171028,
          0.0095121823947543,
          0.009429037716960914,
          0.009347398999092264,
          0.009267500473702206,
          0.009189574498271147,
          0.009113850154454239,
          0.009040551847402014,
          0.00896989791376946,
          0.008902099247020512,
          0.008837357948567832,
          0.008775866013163273,
          0.008717804056774265,
          0.00866334009494615,
          0.008612628379363276,
          0.008565808299984,
          0.00852300335973916,
          0.008484320228353322,
          0.008449847881375932,
          0.00841965682999887,
          0.008393798446691202,
          0.008372304391105199,
          0.008355186140103258,
          0.008342434625127787,
          0.008334019979489338,
          0.008329891397485991,
          0.00832997710659439,
          0.008334184453293406,
          0.00834240010239962,
          0.008354490349114396,
          0.00837030154230864,
          0.00838966061690866,
          0.008412375732597786,
          0.008438237015418562,
          0.008467017398252535,
          0.008498473555573205,
          0.00853234692731532,
          0.008568364826184827,
          0.008606241622250444,
          0.008645679998213862,
          0.008686372268352683,
          0.008728001753772101,
          0.008770244206288724,
          0.008812769273005411,
          0.008855241993421796,
          0.008897324320760378,
          0.008938676659076415,
          0.008978959407659479,
          0.009017834504227135,
          0.00905496695845621,
          0.009090026367494097,
          0.009122688405240735,
          0.0091526362773903,
          0.009179562134468822,
          0.009203168435397778,
          0.009223169254452697,
          0.009239291524867225,
          0.009251276212753883,
          0.009258879415471122,
          0.009261873379057503,
          0.009260047429875797,
          0.009253208816158025,
          0.009241183455713512,
          0.009223816586651992,
          0.009200973318577806
         ],
         "yaxis": "y"
        },
        {
         "legendgroup": "heart disease",
         "marker": {
          "color": "rgb(31, 119, 180)",
          "symbol": "line-ns-open"
         },
         "mode": "markers",
         "name": "heart disease",
         "showlegend": false,
         "type": "scatter",
         "x": [
          1.4,
          2.6,
          0.2,
          0,
          0.8,
          1.2,
          3.8,
          0,
          1.4,
          1.8,
          0,
          0,
          0.3,
          0,
          0,
          1,
          2.9,
          2,
          1.6,
          0.8,
          1.8,
          0,
          1.2,
          3,
          2.2,
          2.5,
          3.2,
          0.4,
          0.6,
          0.6,
          2,
          0.8,
          0,
          3.6,
          0,
          2.6,
          2.4,
          3.4,
          1.5,
          2.6,
          0.2,
          0.9,
          1,
          1,
          0.1,
          1,
          2.8,
          0.6,
          2.2,
          2,
          1.4,
          4,
          1.8,
          0,
          1.8,
          4,
          3.6,
          6.2,
          1.8,
          1.9,
          1.4,
          3.6,
          1,
          3.6,
          0,
          1.9,
          0,
          2.4,
          2.8,
          2.8,
          2.6,
          1.2,
          1.4,
          1.4,
          0,
          3.4,
          1.2,
          0,
          1,
          0,
          4.4,
          2.2,
          3,
          2,
          2.8,
          0.8,
          0,
          0.1,
          0.6,
          1,
          1.2,
          3,
          0.2,
          1.2,
          4,
          1.6,
          1.2,
          2.1,
          1.9,
          5.6,
          1.2,
          0.8,
          3.4,
          2,
          2.2,
          1.4,
          2.8,
          0,
          3.2,
          3.1,
          2,
          0,
          0,
          1,
          1.2,
          4.2,
          1.6,
          2.6,
          0.9,
          0.5,
          0,
          1,
          1.8,
          0.8,
          0,
          2.8,
          0,
          0,
          2.5,
          3,
          1.8,
          0,
          2,
          0,
          1.2,
          1.6,
          0
         ],
         "xaxis": "x",
         "y": [
          "heart disease",
          "heart disease",
          "heart disease",
          "heart disease",
          "heart disease",
          "heart disease",
          "heart disease",
          "heart disease",
          "heart disease",
          "heart disease",
          "heart disease",
          "heart disease",
          "heart disease",
          "heart disease",
          "heart disease",
          "heart disease",
          "heart disease",
          "heart disease",
          "heart disease",
          "heart disease",
          "heart disease",
          "heart disease",
          "heart disease",
          "heart disease",
          "heart disease",
          "heart disease",
          "heart disease",
          "heart disease",
          "heart disease",
          "heart disease",
          "heart disease",
          "heart disease",
          "heart disease",
          "heart disease",
          "heart disease",
          "heart disease",
          "heart disease",
          "heart disease",
          "heart disease",
          "heart disease",
          "heart disease",
          "heart disease",
          "heart disease",
          "heart disease",
          "heart disease",
          "heart disease",
          "heart disease",
          "heart disease",
          "heart disease",
          "heart disease",
          "heart disease",
          "heart disease",
          "heart disease",
          "heart disease",
          "heart disease",
          "heart disease",
          "heart disease",
          "heart disease",
          "heart disease",
          "heart disease",
          "heart disease",
          "heart disease",
          "heart disease",
          "heart disease",
          "heart disease",
          "heart disease",
          "heart disease",
          "heart disease",
          "heart disease",
          "heart disease",
          "heart disease",
          "heart disease",
          "heart disease",
          "heart disease",
          "heart disease",
          "heart disease",
          "heart disease",
          "heart disease",
          "heart disease",
          "heart disease",
          "heart disease",
          "heart disease",
          "heart disease",
          "heart disease",
          "heart disease",
          "heart disease",
          "heart disease",
          "heart disease",
          "heart disease",
          "heart disease",
          "heart disease",
          "heart disease",
          "heart disease",
          "heart disease",
          "heart disease",
          "heart disease",
          "heart disease",
          "heart disease",
          "heart disease",
          "heart disease",
          "heart disease",
          "heart disease",
          "heart disease",
          "heart disease",
          "heart disease",
          "heart disease",
          "heart disease",
          "heart disease",
          "heart disease",
          "heart disease",
          "heart disease",
          "heart disease",
          "heart disease",
          "heart disease",
          "heart disease",
          "heart disease",
          "heart disease",
          "heart disease",
          "heart disease",
          "heart disease",
          "heart disease",
          "heart disease",
          "heart disease",
          "heart disease",
          "heart disease",
          "heart disease",
          "heart disease",
          "heart disease",
          "heart disease",
          "heart disease",
          "heart disease",
          "heart disease",
          "heart disease",
          "heart disease",
          "heart disease",
          "heart disease",
          "heart disease"
         ],
         "yaxis": "y2"
        },
        {
         "legendgroup": "no heart disease",
         "marker": {
          "color": "rgb(255, 127, 14)",
          "symbol": "line-ns-open"
         },
         "mode": "markers",
         "name": "no heart disease",
         "showlegend": false,
         "type": "scatter",
         "x": [
          0.1,
          1.8,
          2.6,
          1.8,
          0.6,
          2.3,
          0.9,
          4.2,
          1,
          1.9,
          0,
          1.2,
          1.4,
          0.8,
          1.4,
          0,
          0.2,
          0.4,
          0,
          0,
          0,
          0,
          0,
          1.3,
          0.8,
          0,
          1.4,
          0,
          1.2,
          0,
          0,
          0.2,
          0.8,
          0,
          1.1,
          0,
          0.6,
          0.2,
          0,
          0,
          0.6,
          0,
          0,
          0,
          0,
          0,
          0,
          0,
          1.4,
          0,
          0,
          0,
          0,
          0,
          0.7,
          0,
          1.1,
          0,
          1.5,
          1,
          1.6,
          0,
          0,
          0.8,
          0.8,
          0.8,
          0.2,
          0,
          1.8,
          1,
          0,
          0,
          1.6,
          0.6,
          0,
          0,
          1.6,
          0.2,
          0.5,
          0.4,
          1.6,
          0,
          1.6,
          0,
          0,
          1.2,
          0,
          0.1,
          0.5,
          1.2,
          2.4,
          0.6,
          1.5,
          0.5,
          0,
          0.6,
          1.6,
          0,
          0.2,
          0,
          0,
          0,
          1.4,
          0.6,
          0.3,
          0.4,
          0,
          0,
          0.2,
          1.9,
          0.8,
          0,
          0,
          2,
          0,
          0,
          0,
          0,
          0,
          3.5,
          0,
          1.6,
          0.3,
          0.4,
          2.3,
          0.4,
          2,
          0.2,
          0,
          1.2,
          0,
          0.5,
          0,
          1,
          0.6,
          0.4,
          1.5,
          0.6,
          0,
          0,
          1.2,
          0.4,
          0,
          0,
          0.1,
          0,
          0,
          0,
          0,
          0.1,
          0,
          3,
          0.2,
          0,
          1.2,
          1.5,
          0,
          0.6,
          0,
          1.4
         ],
         "xaxis": "x",
         "y": [
          "no heart disease",
          "no heart disease",
          "no heart disease",
          "no heart disease",
          "no heart disease",
          "no heart disease",
          "no heart disease",
          "no heart disease",
          "no heart disease",
          "no heart disease",
          "no heart disease",
          "no heart disease",
          "no heart disease",
          "no heart disease",
          "no heart disease",
          "no heart disease",
          "no heart disease",
          "no heart disease",
          "no heart disease",
          "no heart disease",
          "no heart disease",
          "no heart disease",
          "no heart disease",
          "no heart disease",
          "no heart disease",
          "no heart disease",
          "no heart disease",
          "no heart disease",
          "no heart disease",
          "no heart disease",
          "no heart disease",
          "no heart disease",
          "no heart disease",
          "no heart disease",
          "no heart disease",
          "no heart disease",
          "no heart disease",
          "no heart disease",
          "no heart disease",
          "no heart disease",
          "no heart disease",
          "no heart disease",
          "no heart disease",
          "no heart disease",
          "no heart disease",
          "no heart disease",
          "no heart disease",
          "no heart disease",
          "no heart disease",
          "no heart disease",
          "no heart disease",
          "no heart disease",
          "no heart disease",
          "no heart disease",
          "no heart disease",
          "no heart disease",
          "no heart disease",
          "no heart disease",
          "no heart disease",
          "no heart disease",
          "no heart disease",
          "no heart disease",
          "no heart disease",
          "no heart disease",
          "no heart disease",
          "no heart disease",
          "no heart disease",
          "no heart disease",
          "no heart disease",
          "no heart disease",
          "no heart disease",
          "no heart disease",
          "no heart disease",
          "no heart disease",
          "no heart disease",
          "no heart disease",
          "no heart disease",
          "no heart disease",
          "no heart disease",
          "no heart disease",
          "no heart disease",
          "no heart disease",
          "no heart disease",
          "no heart disease",
          "no heart disease",
          "no heart disease",
          "no heart disease",
          "no heart disease",
          "no heart disease",
          "no heart disease",
          "no heart disease",
          "no heart disease",
          "no heart disease",
          "no heart disease",
          "no heart disease",
          "no heart disease",
          "no heart disease",
          "no heart disease",
          "no heart disease",
          "no heart disease",
          "no heart disease",
          "no heart disease",
          "no heart disease",
          "no heart disease",
          "no heart disease",
          "no heart disease",
          "no heart disease",
          "no heart disease",
          "no heart disease",
          "no heart disease",
          "no heart disease",
          "no heart disease",
          "no heart disease",
          "no heart disease",
          "no heart disease",
          "no heart disease",
          "no heart disease",
          "no heart disease",
          "no heart disease",
          "no heart disease",
          "no heart disease",
          "no heart disease",
          "no heart disease",
          "no heart disease",
          "no heart disease",
          "no heart disease",
          "no heart disease",
          "no heart disease",
          "no heart disease",
          "no heart disease",
          "no heart disease",
          "no heart disease",
          "no heart disease",
          "no heart disease",
          "no heart disease",
          "no heart disease",
          "no heart disease",
          "no heart disease",
          "no heart disease",
          "no heart disease",
          "no heart disease",
          "no heart disease",
          "no heart disease",
          "no heart disease",
          "no heart disease",
          "no heart disease",
          "no heart disease",
          "no heart disease",
          "no heart disease",
          "no heart disease",
          "no heart disease",
          "no heart disease",
          "no heart disease",
          "no heart disease",
          "no heart disease",
          "no heart disease",
          "no heart disease",
          "no heart disease",
          "no heart disease",
          "no heart disease"
         ],
         "yaxis": "y2"
        }
       ],
       "layout": {
        "barmode": "overlay",
        "hovermode": "closest",
        "legend": {
         "traceorder": "reversed"
        },
        "template": {
         "data": {
          "bar": [
           {
            "error_x": {
             "color": "#2a3f5f"
            },
            "error_y": {
             "color": "#2a3f5f"
            },
            "marker": {
             "line": {
              "color": "#E5ECF6",
              "width": 0.5
             }
            },
            "type": "bar"
           }
          ],
          "barpolar": [
           {
            "marker": {
             "line": {
              "color": "#E5ECF6",
              "width": 0.5
             }
            },
            "type": "barpolar"
           }
          ],
          "carpet": [
           {
            "aaxis": {
             "endlinecolor": "#2a3f5f",
             "gridcolor": "white",
             "linecolor": "white",
             "minorgridcolor": "white",
             "startlinecolor": "#2a3f5f"
            },
            "baxis": {
             "endlinecolor": "#2a3f5f",
             "gridcolor": "white",
             "linecolor": "white",
             "minorgridcolor": "white",
             "startlinecolor": "#2a3f5f"
            },
            "type": "carpet"
           }
          ],
          "choropleth": [
           {
            "colorbar": {
             "outlinewidth": 0,
             "ticks": ""
            },
            "type": "choropleth"
           }
          ],
          "contour": [
           {
            "colorbar": {
             "outlinewidth": 0,
             "ticks": ""
            },
            "colorscale": [
             [
              0,
              "#0d0887"
             ],
             [
              0.1111111111111111,
              "#46039f"
             ],
             [
              0.2222222222222222,
              "#7201a8"
             ],
             [
              0.3333333333333333,
              "#9c179e"
             ],
             [
              0.4444444444444444,
              "#bd3786"
             ],
             [
              0.5555555555555556,
              "#d8576b"
             ],
             [
              0.6666666666666666,
              "#ed7953"
             ],
             [
              0.7777777777777778,
              "#fb9f3a"
             ],
             [
              0.8888888888888888,
              "#fdca26"
             ],
             [
              1,
              "#f0f921"
             ]
            ],
            "type": "contour"
           }
          ],
          "contourcarpet": [
           {
            "colorbar": {
             "outlinewidth": 0,
             "ticks": ""
            },
            "type": "contourcarpet"
           }
          ],
          "heatmap": [
           {
            "colorbar": {
             "outlinewidth": 0,
             "ticks": ""
            },
            "colorscale": [
             [
              0,
              "#0d0887"
             ],
             [
              0.1111111111111111,
              "#46039f"
             ],
             [
              0.2222222222222222,
              "#7201a8"
             ],
             [
              0.3333333333333333,
              "#9c179e"
             ],
             [
              0.4444444444444444,
              "#bd3786"
             ],
             [
              0.5555555555555556,
              "#d8576b"
             ],
             [
              0.6666666666666666,
              "#ed7953"
             ],
             [
              0.7777777777777778,
              "#fb9f3a"
             ],
             [
              0.8888888888888888,
              "#fdca26"
             ],
             [
              1,
              "#f0f921"
             ]
            ],
            "type": "heatmap"
           }
          ],
          "heatmapgl": [
           {
            "colorbar": {
             "outlinewidth": 0,
             "ticks": ""
            },
            "colorscale": [
             [
              0,
              "#0d0887"
             ],
             [
              0.1111111111111111,
              "#46039f"
             ],
             [
              0.2222222222222222,
              "#7201a8"
             ],
             [
              0.3333333333333333,
              "#9c179e"
             ],
             [
              0.4444444444444444,
              "#bd3786"
             ],
             [
              0.5555555555555556,
              "#d8576b"
             ],
             [
              0.6666666666666666,
              "#ed7953"
             ],
             [
              0.7777777777777778,
              "#fb9f3a"
             ],
             [
              0.8888888888888888,
              "#fdca26"
             ],
             [
              1,
              "#f0f921"
             ]
            ],
            "type": "heatmapgl"
           }
          ],
          "histogram": [
           {
            "marker": {
             "colorbar": {
              "outlinewidth": 0,
              "ticks": ""
             }
            },
            "type": "histogram"
           }
          ],
          "histogram2d": [
           {
            "colorbar": {
             "outlinewidth": 0,
             "ticks": ""
            },
            "colorscale": [
             [
              0,
              "#0d0887"
             ],
             [
              0.1111111111111111,
              "#46039f"
             ],
             [
              0.2222222222222222,
              "#7201a8"
             ],
             [
              0.3333333333333333,
              "#9c179e"
             ],
             [
              0.4444444444444444,
              "#bd3786"
             ],
             [
              0.5555555555555556,
              "#d8576b"
             ],
             [
              0.6666666666666666,
              "#ed7953"
             ],
             [
              0.7777777777777778,
              "#fb9f3a"
             ],
             [
              0.8888888888888888,
              "#fdca26"
             ],
             [
              1,
              "#f0f921"
             ]
            ],
            "type": "histogram2d"
           }
          ],
          "histogram2dcontour": [
           {
            "colorbar": {
             "outlinewidth": 0,
             "ticks": ""
            },
            "colorscale": [
             [
              0,
              "#0d0887"
             ],
             [
              0.1111111111111111,
              "#46039f"
             ],
             [
              0.2222222222222222,
              "#7201a8"
             ],
             [
              0.3333333333333333,
              "#9c179e"
             ],
             [
              0.4444444444444444,
              "#bd3786"
             ],
             [
              0.5555555555555556,
              "#d8576b"
             ],
             [
              0.6666666666666666,
              "#ed7953"
             ],
             [
              0.7777777777777778,
              "#fb9f3a"
             ],
             [
              0.8888888888888888,
              "#fdca26"
             ],
             [
              1,
              "#f0f921"
             ]
            ],
            "type": "histogram2dcontour"
           }
          ],
          "mesh3d": [
           {
            "colorbar": {
             "outlinewidth": 0,
             "ticks": ""
            },
            "type": "mesh3d"
           }
          ],
          "parcoords": [
           {
            "line": {
             "colorbar": {
              "outlinewidth": 0,
              "ticks": ""
             }
            },
            "type": "parcoords"
           }
          ],
          "pie": [
           {
            "automargin": true,
            "type": "pie"
           }
          ],
          "scatter": [
           {
            "marker": {
             "colorbar": {
              "outlinewidth": 0,
              "ticks": ""
             }
            },
            "type": "scatter"
           }
          ],
          "scatter3d": [
           {
            "line": {
             "colorbar": {
              "outlinewidth": 0,
              "ticks": ""
             }
            },
            "marker": {
             "colorbar": {
              "outlinewidth": 0,
              "ticks": ""
             }
            },
            "type": "scatter3d"
           }
          ],
          "scattercarpet": [
           {
            "marker": {
             "colorbar": {
              "outlinewidth": 0,
              "ticks": ""
             }
            },
            "type": "scattercarpet"
           }
          ],
          "scattergeo": [
           {
            "marker": {
             "colorbar": {
              "outlinewidth": 0,
              "ticks": ""
             }
            },
            "type": "scattergeo"
           }
          ],
          "scattergl": [
           {
            "marker": {
             "colorbar": {
              "outlinewidth": 0,
              "ticks": ""
             }
            },
            "type": "scattergl"
           }
          ],
          "scattermapbox": [
           {
            "marker": {
             "colorbar": {
              "outlinewidth": 0,
              "ticks": ""
             }
            },
            "type": "scattermapbox"
           }
          ],
          "scatterpolar": [
           {
            "marker": {
             "colorbar": {
              "outlinewidth": 0,
              "ticks": ""
             }
            },
            "type": "scatterpolar"
           }
          ],
          "scatterpolargl": [
           {
            "marker": {
             "colorbar": {
              "outlinewidth": 0,
              "ticks": ""
             }
            },
            "type": "scatterpolargl"
           }
          ],
          "scatterternary": [
           {
            "marker": {
             "colorbar": {
              "outlinewidth": 0,
              "ticks": ""
             }
            },
            "type": "scatterternary"
           }
          ],
          "surface": [
           {
            "colorbar": {
             "outlinewidth": 0,
             "ticks": ""
            },
            "colorscale": [
             [
              0,
              "#0d0887"
             ],
             [
              0.1111111111111111,
              "#46039f"
             ],
             [
              0.2222222222222222,
              "#7201a8"
             ],
             [
              0.3333333333333333,
              "#9c179e"
             ],
             [
              0.4444444444444444,
              "#bd3786"
             ],
             [
              0.5555555555555556,
              "#d8576b"
             ],
             [
              0.6666666666666666,
              "#ed7953"
             ],
             [
              0.7777777777777778,
              "#fb9f3a"
             ],
             [
              0.8888888888888888,
              "#fdca26"
             ],
             [
              1,
              "#f0f921"
             ]
            ],
            "type": "surface"
           }
          ],
          "table": [
           {
            "cells": {
             "fill": {
              "color": "#EBF0F8"
             },
             "line": {
              "color": "white"
             }
            },
            "header": {
             "fill": {
              "color": "#C8D4E3"
             },
             "line": {
              "color": "white"
             }
            },
            "type": "table"
           }
          ]
         },
         "layout": {
          "annotationdefaults": {
           "arrowcolor": "#2a3f5f",
           "arrowhead": 0,
           "arrowwidth": 1
          },
          "coloraxis": {
           "colorbar": {
            "outlinewidth": 0,
            "ticks": ""
           }
          },
          "colorscale": {
           "diverging": [
            [
             0,
             "#8e0152"
            ],
            [
             0.1,
             "#c51b7d"
            ],
            [
             0.2,
             "#de77ae"
            ],
            [
             0.3,
             "#f1b6da"
            ],
            [
             0.4,
             "#fde0ef"
            ],
            [
             0.5,
             "#f7f7f7"
            ],
            [
             0.6,
             "#e6f5d0"
            ],
            [
             0.7,
             "#b8e186"
            ],
            [
             0.8,
             "#7fbc41"
            ],
            [
             0.9,
             "#4d9221"
            ],
            [
             1,
             "#276419"
            ]
           ],
           "sequential": [
            [
             0,
             "#0d0887"
            ],
            [
             0.1111111111111111,
             "#46039f"
            ],
            [
             0.2222222222222222,
             "#7201a8"
            ],
            [
             0.3333333333333333,
             "#9c179e"
            ],
            [
             0.4444444444444444,
             "#bd3786"
            ],
            [
             0.5555555555555556,
             "#d8576b"
            ],
            [
             0.6666666666666666,
             "#ed7953"
            ],
            [
             0.7777777777777778,
             "#fb9f3a"
            ],
            [
             0.8888888888888888,
             "#fdca26"
            ],
            [
             1,
             "#f0f921"
            ]
           ],
           "sequentialminus": [
            [
             0,
             "#0d0887"
            ],
            [
             0.1111111111111111,
             "#46039f"
            ],
            [
             0.2222222222222222,
             "#7201a8"
            ],
            [
             0.3333333333333333,
             "#9c179e"
            ],
            [
             0.4444444444444444,
             "#bd3786"
            ],
            [
             0.5555555555555556,
             "#d8576b"
            ],
            [
             0.6666666666666666,
             "#ed7953"
            ],
            [
             0.7777777777777778,
             "#fb9f3a"
            ],
            [
             0.8888888888888888,
             "#fdca26"
            ],
            [
             1,
             "#f0f921"
            ]
           ]
          },
          "colorway": [
           "#636efa",
           "#EF553B",
           "#00cc96",
           "#ab63fa",
           "#FFA15A",
           "#19d3f3",
           "#FF6692",
           "#B6E880",
           "#FF97FF",
           "#FECB52"
          ],
          "font": {
           "color": "#2a3f5f"
          },
          "geo": {
           "bgcolor": "white",
           "lakecolor": "white",
           "landcolor": "#E5ECF6",
           "showlakes": true,
           "showland": true,
           "subunitcolor": "white"
          },
          "hoverlabel": {
           "align": "left"
          },
          "hovermode": "closest",
          "mapbox": {
           "style": "light"
          },
          "paper_bgcolor": "white",
          "plot_bgcolor": "#E5ECF6",
          "polar": {
           "angularaxis": {
            "gridcolor": "white",
            "linecolor": "white",
            "ticks": ""
           },
           "bgcolor": "#E5ECF6",
           "radialaxis": {
            "gridcolor": "white",
            "linecolor": "white",
            "ticks": ""
           }
          },
          "scene": {
           "xaxis": {
            "backgroundcolor": "#E5ECF6",
            "gridcolor": "white",
            "gridwidth": 2,
            "linecolor": "white",
            "showbackground": true,
            "ticks": "",
            "zerolinecolor": "white"
           },
           "yaxis": {
            "backgroundcolor": "#E5ECF6",
            "gridcolor": "white",
            "gridwidth": 2,
            "linecolor": "white",
            "showbackground": true,
            "ticks": "",
            "zerolinecolor": "white"
           },
           "zaxis": {
            "backgroundcolor": "#E5ECF6",
            "gridcolor": "white",
            "gridwidth": 2,
            "linecolor": "white",
            "showbackground": true,
            "ticks": "",
            "zerolinecolor": "white"
           }
          },
          "shapedefaults": {
           "line": {
            "color": "#2a3f5f"
           }
          },
          "ternary": {
           "aaxis": {
            "gridcolor": "white",
            "linecolor": "white",
            "ticks": ""
           },
           "baxis": {
            "gridcolor": "white",
            "linecolor": "white",
            "ticks": ""
           },
           "bgcolor": "#E5ECF6",
           "caxis": {
            "gridcolor": "white",
            "linecolor": "white",
            "ticks": ""
           }
          },
          "title": {
           "x": 0.05
          },
          "xaxis": {
           "automargin": true,
           "gridcolor": "white",
           "linecolor": "white",
           "ticks": "",
           "title": {
            "standoff": 15
           },
           "zerolinecolor": "white",
           "zerolinewidth": 2
          },
          "yaxis": {
           "automargin": true,
           "gridcolor": "white",
           "linecolor": "white",
           "ticks": "",
           "title": {
            "standoff": 15
           },
           "zerolinecolor": "white",
           "zerolinewidth": 2
          }
         }
        },
        "title": {
         "text": "Distribution Plot of Old Peak by Condition Type"
        },
        "xaxis": {
         "anchor": "y2",
         "domain": [
          0,
          1
         ],
         "zeroline": false
        },
        "yaxis": {
         "anchor": "free",
         "domain": [
          0.35,
          1
         ],
         "position": 0
        },
        "yaxis2": {
         "anchor": "x",
         "domain": [
          0,
          0.25
         ],
         "dtick": 1,
         "showticklabels": false
        }
       }
      },
      "text/html": [
       "<div>                            <div id=\"d0cb9f07-7d4b-4dac-ae5d-6c1880a08475\" class=\"plotly-graph-div\" style=\"height:525px; width:100%;\"></div>            <script type=\"text/javascript\">                require([\"plotly\"], function(Plotly) {                    window.PLOTLYENV=window.PLOTLYENV || {};                                    if (document.getElementById(\"d0cb9f07-7d4b-4dac-ae5d-6c1880a08475\")) {                    Plotly.newPlot(                        \"d0cb9f07-7d4b-4dac-ae5d-6c1880a08475\",                        [{\"autobinx\": false, \"histnorm\": \"probability density\", \"legendgroup\": \"heart disease\", \"marker\": {\"color\": \"rgb(31, 119, 180)\"}, \"name\": \"heart disease\", \"opacity\": 0.7, \"type\": \"histogram\", \"x\": [1.4, 2.6, 0.2, 0.0, 0.8, 1.2, 3.8, 0.0, 1.4, 1.8, 0.0, 0.0, 0.3, 0.0, 0.0, 1.0, 2.9, 2.0, 1.6, 0.8, 1.8, 0.0, 1.2, 3.0, 2.2, 2.5, 3.2, 0.4, 0.6, 0.6, 2.0, 0.8, 0.0, 3.6, 0.0, 2.6, 2.4, 3.4, 1.5, 2.6, 0.2, 0.9, 1.0, 1.0, 0.1, 1.0, 2.8, 0.6, 2.2, 2.0, 1.4, 4.0, 1.8, 0.0, 1.8, 4.0, 3.6, 6.2, 1.8, 1.9, 1.4, 3.6, 1.0, 3.6, 0.0, 1.9, 0.0, 2.4, 2.8, 2.8, 2.6, 1.2, 1.4, 1.4, 0.0, 3.4, 1.2, 0.0, 1.0, 0.0, 4.4, 2.2, 3.0, 2.0, 2.8, 0.8, 0.0, 0.1, 0.6, 1.0, 1.2, 3.0, 0.2, 1.2, 4.0, 1.6, 1.2, 2.1, 1.9, 5.6, 1.2, 0.8, 3.4, 2.0, 2.2, 1.4, 2.8, 0.0, 3.2, 3.1, 2.0, 0.0, 0.0, 1.0, 1.2, 4.2, 1.6, 2.6, 0.9, 0.5, 0.0, 1.0, 1.8, 0.8, 0.0, 2.8, 0.0, 0.0, 2.5, 3.0, 1.8, 0.0, 2.0, 0.0, 1.2, 1.6, 0.0], \"xaxis\": \"x\", \"xbins\": {\"end\": 6.2, \"size\": 0.5, \"start\": 0.0}, \"yaxis\": \"y\"}, {\"autobinx\": false, \"histnorm\": \"probability density\", \"legendgroup\": \"no heart disease\", \"marker\": {\"color\": \"rgb(255, 127, 14)\"}, \"name\": \"no heart disease\", \"opacity\": 0.7, \"type\": \"histogram\", \"x\": [0.1, 1.8, 2.6, 1.8, 0.6, 2.3, 0.9, 4.2, 1.0, 1.9, 0.0, 1.2, 1.4, 0.8, 1.4, 0.0, 0.2, 0.4, 0.0, 0.0, 0.0, 0.0, 0.0, 1.3, 0.8, 0.0, 1.4, 0.0, 1.2, 0.0, 0.0, 0.2, 0.8, 0.0, 1.1, 0.0, 0.6, 0.2, 0.0, 0.0, 0.6, 0.0, 0.0, 0.0, 0.0, 0.0, 0.0, 0.0, 1.4, 0.0, 0.0, 0.0, 0.0, 0.0, 0.7, 0.0, 1.1, 0.0, 1.5, 1.0, 1.6, 0.0, 0.0, 0.8, 0.8, 0.8, 0.2, 0.0, 1.8, 1.0, 0.0, 0.0, 1.6, 0.6, 0.0, 0.0, 1.6, 0.2, 0.5, 0.4, 1.6, 0.0, 1.6, 0.0, 0.0, 1.2, 0.0, 0.1, 0.5, 1.2, 2.4, 0.6, 1.5, 0.5, 0.0, 0.6, 1.6, 0.0, 0.2, 0.0, 0.0, 0.0, 1.4, 0.6, 0.3, 0.4, 0.0, 0.0, 0.2, 1.9, 0.8, 0.0, 0.0, 2.0, 0.0, 0.0, 0.0, 0.0, 0.0, 3.5, 0.0, 1.6, 0.3, 0.4, 2.3, 0.4, 2.0, 0.2, 0.0, 1.2, 0.0, 0.5, 0.0, 1.0, 0.6, 0.4, 1.5, 0.6, 0.0, 0.0, 1.2, 0.4, 0.0, 0.0, 0.1, 0.0, 0.0, 0.0, 0.0, 0.1, 0.0, 3.0, 0.2, 0.0, 1.2, 1.5, 0.0, 0.6, 0.0, 1.4], \"xaxis\": \"x\", \"xbins\": {\"end\": 4.2, \"size\": 0.5, \"start\": 0.0}, \"yaxis\": \"y\"}, {\"legendgroup\": \"heart disease\", \"marker\": {\"color\": \"rgb(31, 119, 180)\"}, \"mode\": \"lines\", \"name\": \"heart disease\", \"showlegend\": false, \"type\": \"scatter\", \"x\": [0.0, 0.0124, 0.0248, 0.037200000000000004, 0.0496, 0.062, 0.07440000000000001, 0.0868, 0.0992, 0.1116, 0.124, 0.1364, 0.14880000000000002, 0.1612, 0.1736, 0.186, 0.1984, 0.21080000000000002, 0.2232, 0.2356, 0.248, 0.2604, 0.2728, 0.2852, 0.29760000000000003, 0.31, 0.3224, 0.3348, 0.3472, 0.35960000000000003, 0.372, 0.3844, 0.3968, 0.4092, 0.42160000000000003, 0.434, 0.4464, 0.4588, 0.4712, 0.48360000000000003, 0.496, 0.5084000000000001, 0.5208, 0.5332, 0.5456, 0.558, 0.5704, 0.5828000000000001, 0.5952000000000001, 0.6076, 0.62, 0.6324, 0.6448, 0.6572, 0.6696, 0.682, 0.6944, 0.7068000000000001, 0.7192000000000001, 0.7316, 0.744, 0.7564, 0.7688, 0.7812, 0.7936, 0.806, 0.8184, 0.8308000000000001, 0.8432000000000001, 0.8556, 0.868, 0.8804, 0.8928, 0.9052, 0.9176, 0.93, 0.9424, 0.9548000000000001, 0.9672000000000001, 0.9796, 0.992, 1.0044, 1.0168000000000001, 1.0292000000000001, 1.0416, 1.054, 1.0664, 1.0788, 1.0912, 1.1036000000000001, 1.116, 1.1284, 1.1408, 1.1532, 1.1656000000000002, 1.178, 1.1904000000000001, 1.2027999999999999, 1.2152, 1.2276000000000002, 1.24, 1.2524000000000002, 1.2648, 1.2772000000000001, 1.2896, 1.302, 1.3144, 1.3268, 1.3392, 1.3516000000000001, 1.364, 1.3764, 1.3888, 1.4012, 1.4136000000000002, 1.426, 1.4384000000000001, 1.4507999999999999, 1.4632, 1.4756000000000002, 1.488, 1.5004000000000002, 1.5128, 1.5252000000000001, 1.5376, 1.55, 1.5624, 1.5748, 1.5872, 1.5996000000000001, 1.612, 1.6244, 1.6368, 1.6492, 1.6616000000000002, 1.674, 1.6864000000000001, 1.6987999999999999, 1.7112, 1.7236000000000002, 1.736, 1.7484000000000002, 1.7608, 1.7732, 1.7856, 1.798, 1.8104, 1.8228, 1.8352, 1.8476000000000001, 1.86, 1.8724, 1.8848, 1.8972, 1.9096000000000002, 1.922, 1.9344000000000001, 1.9467999999999999, 1.9592, 1.9716000000000002, 1.984, 1.9964000000000002, 2.0088, 2.0212, 2.0336000000000003, 2.046, 2.0584000000000002, 2.0708, 2.0832, 2.0956, 2.108, 2.1204, 2.1328, 2.1452000000000004, 2.1576, 2.17, 2.1824, 2.1948000000000003, 2.2072000000000003, 2.2196, 2.232, 2.2444, 2.2568, 2.2692, 2.2816, 2.294, 2.3064, 2.3188, 2.3312000000000004, 2.3436, 2.356, 2.3684000000000003, 2.3808000000000002, 2.3932, 2.4055999999999997, 2.418, 2.4304, 2.4428, 2.4552000000000005, 2.4676, 2.48, 2.4924, 2.5048000000000004, 2.5172000000000003, 2.5296, 2.542, 2.5544000000000002, 2.5668, 2.5792, 2.5916, 2.604, 2.6164, 2.6288, 2.6412000000000004, 2.6536, 2.666, 2.6784, 2.6908000000000003, 2.7032000000000003, 2.7156, 2.728, 2.7404, 2.7528, 2.7652, 2.7776, 2.79, 2.8024, 2.8148, 2.8272000000000004, 2.8396, 2.852, 2.8644000000000003, 2.8768000000000002, 2.8892, 2.9015999999999997, 2.914, 2.9264, 2.9388, 2.9512000000000005, 2.9636, 2.976, 2.9884, 3.0008000000000004, 3.0132000000000003, 3.0256, 3.038, 3.0504000000000002, 3.0628, 3.0752, 3.0876, 3.1, 3.1124, 3.1248, 3.1372000000000004, 3.1496, 3.162, 3.1744, 3.1868000000000003, 3.1992000000000003, 3.2116, 3.224, 3.2364, 3.2488, 3.2612, 3.2736, 3.286, 3.2984, 3.3108, 3.3232000000000004, 3.3356, 3.348, 3.3604000000000003, 3.3728000000000002, 3.3852, 3.3975999999999997, 3.41, 3.4224, 3.4348, 3.4472000000000005, 3.4596, 3.472, 3.4844, 3.4968000000000004, 3.5092000000000003, 3.5216, 3.534, 3.5464, 3.5588, 3.5712, 3.5836, 3.596, 3.6084, 3.6208, 3.6332000000000004, 3.6456, 3.658, 3.6704, 3.6828000000000003, 3.6952000000000003, 3.7076, 3.72, 3.7324, 3.7448, 3.7572, 3.7696, 3.782, 3.7944, 3.8068, 3.8192000000000004, 3.8316, 3.844, 3.8564000000000003, 3.8688000000000002, 3.8812, 3.8935999999999997, 3.906, 3.9184, 3.9308, 3.9432000000000005, 3.9556, 3.968, 3.9804, 3.9928000000000003, 4.0052, 4.0176, 4.03, 4.0424, 4.0548, 4.067200000000001, 4.0796, 4.092, 4.104400000000001, 4.1168000000000005, 4.1292, 4.1416, 4.154, 4.1664, 4.1788, 4.1912, 4.203600000000001, 4.216, 4.228400000000001, 4.2408, 4.2532, 4.2656, 4.278, 4.290400000000001, 4.3028, 4.3152, 4.3276, 4.34, 4.3524, 4.3648, 4.3772, 4.389600000000001, 4.402, 4.4144000000000005, 4.4268, 4.4392, 4.4516, 4.464, 4.476400000000001, 4.4888, 4.5012, 4.5136, 4.526, 4.5384, 4.550800000000001, 4.5632, 4.5756000000000006, 4.588, 4.6004000000000005, 4.6128, 4.6251999999999995, 4.6376, 4.65, 4.662400000000001, 4.6748, 4.6872, 4.6996, 4.712, 4.7244, 4.736800000000001, 4.7492, 4.7616000000000005, 4.774, 4.7864, 4.7988, 4.8111999999999995, 4.823600000000001, 4.836, 4.848400000000001, 4.8608, 4.8732, 4.8856, 4.898, 4.910400000000001, 4.9228000000000005, 4.9352, 4.9476, 4.96, 4.9724, 4.9848, 4.997199999999999, 5.009600000000001, 5.022, 5.034400000000001, 5.0468, 5.0592, 5.0716, 5.084, 5.096400000000001, 5.1088000000000005, 5.1212, 5.1336, 5.146, 5.1584, 5.1708, 5.1832, 5.195600000000001, 5.208, 5.220400000000001, 5.2328, 5.2452, 5.2576, 5.27, 5.282400000000001, 5.2948, 5.3072, 5.3196, 5.332, 5.3444, 5.3568, 5.3692, 5.381600000000001, 5.394, 5.4064000000000005, 5.4188, 5.4312, 5.4436, 5.456, 5.468400000000001, 5.4808, 5.4932, 5.5056, 5.518, 5.5304, 5.542800000000001, 5.5552, 5.5676000000000005, 5.58, 5.5924000000000005, 5.6048, 5.6171999999999995, 5.6296, 5.642, 5.654400000000001, 5.6668, 5.6792, 5.6916, 5.704, 5.7164, 5.728800000000001, 5.7412, 5.7536000000000005, 5.766, 5.7784, 5.7908, 5.8031999999999995, 5.815600000000001, 5.828, 5.840400000000001, 5.8528, 5.8652, 5.8776, 5.89, 5.902400000000001, 5.9148000000000005, 5.9272, 5.9396, 5.952, 5.9644, 5.9768, 5.989199999999999, 6.001600000000001, 6.014, 6.026400000000001, 6.0388, 6.0512, 6.0636, 6.076, 6.088400000000001, 6.1008000000000004, 6.1132, 6.1256, 6.138, 6.1504, 6.1628, 6.1752, 6.187600000000001], \"xaxis\": \"x\", \"y\": [0.22918879049077212, 0.2310767750769591, 0.23289050226625263, 0.23462994039078974, 0.23629523348799336, 0.2378866994552651, 0.23940482755721623, 0.24085027529590616, 0.24222386465764784, 0.2435265777529745, 0.24475955186931125, 0.24592407395873175, 0.24702157458592178, 0.2480536213640539, 0.24902191190872847, 0.24992826634241486, 0.25077461938393314, 0.2515630120594316, 0.2522955830730322, 0.2529745598768202, 0.25360224948114723, 0.2541810290472844, 0.2547133363052911, 0.2552016598405723, 0.2556485292929665, 0.2560565055123301, 0.25642817071447993, 0.25676611868102334, 0.257072945046019, 0.25735123771163204, 0.2576035674339175, 0.2578324786186541, 0.25804048036570065, 0.25823003779874715, 0.25840356371551443, 0.25856341059148197, 0.2587118629681061, 0.25885113025421214, 0.2589833399668389, 0.2591105314353158, 0.25923464998973744, 0.2593575416523116, 0.2594809483473106, 0.2596065036425517, 0.2597357290325092, 0.2598700307703092, 0.2600106972530299, 0.26015889696190075, 0.26031567695620783, 0.2604819619169884, 0.26065855373391106, 0.2608461316261633, 0.26104525278566426, 0.26125635352852555, 0.2614797509384227, 0.2617156449833818, 0.26196412108549005, 0.26222515312117906, 0.26249860682802917, 0.2627842435925043, 0.26308172459165846, 0.2633906152606576, 0.2637103900569433, 0.2640404374910251, 0.26438006539322106, 0.26472850638520773, 0.26508492352491503, 0.2654484160932037, 0.2658180254908093, 0.26619274121426123, 0.26657150687987724, 0.26695322626549517, 0.2673367693402991, 0.2677209782539596, 0.2681046732572926, 0.26848665852777315, 0.2688657278744737, 0.26924067029834975, 0.269610275385263, 0.2699733385106551, 0.2703286658364268, 0.270675079082251, 0.2710114200553085, 0.27133655492421366, 0.2716493782247294, 0.2719488165867184, 0.27223383217362057, 0.2725034258276211, 0.2727566399155018, 0.27299256087199664, 0.27321032143926843, 0.27340910260285034, 0.2735881352261147, 0.27374670138694596, 0.27388413542187606, 0.2739998246844078, 0.27409321002567993, 0.2741637860069186, 0.2742111008543511, 0.2742347561683655, 0.2742344063997086, 0.274209758106418, 0.2741605690059683, 0.2740866468377803, 0.2739878480517982, 0.2738640763392873, 0.2737152810223061, 0.2735414553185374, 0.27334263449822815, 0.2731188939499886, 0.2728703471720539, 0.27259714370537924, 0.2722994670246092, 0.27197753240250455, 0.27163158476290844, 0.2712618965366952, 0.2708687655344654, 0.27045251284898275, 0.2700134807994984, 0.2695520309292446, 0.2690685420664003, 0.2685634084578758, 0.26803703798421713, 0.26748985046289103, 0.2669222760461366, 0.26633475371849047, 0.26572772989800597, 0.26510165714410533, 0.2644569929739409, 0.2637941987880849, 0.26311373890535855, 0.2624160797056175, 0.26170168887837003, 0.26097103477420186, 0.26022458585514857, 0.25946281023936246, 0.2586861753346993, 0.2578951475552037, 0.25709019211387957, 0.25627177288463643, 0.25544035232586404, 0.25459639145772833, 0.2537403498850422, 0.252872685857334, 0.2519938563576583, 0.25110431721166077, 0.2502045232084491, 0.24929492822496885, 0.24837598534577301, 0.24744814697037068, 0.2465118649006658, 0.24556759040142936, 0.24461577422721026, 0.2436568666096221, 0.24269131719952822, 0.2417195749592626, 0.2407420880006994, 0.23975930336567794, 0.2387716667460109, 0.23777962214105208, 0.23678361145156984, 0.23578407400940798, 0.23478144604322887, 0.2337761600813438, 0.23276864429343397, 0.23175932177365122, 0.23074860976832826, 0.2297369188521827, 0.2287246520575427, 0.22771220396172837, 0.22669995973825918, 0.22568829417807346, 0.22467757068738883, 0.2236681402692126, 0.22266034049585362, 0.22165449448004415, 0.22065090985247837, 0.21964987775371433, 0.21865167184844617, 0.21765654737015266, 0.21666474020405857, 0.21567646601621626, 0.21469191943629992, 0.2137112733014499, 0.2127346779681807, 0.21176226069897264, 0.21079412512973608, 0.20983035082384185, 0.20887099291788025, 0.20791608186371993, 0.20696562327083165, 0.20601959785217847, 0.20507796147630603, 0.2041406453275558, 0.20320755617560324, 0.20227857675480962, 0.20135356625311207, 0.20043236090947283, 0.19951477471814533, 0.19860060023732715, 0.1976896094990413, 0.19678155501642278, 0.19587617088392534, 0.19497317396534655, 0.19407226516397405, 0.19317313076862103, 0.19227544386880382, 0.19137886583187372, 0.19048304783449535, 0.18958763244052293, 0.18869225521702687, 0.18779654637998025, 0.18690013246093767, 0.1860026379859147, 0.18510368715761194, 0.18420290553212978, 0.1832999216813691, 0.18239436883242874, 0.18148588647548622, 0.18057412193186256, 0.17965873187426032, 0.17873938379148172, 0.17781575739032246, 0.1768875459277365, 0.17595445746684957, 0.1750162160508753, 0.17407256278953387, 0.17312325685312335, 0.17216807636997958, 0.1712068192236677, 0.17023930374686475, 0.1692653693095288, 0.16828487679958468, 0.16729770899500387, 0.16630377082678893, 0.1653029895330141, 0.16429531470469386, 0.16328071822485593, 0.16225919410279954, 0.1612307582060741, 0.16019544789326967, 0.159153321551221, 0.1581044580407125, 0.1570489560552256, 0.15598693339768144, 0.15491852618051086, 0.15384388795472162, 0.15276318877392464, 0.1516766141995429, 0.15058436425362612, 0.14948665232587247, 0.14838370404157783, 0.1472757560973118, 0.1461630550711614, 0.1450458562143784, 0.14392442223122126, 0.1427990220536976, 0.1416699296177902, 0.14053742264759694, 0.13940178145361418, 0.1382632877511708, 0.1371222235047745, 0.13597886980383386, 0.13483350577493008, 0.1336864075354731, 0.13253784719323577, 0.13138809189588746, 0.13023740293428548, 0.12908603490287618, 0.1279342349201755, 0.12678224191188947, 0.12563028595883208, 0.12447858771139264, 0.12332735787190593, 0.12217679674587337, 0.12102709386260022, 0.1198784276654323, 0.11873096527139734, 0.11758486229970957, 0.11644026276825051, 0.11529729905680602, 0.11415609193554427, 0.11301675065691721, 0.11187937310890789, 0.11074404602728702, 0.10961084526432548, 0.10847983611119197, 0.10735107367108697, 0.10622460327999993, 0.10510046097183523, 0.10397867398453615, 0.10285926130373543, 0.10174223424039114, 0.10062759703880314, 0.0995153475113814, 0.09840547769650952, 0.09729797453586006, 0.09619282056753227, 0.09508999463142165, 0.09398947258328462, 0.09289122801402457, 0.09179523297081173, 0.09070145867673816, 0.08960987624581264, 0.08852045739021927, 0.08743317511688103, 0.08634800441050532, 0.08526492290042392, 0.08418391150868491, 0.08310495507700318, 0.08202804297032716, 0.0809531696549378, 0.0798803352491497, 0.07880954604484915, 0.07774081499825537, 0.07667416218846014, 0.07560961524244969, 0.07454720972547843, 0.07348698949581414, 0.0724290070230277, 0.07137332366915256, 0.0703200099321823, 0.06926914565151948, 0.06822082017513026, 0.06717513248828617, 0.06613219130391583, 0.06509211511470671, 0.06405503220722013, 0.06302108063840435, 0.06199040817499219, 0.06096317219638688, 0.059939539561734326, 0.0589196864419783, 0.05790379811778682, 0.056892068744326646, 0.05588470108394059, 0.05488190620785996, 0.05388390316815893, 0.052890918641219774, 0.05190318654404282, 0.05092094762479111, 0.049944449029009366, 0.04897394384300912, 0.04800969061594806, 0.04705195286217379, 0.04610099854543473, 0.04515709954658461, 0.04422053111643839, 0.04329157131544772, 0.04237050044188606, 0.041457600450238344, 0.04055315436149687, 0.039657445667067956, 0.03877075772798607, 0.03789337317112976, 0.037025573284116216, 0.03616763741053942, 0.03531984234719322, 0.03448246174489813, 0.03365576551452167, 0.032840019239749677, 0.032035483598130764, 0.03124241379187626, 0.030461058989854736, 0.029691661782175978, 0.028934457648707806, 0.028189674442818544, 0.02745753189158296, 0.026738241113631628, 0.026032004155764385, 0.025339013549386852, 0.02465945188776465, 0.023993491425024816, 0.023341293697765986, 0.02270300917007239, 0.022078776902654893, 0.021468724246772857, 0.020872966563520674, 0.02029160696898836, 0.019724736105737113, 0.019172431940956063, 0.018634759591595378, 0.01811177117670092, 0.017603505697101535, 0.01710998894253204, 0.016631233426204817, 0.016167238346772625, 0.01571798957756062, 0.01528345968287539, 0.014863607961137315, 0.014458380514516676, 0.01406771034469202, 0.013691517474291091, 0.013329709093512202, 0.012982179731371276, 0.012648811450961793, 0.012329474068063477, 0.01202402539238488, 0.011732311490675332, 0.011454166970896466, 0.011189415286598576, 0.010937869060605197, 0.01069933042707028, 0.010473591390934846, 0.01026043420377531, 0.010059631755004536, 0.009870947977355632, 0.009694138265554018, 0.0095289499070572, 0.009375122523721961, 0.009232388523240119, 0.009100473559168204, 0.008979096998365157, 0.008867972394642048, 0.008766807967422666, 0.008675307084210613, 0.008593168745659505, 0.008520088072046685, 0.008455756789958364, 0.00839986371800518, 0.00835209525040138, 0.008312135837258962, 0.00827966846046986, 0.00825437510407417, 0.008235937218041459, 0.008224036174424297, 0.008218353714879266, 0.00821857238858982, 0.008224375979668097, 0.00823544992315906, 0.008251481708819067, 0.008272161271893584, 0.008297181370173644, 0.008326237946668294, 0.00835903047729087, 0.008395262303018727, 0.008434640946051382, 0.008476878409557156, 0.008521691460666886, 0.008568801896441042, 0.008617936792606725, 0.008668828734930306, 0.008721216033161444, 0.008774842917553937, 0.00882945971803733, 0.008884823026181208, 0.008940695840160271, 0.008996847692992535, 0.009053054764385273, 0.009109099976582817, 0.009164773074666534, 0.00921987069181097, 0.009274196400048892, 0.009327560747144192, 0.009379781280211849, 0.00943068255676156, 0.009480096143872945, 0.009527860606236867, 0.009573821483819423, 0.009617831259920972, 0.00965974932041359, 0.009699441904945783, 0.009736782050902915, 0.009771649530906465, 0.009803930784624161, 0.00983351884564672, 0.00986031326416578, 0.009884220026161005, 0.009905151469773745, 0.009923026199508914, 0.009937768998867422, 0.009949310741968354, 0.009957588304673158, 0.009962544475675, 0.00996412786796379, 0.00996229283102366, 0.009956999364063586, 0.009948213030524974, 0.009935904874052624, 0.009920051336057513, 0.009900634174942894, 0.009877640387008519, 0.009851062128992777, 0.00982089664215947, 0.009787146177784863, 0.009749817923852594, 0.00970892393271897, 0.00966448104946977, 0.009616510840652176, 0.00956503952303187, 0.00951009789199701, 0.009451721249206173, 0.009389949329058704, 0.009324826223551496, 0.00925640030507775, 0.00918472414671943, 0.009109854439586963, 0.009031851906766837, 0.008950781213449527, 0.008866710872827813], \"yaxis\": \"y\"}, {\"legendgroup\": \"no heart disease\", \"marker\": {\"color\": \"rgb(255, 127, 14)\"}, \"mode\": \"lines\", \"name\": \"no heart disease\", \"showlegend\": false, \"type\": \"scatter\", \"x\": [0.0, 0.008400000000000001, 0.016800000000000002, 0.025200000000000004, 0.033600000000000005, 0.042, 0.05040000000000001, 0.058800000000000005, 0.06720000000000001, 0.07560000000000001, 0.084, 0.09240000000000001, 0.10080000000000001, 0.1092, 0.11760000000000001, 0.126, 0.13440000000000002, 0.1428, 0.15120000000000003, 0.1596, 0.168, 0.1764, 0.18480000000000002, 0.1932, 0.20160000000000003, 0.21, 0.2184, 0.2268, 0.23520000000000002, 0.2436, 0.252, 0.2604, 0.26880000000000004, 0.2772, 0.2856, 0.294, 0.30240000000000006, 0.3108, 0.3192, 0.3276, 0.336, 0.34440000000000004, 0.3528, 0.36119999999999997, 0.36960000000000004, 0.378, 0.3864, 0.3948, 0.40320000000000006, 0.4116, 0.42, 0.42840000000000006, 0.4368, 0.44520000000000004, 0.4536, 0.462, 0.47040000000000004, 0.4788, 0.4872, 0.49560000000000004, 0.504, 0.5124, 0.5208, 0.5292, 0.5376000000000001, 0.546, 0.5544, 0.5628000000000001, 0.5712, 0.5796, 0.588, 0.5963999999999999, 0.6048000000000001, 0.6132000000000001, 0.6216, 0.63, 0.6384, 0.6468, 0.6552, 0.6636, 0.672, 0.6804, 0.6888000000000001, 0.6972, 0.7056, 0.714, 0.7223999999999999, 0.7308000000000001, 0.7392000000000001, 0.7476, 0.756, 0.7644, 0.7728, 0.7812, 0.7896, 0.798, 0.8064000000000001, 0.8148000000000001, 0.8232, 0.8316, 0.84, 0.8484, 0.8568000000000001, 0.8652000000000001, 0.8736, 0.882, 0.8904000000000001, 0.8988, 0.9072, 0.9156, 0.924, 0.9324000000000001, 0.9408000000000001, 0.9492, 0.9576, 0.966, 0.9744, 0.9828000000000001, 0.9912000000000001, 0.9996, 1.008, 1.0164000000000002, 1.0248, 1.0332000000000001, 1.0416, 1.05, 1.0584, 1.0668, 1.0752000000000002, 1.0836000000000001, 1.092, 1.1004, 1.1088, 1.1172, 1.1256000000000002, 1.134, 1.1424, 1.1508, 1.1592, 1.1676000000000002, 1.176, 1.1844000000000001, 1.1927999999999999, 1.2012, 1.2096000000000002, 1.218, 1.2264000000000002, 1.2348, 1.2432, 1.2516, 1.26, 1.2684000000000002, 1.2768, 1.2852000000000001, 1.2936, 1.302, 1.3104, 1.3188, 1.3272, 1.3356000000000001, 1.344, 1.3524, 1.3608, 1.3692, 1.3776000000000002, 1.386, 1.3944, 1.4028, 1.4112, 1.4196000000000002, 1.428, 1.4364000000000001, 1.4447999999999999, 1.4532, 1.4616000000000002, 1.47, 1.4784000000000002, 1.4868, 1.4952, 1.5036, 1.512, 1.5204000000000002, 1.5288, 1.5372000000000001, 1.5456, 1.554, 1.5624, 1.5708, 1.5792, 1.5876000000000001, 1.596, 1.6044, 1.6128000000000002, 1.6212, 1.6296000000000002, 1.638, 1.6464, 1.6548000000000003, 1.6632, 1.6716000000000002, 1.68, 1.6884000000000001, 1.6968, 1.7052, 1.7136000000000002, 1.722, 1.7304000000000002, 1.7388000000000001, 1.7472, 1.7556, 1.764, 1.7724000000000002, 1.7808000000000002, 1.7892000000000001, 1.7976, 1.806, 1.8144, 1.8228000000000002, 1.8312, 1.8396000000000001, 1.848, 1.8564, 1.8648000000000002, 1.8732, 1.8816000000000002, 1.89, 1.8984, 1.9068000000000003, 1.9152, 1.9236000000000002, 1.932, 1.9404000000000001, 1.9488, 1.9572, 1.9656000000000002, 1.974, 1.9824000000000002, 1.9908000000000001, 1.9992, 2.0076, 2.016, 2.0244, 2.0328000000000004, 2.0412, 2.0496, 2.058, 2.0664000000000002, 2.0748, 2.0832, 2.0916, 2.1, 2.1084, 2.1168, 2.1252000000000004, 2.1336, 2.142, 2.1504000000000003, 2.1588000000000003, 2.1672000000000002, 2.1755999999999998, 2.184, 2.1924, 2.2008, 2.2092, 2.2176, 2.226, 2.2344, 2.2428000000000003, 2.2512000000000003, 2.2596, 2.268, 2.2764, 2.2848, 2.2932, 2.3016, 2.31, 2.3184, 2.3268, 2.3352000000000004, 2.3436, 2.352, 2.3604000000000003, 2.3688000000000002, 2.3772, 2.3855999999999997, 2.394, 2.4024, 2.4108, 2.4192000000000005, 2.4276, 2.436, 2.4444, 2.4528000000000003, 2.4612000000000003, 2.4696, 2.478, 2.4864, 2.4948, 2.5032, 2.5116, 2.52, 2.5284, 2.5368000000000004, 2.5452000000000004, 2.5536, 2.562, 2.5704000000000002, 2.5788, 2.5872, 2.5956, 2.604, 2.6124, 2.6208, 2.6292000000000004, 2.6376, 2.646, 2.6544, 2.6628000000000003, 2.6712000000000002, 2.6795999999999998, 2.688, 2.6964, 2.7048, 2.7132, 2.7216, 2.73, 2.7384, 2.7468000000000004, 2.7552000000000003, 2.7636, 2.772, 2.7804, 2.7888, 2.7972, 2.8056, 2.814, 2.8224, 2.8308, 2.8392000000000004, 2.8476, 2.856, 2.8644000000000003, 2.8728000000000002, 2.8812, 2.8895999999999997, 2.898, 2.9064, 2.9148, 2.9232000000000005, 2.9316, 2.94, 2.9484, 2.9568000000000003, 2.9652000000000003, 2.9736, 2.982, 2.9904, 2.9988, 3.0072, 3.0156, 3.024, 3.0324, 3.0408000000000004, 3.0492000000000004, 3.0576, 3.066, 3.0744000000000002, 3.0828, 3.0912, 3.0995999999999997, 3.108, 3.1164, 3.1248, 3.1332000000000004, 3.1416, 3.15, 3.1584, 3.1668000000000003, 3.1752000000000002, 3.1835999999999998, 3.192, 3.2004, 3.2088, 3.2172, 3.2256000000000005, 3.234, 3.2424, 3.2508000000000004, 3.2592000000000003, 3.2676000000000003, 3.276, 3.2844, 3.2928, 3.3012, 3.3096000000000005, 3.318, 3.3264, 3.3348, 3.3432000000000004, 3.3516000000000004, 3.36, 3.3684000000000003, 3.3768000000000002, 3.3852, 3.3936, 3.402, 3.4104, 3.4188, 3.4272000000000005, 3.4356000000000004, 3.444, 3.4524, 3.4608000000000003, 3.4692000000000003, 3.4776000000000002, 3.486, 3.4944, 3.5028, 3.5112, 3.5196000000000005, 3.528, 3.5364, 3.5448000000000004, 3.5532000000000004, 3.5616000000000003, 3.57, 3.5784000000000002, 3.5868, 3.5952, 3.6036000000000006, 3.612, 3.6204, 3.6288, 3.6372000000000004, 3.6456000000000004, 3.654, 3.6624, 3.6708000000000003, 3.6792000000000002, 3.6876, 3.696, 3.7044, 3.7128, 3.7212, 3.7296000000000005, 3.738, 3.7464, 3.7548000000000004, 3.7632000000000003, 3.7716000000000003, 3.78, 3.7884, 3.7968, 3.8052, 3.8136000000000005, 3.822, 3.8304, 3.8388, 3.8472000000000004, 3.8556000000000004, 3.864, 3.8724000000000003, 3.8808000000000002, 3.8892, 3.8976, 3.906, 3.9144, 3.9228, 3.9312000000000005, 3.9396000000000004, 3.948, 3.9564, 3.9648000000000003, 3.9732000000000003, 3.9816000000000003, 3.99, 3.9984, 4.0068, 4.0152, 4.0236, 4.032, 4.0404, 4.0488, 4.0572, 4.065600000000001, 4.074, 4.0824, 4.0908, 4.0992, 4.107600000000001, 4.116, 4.1244000000000005, 4.1328000000000005, 4.1411999999999995, 4.1496, 4.158, 4.1664, 4.1748, 4.1832, 4.1916], \"xaxis\": \"x\", \"y\": [0.7580855495576029, 0.7618230657035541, 0.7650475867216505, 0.7677574945479035, 0.7699524851503857, 0.771633562203048, 0.7728030250655816, 0.7734644511571056, 0.773622672845451, 0.773283749006916, 0.7724549314431282, 0.7711446263720568, 0.7693623512388612, 0.7671186871190232, 0.7644252270108867, 0.761294520337128, 0.7577400139945882, 0.7537759903093585, 0.7494175022686933, 0.7446803064133307, 0.7395807937829041, 0.734135919313486, 0.7283631300897107, 0.7222802928544806, 0.7159056211771264, 0.7092576026757826, 0.7023549266822114, 0.6952164127270178, 0.6878609402105631, 0.6803073796099804, 0.6725745255555117, 0.6646810320904587, 0.6566453504081206, 0.6484856693367359, 0.6402198588196831, 0.6318654166132737, 0.6234394183985981, 0.61495847147737, 0.6064386721946297, 0.5978955672038435, 0.5893441186626054, 0.5807986734199091, 0.5722729362291219, 0.5637799469945247, 0.5553320620337302, 0.5469409393137104, 0.5386175275945803, 0.5303720593930301, 0.5222140476563253, 0.5141522860182968, 0.5061948524908956, 0.4983491164285755, 0.4906217485882828, 0.48301873409506696, 0.4755453881123619, 0.46820637400687315, 0.4610057237906932, 0.4539468606177542, 0.4470326231080249, 0.44026529127085884, 0.43364661379860825, 0.4271778365029173, 0.42085973166896756, 0.41469262810727464, 0.4086764416882373, 0.4028107061516266, 0.39709460399121416, 0.39152699722386985, 0.386106457862469, 0.3808312979227645, 0.3756995988059093, 0.37070923991035687, 0.3658579263394028, 0.3611432155834888, 0.3565625430694152, 0.35211324648182774, 0.3477925887755051, 0.3435977798100374, 0.33952599655141613, 0.3355744017976275, 0.3317401613976566, 0.3280204599450732, 0.324412514938767, 0.3209135894141229, 0.31752100305814024, 0.31423214183148784, 0.31104446612934894, 0.30795551752101996, 0.304962924115606, 0.30206440460781825, 0.29925777106373447, 0.2965409305115368, 0.29391188540658236, 0.29136873304383115, 0.2889096639935348, 0.2865329596383198, 0.2842369888913014, 0.2820202041757676, 0.27988113674722664, 0.2778183914382764, 0.2758306409059344, 0.27391661945964835, 0.27207511654645994, 0.27030496996745845, 0.2686050588971421, 0.26697429677428064, 0.26541162412968416, 0.26391600141277793, 0.26248640187521954, 0.2611218045659295, 0.2598211874879557, 0.2585835209635322, 0.2574077612495991, 0.25629284444192385, 0.2552376807018905, 0.25424114883594573, 0.2533020912537278, 0.25241930932703954, 0.2515915591680349, 0.2508175478413953, 0.2500959300217875, 0.24942530510462407, 0.24880421477498635, 0.24823114103668623, 0.24770450470068361, 0.2472226643295495, 0.2467839156323206, 0.24638649130198267, 0.2460285612858568, 0.24570823347743895, 0.24542355481668557, 0.2451725127843731, 0.24495303727497267, 0.244763002831417, 0.24460023122431784, 0.2444624943574108, 0.24434751748043526, 0.2442529826901851, 0.24417653270007628, 0.2441157748583572, 0.24406828539485637, 0.24403161387611225, 0.24400328784866787, 0.24398081765034016, 0.2439617013693645, 0.24394342993138926, 0.24392349229447707, 0.24389938073241468, 0.24386859618682344, 0.24382865366877546, 0.24377708769082046, 0.24371145771058936, 0.2436293535673117, 0.24352840089291566, 0.2434062664795306, 0.24326066358557522, 0.24308935716279204, 0.24289016898696256, 0.24266098267528283, 0.24239974857374486, 0.2421044884982134, 0.2417733003132708, 0.2414043623333441, 0.24099593753106227, 0.24054637753833835, 0.24005412642618804, 0.23951772424993403, 0.23893581034710096, 0.23830712637602314, 0.23763051908397856, 0.23690494279450372, 0.23612946160445827, 0.23530325128235188, 0.23442560086051997, 0.23349591391476401, 0.23251370952625805, 0.23147862292169138, 0.23039040578885758, 0.2292489262661623, 0.2280541686058589, 0.22680623251210047, 0.22550533215630422, 0.22415179487361064, 0.22274605954563165, 0.22128867467597219, 0.2197802961663598, 0.21822168480247625, 0.2166137034598437, 0.21495731404131443, 0.21325357415880383, 0.21150363357302945, 0.20970873040593058, 0.20787018714138938, 0.2059894064306363, 0.2040678667194448, 0.20210711771479903, 0.20010877570920976, 0.1980745187812042, 0.1960060818908026, 0.19390525188889765, 0.1917738624594954, 0.18961378901367487, 0.18742694355392872, 0.18521526952722153, 0.182980736684703, 0.1807253359654907, 0.17845107442133756, 0.1761599701983198, 0.1738540475909078, 0.1715353321829859, 0.16920584608946734, 0.16686760331126635, 0.16452260521539472, 0.16217283615098352, 0.15982025921101115, 0.15746681214853286, 0.15511440345517152, 0.15276490860866854, 0.1504201664953021, 0.14808197601205086, 0.14575209285248258, 0.14343222647947515, 0.14112403728708425, 0.13882913395311214, 0.13654907098322414, 0.13428534644684964, 0.1320393999044997, 0.12981261052564494, 0.12760629539584015, 0.1254217080113936, 0.12326003695955137, 0.12112240478189758, 0.11900986701844625, 0.11692341142972376, 0.11486395739402278, 0.11283235547689416, 0.11082938716989657, 0.10885576479557689, 0.1069121315756249, 0.10499906185914788, 0.10311706150800008, 0.10126656843608665, 0.09944795329956285, 0.09766152033480753, 0.09590750834101368, 0.0941860918041685, 0.09249738215910323, 0.09084142918616565, 0.08921822253892087, 0.08762769339909053, 0.08606971625472222, 0.0845441107973197, 0.08305064393338422, 0.08158903190547638, 0.08015894251758009, 0.07875999745914854, 0.0773917747218308, 0.07605381110244537, 0.0747456047853446, 0.07346661799686788, 0.07221627972414617, 0.07099398849008069, 0.06979911517589589, 0.06863100588225554, 0.06748898481955205, 0.06637235721762233, 0.06528041224482774, 0.06421242592616547, 0.06316766404984943, 0.06214538505163081, 0.06114484286601497, 0.060165289733483875, 0.05920597895284569, 0.05826616756792114, 0.05734511897793733, 0.05644210546121933, 0.055556410602080594, 0.054687331611187696, 0.05383418153011658, 0.05299629131133878, 0.05217301176546193, 0.05136371536819303, 0.050567797920201135, 0.04978468005382802, 0.049013808581397714, 0.04825465768074022, 0.047506729914444254, 0.04676955708026976, 0.04604270089111295, 0.04532575348387973, 0.0446183377576008, 0.043920107542098415, 0.04323074759949351, 0.04254997346179312, 0.041877531108740276, 0.041213196491016485, 0.04055677490475853, 0.03990810022418397, 0.03926703399989987, 0.038633464431197945, 0.03800730522130319, 0.0373884943251488, 0.03677699259977728, 0.03617278236793, 0.03557586590576727, 0.034986263865965, 0.03440401364765555, 0.033829167724821134, 0.03326179194480507, 0.032701963808582014, 0.03214977074432102, 0.03160530838559003, 0.03106867886528389, 0.03053998913601996, 0.030019349327332044, 0.02950687114951159, 0.029002666353403556, 0.028506845254855806, 0.028019515331865797, 0.027540779901758582, 0.02707073688498117, 0.02660947766131077, 0.026157086023456066, 0.025713637232190736, 0.025279197176298427, 0.024853821639739936, 0.024437555677581144, 0.02403043310134924, 0.023632476073627413, 0.023243694810852814, 0.02286408739246401, 0.022493639673752477, 0.022132325299016636, 0.021780105810901586, 0.021436930851139166, 0.021102738447283356, 0.020777455379474924, 0.02046099762076328, 0.02015327084407554, 0.01985417098854645, 0.01956358487761699, 0.019281390881074233, 0.01900745961304015, 0.01874165465782536, 0.01848383331554461, 0.018233847359443337, 0.017991543797008316, 0.017756765627127535, 0.01752935258582569, 0.017309141873424163, 0.01709596885635963, 0.016889667737338073, 0.016690072187993236, 0.01649701593876224, 0.016310333321274333, 0.016129859759170282, 0.015955432203921836, 0.015786889512897247, 0.01562407276761413, 0.015466825530826905, 0.015314994041808593, 0.015168427349895347, 0.015026977387064697, 0.01489049898100377, 0.014758849810789282, 0.014631890307937325, 0.014509483506184652, 0.01439149484392634, 0.014277791923753344, 0.014168244234002874, 0.01406272283764887, 0.013961100034217085, 0.01386324900070419, 0.013769043417712365, 0.013678357087175224, 0.013591063548148614, 0.013507035697168735, 0.013426145419639513, 0.013348263238603532, 0.013273257987075005, 0.013200996509872873, 0.013131343400588424, 0.013064160778958526, 0.012999308113495877, 0.012936642093756051, 0.012876016556102066, 0.012817282466265689, 0.012760287961406677, 0.012704878453742007, 0.012650896797163204, 0.012598183517587798, 0.012546577107106695, 0.012495914381300047, 0.01244603089840616, 0.012396761438348555, 0.012347940538960912, 0.012299403086105712, 0.012250984953765632, 0.012202523689602875, 0.012153859240936603, 0.012104834715587372, 0.012055297171584644, 0.012005098429333722, 0.011954095899494643, 0.01190215341954243, 0.011849142091756049, 0.011794941115227239, 0.01173943860438852, 0.011682532386535504, 0.011624130770860839, 0.01156415328162565, 0.011502531348268499, 0.01143920894548965, 0.011374143176648133, 0.011307304794167227, 0.011238678651058539, 0.011168264078141255, 0.011096075182047407, 0.011022141059662227, 0.010946505925245638, 0.010869229147111305, 0.01079038519139893, 0.010710063471157471, 0.010628368099656003, 0.010545417547549696, 0.010461344204245287, 0.010376293844526511, 0.010290425002211268, 0.010203908253311841, 0.010116925411852704, 0.010029668642161644, 0.009942339492084592, 0.009855147852177464, 0.009768310846495288, 0.009682051661126402, 0.0095965983171028, 0.0095121823947543, 0.009429037716960914, 0.009347398999092264, 0.009267500473702206, 0.009189574498271147, 0.009113850154454239, 0.009040551847402014, 0.00896989791376946, 0.008902099247020512, 0.008837357948567832, 0.008775866013163273, 0.008717804056774265, 0.00866334009494615, 0.008612628379363276, 0.008565808299984, 0.00852300335973916, 0.008484320228353322, 0.008449847881375932, 0.00841965682999887, 0.008393798446691202, 0.008372304391105199, 0.008355186140103258, 0.008342434625127787, 0.008334019979489338, 0.008329891397485991, 0.00832997710659439, 0.008334184453293406, 0.00834240010239962, 0.008354490349114396, 0.00837030154230864, 0.00838966061690866, 0.008412375732597786, 0.008438237015418562, 0.008467017398252535, 0.008498473555573205, 0.00853234692731532, 0.008568364826184827, 0.008606241622250444, 0.008645679998213862, 0.008686372268352683, 0.008728001753772101, 0.008770244206288724, 0.008812769273005411, 0.008855241993421796, 0.008897324320760378, 0.008938676659076415, 0.008978959407659479, 0.009017834504227135, 0.00905496695845621, 0.009090026367494097, 0.009122688405240735, 0.0091526362773903, 0.009179562134468822, 0.009203168435397778, 0.009223169254452697, 0.009239291524867225, 0.009251276212753883, 0.009258879415471122, 0.009261873379057503, 0.009260047429875797, 0.009253208816158025, 0.009241183455713512, 0.009223816586651992, 0.009200973318577806], \"yaxis\": \"y\"}, {\"legendgroup\": \"heart disease\", \"marker\": {\"color\": \"rgb(31, 119, 180)\", \"symbol\": \"line-ns-open\"}, \"mode\": \"markers\", \"name\": \"heart disease\", \"showlegend\": false, \"type\": \"scatter\", \"x\": [1.4, 2.6, 0.2, 0.0, 0.8, 1.2, 3.8, 0.0, 1.4, 1.8, 0.0, 0.0, 0.3, 0.0, 0.0, 1.0, 2.9, 2.0, 1.6, 0.8, 1.8, 0.0, 1.2, 3.0, 2.2, 2.5, 3.2, 0.4, 0.6, 0.6, 2.0, 0.8, 0.0, 3.6, 0.0, 2.6, 2.4, 3.4, 1.5, 2.6, 0.2, 0.9, 1.0, 1.0, 0.1, 1.0, 2.8, 0.6, 2.2, 2.0, 1.4, 4.0, 1.8, 0.0, 1.8, 4.0, 3.6, 6.2, 1.8, 1.9, 1.4, 3.6, 1.0, 3.6, 0.0, 1.9, 0.0, 2.4, 2.8, 2.8, 2.6, 1.2, 1.4, 1.4, 0.0, 3.4, 1.2, 0.0, 1.0, 0.0, 4.4, 2.2, 3.0, 2.0, 2.8, 0.8, 0.0, 0.1, 0.6, 1.0, 1.2, 3.0, 0.2, 1.2, 4.0, 1.6, 1.2, 2.1, 1.9, 5.6, 1.2, 0.8, 3.4, 2.0, 2.2, 1.4, 2.8, 0.0, 3.2, 3.1, 2.0, 0.0, 0.0, 1.0, 1.2, 4.2, 1.6, 2.6, 0.9, 0.5, 0.0, 1.0, 1.8, 0.8, 0.0, 2.8, 0.0, 0.0, 2.5, 3.0, 1.8, 0.0, 2.0, 0.0, 1.2, 1.6, 0.0], \"xaxis\": \"x\", \"y\": [\"heart disease\", \"heart disease\", \"heart disease\", \"heart disease\", \"heart disease\", \"heart disease\", \"heart disease\", \"heart disease\", \"heart disease\", \"heart disease\", \"heart disease\", \"heart disease\", \"heart disease\", \"heart disease\", \"heart disease\", \"heart disease\", \"heart disease\", \"heart disease\", \"heart disease\", \"heart disease\", \"heart disease\", \"heart disease\", \"heart disease\", \"heart disease\", \"heart disease\", \"heart disease\", \"heart disease\", \"heart disease\", \"heart disease\", \"heart disease\", \"heart disease\", \"heart disease\", \"heart disease\", \"heart disease\", \"heart disease\", \"heart disease\", \"heart disease\", \"heart disease\", \"heart disease\", \"heart disease\", \"heart disease\", \"heart disease\", \"heart disease\", \"heart disease\", \"heart disease\", \"heart disease\", \"heart disease\", \"heart disease\", \"heart disease\", \"heart disease\", \"heart disease\", \"heart disease\", \"heart disease\", \"heart disease\", \"heart disease\", \"heart disease\", \"heart disease\", \"heart disease\", \"heart disease\", \"heart disease\", \"heart disease\", \"heart disease\", \"heart disease\", \"heart disease\", \"heart disease\", \"heart disease\", \"heart disease\", \"heart disease\", \"heart disease\", \"heart disease\", \"heart disease\", \"heart disease\", \"heart disease\", \"heart disease\", \"heart disease\", \"heart disease\", \"heart disease\", \"heart disease\", \"heart disease\", \"heart disease\", \"heart disease\", \"heart disease\", \"heart disease\", \"heart disease\", \"heart disease\", \"heart disease\", \"heart disease\", \"heart disease\", \"heart disease\", \"heart disease\", \"heart disease\", \"heart disease\", \"heart disease\", \"heart disease\", \"heart disease\", \"heart disease\", \"heart disease\", \"heart disease\", \"heart disease\", \"heart disease\", \"heart disease\", \"heart disease\", \"heart disease\", \"heart disease\", \"heart disease\", \"heart disease\", \"heart disease\", \"heart disease\", \"heart disease\", \"heart disease\", \"heart disease\", \"heart disease\", \"heart disease\", \"heart disease\", \"heart disease\", \"heart disease\", \"heart disease\", \"heart disease\", \"heart disease\", \"heart disease\", \"heart disease\", \"heart disease\", \"heart disease\", \"heart disease\", \"heart disease\", \"heart disease\", \"heart disease\", \"heart disease\", \"heart disease\", \"heart disease\", \"heart disease\", \"heart disease\", \"heart disease\", \"heart disease\", \"heart disease\", \"heart disease\", \"heart disease\"], \"yaxis\": \"y2\"}, {\"legendgroup\": \"no heart disease\", \"marker\": {\"color\": \"rgb(255, 127, 14)\", \"symbol\": \"line-ns-open\"}, \"mode\": \"markers\", \"name\": \"no heart disease\", \"showlegend\": false, \"type\": \"scatter\", \"x\": [0.1, 1.8, 2.6, 1.8, 0.6, 2.3, 0.9, 4.2, 1.0, 1.9, 0.0, 1.2, 1.4, 0.8, 1.4, 0.0, 0.2, 0.4, 0.0, 0.0, 0.0, 0.0, 0.0, 1.3, 0.8, 0.0, 1.4, 0.0, 1.2, 0.0, 0.0, 0.2, 0.8, 0.0, 1.1, 0.0, 0.6, 0.2, 0.0, 0.0, 0.6, 0.0, 0.0, 0.0, 0.0, 0.0, 0.0, 0.0, 1.4, 0.0, 0.0, 0.0, 0.0, 0.0, 0.7, 0.0, 1.1, 0.0, 1.5, 1.0, 1.6, 0.0, 0.0, 0.8, 0.8, 0.8, 0.2, 0.0, 1.8, 1.0, 0.0, 0.0, 1.6, 0.6, 0.0, 0.0, 1.6, 0.2, 0.5, 0.4, 1.6, 0.0, 1.6, 0.0, 0.0, 1.2, 0.0, 0.1, 0.5, 1.2, 2.4, 0.6, 1.5, 0.5, 0.0, 0.6, 1.6, 0.0, 0.2, 0.0, 0.0, 0.0, 1.4, 0.6, 0.3, 0.4, 0.0, 0.0, 0.2, 1.9, 0.8, 0.0, 0.0, 2.0, 0.0, 0.0, 0.0, 0.0, 0.0, 3.5, 0.0, 1.6, 0.3, 0.4, 2.3, 0.4, 2.0, 0.2, 0.0, 1.2, 0.0, 0.5, 0.0, 1.0, 0.6, 0.4, 1.5, 0.6, 0.0, 0.0, 1.2, 0.4, 0.0, 0.0, 0.1, 0.0, 0.0, 0.0, 0.0, 0.1, 0.0, 3.0, 0.2, 0.0, 1.2, 1.5, 0.0, 0.6, 0.0, 1.4], \"xaxis\": \"x\", \"y\": [\"no heart disease\", \"no heart disease\", \"no heart disease\", \"no heart disease\", \"no heart disease\", \"no heart disease\", \"no heart disease\", \"no heart disease\", \"no heart disease\", \"no heart disease\", \"no heart disease\", \"no heart disease\", \"no heart disease\", \"no heart disease\", \"no heart disease\", \"no heart disease\", \"no heart disease\", \"no heart disease\", \"no heart disease\", \"no heart disease\", \"no heart disease\", \"no heart disease\", \"no heart disease\", \"no heart disease\", \"no heart disease\", \"no heart disease\", \"no heart disease\", \"no heart disease\", \"no heart disease\", \"no heart disease\", \"no heart disease\", \"no heart disease\", \"no heart disease\", \"no heart disease\", \"no heart disease\", \"no heart disease\", \"no heart disease\", \"no heart disease\", \"no heart disease\", \"no heart disease\", \"no heart disease\", \"no heart disease\", \"no heart disease\", \"no heart disease\", \"no heart disease\", \"no heart disease\", \"no heart disease\", \"no heart disease\", \"no heart disease\", \"no heart disease\", \"no heart disease\", \"no heart disease\", \"no heart disease\", \"no heart disease\", \"no heart disease\", \"no heart disease\", \"no heart disease\", \"no heart disease\", \"no heart disease\", \"no heart disease\", \"no heart disease\", \"no heart disease\", \"no heart disease\", \"no heart disease\", \"no heart disease\", \"no heart disease\", \"no heart disease\", \"no heart disease\", \"no heart disease\", \"no heart disease\", \"no heart disease\", \"no heart disease\", \"no heart disease\", \"no heart disease\", \"no heart disease\", \"no heart disease\", \"no heart disease\", \"no heart disease\", \"no heart disease\", \"no heart disease\", \"no heart disease\", \"no heart disease\", \"no heart disease\", \"no heart disease\", \"no heart disease\", \"no heart disease\", \"no heart disease\", \"no heart disease\", \"no heart disease\", \"no heart disease\", \"no heart disease\", \"no heart disease\", \"no heart disease\", \"no heart disease\", \"no heart disease\", \"no heart disease\", \"no heart disease\", \"no heart disease\", \"no heart disease\", \"no heart disease\", \"no heart disease\", \"no heart disease\", \"no heart disease\", \"no heart disease\", \"no heart disease\", \"no heart disease\", \"no heart disease\", \"no heart disease\", \"no heart disease\", \"no heart disease\", \"no heart disease\", \"no heart disease\", \"no heart disease\", \"no heart disease\", \"no heart disease\", \"no heart disease\", \"no heart disease\", \"no heart disease\", \"no heart disease\", \"no heart disease\", \"no heart disease\", \"no heart disease\", \"no heart disease\", \"no heart disease\", \"no heart disease\", \"no heart disease\", \"no heart disease\", \"no heart disease\", \"no heart disease\", \"no heart disease\", \"no heart disease\", \"no heart disease\", \"no heart disease\", \"no heart disease\", \"no heart disease\", \"no heart disease\", \"no heart disease\", \"no heart disease\", \"no heart disease\", \"no heart disease\", \"no heart disease\", \"no heart disease\", \"no heart disease\", \"no heart disease\", \"no heart disease\", \"no heart disease\", \"no heart disease\", \"no heart disease\", \"no heart disease\", \"no heart disease\", \"no heart disease\", \"no heart disease\", \"no heart disease\", \"no heart disease\", \"no heart disease\", \"no heart disease\", \"no heart disease\", \"no heart disease\", \"no heart disease\", \"no heart disease\"], \"yaxis\": \"y2\"}],                        {\"barmode\": \"overlay\", \"hovermode\": \"closest\", \"legend\": {\"traceorder\": \"reversed\"}, \"template\": {\"data\": {\"bar\": [{\"error_x\": {\"color\": \"#2a3f5f\"}, \"error_y\": {\"color\": \"#2a3f5f\"}, \"marker\": {\"line\": {\"color\": \"#E5ECF6\", \"width\": 0.5}}, \"type\": \"bar\"}], \"barpolar\": [{\"marker\": {\"line\": {\"color\": \"#E5ECF6\", \"width\": 0.5}}, \"type\": \"barpolar\"}], \"carpet\": [{\"aaxis\": {\"endlinecolor\": \"#2a3f5f\", \"gridcolor\": \"white\", \"linecolor\": \"white\", \"minorgridcolor\": \"white\", \"startlinecolor\": \"#2a3f5f\"}, \"baxis\": {\"endlinecolor\": \"#2a3f5f\", \"gridcolor\": \"white\", \"linecolor\": \"white\", \"minorgridcolor\": \"white\", \"startlinecolor\": \"#2a3f5f\"}, \"type\": \"carpet\"}], \"choropleth\": [{\"colorbar\": {\"outlinewidth\": 0, \"ticks\": \"\"}, \"type\": \"choropleth\"}], \"contour\": [{\"colorbar\": {\"outlinewidth\": 0, \"ticks\": \"\"}, \"colorscale\": [[0.0, \"#0d0887\"], [0.1111111111111111, \"#46039f\"], [0.2222222222222222, \"#7201a8\"], [0.3333333333333333, \"#9c179e\"], [0.4444444444444444, \"#bd3786\"], [0.5555555555555556, \"#d8576b\"], [0.6666666666666666, \"#ed7953\"], [0.7777777777777778, \"#fb9f3a\"], [0.8888888888888888, \"#fdca26\"], [1.0, \"#f0f921\"]], \"type\": \"contour\"}], \"contourcarpet\": [{\"colorbar\": {\"outlinewidth\": 0, \"ticks\": \"\"}, \"type\": \"contourcarpet\"}], \"heatmap\": [{\"colorbar\": {\"outlinewidth\": 0, \"ticks\": \"\"}, \"colorscale\": [[0.0, \"#0d0887\"], [0.1111111111111111, \"#46039f\"], [0.2222222222222222, \"#7201a8\"], [0.3333333333333333, \"#9c179e\"], [0.4444444444444444, \"#bd3786\"], [0.5555555555555556, \"#d8576b\"], [0.6666666666666666, \"#ed7953\"], [0.7777777777777778, \"#fb9f3a\"], [0.8888888888888888, \"#fdca26\"], [1.0, \"#f0f921\"]], \"type\": \"heatmap\"}], \"heatmapgl\": [{\"colorbar\": {\"outlinewidth\": 0, \"ticks\": \"\"}, \"colorscale\": [[0.0, \"#0d0887\"], [0.1111111111111111, \"#46039f\"], [0.2222222222222222, \"#7201a8\"], [0.3333333333333333, \"#9c179e\"], [0.4444444444444444, \"#bd3786\"], [0.5555555555555556, \"#d8576b\"], [0.6666666666666666, \"#ed7953\"], [0.7777777777777778, \"#fb9f3a\"], [0.8888888888888888, \"#fdca26\"], [1.0, \"#f0f921\"]], \"type\": \"heatmapgl\"}], \"histogram\": [{\"marker\": {\"colorbar\": {\"outlinewidth\": 0, \"ticks\": \"\"}}, \"type\": \"histogram\"}], \"histogram2d\": [{\"colorbar\": {\"outlinewidth\": 0, \"ticks\": \"\"}, \"colorscale\": [[0.0, \"#0d0887\"], [0.1111111111111111, \"#46039f\"], [0.2222222222222222, \"#7201a8\"], [0.3333333333333333, \"#9c179e\"], [0.4444444444444444, \"#bd3786\"], [0.5555555555555556, \"#d8576b\"], [0.6666666666666666, \"#ed7953\"], [0.7777777777777778, \"#fb9f3a\"], [0.8888888888888888, \"#fdca26\"], [1.0, \"#f0f921\"]], \"type\": \"histogram2d\"}], \"histogram2dcontour\": [{\"colorbar\": {\"outlinewidth\": 0, \"ticks\": \"\"}, \"colorscale\": [[0.0, \"#0d0887\"], [0.1111111111111111, \"#46039f\"], [0.2222222222222222, \"#7201a8\"], [0.3333333333333333, \"#9c179e\"], [0.4444444444444444, \"#bd3786\"], [0.5555555555555556, \"#d8576b\"], [0.6666666666666666, \"#ed7953\"], [0.7777777777777778, \"#fb9f3a\"], [0.8888888888888888, \"#fdca26\"], [1.0, \"#f0f921\"]], \"type\": \"histogram2dcontour\"}], \"mesh3d\": [{\"colorbar\": {\"outlinewidth\": 0, \"ticks\": \"\"}, \"type\": \"mesh3d\"}], \"parcoords\": [{\"line\": {\"colorbar\": {\"outlinewidth\": 0, \"ticks\": \"\"}}, \"type\": \"parcoords\"}], \"pie\": [{\"automargin\": true, \"type\": \"pie\"}], \"scatter\": [{\"marker\": {\"colorbar\": {\"outlinewidth\": 0, \"ticks\": \"\"}}, \"type\": \"scatter\"}], \"scatter3d\": [{\"line\": {\"colorbar\": {\"outlinewidth\": 0, \"ticks\": \"\"}}, \"marker\": {\"colorbar\": {\"outlinewidth\": 0, \"ticks\": \"\"}}, \"type\": \"scatter3d\"}], \"scattercarpet\": [{\"marker\": {\"colorbar\": {\"outlinewidth\": 0, \"ticks\": \"\"}}, \"type\": \"scattercarpet\"}], \"scattergeo\": [{\"marker\": {\"colorbar\": {\"outlinewidth\": 0, \"ticks\": \"\"}}, \"type\": \"scattergeo\"}], \"scattergl\": [{\"marker\": {\"colorbar\": {\"outlinewidth\": 0, \"ticks\": \"\"}}, \"type\": \"scattergl\"}], \"scattermapbox\": [{\"marker\": {\"colorbar\": {\"outlinewidth\": 0, \"ticks\": \"\"}}, \"type\": \"scattermapbox\"}], \"scatterpolar\": [{\"marker\": {\"colorbar\": {\"outlinewidth\": 0, \"ticks\": \"\"}}, \"type\": \"scatterpolar\"}], \"scatterpolargl\": [{\"marker\": {\"colorbar\": {\"outlinewidth\": 0, \"ticks\": \"\"}}, \"type\": \"scatterpolargl\"}], \"scatterternary\": [{\"marker\": {\"colorbar\": {\"outlinewidth\": 0, \"ticks\": \"\"}}, \"type\": \"scatterternary\"}], \"surface\": [{\"colorbar\": {\"outlinewidth\": 0, \"ticks\": \"\"}, \"colorscale\": [[0.0, \"#0d0887\"], [0.1111111111111111, \"#46039f\"], [0.2222222222222222, \"#7201a8\"], [0.3333333333333333, \"#9c179e\"], [0.4444444444444444, \"#bd3786\"], [0.5555555555555556, \"#d8576b\"], [0.6666666666666666, \"#ed7953\"], [0.7777777777777778, \"#fb9f3a\"], [0.8888888888888888, \"#fdca26\"], [1.0, \"#f0f921\"]], \"type\": \"surface\"}], \"table\": [{\"cells\": {\"fill\": {\"color\": \"#EBF0F8\"}, \"line\": {\"color\": \"white\"}}, \"header\": {\"fill\": {\"color\": \"#C8D4E3\"}, \"line\": {\"color\": \"white\"}}, \"type\": \"table\"}]}, \"layout\": {\"annotationdefaults\": {\"arrowcolor\": \"#2a3f5f\", \"arrowhead\": 0, \"arrowwidth\": 1}, \"coloraxis\": {\"colorbar\": {\"outlinewidth\": 0, \"ticks\": \"\"}}, \"colorscale\": {\"diverging\": [[0, \"#8e0152\"], [0.1, \"#c51b7d\"], [0.2, \"#de77ae\"], [0.3, \"#f1b6da\"], [0.4, \"#fde0ef\"], [0.5, \"#f7f7f7\"], [0.6, \"#e6f5d0\"], [0.7, \"#b8e186\"], [0.8, \"#7fbc41\"], [0.9, \"#4d9221\"], [1, \"#276419\"]], \"sequential\": [[0.0, \"#0d0887\"], [0.1111111111111111, \"#46039f\"], [0.2222222222222222, \"#7201a8\"], [0.3333333333333333, \"#9c179e\"], [0.4444444444444444, \"#bd3786\"], [0.5555555555555556, \"#d8576b\"], [0.6666666666666666, \"#ed7953\"], [0.7777777777777778, \"#fb9f3a\"], [0.8888888888888888, \"#fdca26\"], [1.0, \"#f0f921\"]], \"sequentialminus\": [[0.0, \"#0d0887\"], [0.1111111111111111, \"#46039f\"], [0.2222222222222222, \"#7201a8\"], [0.3333333333333333, \"#9c179e\"], [0.4444444444444444, \"#bd3786\"], [0.5555555555555556, \"#d8576b\"], [0.6666666666666666, \"#ed7953\"], [0.7777777777777778, \"#fb9f3a\"], [0.8888888888888888, \"#fdca26\"], [1.0, \"#f0f921\"]]}, \"colorway\": [\"#636efa\", \"#EF553B\", \"#00cc96\", \"#ab63fa\", \"#FFA15A\", \"#19d3f3\", \"#FF6692\", \"#B6E880\", \"#FF97FF\", \"#FECB52\"], \"font\": {\"color\": \"#2a3f5f\"}, \"geo\": {\"bgcolor\": \"white\", \"lakecolor\": \"white\", \"landcolor\": \"#E5ECF6\", \"showlakes\": true, \"showland\": true, \"subunitcolor\": \"white\"}, \"hoverlabel\": {\"align\": \"left\"}, \"hovermode\": \"closest\", \"mapbox\": {\"style\": \"light\"}, \"paper_bgcolor\": \"white\", \"plot_bgcolor\": \"#E5ECF6\", \"polar\": {\"angularaxis\": {\"gridcolor\": \"white\", \"linecolor\": \"white\", \"ticks\": \"\"}, \"bgcolor\": \"#E5ECF6\", \"radialaxis\": {\"gridcolor\": \"white\", \"linecolor\": \"white\", \"ticks\": \"\"}}, \"scene\": {\"xaxis\": {\"backgroundcolor\": \"#E5ECF6\", \"gridcolor\": \"white\", \"gridwidth\": 2, \"linecolor\": \"white\", \"showbackground\": true, \"ticks\": \"\", \"zerolinecolor\": \"white\"}, \"yaxis\": {\"backgroundcolor\": \"#E5ECF6\", \"gridcolor\": \"white\", \"gridwidth\": 2, \"linecolor\": \"white\", \"showbackground\": true, \"ticks\": \"\", \"zerolinecolor\": \"white\"}, \"zaxis\": {\"backgroundcolor\": \"#E5ECF6\", \"gridcolor\": \"white\", \"gridwidth\": 2, \"linecolor\": \"white\", \"showbackground\": true, \"ticks\": \"\", \"zerolinecolor\": \"white\"}}, \"shapedefaults\": {\"line\": {\"color\": \"#2a3f5f\"}}, \"ternary\": {\"aaxis\": {\"gridcolor\": \"white\", \"linecolor\": \"white\", \"ticks\": \"\"}, \"baxis\": {\"gridcolor\": \"white\", \"linecolor\": \"white\", \"ticks\": \"\"}, \"bgcolor\": \"#E5ECF6\", \"caxis\": {\"gridcolor\": \"white\", \"linecolor\": \"white\", \"ticks\": \"\"}}, \"title\": {\"x\": 0.05}, \"xaxis\": {\"automargin\": true, \"gridcolor\": \"white\", \"linecolor\": \"white\", \"ticks\": \"\", \"title\": {\"standoff\": 15}, \"zerolinecolor\": \"white\", \"zerolinewidth\": 2}, \"yaxis\": {\"automargin\": true, \"gridcolor\": \"white\", \"linecolor\": \"white\", \"ticks\": \"\", \"title\": {\"standoff\": 15}, \"zerolinecolor\": \"white\", \"zerolinewidth\": 2}}}, \"title\": {\"text\": \"Distribution Plot of Old Peak by Condition Type\"}, \"xaxis\": {\"anchor\": \"y2\", \"domain\": [0.0, 1.0], \"zeroline\": false}, \"yaxis\": {\"anchor\": \"free\", \"domain\": [0.35, 1], \"position\": 0.0}, \"yaxis2\": {\"anchor\": \"x\", \"domain\": [0, 0.25], \"dtick\": 1, \"showticklabels\": false}},                        {\"responsive\": true}                    ).then(function(){\n",
       "                            \n",
       "var gd = document.getElementById('d0cb9f07-7d4b-4dac-ae5d-6c1880a08475');\n",
       "var x = new MutationObserver(function (mutations, observer) {{\n",
       "        var display = window.getComputedStyle(gd).display;\n",
       "        if (!display || display === 'none') {{\n",
       "            console.log([gd, 'removed!']);\n",
       "            Plotly.purge(gd);\n",
       "            observer.disconnect();\n",
       "        }}\n",
       "}});\n",
       "\n",
       "// Listen for the removal of the full notebook cells\n",
       "var notebookContainer = gd.closest('#notebook-container');\n",
       "if (notebookContainer) {{\n",
       "    x.observe(notebookContainer, {childList: true});\n",
       "}}\n",
       "\n",
       "// Listen for the clearing of the current output cell\n",
       "var outputEl = gd.closest('.output');\n",
       "if (outputEl) {{\n",
       "    x.observe(outputEl, {childList: true});\n",
       "}}\n",
       "\n",
       "                        })                };                });            </script>        </div>"
      ]
     },
     "metadata": {},
     "output_type": "display_data"
    }
   ],
   "source": [
    "# distplot\n",
    "## define values\n",
    "op_y = df[df['condition'] == 1]['oldpeak']\n",
    "op_n = df[df['condition'] == 0]['oldpeak']\n",
    "hist_data2 = [op_y, op_n]\n",
    "labels = ['heart disease', 'no heart disease']\n",
    "\n",
    "## plot\n",
    "fig = ff.create_distplot(hist_data2, group_labels = labels, bin_size = 0.5)\n",
    "fig.update_layout(title_text = 'Distribution Plot of Old Peak by Condition Type')\n",
    "fig.show()"
   ]
  },
  {
   "cell_type": "markdown",
   "metadata": {},
   "source": [
    "### Relationship between 'thalach' and 'condition'"
   ]
  },
  {
   "cell_type": "markdown",
   "metadata": {},
   "source": [
    "(provide brief description of what [x] is, and how it might relate to [target])"
   ]
  },
  {
   "cell_type": "code",
   "execution_count": 76,
   "metadata": {},
   "outputs": [
    {
     "data": {
      "application/vnd.plotly.v1+json": {
       "config": {
        "plotlyServerURL": "https://plot.ly"
       },
       "data": [
        {
         "alignmentgroup": "True",
         "bingroup": "x",
         "hovertemplate": "condition=0<br>thalach=%{x}<br>count=%{y}<extra></extra>",
         "legendgroup": "0",
         "marker": {
          "color": "#636efa"
         },
         "name": "0",
         "offsetgroup": "0",
         "orientation": "v",
         "showlegend": true,
         "type": "histogram",
         "x": [
          131,
          151,
          114,
          144,
          155,
          150,
          171,
          145,
          162,
          162,
          190,
          178,
          125,
          178,
          178,
          174,
          121,
          162,
          143,
          179,
          140,
          164,
          169,
          153,
          178,
          163,
          161,
          155,
          166,
          156,
          159,
          172,
          158,
          184,
          162,
          162,
          171,
          180,
          156,
          172,
          175,
          138,
          170,
          173,
          188,
          170,
          162,
          132,
          172,
          168,
          153,
          163,
          182,
          174,
          192,
          202,
          116,
          130,
          115,
          151,
          160,
          172,
          152,
          157,
          148,
          151,
          133,
          172,
          146,
          137,
          160,
          96,
          157,
          154,
          172,
          165,
          174,
          173,
          152,
          147,
          158,
          170,
          165,
          167,
          163,
          152,
          173,
          169,
          162,
          143,
          166,
          123,
          142,
          149,
          154,
          157,
          158,
          163,
          139,
          175,
          156,
          179,
          160,
          175,
          149,
          179,
          180,
          169,
          165,
          162,
          194,
          173,
          150,
          168,
          179,
          172,
          152,
          182,
          179,
          187,
          170,
          125,
          142,
          151,
          138,
          140,
          122,
          105,
          154,
          157,
          163,
          161,
          182,
          122,
          131,
          148,
          126,
          163,
          159,
          168,
          160,
          143,
          160,
          111,
          147,
          186,
          159,
          163,
          186,
          143,
          152,
          148,
          152,
          185,
          181,
          171,
          161,
          122,
          178,
          182
         ],
         "xaxis": "x",
         "yaxis": "y"
        },
        {
         "alignmentgroup": "True",
         "customdata": [
          [
           69,
           1,
           0,
           160,
           234,
           1,
           2,
           131,
           0,
           0.1,
           1,
           1,
           0,
           0
          ],
          [
           69,
           0,
           0,
           140,
           239,
           0,
           0,
           151,
           0,
           1.8,
           0,
           2,
           0,
           0
          ],
          [
           66,
           0,
           0,
           150,
           226,
           0,
           0,
           114,
           0,
           2.6,
           2,
           0,
           0,
           0
          ],
          [
           64,
           1,
           0,
           110,
           211,
           0,
           2,
           144,
           1,
           1.8,
           1,
           0,
           0,
           0
          ],
          [
           64,
           1,
           0,
           170,
           227,
           0,
           2,
           155,
           0,
           0.6,
           1,
           0,
           2,
           0
          ],
          [
           63,
           1,
           0,
           145,
           233,
           1,
           2,
           150,
           0,
           2.3,
           2,
           0,
           1,
           0
          ],
          [
           60,
           0,
           0,
           150,
           240,
           0,
           0,
           171,
           0,
           0.9,
           0,
           0,
           0,
           0
          ],
          [
           59,
           1,
           0,
           178,
           270,
           0,
           2,
           145,
           0,
           4.2,
           2,
           0,
           2,
           0
          ],
          [
           58,
           0,
           0,
           150,
           283,
           1,
           2,
           162,
           0,
           1,
           0,
           0,
           0,
           0
          ],
          [
           56,
           1,
           0,
           120,
           193,
           0,
           2,
           162,
           0,
           1.9,
           1,
           0,
           2,
           0
          ],
          [
           52,
           1,
           0,
           118,
           186,
           0,
           2,
           190,
           0,
           0,
           1,
           0,
           1,
           0
          ],
          [
           52,
           1,
           0,
           152,
           298,
           1,
           0,
           178,
           0,
           1.2,
           1,
           0,
           2,
           0
          ],
          [
           51,
           1,
           0,
           125,
           213,
           0,
           2,
           125,
           1,
           1.4,
           0,
           1,
           0,
           0
          ],
          [
           42,
           1,
           0,
           148,
           244,
           0,
           2,
           178,
           0,
           0.8,
           0,
           2,
           0,
           0
          ],
          [
           40,
           1,
           0,
           140,
           199,
           0,
           0,
           178,
           1,
           1.4,
           0,
           0,
           2,
           0
          ],
          [
           34,
           1,
           0,
           118,
           182,
           0,
           2,
           174,
           0,
           0,
           0,
           0,
           0,
           0
          ],
          [
           74,
           0,
           1,
           120,
           269,
           0,
           2,
           121,
           1,
           0.2,
           0,
           1,
           0,
           0
          ],
          [
           71,
           0,
           1,
           160,
           302,
           0,
           0,
           162,
           0,
           0.4,
           0,
           2,
           0,
           0
          ],
          [
           70,
           1,
           1,
           156,
           245,
           0,
           2,
           143,
           0,
           0,
           0,
           0,
           0,
           0
          ],
          [
           63,
           0,
           1,
           140,
           195,
           0,
           0,
           179,
           0,
           0,
           0,
           2,
           0,
           0
          ],
          [
           62,
           1,
           1,
           128,
           208,
           1,
           2,
           140,
           0,
           0,
           0,
           0,
           0,
           0
          ],
          [
           59,
           1,
           1,
           140,
           221,
           0,
           0,
           164,
           1,
           0,
           0,
           0,
           0,
           0
          ],
          [
           56,
           1,
           1,
           120,
           240,
           0,
           0,
           169,
           0,
           0,
           2,
           0,
           0,
           0
          ],
          [
           56,
           0,
           1,
           140,
           294,
           0,
           2,
           153,
           0,
           1.3,
           1,
           0,
           0,
           0
          ],
          [
           56,
           1,
           1,
           120,
           236,
           0,
           0,
           178,
           0,
           0.8,
           0,
           0,
           0,
           0
          ],
          [
           56,
           1,
           1,
           130,
           221,
           0,
           2,
           163,
           0,
           0,
           0,
           0,
           2,
           0
          ],
          [
           55,
           0,
           1,
           135,
           250,
           0,
           2,
           161,
           0,
           1.4,
           1,
           0,
           0,
           0
          ],
          [
           55,
           1,
           1,
           130,
           262,
           0,
           0,
           155,
           0,
           0,
           0,
           0,
           0,
           0
          ],
          [
           55,
           0,
           1,
           132,
           342,
           0,
           0,
           166,
           0,
           1.2,
           0,
           0,
           0,
           0
          ],
          [
           54,
           1,
           1,
           108,
           309,
           0,
           0,
           156,
           0,
           0,
           0,
           0,
           2,
           0
          ],
          [
           54,
           0,
           1,
           132,
           288,
           1,
           2,
           159,
           1,
           0,
           0,
           1,
           0,
           0
          ],
          [
           52,
           1,
           1,
           120,
           325,
           0,
           0,
           172,
           0,
           0.2,
           0,
           0,
           0,
           0
          ],
          [
           52,
           1,
           1,
           134,
           201,
           0,
           0,
           158,
           0,
           0.8,
           0,
           1,
           0,
           0
          ],
          [
           52,
           1,
           1,
           128,
           205,
           1,
           0,
           184,
           0,
           0,
           0,
           0,
           0,
           0
          ],
          [
           50,
           0,
           1,
           120,
           244,
           0,
           0,
           162,
           0,
           1.1,
           0,
           0,
           0,
           0
          ],
          [
           49,
           0,
           1,
           134,
           271,
           0,
           0,
           162,
           0,
           0,
           1,
           0,
           0,
           0
          ],
          [
           49,
           1,
           1,
           130,
           266,
           0,
           0,
           171,
           0,
           0.6,
           0,
           0,
           0,
           0
          ],
          [
           48,
           1,
           1,
           130,
           245,
           0,
           2,
           180,
           0,
           0.2,
           1,
           0,
           0,
           0
          ],
          [
           46,
           1,
           1,
           101,
           197,
           1,
           0,
           156,
           0,
           0,
           0,
           0,
           2,
           0
          ],
          [
           46,
           0,
           1,
           105,
           204,
           0,
           0,
           172,
           0,
           0,
           0,
           0,
           0,
           0
          ],
          [
           45,
           0,
           1,
           130,
           234,
           0,
           2,
           175,
           0,
           0.6,
           1,
           0,
           0,
           0
          ],
          [
           45,
           0,
           1,
           112,
           160,
           0,
           0,
           138,
           0,
           0,
           1,
           0,
           0,
           0
          ],
          [
           45,
           1,
           1,
           128,
           308,
           0,
           2,
           170,
           0,
           0,
           0,
           0,
           0,
           0
          ],
          [
           44,
           1,
           1,
           120,
           263,
           0,
           0,
           173,
           0,
           0,
           0,
           0,
           2,
           0
          ],
          [
           44,
           1,
           1,
           130,
           219,
           0,
           2,
           188,
           0,
           0,
           0,
           0,
           0,
           0
          ],
          [
           44,
           1,
           1,
           120,
           220,
           0,
           0,
           170,
           0,
           0,
           0,
           0,
           0,
           0
          ],
          [
           42,
           1,
           1,
           120,
           295,
           0,
           0,
           162,
           0,
           0,
           0,
           0,
           0,
           0
          ],
          [
           41,
           1,
           1,
           135,
           203,
           0,
           0,
           132,
           0,
           0,
           1,
           0,
           1,
           0
          ],
          [
           41,
           0,
           1,
           130,
           204,
           0,
           2,
           172,
           0,
           1.4,
           0,
           0,
           0,
           0
          ],
          [
           41,
           0,
           1,
           105,
           198,
           0,
           0,
           168,
           0,
           0,
           0,
           1,
           0,
           0
          ],
          [
           41,
           1,
           1,
           110,
           235,
           0,
           0,
           153,
           0,
           0,
           0,
           0,
           0,
           0
          ],
          [
           41,
           0,
           1,
           126,
           306,
           0,
           0,
           163,
           0,
           0,
           0,
           0,
           0,
           0
          ],
          [
           41,
           1,
           1,
           120,
           157,
           0,
           0,
           182,
           0,
           0,
           0,
           0,
           0,
           0
          ],
          [
           35,
           1,
           1,
           122,
           192,
           0,
           0,
           174,
           0,
           0,
           0,
           0,
           0,
           0
          ],
          [
           34,
           0,
           1,
           118,
           210,
           0,
           0,
           192,
           0,
           0.7,
           0,
           0,
           0,
           0
          ],
          [
           29,
           1,
           1,
           130,
           204,
           0,
           2,
           202,
           0,
           0,
           0,
           0,
           0,
           0
          ],
          [
           76,
           0,
           2,
           140,
           197,
           0,
           1,
           116,
           0,
           1.1,
           1,
           0,
           0,
           0
          ],
          [
           71,
           0,
           2,
           110,
           265,
           1,
           2,
           130,
           0,
           0,
           0,
           1,
           0,
           0
          ],
          [
           68,
           0,
           2,
           120,
           211,
           0,
           2,
           115,
           0,
           1.5,
           1,
           0,
           0,
           0
          ],
          [
           68,
           1,
           2,
           118,
           277,
           0,
           0,
           151,
           0,
           1,
           0,
           1,
           2,
           0
          ],
          [
           67,
           0,
           2,
           115,
           564,
           0,
           2,
           160,
           0,
           1.6,
           1,
           0,
           2,
           0
          ],
          [
           67,
           0,
           2,
           152,
           277,
           0,
           0,
           172,
           0,
           0,
           0,
           1,
           0,
           0
          ],
          [
           66,
           0,
           2,
           146,
           278,
           0,
           2,
           152,
           0,
           0,
           1,
           1,
           0,
           0
          ],
          [
           65,
           0,
           2,
           140,
           417,
           1,
           2,
           157,
           0,
           0.8,
           0,
           1,
           0,
           0
          ],
          [
           65,
           0,
           2,
           155,
           269,
           0,
           0,
           148,
           0,
           0.8,
           0,
           0,
           0,
           0
          ],
          [
           65,
           0,
           2,
           160,
           360,
           0,
           2,
           151,
           0,
           0.8,
           0,
           0,
           0,
           0
          ],
          [
           64,
           0,
           2,
           140,
           313,
           0,
           0,
           133,
           0,
           0.2,
           0,
           0,
           2,
           0
          ],
          [
           63,
           0,
           2,
           135,
           252,
           0,
           2,
           172,
           0,
           0,
           0,
           0,
           0,
           0
          ],
          [
           62,
           1,
           2,
           130,
           231,
           0,
           0,
           146,
           0,
           1.8,
           1,
           3,
           2,
           0
          ],
          [
           61,
           1,
           2,
           150,
           243,
           1,
           0,
           137,
           1,
           1,
           1,
           0,
           0,
           0
          ],
          [
           60,
           0,
           2,
           102,
           318,
           0,
           0,
           160,
           0,
           0,
           0,
           1,
           0,
           0
          ],
          [
           60,
           0,
           2,
           120,
           178,
           1,
           0,
           96,
           0,
           0,
           0,
           0,
           0,
           0
          ],
          [
           59,
           1,
           2,
           150,
           212,
           1,
           0,
           157,
           0,
           1.6,
           0,
           0,
           0,
           0
          ],
          [
           58,
           1,
           2,
           105,
           240,
           0,
           2,
           154,
           1,
           0.6,
           1,
           0,
           2,
           0
          ],
          [
           58,
           0,
           2,
           120,
           340,
           0,
           0,
           172,
           0,
           0,
           0,
           0,
           0,
           0
          ],
          [
           58,
           1,
           2,
           140,
           211,
           1,
           2,
           165,
           0,
           0,
           0,
           0,
           0,
           0
          ],
          [
           57,
           1,
           2,
           150,
           168,
           0,
           0,
           174,
           0,
           1.6,
           0,
           0,
           0,
           0
          ],
          [
           57,
           1,
           2,
           150,
           126,
           1,
           0,
           173,
           0,
           0.2,
           0,
           1,
           2,
           0
          ],
          [
           54,
           1,
           2,
           125,
           273,
           0,
           2,
           152,
           0,
           0.5,
           2,
           1,
           0,
           0
          ],
          [
           54,
           1,
           2,
           120,
           258,
           0,
           2,
           147,
           0,
           0.4,
           1,
           0,
           2,
           0
          ],
          [
           54,
           0,
           2,
           110,
           214,
           0,
           0,
           158,
           0,
           1.6,
           1,
           0,
           0,
           0
          ],
          [
           54,
           0,
           2,
           135,
           304,
           1,
           0,
           170,
           0,
           0,
           0,
           0,
           0,
           0
          ],
          [
           54,
           1,
           2,
           150,
           232,
           0,
           2,
           165,
           0,
           1.6,
           0,
           0,
           2,
           0
          ],
          [
           54,
           0,
           2,
           108,
           267,
           0,
           2,
           167,
           0,
           0,
           0,
           0,
           0,
           0
          ],
          [
           54,
           0,
           2,
           160,
           201,
           0,
           0,
           163,
           0,
           0,
           0,
           1,
           0,
           0
          ],
          [
           53,
           1,
           2,
           130,
           197,
           1,
           2,
           152,
           0,
           1.2,
           2,
           0,
           0,
           0
          ],
          [
           53,
           1,
           2,
           130,
           246,
           1,
           2,
           173,
           0,
           0,
           0,
           3,
           0,
           0
          ],
          [
           52,
           0,
           2,
           136,
           196,
           0,
           2,
           169,
           0,
           0.1,
           1,
           0,
           0,
           0
          ],
          [
           52,
           1,
           2,
           172,
           199,
           1,
           0,
           162,
           0,
           0.5,
           0,
           0,
           2,
           0
          ],
          [
           51,
           1,
           2,
           100,
           222,
           0,
           0,
           143,
           1,
           1.2,
           1,
           0,
           0,
           0
          ],
          [
           51,
           1,
           2,
           125,
           245,
           1,
           2,
           166,
           0,
           2.4,
           1,
           0,
           0,
           0
          ],
          [
           51,
           1,
           2,
           110,
           175,
           0,
           0,
           123,
           0,
           0.6,
           0,
           0,
           0,
           0
          ],
          [
           51,
           0,
           2,
           140,
           308,
           0,
           2,
           142,
           0,
           1.5,
           0,
           1,
           0,
           0
          ],
          [
           51,
           0,
           2,
           130,
           256,
           0,
           2,
           149,
           0,
           0.5,
           0,
           0,
           0,
           0
          ],
          [
           51,
           1,
           2,
           94,
           227,
           0,
           0,
           154,
           1,
           0,
           0,
           1,
           2,
           0
          ],
          [
           51,
           0,
           2,
           120,
           295,
           0,
           2,
           157,
           0,
           0.6,
           0,
           0,
           0,
           0
          ],
          [
           50,
           0,
           2,
           120,
           219,
           0,
           0,
           158,
           0,
           1.6,
           1,
           0,
           0,
           0
          ],
          [
           50,
           1,
           2,
           129,
           196,
           0,
           0,
           163,
           0,
           0,
           0,
           0,
           0,
           0
          ],
          [
           48,
           0,
           2,
           130,
           275,
           0,
           0,
           139,
           0,
           0.2,
           0,
           0,
           0,
           0
          ],
          [
           48,
           1,
           2,
           124,
           255,
           1,
           0,
           175,
           0,
           0,
           0,
           2,
           0,
           0
          ],
          [
           47,
           1,
           2,
           138,
           257,
           0,
           2,
           156,
           0,
           0,
           0,
           0,
           0,
           0
          ],
          [
           47,
           1,
           2,
           130,
           253,
           0,
           0,
           179,
           0,
           0,
           0,
           0,
           0,
           0
          ],
          [
           46,
           0,
           2,
           142,
           177,
           0,
           2,
           160,
           1,
           1.4,
           2,
           0,
           0,
           0
          ],
          [
           44,
           0,
           2,
           108,
           141,
           0,
           0,
           175,
           0,
           0.6,
           1,
           0,
           0,
           0
          ],
          [
           44,
           0,
           2,
           118,
           242,
           0,
           0,
           149,
           0,
           0.3,
           1,
           1,
           0,
           0
          ],
          [
           44,
           1,
           2,
           130,
           233,
           0,
           0,
           179,
           1,
           0.4,
           0,
           0,
           0,
           0
          ],
          [
           44,
           1,
           2,
           140,
           235,
           0,
           2,
           180,
           0,
           0,
           0,
           0,
           0,
           0
          ],
          [
           44,
           1,
           2,
           120,
           226,
           0,
           0,
           169,
           0,
           0,
           0,
           0,
           0,
           0
          ],
          [
           43,
           0,
           2,
           122,
           213,
           0,
           0,
           165,
           0,
           0.2,
           1,
           0,
           0,
           0
          ],
          [
           43,
           1,
           2,
           130,
           315,
           0,
           0,
           162,
           0,
           1.9,
           0,
           1,
           0,
           0
          ],
          [
           42,
           1,
           2,
           120,
           240,
           1,
           0,
           194,
           0,
           0.8,
           2,
           0,
           2,
           0
          ],
          [
           42,
           0,
           2,
           120,
           209,
           0,
           0,
           173,
           0,
           0,
           1,
           0,
           0,
           0
          ],
          [
           42,
           1,
           2,
           130,
           180,
           0,
           0,
           150,
           0,
           0,
           0,
           0,
           0,
           0
          ],
          [
           41,
           1,
           2,
           130,
           214,
           0,
           2,
           168,
           0,
           2,
           1,
           0,
           0,
           0
          ],
          [
           41,
           1,
           2,
           112,
           250,
           0,
           0,
           179,
           0,
           0,
           0,
           0,
           0,
           0
          ],
          [
           41,
           0,
           2,
           112,
           268,
           0,
           2,
           172,
           1,
           0,
           0,
           0,
           0,
           0
          ],
          [
           39,
           0,
           2,
           138,
           220,
           0,
           0,
           152,
           0,
           0,
           1,
           0,
           0,
           0
          ],
          [
           39,
           1,
           2,
           140,
           321,
           0,
           2,
           182,
           0,
           0,
           0,
           0,
           0,
           0
          ],
          [
           39,
           0,
           2,
           94,
           199,
           0,
           0,
           179,
           0,
           0,
           0,
           0,
           0,
           0
          ],
          [
           37,
           1,
           2,
           130,
           250,
           0,
           0,
           187,
           0,
           3.5,
           2,
           0,
           0,
           0
          ],
          [
           37,
           0,
           2,
           120,
           215,
           0,
           0,
           170,
           0,
           0,
           0,
           0,
           0,
           0
          ],
          [
           71,
           0,
           3,
           112,
           149,
           0,
           0,
           125,
           0,
           1.6,
           1,
           0,
           0,
           0
          ],
          [
           67,
           0,
           3,
           106,
           223,
           0,
           0,
           142,
           0,
           0.3,
           0,
           2,
           0,
           0
          ],
          [
           66,
           1,
           3,
           120,
           302,
           0,
           2,
           151,
           0,
           0.4,
           1,
           0,
           0,
           0
          ],
          [
           66,
           1,
           3,
           160,
           228,
           0,
           2,
           138,
           0,
           2.3,
           0,
           0,
           1,
           0
          ],
          [
           65,
           1,
           3,
           120,
           177,
           0,
           0,
           140,
           0,
           0.4,
           0,
           0,
           2,
           0
          ],
          [
           64,
           0,
           3,
           130,
           303,
           0,
           0,
           122,
           0,
           2,
           1,
           2,
           0,
           0
          ],
          [
           64,
           1,
           3,
           128,
           263,
           0,
           0,
           105,
           1,
           0.2,
           1,
           1,
           2,
           0
          ],
          [
           64,
           0,
           3,
           180,
           325,
           0,
           0,
           154,
           1,
           0,
           0,
           0,
           0,
           0
          ],
          [
           62,
           0,
           3,
           140,
           394,
           0,
           2,
           157,
           0,
           1.2,
           1,
           0,
           0,
           0
          ],
          [
           62,
           0,
           3,
           124,
           209,
           0,
           0,
           163,
           0,
           0,
           0,
           0,
           0,
           0
          ],
          [
           59,
           1,
           3,
           135,
           234,
           0,
           0,
           161,
           0,
           0.5,
           1,
           0,
           2,
           0
          ],
          [
           59,
           1,
           3,
           138,
           271,
           0,
           2,
           182,
           0,
           0,
           0,
           0,
           0,
           0
          ],
          [
           58,
           0,
           3,
           100,
           248,
           0,
           2,
           122,
           0,
           1,
           1,
           0,
           0,
           0
          ],
          [
           58,
           0,
           3,
           130,
           197,
           0,
           0,
           131,
           0,
           0.6,
           1,
           0,
           0,
           0
          ],
          [
           57,
           1,
           3,
           140,
           192,
           0,
           0,
           148,
           0,
           0.4,
           1,
           0,
           1,
           0
          ],
          [
           57,
           1,
           3,
           110,
           201,
           0,
           0,
           126,
           1,
           1.5,
           1,
           0,
           1,
           0
          ],
          [
           57,
           0,
           3,
           120,
           354,
           0,
           0,
           163,
           1,
           0.6,
           0,
           0,
           0,
           0
          ],
          [
           57,
           0,
           3,
           128,
           303,
           0,
           2,
           159,
           0,
           0,
           0,
           1,
           0,
           0
          ],
          [
           57,
           1,
           3,
           132,
           207,
           0,
           0,
           168,
           1,
           0,
           0,
           0,
           2,
           0
          ],
          [
           54,
           1,
           3,
           140,
           239,
           0,
           0,
           160,
           0,
           1.2,
           0,
           0,
           0,
           0
          ],
          [
           53,
           0,
           3,
           130,
           264,
           0,
           2,
           143,
           0,
           0.4,
           1,
           0,
           0,
           0
          ],
          [
           53,
           0,
           3,
           138,
           234,
           0,
           2,
           160,
           0,
           0,
           0,
           0,
           0,
           0
          ],
          [
           53,
           1,
           3,
           142,
           226,
           0,
           2,
           111,
           1,
           0,
           0,
           0,
           2,
           0
          ],
          [
           52,
           1,
           3,
           108,
           233,
           1,
           0,
           147,
           0,
           0.1,
           0,
           3,
           2,
           0
          ],
          [
           51,
           1,
           3,
           140,
           261,
           0,
           2,
           186,
           1,
           0,
           0,
           0,
           0,
           0
          ],
          [
           50,
           0,
           3,
           110,
           254,
           0,
           2,
           159,
           0,
           0,
           0,
           0,
           0,
           0
          ],
          [
           49,
           0,
           3,
           130,
           269,
           0,
           0,
           163,
           0,
           0,
           0,
           0,
           0,
           0
          ],
          [
           48,
           1,
           3,
           122,
           222,
           0,
           2,
           186,
           0,
           0,
           0,
           0,
           0,
           0
          ],
          [
           47,
           1,
           3,
           112,
           204,
           0,
           0,
           143,
           0,
           0.1,
           0,
           0,
           0,
           0
          ],
          [
           46,
           0,
           3,
           138,
           243,
           0,
           2,
           152,
           1,
           0,
           1,
           0,
           0,
           0
          ],
          [
           45,
           1,
           3,
           104,
           208,
           0,
           2,
           148,
           1,
           3,
           1,
           0,
           0,
           0
          ],
          [
           45,
           0,
           3,
           138,
           236,
           0,
           2,
           152,
           1,
           0.2,
           1,
           0,
           0,
           0
          ],
          [
           45,
           1,
           3,
           115,
           260,
           0,
           2,
           185,
           0,
           0,
           0,
           0,
           0,
           0
          ],
          [
           43,
           1,
           3,
           115,
           303,
           0,
           0,
           181,
           0,
           1.2,
           1,
           0,
           0,
           0
          ],
          [
           43,
           1,
           3,
           150,
           247,
           0,
           0,
           171,
           0,
           1.5,
           0,
           0,
           0,
           0
          ],
          [
           43,
           1,
           3,
           110,
           211,
           0,
           0,
           161,
           0,
           0,
           0,
           0,
           2,
           0
          ],
          [
           42,
           0,
           3,
           102,
           265,
           0,
           2,
           122,
           0,
           0.6,
           1,
           0,
           0,
           0
          ],
          [
           42,
           1,
           3,
           140,
           226,
           0,
           0,
           178,
           0,
           0,
           0,
           0,
           0,
           0
          ],
          [
           35,
           0,
           3,
           138,
           183,
           0,
           0,
           182,
           0,
           1.4,
           0,
           0,
           0,
           0
          ]
         ],
         "hovertemplate": "condition=%{customdata[13]}<br>thalach=%{customdata[7]}<br>age=%{customdata[0]}<br>sex=%{customdata[1]}<br>cp=%{customdata[2]}<br>trestbps=%{customdata[3]}<br>chol=%{customdata[4]}<br>fbs=%{customdata[5]}<br>restecg=%{customdata[6]}<br>exang=%{customdata[8]}<br>oldpeak=%{customdata[9]}<br>slope=%{customdata[10]}<br>ca=%{customdata[11]}<br>thal=%{customdata[12]}<extra></extra>",
         "legendgroup": "0",
         "marker": {
          "color": "#636efa"
         },
         "name": "0",
         "offsetgroup": "0",
         "scalegroup": "x",
         "showlegend": false,
         "type": "violin",
         "x": [
          131,
          151,
          114,
          144,
          155,
          150,
          171,
          145,
          162,
          162,
          190,
          178,
          125,
          178,
          178,
          174,
          121,
          162,
          143,
          179,
          140,
          164,
          169,
          153,
          178,
          163,
          161,
          155,
          166,
          156,
          159,
          172,
          158,
          184,
          162,
          162,
          171,
          180,
          156,
          172,
          175,
          138,
          170,
          173,
          188,
          170,
          162,
          132,
          172,
          168,
          153,
          163,
          182,
          174,
          192,
          202,
          116,
          130,
          115,
          151,
          160,
          172,
          152,
          157,
          148,
          151,
          133,
          172,
          146,
          137,
          160,
          96,
          157,
          154,
          172,
          165,
          174,
          173,
          152,
          147,
          158,
          170,
          165,
          167,
          163,
          152,
          173,
          169,
          162,
          143,
          166,
          123,
          142,
          149,
          154,
          157,
          158,
          163,
          139,
          175,
          156,
          179,
          160,
          175,
          149,
          179,
          180,
          169,
          165,
          162,
          194,
          173,
          150,
          168,
          179,
          172,
          152,
          182,
          179,
          187,
          170,
          125,
          142,
          151,
          138,
          140,
          122,
          105,
          154,
          157,
          163,
          161,
          182,
          122,
          131,
          148,
          126,
          163,
          159,
          168,
          160,
          143,
          160,
          111,
          147,
          186,
          159,
          163,
          186,
          143,
          152,
          148,
          152,
          185,
          181,
          171,
          161,
          122,
          178,
          182
         ],
         "xaxis": "x2",
         "yaxis": "y2"
        },
        {
         "alignmentgroup": "True",
         "bingroup": "x",
         "hovertemplate": "condition=1<br>thalach=%{x}<br>count=%{y}<extra></extra>",
         "legendgroup": "1",
         "marker": {
          "color": "#EF553B"
         },
         "name": "1",
         "offsetgroup": "1",
         "orientation": "v",
         "showlegend": true,
         "type": "histogram",
         "x": [
          174,
          145,
          159,
          125,
          162,
          132,
          182,
          120,
          103,
          160,
          152,
          174,
          141,
          164,
          195,
          168,
          112,
          146,
          150,
          150,
          131,
          158,
          97,
          155,
          134,
          165,
          173,
          150,
          142,
          163,
          139,
          126,
          152,
          147,
          162,
          125,
          109,
          141,
          108,
          129,
          163,
          125,
          71,
          165,
          132,
          114,
          127,
          158,
          96,
          132,
          147,
          154,
          169,
          136,
          132,
          144,
          160,
          145,
          99,
          106,
          154,
          140,
          146,
          125,
          169,
          138,
          161,
          132,
          142,
          141,
          157,
          170,
          160,
          144,
          161,
          140,
          142,
          143,
          90,
          162,
          140,
          131,
          130,
          105,
          146,
          111,
          171,
          156,
          112,
          124,
          88,
          143,
          123,
          115,
          133,
          103,
          144,
          105,
          150,
          111,
          132,
          145,
          117,
          130,
          109,
          113,
          126,
          108,
          116,
          155,
          95,
          161,
          160,
          168,
          142,
          122,
          173,
          128,
          126,
          166,
          150,
          118,
          120,
          144,
          147,
          144,
          153,
          177,
          120,
          136,
          125,
          158,
          114,
          181,
          140,
          130,
          156
         ],
         "xaxis": "x",
         "yaxis": "y"
        },
        {
         "alignmentgroup": "True",
         "customdata": [
          [
           65,
           1,
           0,
           138,
           282,
           1,
           2,
           174,
           0,
           1.4,
           1,
           1,
           0,
           1
          ],
          [
           61,
           1,
           0,
           134,
           234,
           0,
           0,
           145,
           0,
           2.6,
           1,
           2,
           0,
           1
          ],
          [
           59,
           1,
           0,
           170,
           288,
           0,
           2,
           159,
           0,
           0.2,
           1,
           0,
           2,
           1
          ],
          [
           59,
           1,
           0,
           160,
           273,
           0,
           2,
           125,
           0,
           0,
           0,
           0,
           0,
           1
          ],
          [
           59,
           1,
           0,
           134,
           204,
           0,
           0,
           162,
           0,
           0.8,
           0,
           2,
           0,
           1
          ],
          [
           45,
           1,
           0,
           110,
           264,
           0,
           0,
           132,
           0,
           1.2,
           1,
           0,
           2,
           1
          ],
          [
           38,
           1,
           0,
           120,
           231,
           0,
           0,
           182,
           1,
           3.8,
           1,
           0,
           2,
           1
          ],
          [
           66,
           1,
           1,
           160,
           246,
           0,
           0,
           120,
           1,
           0,
           1,
           3,
           1,
           1
          ],
          [
           62,
           1,
           1,
           120,
           281,
           0,
           2,
           103,
           0,
           1.4,
           1,
           1,
           2,
           1
          ],
          [
           58,
           1,
           1,
           120,
           284,
           0,
           2,
           160,
           0,
           1.8,
           1,
           0,
           0,
           1
          ],
          [
           58,
           0,
           1,
           136,
           319,
           1,
           2,
           152,
           0,
           0,
           0,
           2,
           0,
           1
          ],
          [
           57,
           0,
           1,
           130,
           236,
           0,
           2,
           174,
           0,
           0,
           1,
           1,
           0,
           1
          ],
          [
           57,
           1,
           1,
           124,
           261,
           0,
           0,
           141,
           0,
           0.3,
           0,
           0,
           2,
           1
          ],
          [
           57,
           1,
           1,
           154,
           232,
           0,
           2,
           164,
           0,
           0,
           0,
           1,
           0,
           1
          ],
          [
           54,
           1,
           1,
           192,
           283,
           0,
           2,
           195,
           0,
           0,
           0,
           1,
           2,
           1
          ],
          [
           48,
           1,
           1,
           110,
           229,
           0,
           0,
           168,
           0,
           1,
           2,
           0,
           2,
           1
          ],
          [
           70,
           1,
           2,
           160,
           269,
           0,
           0,
           112,
           1,
           2.9,
           1,
           1,
           2,
           1
          ],
          [
           69,
           1,
           2,
           140,
           254,
           0,
           2,
           146,
           0,
           2,
           1,
           3,
           2,
           1
          ],
          [
           68,
           1,
           2,
           180,
           274,
           1,
           2,
           150,
           1,
           1.6,
           1,
           0,
           2,
           1
          ],
          [
           67,
           1,
           2,
           152,
           212,
           0,
           2,
           150,
           0,
           0.8,
           1,
           0,
           2,
           1
          ],
          [
           64,
           1,
           2,
           125,
           309,
           0,
           0,
           131,
           1,
           1.8,
           1,
           0,
           2,
           1
          ],
          [
           64,
           1,
           2,
           140,
           335,
           0,
           0,
           158,
           0,
           0,
           0,
           0,
           0,
           1
          ],
          [
           62,
           0,
           2,
           130,
           263,
           0,
           0,
           97,
           0,
           1.2,
           1,
           1,
           2,
           1
          ],
          [
           60,
           1,
           2,
           140,
           185,
           0,
           2,
           155,
           0,
           3,
           1,
           0,
           0,
           1
          ],
          [
           59,
           1,
           2,
           126,
           218,
           1,
           0,
           134,
           0,
           2.2,
           1,
           1,
           1,
           1
          ],
          [
           58,
           1,
           2,
           112,
           230,
           0,
           2,
           165,
           0,
           2.5,
           1,
           1,
           2,
           1
          ],
          [
           58,
           1,
           2,
           132,
           224,
           0,
           2,
           173,
           0,
           3.2,
           0,
           2,
           2,
           1
          ],
          [
           57,
           1,
           2,
           128,
           229,
           0,
           2,
           150,
           0,
           0.4,
           1,
           1,
           2,
           1
          ],
          [
           56,
           1,
           2,
           130,
           256,
           1,
           2,
           142,
           1,
           0.6,
           1,
           1,
           1,
           1
          ],
          [
           50,
           1,
           2,
           140,
           233,
           0,
           0,
           163,
           0,
           0.6,
           1,
           1,
           2,
           1
          ],
          [
           49,
           1,
           2,
           120,
           188,
           0,
           0,
           139,
           0,
           2,
           1,
           3,
           2,
           1
          ],
          [
           49,
           1,
           2,
           118,
           149,
           0,
           2,
           126,
           0,
           0.8,
           0,
           3,
           0,
           1
          ],
          [
           47,
           1,
           2,
           108,
           243,
           0,
           0,
           152,
           0,
           0,
           0,
           0,
           0,
           1
          ],
          [
           46,
           1,
           2,
           150,
           231,
           0,
           0,
           147,
           0,
           3.6,
           1,
           0,
           0,
           1
          ],
          [
           77,
           1,
           3,
           125,
           304,
           0,
           2,
           162,
           1,
           0,
           0,
           3,
           0,
           1
          ],
          [
           70,
           1,
           3,
           145,
           174,
           0,
           0,
           125,
           1,
           2.6,
           2,
           0,
           2,
           1
          ],
          [
           70,
           1,
           3,
           130,
           322,
           0,
           2,
           109,
           0,
           2.4,
           1,
           3,
           0,
           1
          ],
          [
           68,
           1,
           3,
           144,
           193,
           1,
           0,
           141,
           0,
           3.4,
           1,
           2,
           2,
           1
          ],
          [
           67,
           1,
           3,
           160,
           286,
           0,
           2,
           108,
           1,
           1.5,
           1,
           3,
           0,
           1
          ],
          [
           67,
           1,
           3,
           120,
           229,
           0,
           2,
           129,
           1,
           2.6,
           1,
           2,
           2,
           1
          ],
          [
           67,
           1,
           3,
           125,
           254,
           1,
           0,
           163,
           0,
           0.2,
           1,
           2,
           2,
           1
          ],
          [
           67,
           1,
           3,
           100,
           299,
           0,
           2,
           125,
           1,
           0.9,
           1,
           2,
           0,
           1
          ],
          [
           67,
           1,
           3,
           120,
           237,
           0,
           0,
           71,
           0,
           1,
           1,
           0,
           0,
           1
          ],
          [
           66,
           0,
           3,
           178,
           228,
           1,
           0,
           165,
           1,
           1,
           1,
           2,
           2,
           1
          ],
          [
           66,
           1,
           3,
           112,
           212,
           0,
           2,
           132,
           1,
           0.1,
           0,
           1,
           0,
           1
          ],
          [
           65,
           0,
           3,
           150,
           225,
           0,
           2,
           114,
           0,
           1,
           1,
           3,
           2,
           1
          ],
          [
           65,
           1,
           3,
           135,
           254,
           0,
           2,
           127,
           0,
           2.8,
           1,
           1,
           2,
           1
          ],
          [
           65,
           1,
           3,
           110,
           248,
           0,
           2,
           158,
           0,
           0.6,
           0,
           2,
           1,
           1
          ],
          [
           64,
           1,
           3,
           120,
           246,
           0,
           2,
           96,
           1,
           2.2,
           2,
           1,
           0,
           1
          ],
          [
           64,
           1,
           3,
           145,
           212,
           0,
           2,
           132,
           0,
           2,
           1,
           2,
           1,
           1
          ],
          [
           63,
           1,
           3,
           130,
           254,
           0,
           2,
           147,
           0,
           1.4,
           1,
           1,
           2,
           1
          ],
          [
           63,
           0,
           3,
           150,
           407,
           0,
           2,
           154,
           0,
           4,
           1,
           3,
           2,
           1
          ],
          [
           63,
           0,
           3,
           108,
           269,
           0,
           0,
           169,
           1,
           1.8,
           1,
           2,
           0,
           1
          ],
          [
           63,
           0,
           3,
           124,
           197,
           0,
           0,
           136,
           1,
           0,
           1,
           0,
           0,
           1
          ],
          [
           63,
           1,
           3,
           130,
           330,
           1,
           2,
           132,
           1,
           1.8,
           0,
           3,
           2,
           1
          ],
          [
           63,
           1,
           3,
           140,
           187,
           0,
           2,
           144,
           1,
           4,
           0,
           2,
           2,
           1
          ],
          [
           62,
           0,
           3,
           140,
           268,
           0,
           2,
           160,
           0,
           3.6,
           2,
           2,
           0,
           1
          ],
          [
           62,
           0,
           3,
           160,
           164,
           0,
           2,
           145,
           0,
           6.2,
           2,
           3,
           2,
           1
          ],
          [
           62,
           1,
           3,
           120,
           267,
           0,
           0,
           99,
           1,
           1.8,
           1,
           2,
           2,
           1
          ],
          [
           62,
           0,
           3,
           138,
           294,
           1,
           0,
           106,
           0,
           1.9,
           1,
           3,
           0,
           1
          ],
          [
           62,
           0,
           3,
           150,
           244,
           0,
           0,
           154,
           1,
           1.4,
           1,
           0,
           0,
           1
          ],
          [
           61,
           1,
           3,
           120,
           260,
           0,
           0,
           140,
           1,
           3.6,
           1,
           1,
           2,
           1
          ],
          [
           61,
           0,
           3,
           145,
           307,
           0,
           2,
           146,
           1,
           1,
           1,
           0,
           2,
           1
          ],
          [
           61,
           1,
           3,
           138,
           166,
           0,
           2,
           125,
           1,
           3.6,
           1,
           1,
           0,
           1
          ],
          [
           61,
           0,
           3,
           130,
           330,
           0,
           2,
           169,
           0,
           0,
           0,
           0,
           0,
           1
          ],
          [
           61,
           1,
           3,
           140,
           207,
           0,
           2,
           138,
           1,
           1.9,
           0,
           1,
           2,
           1
          ],
          [
           61,
           1,
           3,
           148,
           203,
           0,
           0,
           161,
           0,
           0,
           0,
           1,
           2,
           1
          ],
          [
           60,
           1,
           3,
           130,
           206,
           0,
           2,
           132,
           1,
           2.4,
           1,
           2,
           2,
           1
          ],
          [
           60,
           1,
           3,
           145,
           282,
           0,
           2,
           142,
           1,
           2.8,
           1,
           2,
           2,
           1
          ],
          [
           60,
           1,
           3,
           125,
           258,
           0,
           2,
           141,
           1,
           2.8,
           1,
           1,
           2,
           1
          ],
          [
           60,
           0,
           3,
           150,
           258,
           0,
           2,
           157,
           0,
           2.6,
           1,
           2,
           2,
           1
          ],
          [
           60,
           1,
           3,
           140,
           293,
           0,
           2,
           170,
           0,
           1.2,
           1,
           2,
           2,
           1
          ],
          [
           60,
           1,
           3,
           117,
           230,
           1,
           0,
           160,
           1,
           1.4,
           0,
           2,
           2,
           1
          ],
          [
           60,
           1,
           3,
           130,
           253,
           0,
           0,
           144,
           1,
           1.4,
           0,
           1,
           2,
           1
          ],
          [
           60,
           0,
           3,
           158,
           305,
           0,
           2,
           161,
           0,
           0,
           0,
           0,
           0,
           1
          ],
          [
           59,
           1,
           3,
           170,
           326,
           0,
           2,
           140,
           1,
           3.4,
           2,
           0,
           2,
           1
          ],
          [
           59,
           1,
           3,
           110,
           239,
           0,
           2,
           142,
           1,
           1.2,
           1,
           1,
           2,
           1
          ],
          [
           59,
           0,
           3,
           174,
           249,
           0,
           0,
           143,
           1,
           0,
           1,
           0,
           0,
           1
          ],
          [
           59,
           1,
           3,
           164,
           176,
           1,
           2,
           90,
           0,
           1,
           1,
           2,
           1,
           1
          ],
          [
           59,
           1,
           3,
           140,
           177,
           0,
           0,
           162,
           1,
           0,
           0,
           1,
           2,
           1
          ],
          [
           58,
           1,
           3,
           114,
           318,
           0,
           1,
           140,
           0,
           4.4,
           2,
           3,
           1,
           1
          ],
          [
           58,
           1,
           3,
           128,
           216,
           0,
           2,
           131,
           1,
           2.2,
           1,
           3,
           2,
           1
          ],
          [
           58,
           1,
           3,
           128,
           259,
           0,
           2,
           130,
           1,
           3,
           1,
           2,
           2,
           1
          ],
          [
           58,
           1,
           3,
           146,
           218,
           0,
           0,
           105,
           0,
           2,
           1,
           1,
           2,
           1
          ],
          [
           58,
           0,
           3,
           170,
           225,
           1,
           2,
           146,
           1,
           2.8,
           1,
           2,
           1,
           1
          ],
          [
           58,
           1,
           3,
           150,
           270,
           0,
           2,
           111,
           1,
           0.8,
           0,
           0,
           2,
           1
          ],
          [
           58,
           1,
           3,
           125,
           300,
           0,
           2,
           171,
           0,
           0,
           0,
           2,
           2,
           1
          ],
          [
           58,
           1,
           3,
           100,
           234,
           0,
           0,
           156,
           0,
           0.1,
           0,
           1,
           2,
           1
          ],
          [
           57,
           1,
           3,
           150,
           276,
           0,
           2,
           112,
           1,
           0.6,
           1,
           1,
           1,
           1
          ],
          [
           57,
           1,
           3,
           165,
           289,
           1,
           2,
           124,
           0,
           1,
           1,
           3,
           2,
           1
          ],
          [
           57,
           1,
           3,
           152,
           274,
           0,
           0,
           88,
           1,
           1.2,
           1,
           1,
           2,
           1
          ],
          [
           57,
           1,
           3,
           110,
           335,
           0,
           0,
           143,
           1,
           3,
           1,
           1,
           2,
           1
          ],
          [
           57,
           0,
           3,
           140,
           241,
           0,
           0,
           123,
           1,
           0.2,
           1,
           0,
           2,
           1
          ],
          [
           57,
           1,
           3,
           130,
           131,
           0,
           0,
           115,
           1,
           1.2,
           1,
           1,
           2,
           1
          ],
          [
           56,
           0,
           3,
           200,
           288,
           1,
           2,
           133,
           1,
           4,
           2,
           2,
           2,
           1
          ],
          [
           56,
           1,
           3,
           130,
           283,
           1,
           2,
           103,
           1,
           1.6,
           2,
           0,
           2,
           1
          ],
          [
           56,
           1,
           3,
           125,
           249,
           1,
           2,
           144,
           1,
           1.2,
           1,
           1,
           0,
           1
          ],
          [
           56,
           1,
           3,
           132,
           184,
           0,
           2,
           105,
           1,
           2.1,
           1,
           1,
           1,
           1
          ],
          [
           56,
           0,
           3,
           134,
           409,
           0,
           2,
           150,
           1,
           1.9,
           1,
           2,
           2,
           1
          ],
          [
           55,
           1,
           3,
           140,
           217,
           0,
           0,
           111,
           1,
           5.6,
           2,
           0,
           2,
           1
          ],
          [
           55,
           1,
           3,
           132,
           353,
           0,
           0,
           132,
           1,
           1.2,
           1,
           1,
           2,
           1
          ],
          [
           55,
           1,
           3,
           160,
           289,
           0,
           2,
           145,
           1,
           0.8,
           1,
           1,
           2,
           1
          ],
          [
           55,
           0,
           3,
           180,
           327,
           0,
           1,
           117,
           1,
           3.4,
           1,
           0,
           0,
           1
          ],
          [
           55,
           0,
           3,
           128,
           205,
           0,
           1,
           130,
           1,
           2,
           1,
           1,
           2,
           1
          ],
          [
           54,
           1,
           3,
           124,
           266,
           0,
           2,
           109,
           1,
           2.2,
           1,
           1,
           2,
           1
          ],
          [
           54,
           1,
           3,
           120,
           188,
           0,
           0,
           113,
           0,
           1.4,
           1,
           1,
           2,
           1
          ],
          [
           54,
           1,
           3,
           110,
           239,
           0,
           0,
           126,
           1,
           2.8,
           1,
           1,
           2,
           1
          ],
          [
           54,
           1,
           3,
           110,
           206,
           0,
           2,
           108,
           1,
           0,
           1,
           1,
           0,
           1
          ],
          [
           54,
           1,
           3,
           122,
           286,
           0,
           2,
           116,
           1,
           3.2,
           1,
           2,
           0,
           1
          ],
          [
           53,
           1,
           3,
           140,
           203,
           1,
           2,
           155,
           1,
           3.1,
           2,
           0,
           2,
           1
          ],
          [
           53,
           1,
           3,
           123,
           282,
           0,
           0,
           95,
           1,
           2,
           1,
           2,
           2,
           1
          ],
          [
           52,
           1,
           3,
           128,
           255,
           0,
           0,
           161,
           1,
           0,
           0,
           1,
           2,
           1
          ],
          [
           52,
           1,
           3,
           112,
           230,
           0,
           0,
           160,
           0,
           0,
           0,
           1,
           0,
           1
          ],
          [
           52,
           1,
           3,
           125,
           212,
           0,
           0,
           168,
           0,
           1,
           0,
           2,
           2,
           1
          ],
          [
           51,
           0,
           3,
           130,
           305,
           0,
           0,
           142,
           1,
           1.2,
           1,
           0,
           2,
           1
          ],
          [
           51,
           1,
           3,
           140,
           298,
           0,
           0,
           122,
           1,
           4.2,
           1,
           3,
           2,
           1
          ],
          [
           51,
           1,
           3,
           140,
           299,
           0,
           0,
           173,
           1,
           1.6,
           0,
           0,
           2,
           1
          ],
          [
           50,
           1,
           3,
           150,
           243,
           0,
           2,
           128,
           0,
           2.6,
           1,
           0,
           2,
           1
          ],
          [
           50,
           1,
           3,
           144,
           200,
           0,
           2,
           126,
           1,
           0.9,
           1,
           0,
           2,
           1
          ],
          [
           48,
           1,
           3,
           124,
           274,
           0,
           2,
           166,
           0,
           0.5,
           1,
           0,
           2,
           1
          ],
          [
           48,
           1,
           3,
           130,
           256,
           1,
           2,
           150,
           1,
           0,
           0,
           2,
           2,
           1
          ],
          [
           47,
           1,
           3,
           110,
           275,
           0,
           2,
           118,
           1,
           1,
           1,
           1,
           0,
           1
          ],
          [
           46,
           1,
           3,
           140,
           311,
           0,
           0,
           120,
           1,
           1.8,
           1,
           2,
           2,
           1
          ],
          [
           46,
           1,
           3,
           120,
           249,
           0,
           2,
           144,
           0,
           0.8,
           0,
           0,
           2,
           1
          ],
          [
           45,
           1,
           3,
           142,
           309,
           0,
           2,
           147,
           1,
           0,
           1,
           3,
           2,
           1
          ],
          [
           44,
           1,
           3,
           120,
           169,
           0,
           0,
           144,
           1,
           2.8,
           2,
           0,
           1,
           1
          ],
          [
           44,
           1,
           3,
           112,
           290,
           0,
           2,
           153,
           0,
           0,
           0,
           1,
           0,
           1
          ],
          [
           44,
           1,
           3,
           110,
           197,
           0,
           2,
           177,
           0,
           0,
           0,
           1,
           0,
           1
          ],
          [
           43,
           1,
           3,
           120,
           177,
           0,
           2,
           120,
           1,
           2.5,
           1,
           0,
           2,
           1
          ],
          [
           43,
           0,
           3,
           132,
           341,
           1,
           2,
           136,
           1,
           3,
           1,
           0,
           2,
           1
          ],
          [
           42,
           1,
           3,
           136,
           315,
           0,
           0,
           125,
           1,
           1.8,
           1,
           0,
           1,
           1
          ],
          [
           41,
           1,
           3,
           110,
           172,
           0,
           2,
           158,
           0,
           0,
           0,
           0,
           2,
           1
          ],
          [
           40,
           1,
           3,
           110,
           167,
           0,
           2,
           114,
           1,
           2,
           1,
           0,
           2,
           1
          ],
          [
           40,
           1,
           3,
           152,
           223,
           0,
           0,
           181,
           0,
           0,
           0,
           0,
           2,
           1
          ],
          [
           39,
           1,
           3,
           118,
           219,
           0,
           0,
           140,
           0,
           1.2,
           1,
           0,
           2,
           1
          ],
          [
           35,
           1,
           3,
           120,
           198,
           0,
           0,
           130,
           1,
           1.6,
           1,
           0,
           2,
           1
          ],
          [
           35,
           1,
           3,
           126,
           282,
           0,
           2,
           156,
           1,
           0,
           0,
           0,
           2,
           1
          ]
         ],
         "hovertemplate": "condition=%{customdata[13]}<br>thalach=%{customdata[7]}<br>age=%{customdata[0]}<br>sex=%{customdata[1]}<br>cp=%{customdata[2]}<br>trestbps=%{customdata[3]}<br>chol=%{customdata[4]}<br>fbs=%{customdata[5]}<br>restecg=%{customdata[6]}<br>exang=%{customdata[8]}<br>oldpeak=%{customdata[9]}<br>slope=%{customdata[10]}<br>ca=%{customdata[11]}<br>thal=%{customdata[12]}<extra></extra>",
         "legendgroup": "1",
         "marker": {
          "color": "#EF553B"
         },
         "name": "1",
         "offsetgroup": "1",
         "scalegroup": "x",
         "showlegend": false,
         "type": "violin",
         "x": [
          174,
          145,
          159,
          125,
          162,
          132,
          182,
          120,
          103,
          160,
          152,
          174,
          141,
          164,
          195,
          168,
          112,
          146,
          150,
          150,
          131,
          158,
          97,
          155,
          134,
          165,
          173,
          150,
          142,
          163,
          139,
          126,
          152,
          147,
          162,
          125,
          109,
          141,
          108,
          129,
          163,
          125,
          71,
          165,
          132,
          114,
          127,
          158,
          96,
          132,
          147,
          154,
          169,
          136,
          132,
          144,
          160,
          145,
          99,
          106,
          154,
          140,
          146,
          125,
          169,
          138,
          161,
          132,
          142,
          141,
          157,
          170,
          160,
          144,
          161,
          140,
          142,
          143,
          90,
          162,
          140,
          131,
          130,
          105,
          146,
          111,
          171,
          156,
          112,
          124,
          88,
          143,
          123,
          115,
          133,
          103,
          144,
          105,
          150,
          111,
          132,
          145,
          117,
          130,
          109,
          113,
          126,
          108,
          116,
          155,
          95,
          161,
          160,
          168,
          142,
          122,
          173,
          128,
          126,
          166,
          150,
          118,
          120,
          144,
          147,
          144,
          153,
          177,
          120,
          136,
          125,
          158,
          114,
          181,
          140,
          130,
          156
         ],
         "xaxis": "x2",
         "yaxis": "y2"
        }
       ],
       "layout": {
        "barmode": "relative",
        "legend": {
         "title": {
          "text": "condition"
         },
         "tracegroupgap": 0
        },
        "margin": {
         "t": 60
        },
        "template": {
         "data": {
          "bar": [
           {
            "error_x": {
             "color": "#2a3f5f"
            },
            "error_y": {
             "color": "#2a3f5f"
            },
            "marker": {
             "line": {
              "color": "#E5ECF6",
              "width": 0.5
             }
            },
            "type": "bar"
           }
          ],
          "barpolar": [
           {
            "marker": {
             "line": {
              "color": "#E5ECF6",
              "width": 0.5
             }
            },
            "type": "barpolar"
           }
          ],
          "carpet": [
           {
            "aaxis": {
             "endlinecolor": "#2a3f5f",
             "gridcolor": "white",
             "linecolor": "white",
             "minorgridcolor": "white",
             "startlinecolor": "#2a3f5f"
            },
            "baxis": {
             "endlinecolor": "#2a3f5f",
             "gridcolor": "white",
             "linecolor": "white",
             "minorgridcolor": "white",
             "startlinecolor": "#2a3f5f"
            },
            "type": "carpet"
           }
          ],
          "choropleth": [
           {
            "colorbar": {
             "outlinewidth": 0,
             "ticks": ""
            },
            "type": "choropleth"
           }
          ],
          "contour": [
           {
            "colorbar": {
             "outlinewidth": 0,
             "ticks": ""
            },
            "colorscale": [
             [
              0,
              "#0d0887"
             ],
             [
              0.1111111111111111,
              "#46039f"
             ],
             [
              0.2222222222222222,
              "#7201a8"
             ],
             [
              0.3333333333333333,
              "#9c179e"
             ],
             [
              0.4444444444444444,
              "#bd3786"
             ],
             [
              0.5555555555555556,
              "#d8576b"
             ],
             [
              0.6666666666666666,
              "#ed7953"
             ],
             [
              0.7777777777777778,
              "#fb9f3a"
             ],
             [
              0.8888888888888888,
              "#fdca26"
             ],
             [
              1,
              "#f0f921"
             ]
            ],
            "type": "contour"
           }
          ],
          "contourcarpet": [
           {
            "colorbar": {
             "outlinewidth": 0,
             "ticks": ""
            },
            "type": "contourcarpet"
           }
          ],
          "heatmap": [
           {
            "colorbar": {
             "outlinewidth": 0,
             "ticks": ""
            },
            "colorscale": [
             [
              0,
              "#0d0887"
             ],
             [
              0.1111111111111111,
              "#46039f"
             ],
             [
              0.2222222222222222,
              "#7201a8"
             ],
             [
              0.3333333333333333,
              "#9c179e"
             ],
             [
              0.4444444444444444,
              "#bd3786"
             ],
             [
              0.5555555555555556,
              "#d8576b"
             ],
             [
              0.6666666666666666,
              "#ed7953"
             ],
             [
              0.7777777777777778,
              "#fb9f3a"
             ],
             [
              0.8888888888888888,
              "#fdca26"
             ],
             [
              1,
              "#f0f921"
             ]
            ],
            "type": "heatmap"
           }
          ],
          "heatmapgl": [
           {
            "colorbar": {
             "outlinewidth": 0,
             "ticks": ""
            },
            "colorscale": [
             [
              0,
              "#0d0887"
             ],
             [
              0.1111111111111111,
              "#46039f"
             ],
             [
              0.2222222222222222,
              "#7201a8"
             ],
             [
              0.3333333333333333,
              "#9c179e"
             ],
             [
              0.4444444444444444,
              "#bd3786"
             ],
             [
              0.5555555555555556,
              "#d8576b"
             ],
             [
              0.6666666666666666,
              "#ed7953"
             ],
             [
              0.7777777777777778,
              "#fb9f3a"
             ],
             [
              0.8888888888888888,
              "#fdca26"
             ],
             [
              1,
              "#f0f921"
             ]
            ],
            "type": "heatmapgl"
           }
          ],
          "histogram": [
           {
            "marker": {
             "colorbar": {
              "outlinewidth": 0,
              "ticks": ""
             }
            },
            "type": "histogram"
           }
          ],
          "histogram2d": [
           {
            "colorbar": {
             "outlinewidth": 0,
             "ticks": ""
            },
            "colorscale": [
             [
              0,
              "#0d0887"
             ],
             [
              0.1111111111111111,
              "#46039f"
             ],
             [
              0.2222222222222222,
              "#7201a8"
             ],
             [
              0.3333333333333333,
              "#9c179e"
             ],
             [
              0.4444444444444444,
              "#bd3786"
             ],
             [
              0.5555555555555556,
              "#d8576b"
             ],
             [
              0.6666666666666666,
              "#ed7953"
             ],
             [
              0.7777777777777778,
              "#fb9f3a"
             ],
             [
              0.8888888888888888,
              "#fdca26"
             ],
             [
              1,
              "#f0f921"
             ]
            ],
            "type": "histogram2d"
           }
          ],
          "histogram2dcontour": [
           {
            "colorbar": {
             "outlinewidth": 0,
             "ticks": ""
            },
            "colorscale": [
             [
              0,
              "#0d0887"
             ],
             [
              0.1111111111111111,
              "#46039f"
             ],
             [
              0.2222222222222222,
              "#7201a8"
             ],
             [
              0.3333333333333333,
              "#9c179e"
             ],
             [
              0.4444444444444444,
              "#bd3786"
             ],
             [
              0.5555555555555556,
              "#d8576b"
             ],
             [
              0.6666666666666666,
              "#ed7953"
             ],
             [
              0.7777777777777778,
              "#fb9f3a"
             ],
             [
              0.8888888888888888,
              "#fdca26"
             ],
             [
              1,
              "#f0f921"
             ]
            ],
            "type": "histogram2dcontour"
           }
          ],
          "mesh3d": [
           {
            "colorbar": {
             "outlinewidth": 0,
             "ticks": ""
            },
            "type": "mesh3d"
           }
          ],
          "parcoords": [
           {
            "line": {
             "colorbar": {
              "outlinewidth": 0,
              "ticks": ""
             }
            },
            "type": "parcoords"
           }
          ],
          "pie": [
           {
            "automargin": true,
            "type": "pie"
           }
          ],
          "scatter": [
           {
            "marker": {
             "colorbar": {
              "outlinewidth": 0,
              "ticks": ""
             }
            },
            "type": "scatter"
           }
          ],
          "scatter3d": [
           {
            "line": {
             "colorbar": {
              "outlinewidth": 0,
              "ticks": ""
             }
            },
            "marker": {
             "colorbar": {
              "outlinewidth": 0,
              "ticks": ""
             }
            },
            "type": "scatter3d"
           }
          ],
          "scattercarpet": [
           {
            "marker": {
             "colorbar": {
              "outlinewidth": 0,
              "ticks": ""
             }
            },
            "type": "scattercarpet"
           }
          ],
          "scattergeo": [
           {
            "marker": {
             "colorbar": {
              "outlinewidth": 0,
              "ticks": ""
             }
            },
            "type": "scattergeo"
           }
          ],
          "scattergl": [
           {
            "marker": {
             "colorbar": {
              "outlinewidth": 0,
              "ticks": ""
             }
            },
            "type": "scattergl"
           }
          ],
          "scattermapbox": [
           {
            "marker": {
             "colorbar": {
              "outlinewidth": 0,
              "ticks": ""
             }
            },
            "type": "scattermapbox"
           }
          ],
          "scatterpolar": [
           {
            "marker": {
             "colorbar": {
              "outlinewidth": 0,
              "ticks": ""
             }
            },
            "type": "scatterpolar"
           }
          ],
          "scatterpolargl": [
           {
            "marker": {
             "colorbar": {
              "outlinewidth": 0,
              "ticks": ""
             }
            },
            "type": "scatterpolargl"
           }
          ],
          "scatterternary": [
           {
            "marker": {
             "colorbar": {
              "outlinewidth": 0,
              "ticks": ""
             }
            },
            "type": "scatterternary"
           }
          ],
          "surface": [
           {
            "colorbar": {
             "outlinewidth": 0,
             "ticks": ""
            },
            "colorscale": [
             [
              0,
              "#0d0887"
             ],
             [
              0.1111111111111111,
              "#46039f"
             ],
             [
              0.2222222222222222,
              "#7201a8"
             ],
             [
              0.3333333333333333,
              "#9c179e"
             ],
             [
              0.4444444444444444,
              "#bd3786"
             ],
             [
              0.5555555555555556,
              "#d8576b"
             ],
             [
              0.6666666666666666,
              "#ed7953"
             ],
             [
              0.7777777777777778,
              "#fb9f3a"
             ],
             [
              0.8888888888888888,
              "#fdca26"
             ],
             [
              1,
              "#f0f921"
             ]
            ],
            "type": "surface"
           }
          ],
          "table": [
           {
            "cells": {
             "fill": {
              "color": "#EBF0F8"
             },
             "line": {
              "color": "white"
             }
            },
            "header": {
             "fill": {
              "color": "#C8D4E3"
             },
             "line": {
              "color": "white"
             }
            },
            "type": "table"
           }
          ]
         },
         "layout": {
          "annotationdefaults": {
           "arrowcolor": "#2a3f5f",
           "arrowhead": 0,
           "arrowwidth": 1
          },
          "coloraxis": {
           "colorbar": {
            "outlinewidth": 0,
            "ticks": ""
           }
          },
          "colorscale": {
           "diverging": [
            [
             0,
             "#8e0152"
            ],
            [
             0.1,
             "#c51b7d"
            ],
            [
             0.2,
             "#de77ae"
            ],
            [
             0.3,
             "#f1b6da"
            ],
            [
             0.4,
             "#fde0ef"
            ],
            [
             0.5,
             "#f7f7f7"
            ],
            [
             0.6,
             "#e6f5d0"
            ],
            [
             0.7,
             "#b8e186"
            ],
            [
             0.8,
             "#7fbc41"
            ],
            [
             0.9,
             "#4d9221"
            ],
            [
             1,
             "#276419"
            ]
           ],
           "sequential": [
            [
             0,
             "#0d0887"
            ],
            [
             0.1111111111111111,
             "#46039f"
            ],
            [
             0.2222222222222222,
             "#7201a8"
            ],
            [
             0.3333333333333333,
             "#9c179e"
            ],
            [
             0.4444444444444444,
             "#bd3786"
            ],
            [
             0.5555555555555556,
             "#d8576b"
            ],
            [
             0.6666666666666666,
             "#ed7953"
            ],
            [
             0.7777777777777778,
             "#fb9f3a"
            ],
            [
             0.8888888888888888,
             "#fdca26"
            ],
            [
             1,
             "#f0f921"
            ]
           ],
           "sequentialminus": [
            [
             0,
             "#0d0887"
            ],
            [
             0.1111111111111111,
             "#46039f"
            ],
            [
             0.2222222222222222,
             "#7201a8"
            ],
            [
             0.3333333333333333,
             "#9c179e"
            ],
            [
             0.4444444444444444,
             "#bd3786"
            ],
            [
             0.5555555555555556,
             "#d8576b"
            ],
            [
             0.6666666666666666,
             "#ed7953"
            ],
            [
             0.7777777777777778,
             "#fb9f3a"
            ],
            [
             0.8888888888888888,
             "#fdca26"
            ],
            [
             1,
             "#f0f921"
            ]
           ]
          },
          "colorway": [
           "#636efa",
           "#EF553B",
           "#00cc96",
           "#ab63fa",
           "#FFA15A",
           "#19d3f3",
           "#FF6692",
           "#B6E880",
           "#FF97FF",
           "#FECB52"
          ],
          "font": {
           "color": "#2a3f5f"
          },
          "geo": {
           "bgcolor": "white",
           "lakecolor": "white",
           "landcolor": "#E5ECF6",
           "showlakes": true,
           "showland": true,
           "subunitcolor": "white"
          },
          "hoverlabel": {
           "align": "left"
          },
          "hovermode": "closest",
          "mapbox": {
           "style": "light"
          },
          "paper_bgcolor": "white",
          "plot_bgcolor": "#E5ECF6",
          "polar": {
           "angularaxis": {
            "gridcolor": "white",
            "linecolor": "white",
            "ticks": ""
           },
           "bgcolor": "#E5ECF6",
           "radialaxis": {
            "gridcolor": "white",
            "linecolor": "white",
            "ticks": ""
           }
          },
          "scene": {
           "xaxis": {
            "backgroundcolor": "#E5ECF6",
            "gridcolor": "white",
            "gridwidth": 2,
            "linecolor": "white",
            "showbackground": true,
            "ticks": "",
            "zerolinecolor": "white"
           },
           "yaxis": {
            "backgroundcolor": "#E5ECF6",
            "gridcolor": "white",
            "gridwidth": 2,
            "linecolor": "white",
            "showbackground": true,
            "ticks": "",
            "zerolinecolor": "white"
           },
           "zaxis": {
            "backgroundcolor": "#E5ECF6",
            "gridcolor": "white",
            "gridwidth": 2,
            "linecolor": "white",
            "showbackground": true,
            "ticks": "",
            "zerolinecolor": "white"
           }
          },
          "shapedefaults": {
           "line": {
            "color": "#2a3f5f"
           }
          },
          "ternary": {
           "aaxis": {
            "gridcolor": "white",
            "linecolor": "white",
            "ticks": ""
           },
           "baxis": {
            "gridcolor": "white",
            "linecolor": "white",
            "ticks": ""
           },
           "bgcolor": "#E5ECF6",
           "caxis": {
            "gridcolor": "white",
            "linecolor": "white",
            "ticks": ""
           }
          },
          "title": {
           "x": 0.05
          },
          "xaxis": {
           "automargin": true,
           "gridcolor": "white",
           "linecolor": "white",
           "ticks": "",
           "title": {
            "standoff": 15
           },
           "zerolinecolor": "white",
           "zerolinewidth": 2
          },
          "yaxis": {
           "automargin": true,
           "gridcolor": "white",
           "linecolor": "white",
           "ticks": "",
           "title": {
            "standoff": 15
           },
           "zerolinecolor": "white",
           "zerolinewidth": 2
          }
         }
        },
        "title": {
         "text": "Histogram of \"thalach\" by condition"
        },
        "xaxis": {
         "anchor": "y",
         "domain": [
          0,
          1
         ],
         "title": {
          "text": "thalach"
         }
        },
        "xaxis2": {
         "anchor": "y2",
         "domain": [
          0,
          1
         ],
         "matches": "x",
         "showgrid": true,
         "showticklabels": false
        },
        "yaxis": {
         "anchor": "x",
         "domain": [
          0,
          0.7326
         ],
         "title": {
          "text": "count"
         }
        },
        "yaxis2": {
         "anchor": "x2",
         "domain": [
          0.7426,
          1
         ],
         "matches": "y2",
         "showgrid": false,
         "showline": false,
         "showticklabels": false,
         "ticks": ""
        }
       }
      },
      "text/html": [
       "<div>                            <div id=\"1358c052-7292-4552-9a74-0196d6c53eab\" class=\"plotly-graph-div\" style=\"height:525px; width:100%;\"></div>            <script type=\"text/javascript\">                require([\"plotly\"], function(Plotly) {                    window.PLOTLYENV=window.PLOTLYENV || {};                                    if (document.getElementById(\"1358c052-7292-4552-9a74-0196d6c53eab\")) {                    Plotly.newPlot(                        \"1358c052-7292-4552-9a74-0196d6c53eab\",                        [{\"alignmentgroup\": \"True\", \"bingroup\": \"x\", \"hovertemplate\": \"condition=0<br>thalach=%{x}<br>count=%{y}<extra></extra>\", \"legendgroup\": \"0\", \"marker\": {\"color\": \"#636efa\"}, \"name\": \"0\", \"offsetgroup\": \"0\", \"orientation\": \"v\", \"showlegend\": true, \"type\": \"histogram\", \"x\": [131, 151, 114, 144, 155, 150, 171, 145, 162, 162, 190, 178, 125, 178, 178, 174, 121, 162, 143, 179, 140, 164, 169, 153, 178, 163, 161, 155, 166, 156, 159, 172, 158, 184, 162, 162, 171, 180, 156, 172, 175, 138, 170, 173, 188, 170, 162, 132, 172, 168, 153, 163, 182, 174, 192, 202, 116, 130, 115, 151, 160, 172, 152, 157, 148, 151, 133, 172, 146, 137, 160, 96, 157, 154, 172, 165, 174, 173, 152, 147, 158, 170, 165, 167, 163, 152, 173, 169, 162, 143, 166, 123, 142, 149, 154, 157, 158, 163, 139, 175, 156, 179, 160, 175, 149, 179, 180, 169, 165, 162, 194, 173, 150, 168, 179, 172, 152, 182, 179, 187, 170, 125, 142, 151, 138, 140, 122, 105, 154, 157, 163, 161, 182, 122, 131, 148, 126, 163, 159, 168, 160, 143, 160, 111, 147, 186, 159, 163, 186, 143, 152, 148, 152, 185, 181, 171, 161, 122, 178, 182], \"xaxis\": \"x\", \"yaxis\": \"y\"}, {\"alignmentgroup\": \"True\", \"customdata\": [[69.0, 1.0, 0.0, 160.0, 234.0, 1.0, 2.0, 131.0, 0.0, 0.1, 1.0, 1.0, 0.0, 0.0], [69.0, 0.0, 0.0, 140.0, 239.0, 0.0, 0.0, 151.0, 0.0, 1.8, 0.0, 2.0, 0.0, 0.0], [66.0, 0.0, 0.0, 150.0, 226.0, 0.0, 0.0, 114.0, 0.0, 2.6, 2.0, 0.0, 0.0, 0.0], [64.0, 1.0, 0.0, 110.0, 211.0, 0.0, 2.0, 144.0, 1.0, 1.8, 1.0, 0.0, 0.0, 0.0], [64.0, 1.0, 0.0, 170.0, 227.0, 0.0, 2.0, 155.0, 0.0, 0.6, 1.0, 0.0, 2.0, 0.0], [63.0, 1.0, 0.0, 145.0, 233.0, 1.0, 2.0, 150.0, 0.0, 2.3, 2.0, 0.0, 1.0, 0.0], [60.0, 0.0, 0.0, 150.0, 240.0, 0.0, 0.0, 171.0, 0.0, 0.9, 0.0, 0.0, 0.0, 0.0], [59.0, 1.0, 0.0, 178.0, 270.0, 0.0, 2.0, 145.0, 0.0, 4.2, 2.0, 0.0, 2.0, 0.0], [58.0, 0.0, 0.0, 150.0, 283.0, 1.0, 2.0, 162.0, 0.0, 1.0, 0.0, 0.0, 0.0, 0.0], [56.0, 1.0, 0.0, 120.0, 193.0, 0.0, 2.0, 162.0, 0.0, 1.9, 1.0, 0.0, 2.0, 0.0], [52.0, 1.0, 0.0, 118.0, 186.0, 0.0, 2.0, 190.0, 0.0, 0.0, 1.0, 0.0, 1.0, 0.0], [52.0, 1.0, 0.0, 152.0, 298.0, 1.0, 0.0, 178.0, 0.0, 1.2, 1.0, 0.0, 2.0, 0.0], [51.0, 1.0, 0.0, 125.0, 213.0, 0.0, 2.0, 125.0, 1.0, 1.4, 0.0, 1.0, 0.0, 0.0], [42.0, 1.0, 0.0, 148.0, 244.0, 0.0, 2.0, 178.0, 0.0, 0.8, 0.0, 2.0, 0.0, 0.0], [40.0, 1.0, 0.0, 140.0, 199.0, 0.0, 0.0, 178.0, 1.0, 1.4, 0.0, 0.0, 2.0, 0.0], [34.0, 1.0, 0.0, 118.0, 182.0, 0.0, 2.0, 174.0, 0.0, 0.0, 0.0, 0.0, 0.0, 0.0], [74.0, 0.0, 1.0, 120.0, 269.0, 0.0, 2.0, 121.0, 1.0, 0.2, 0.0, 1.0, 0.0, 0.0], [71.0, 0.0, 1.0, 160.0, 302.0, 0.0, 0.0, 162.0, 0.0, 0.4, 0.0, 2.0, 0.0, 0.0], [70.0, 1.0, 1.0, 156.0, 245.0, 0.0, 2.0, 143.0, 0.0, 0.0, 0.0, 0.0, 0.0, 0.0], [63.0, 0.0, 1.0, 140.0, 195.0, 0.0, 0.0, 179.0, 0.0, 0.0, 0.0, 2.0, 0.0, 0.0], [62.0, 1.0, 1.0, 128.0, 208.0, 1.0, 2.0, 140.0, 0.0, 0.0, 0.0, 0.0, 0.0, 0.0], [59.0, 1.0, 1.0, 140.0, 221.0, 0.0, 0.0, 164.0, 1.0, 0.0, 0.0, 0.0, 0.0, 0.0], [56.0, 1.0, 1.0, 120.0, 240.0, 0.0, 0.0, 169.0, 0.0, 0.0, 2.0, 0.0, 0.0, 0.0], [56.0, 0.0, 1.0, 140.0, 294.0, 0.0, 2.0, 153.0, 0.0, 1.3, 1.0, 0.0, 0.0, 0.0], [56.0, 1.0, 1.0, 120.0, 236.0, 0.0, 0.0, 178.0, 0.0, 0.8, 0.0, 0.0, 0.0, 0.0], [56.0, 1.0, 1.0, 130.0, 221.0, 0.0, 2.0, 163.0, 0.0, 0.0, 0.0, 0.0, 2.0, 0.0], [55.0, 0.0, 1.0, 135.0, 250.0, 0.0, 2.0, 161.0, 0.0, 1.4, 1.0, 0.0, 0.0, 0.0], [55.0, 1.0, 1.0, 130.0, 262.0, 0.0, 0.0, 155.0, 0.0, 0.0, 0.0, 0.0, 0.0, 0.0], [55.0, 0.0, 1.0, 132.0, 342.0, 0.0, 0.0, 166.0, 0.0, 1.2, 0.0, 0.0, 0.0, 0.0], [54.0, 1.0, 1.0, 108.0, 309.0, 0.0, 0.0, 156.0, 0.0, 0.0, 0.0, 0.0, 2.0, 0.0], [54.0, 0.0, 1.0, 132.0, 288.0, 1.0, 2.0, 159.0, 1.0, 0.0, 0.0, 1.0, 0.0, 0.0], [52.0, 1.0, 1.0, 120.0, 325.0, 0.0, 0.0, 172.0, 0.0, 0.2, 0.0, 0.0, 0.0, 0.0], [52.0, 1.0, 1.0, 134.0, 201.0, 0.0, 0.0, 158.0, 0.0, 0.8, 0.0, 1.0, 0.0, 0.0], [52.0, 1.0, 1.0, 128.0, 205.0, 1.0, 0.0, 184.0, 0.0, 0.0, 0.0, 0.0, 0.0, 0.0], [50.0, 0.0, 1.0, 120.0, 244.0, 0.0, 0.0, 162.0, 0.0, 1.1, 0.0, 0.0, 0.0, 0.0], [49.0, 0.0, 1.0, 134.0, 271.0, 0.0, 0.0, 162.0, 0.0, 0.0, 1.0, 0.0, 0.0, 0.0], [49.0, 1.0, 1.0, 130.0, 266.0, 0.0, 0.0, 171.0, 0.0, 0.6, 0.0, 0.0, 0.0, 0.0], [48.0, 1.0, 1.0, 130.0, 245.0, 0.0, 2.0, 180.0, 0.0, 0.2, 1.0, 0.0, 0.0, 0.0], [46.0, 1.0, 1.0, 101.0, 197.0, 1.0, 0.0, 156.0, 0.0, 0.0, 0.0, 0.0, 2.0, 0.0], [46.0, 0.0, 1.0, 105.0, 204.0, 0.0, 0.0, 172.0, 0.0, 0.0, 0.0, 0.0, 0.0, 0.0], [45.0, 0.0, 1.0, 130.0, 234.0, 0.0, 2.0, 175.0, 0.0, 0.6, 1.0, 0.0, 0.0, 0.0], [45.0, 0.0, 1.0, 112.0, 160.0, 0.0, 0.0, 138.0, 0.0, 0.0, 1.0, 0.0, 0.0, 0.0], [45.0, 1.0, 1.0, 128.0, 308.0, 0.0, 2.0, 170.0, 0.0, 0.0, 0.0, 0.0, 0.0, 0.0], [44.0, 1.0, 1.0, 120.0, 263.0, 0.0, 0.0, 173.0, 0.0, 0.0, 0.0, 0.0, 2.0, 0.0], [44.0, 1.0, 1.0, 130.0, 219.0, 0.0, 2.0, 188.0, 0.0, 0.0, 0.0, 0.0, 0.0, 0.0], [44.0, 1.0, 1.0, 120.0, 220.0, 0.0, 0.0, 170.0, 0.0, 0.0, 0.0, 0.0, 0.0, 0.0], [42.0, 1.0, 1.0, 120.0, 295.0, 0.0, 0.0, 162.0, 0.0, 0.0, 0.0, 0.0, 0.0, 0.0], [41.0, 1.0, 1.0, 135.0, 203.0, 0.0, 0.0, 132.0, 0.0, 0.0, 1.0, 0.0, 1.0, 0.0], [41.0, 0.0, 1.0, 130.0, 204.0, 0.0, 2.0, 172.0, 0.0, 1.4, 0.0, 0.0, 0.0, 0.0], [41.0, 0.0, 1.0, 105.0, 198.0, 0.0, 0.0, 168.0, 0.0, 0.0, 0.0, 1.0, 0.0, 0.0], [41.0, 1.0, 1.0, 110.0, 235.0, 0.0, 0.0, 153.0, 0.0, 0.0, 0.0, 0.0, 0.0, 0.0], [41.0, 0.0, 1.0, 126.0, 306.0, 0.0, 0.0, 163.0, 0.0, 0.0, 0.0, 0.0, 0.0, 0.0], [41.0, 1.0, 1.0, 120.0, 157.0, 0.0, 0.0, 182.0, 0.0, 0.0, 0.0, 0.0, 0.0, 0.0], [35.0, 1.0, 1.0, 122.0, 192.0, 0.0, 0.0, 174.0, 0.0, 0.0, 0.0, 0.0, 0.0, 0.0], [34.0, 0.0, 1.0, 118.0, 210.0, 0.0, 0.0, 192.0, 0.0, 0.7, 0.0, 0.0, 0.0, 0.0], [29.0, 1.0, 1.0, 130.0, 204.0, 0.0, 2.0, 202.0, 0.0, 0.0, 0.0, 0.0, 0.0, 0.0], [76.0, 0.0, 2.0, 140.0, 197.0, 0.0, 1.0, 116.0, 0.0, 1.1, 1.0, 0.0, 0.0, 0.0], [71.0, 0.0, 2.0, 110.0, 265.0, 1.0, 2.0, 130.0, 0.0, 0.0, 0.0, 1.0, 0.0, 0.0], [68.0, 0.0, 2.0, 120.0, 211.0, 0.0, 2.0, 115.0, 0.0, 1.5, 1.0, 0.0, 0.0, 0.0], [68.0, 1.0, 2.0, 118.0, 277.0, 0.0, 0.0, 151.0, 0.0, 1.0, 0.0, 1.0, 2.0, 0.0], [67.0, 0.0, 2.0, 115.0, 564.0, 0.0, 2.0, 160.0, 0.0, 1.6, 1.0, 0.0, 2.0, 0.0], [67.0, 0.0, 2.0, 152.0, 277.0, 0.0, 0.0, 172.0, 0.0, 0.0, 0.0, 1.0, 0.0, 0.0], [66.0, 0.0, 2.0, 146.0, 278.0, 0.0, 2.0, 152.0, 0.0, 0.0, 1.0, 1.0, 0.0, 0.0], [65.0, 0.0, 2.0, 140.0, 417.0, 1.0, 2.0, 157.0, 0.0, 0.8, 0.0, 1.0, 0.0, 0.0], [65.0, 0.0, 2.0, 155.0, 269.0, 0.0, 0.0, 148.0, 0.0, 0.8, 0.0, 0.0, 0.0, 0.0], [65.0, 0.0, 2.0, 160.0, 360.0, 0.0, 2.0, 151.0, 0.0, 0.8, 0.0, 0.0, 0.0, 0.0], [64.0, 0.0, 2.0, 140.0, 313.0, 0.0, 0.0, 133.0, 0.0, 0.2, 0.0, 0.0, 2.0, 0.0], [63.0, 0.0, 2.0, 135.0, 252.0, 0.0, 2.0, 172.0, 0.0, 0.0, 0.0, 0.0, 0.0, 0.0], [62.0, 1.0, 2.0, 130.0, 231.0, 0.0, 0.0, 146.0, 0.0, 1.8, 1.0, 3.0, 2.0, 0.0], [61.0, 1.0, 2.0, 150.0, 243.0, 1.0, 0.0, 137.0, 1.0, 1.0, 1.0, 0.0, 0.0, 0.0], [60.0, 0.0, 2.0, 102.0, 318.0, 0.0, 0.0, 160.0, 0.0, 0.0, 0.0, 1.0, 0.0, 0.0], [60.0, 0.0, 2.0, 120.0, 178.0, 1.0, 0.0, 96.0, 0.0, 0.0, 0.0, 0.0, 0.0, 0.0], [59.0, 1.0, 2.0, 150.0, 212.0, 1.0, 0.0, 157.0, 0.0, 1.6, 0.0, 0.0, 0.0, 0.0], [58.0, 1.0, 2.0, 105.0, 240.0, 0.0, 2.0, 154.0, 1.0, 0.6, 1.0, 0.0, 2.0, 0.0], [58.0, 0.0, 2.0, 120.0, 340.0, 0.0, 0.0, 172.0, 0.0, 0.0, 0.0, 0.0, 0.0, 0.0], [58.0, 1.0, 2.0, 140.0, 211.0, 1.0, 2.0, 165.0, 0.0, 0.0, 0.0, 0.0, 0.0, 0.0], [57.0, 1.0, 2.0, 150.0, 168.0, 0.0, 0.0, 174.0, 0.0, 1.6, 0.0, 0.0, 0.0, 0.0], [57.0, 1.0, 2.0, 150.0, 126.0, 1.0, 0.0, 173.0, 0.0, 0.2, 0.0, 1.0, 2.0, 0.0], [54.0, 1.0, 2.0, 125.0, 273.0, 0.0, 2.0, 152.0, 0.0, 0.5, 2.0, 1.0, 0.0, 0.0], [54.0, 1.0, 2.0, 120.0, 258.0, 0.0, 2.0, 147.0, 0.0, 0.4, 1.0, 0.0, 2.0, 0.0], [54.0, 0.0, 2.0, 110.0, 214.0, 0.0, 0.0, 158.0, 0.0, 1.6, 1.0, 0.0, 0.0, 0.0], [54.0, 0.0, 2.0, 135.0, 304.0, 1.0, 0.0, 170.0, 0.0, 0.0, 0.0, 0.0, 0.0, 0.0], [54.0, 1.0, 2.0, 150.0, 232.0, 0.0, 2.0, 165.0, 0.0, 1.6, 0.0, 0.0, 2.0, 0.0], [54.0, 0.0, 2.0, 108.0, 267.0, 0.0, 2.0, 167.0, 0.0, 0.0, 0.0, 0.0, 0.0, 0.0], [54.0, 0.0, 2.0, 160.0, 201.0, 0.0, 0.0, 163.0, 0.0, 0.0, 0.0, 1.0, 0.0, 0.0], [53.0, 1.0, 2.0, 130.0, 197.0, 1.0, 2.0, 152.0, 0.0, 1.2, 2.0, 0.0, 0.0, 0.0], [53.0, 1.0, 2.0, 130.0, 246.0, 1.0, 2.0, 173.0, 0.0, 0.0, 0.0, 3.0, 0.0, 0.0], [52.0, 0.0, 2.0, 136.0, 196.0, 0.0, 2.0, 169.0, 0.0, 0.1, 1.0, 0.0, 0.0, 0.0], [52.0, 1.0, 2.0, 172.0, 199.0, 1.0, 0.0, 162.0, 0.0, 0.5, 0.0, 0.0, 2.0, 0.0], [51.0, 1.0, 2.0, 100.0, 222.0, 0.0, 0.0, 143.0, 1.0, 1.2, 1.0, 0.0, 0.0, 0.0], [51.0, 1.0, 2.0, 125.0, 245.0, 1.0, 2.0, 166.0, 0.0, 2.4, 1.0, 0.0, 0.0, 0.0], [51.0, 1.0, 2.0, 110.0, 175.0, 0.0, 0.0, 123.0, 0.0, 0.6, 0.0, 0.0, 0.0, 0.0], [51.0, 0.0, 2.0, 140.0, 308.0, 0.0, 2.0, 142.0, 0.0, 1.5, 0.0, 1.0, 0.0, 0.0], [51.0, 0.0, 2.0, 130.0, 256.0, 0.0, 2.0, 149.0, 0.0, 0.5, 0.0, 0.0, 0.0, 0.0], [51.0, 1.0, 2.0, 94.0, 227.0, 0.0, 0.0, 154.0, 1.0, 0.0, 0.0, 1.0, 2.0, 0.0], [51.0, 0.0, 2.0, 120.0, 295.0, 0.0, 2.0, 157.0, 0.0, 0.6, 0.0, 0.0, 0.0, 0.0], [50.0, 0.0, 2.0, 120.0, 219.0, 0.0, 0.0, 158.0, 0.0, 1.6, 1.0, 0.0, 0.0, 0.0], [50.0, 1.0, 2.0, 129.0, 196.0, 0.0, 0.0, 163.0, 0.0, 0.0, 0.0, 0.0, 0.0, 0.0], [48.0, 0.0, 2.0, 130.0, 275.0, 0.0, 0.0, 139.0, 0.0, 0.2, 0.0, 0.0, 0.0, 0.0], [48.0, 1.0, 2.0, 124.0, 255.0, 1.0, 0.0, 175.0, 0.0, 0.0, 0.0, 2.0, 0.0, 0.0], [47.0, 1.0, 2.0, 138.0, 257.0, 0.0, 2.0, 156.0, 0.0, 0.0, 0.0, 0.0, 0.0, 0.0], [47.0, 1.0, 2.0, 130.0, 253.0, 0.0, 0.0, 179.0, 0.0, 0.0, 0.0, 0.0, 0.0, 0.0], [46.0, 0.0, 2.0, 142.0, 177.0, 0.0, 2.0, 160.0, 1.0, 1.4, 2.0, 0.0, 0.0, 0.0], [44.0, 0.0, 2.0, 108.0, 141.0, 0.0, 0.0, 175.0, 0.0, 0.6, 1.0, 0.0, 0.0, 0.0], [44.0, 0.0, 2.0, 118.0, 242.0, 0.0, 0.0, 149.0, 0.0, 0.3, 1.0, 1.0, 0.0, 0.0], [44.0, 1.0, 2.0, 130.0, 233.0, 0.0, 0.0, 179.0, 1.0, 0.4, 0.0, 0.0, 0.0, 0.0], [44.0, 1.0, 2.0, 140.0, 235.0, 0.0, 2.0, 180.0, 0.0, 0.0, 0.0, 0.0, 0.0, 0.0], [44.0, 1.0, 2.0, 120.0, 226.0, 0.0, 0.0, 169.0, 0.0, 0.0, 0.0, 0.0, 0.0, 0.0], [43.0, 0.0, 2.0, 122.0, 213.0, 0.0, 0.0, 165.0, 0.0, 0.2, 1.0, 0.0, 0.0, 0.0], [43.0, 1.0, 2.0, 130.0, 315.0, 0.0, 0.0, 162.0, 0.0, 1.9, 0.0, 1.0, 0.0, 0.0], [42.0, 1.0, 2.0, 120.0, 240.0, 1.0, 0.0, 194.0, 0.0, 0.8, 2.0, 0.0, 2.0, 0.0], [42.0, 0.0, 2.0, 120.0, 209.0, 0.0, 0.0, 173.0, 0.0, 0.0, 1.0, 0.0, 0.0, 0.0], [42.0, 1.0, 2.0, 130.0, 180.0, 0.0, 0.0, 150.0, 0.0, 0.0, 0.0, 0.0, 0.0, 0.0], [41.0, 1.0, 2.0, 130.0, 214.0, 0.0, 2.0, 168.0, 0.0, 2.0, 1.0, 0.0, 0.0, 0.0], [41.0, 1.0, 2.0, 112.0, 250.0, 0.0, 0.0, 179.0, 0.0, 0.0, 0.0, 0.0, 0.0, 0.0], [41.0, 0.0, 2.0, 112.0, 268.0, 0.0, 2.0, 172.0, 1.0, 0.0, 0.0, 0.0, 0.0, 0.0], [39.0, 0.0, 2.0, 138.0, 220.0, 0.0, 0.0, 152.0, 0.0, 0.0, 1.0, 0.0, 0.0, 0.0], [39.0, 1.0, 2.0, 140.0, 321.0, 0.0, 2.0, 182.0, 0.0, 0.0, 0.0, 0.0, 0.0, 0.0], [39.0, 0.0, 2.0, 94.0, 199.0, 0.0, 0.0, 179.0, 0.0, 0.0, 0.0, 0.0, 0.0, 0.0], [37.0, 1.0, 2.0, 130.0, 250.0, 0.0, 0.0, 187.0, 0.0, 3.5, 2.0, 0.0, 0.0, 0.0], [37.0, 0.0, 2.0, 120.0, 215.0, 0.0, 0.0, 170.0, 0.0, 0.0, 0.0, 0.0, 0.0, 0.0], [71.0, 0.0, 3.0, 112.0, 149.0, 0.0, 0.0, 125.0, 0.0, 1.6, 1.0, 0.0, 0.0, 0.0], [67.0, 0.0, 3.0, 106.0, 223.0, 0.0, 0.0, 142.0, 0.0, 0.3, 0.0, 2.0, 0.0, 0.0], [66.0, 1.0, 3.0, 120.0, 302.0, 0.0, 2.0, 151.0, 0.0, 0.4, 1.0, 0.0, 0.0, 0.0], [66.0, 1.0, 3.0, 160.0, 228.0, 0.0, 2.0, 138.0, 0.0, 2.3, 0.0, 0.0, 1.0, 0.0], [65.0, 1.0, 3.0, 120.0, 177.0, 0.0, 0.0, 140.0, 0.0, 0.4, 0.0, 0.0, 2.0, 0.0], [64.0, 0.0, 3.0, 130.0, 303.0, 0.0, 0.0, 122.0, 0.0, 2.0, 1.0, 2.0, 0.0, 0.0], [64.0, 1.0, 3.0, 128.0, 263.0, 0.0, 0.0, 105.0, 1.0, 0.2, 1.0, 1.0, 2.0, 0.0], [64.0, 0.0, 3.0, 180.0, 325.0, 0.0, 0.0, 154.0, 1.0, 0.0, 0.0, 0.0, 0.0, 0.0], [62.0, 0.0, 3.0, 140.0, 394.0, 0.0, 2.0, 157.0, 0.0, 1.2, 1.0, 0.0, 0.0, 0.0], [62.0, 0.0, 3.0, 124.0, 209.0, 0.0, 0.0, 163.0, 0.0, 0.0, 0.0, 0.0, 0.0, 0.0], [59.0, 1.0, 3.0, 135.0, 234.0, 0.0, 0.0, 161.0, 0.0, 0.5, 1.0, 0.0, 2.0, 0.0], [59.0, 1.0, 3.0, 138.0, 271.0, 0.0, 2.0, 182.0, 0.0, 0.0, 0.0, 0.0, 0.0, 0.0], [58.0, 0.0, 3.0, 100.0, 248.0, 0.0, 2.0, 122.0, 0.0, 1.0, 1.0, 0.0, 0.0, 0.0], [58.0, 0.0, 3.0, 130.0, 197.0, 0.0, 0.0, 131.0, 0.0, 0.6, 1.0, 0.0, 0.0, 0.0], [57.0, 1.0, 3.0, 140.0, 192.0, 0.0, 0.0, 148.0, 0.0, 0.4, 1.0, 0.0, 1.0, 0.0], [57.0, 1.0, 3.0, 110.0, 201.0, 0.0, 0.0, 126.0, 1.0, 1.5, 1.0, 0.0, 1.0, 0.0], [57.0, 0.0, 3.0, 120.0, 354.0, 0.0, 0.0, 163.0, 1.0, 0.6, 0.0, 0.0, 0.0, 0.0], [57.0, 0.0, 3.0, 128.0, 303.0, 0.0, 2.0, 159.0, 0.0, 0.0, 0.0, 1.0, 0.0, 0.0], [57.0, 1.0, 3.0, 132.0, 207.0, 0.0, 0.0, 168.0, 1.0, 0.0, 0.0, 0.0, 2.0, 0.0], [54.0, 1.0, 3.0, 140.0, 239.0, 0.0, 0.0, 160.0, 0.0, 1.2, 0.0, 0.0, 0.0, 0.0], [53.0, 0.0, 3.0, 130.0, 264.0, 0.0, 2.0, 143.0, 0.0, 0.4, 1.0, 0.0, 0.0, 0.0], [53.0, 0.0, 3.0, 138.0, 234.0, 0.0, 2.0, 160.0, 0.0, 0.0, 0.0, 0.0, 0.0, 0.0], [53.0, 1.0, 3.0, 142.0, 226.0, 0.0, 2.0, 111.0, 1.0, 0.0, 0.0, 0.0, 2.0, 0.0], [52.0, 1.0, 3.0, 108.0, 233.0, 1.0, 0.0, 147.0, 0.0, 0.1, 0.0, 3.0, 2.0, 0.0], [51.0, 1.0, 3.0, 140.0, 261.0, 0.0, 2.0, 186.0, 1.0, 0.0, 0.0, 0.0, 0.0, 0.0], [50.0, 0.0, 3.0, 110.0, 254.0, 0.0, 2.0, 159.0, 0.0, 0.0, 0.0, 0.0, 0.0, 0.0], [49.0, 0.0, 3.0, 130.0, 269.0, 0.0, 0.0, 163.0, 0.0, 0.0, 0.0, 0.0, 0.0, 0.0], [48.0, 1.0, 3.0, 122.0, 222.0, 0.0, 2.0, 186.0, 0.0, 0.0, 0.0, 0.0, 0.0, 0.0], [47.0, 1.0, 3.0, 112.0, 204.0, 0.0, 0.0, 143.0, 0.0, 0.1, 0.0, 0.0, 0.0, 0.0], [46.0, 0.0, 3.0, 138.0, 243.0, 0.0, 2.0, 152.0, 1.0, 0.0, 1.0, 0.0, 0.0, 0.0], [45.0, 1.0, 3.0, 104.0, 208.0, 0.0, 2.0, 148.0, 1.0, 3.0, 1.0, 0.0, 0.0, 0.0], [45.0, 0.0, 3.0, 138.0, 236.0, 0.0, 2.0, 152.0, 1.0, 0.2, 1.0, 0.0, 0.0, 0.0], [45.0, 1.0, 3.0, 115.0, 260.0, 0.0, 2.0, 185.0, 0.0, 0.0, 0.0, 0.0, 0.0, 0.0], [43.0, 1.0, 3.0, 115.0, 303.0, 0.0, 0.0, 181.0, 0.0, 1.2, 1.0, 0.0, 0.0, 0.0], [43.0, 1.0, 3.0, 150.0, 247.0, 0.0, 0.0, 171.0, 0.0, 1.5, 0.0, 0.0, 0.0, 0.0], [43.0, 1.0, 3.0, 110.0, 211.0, 0.0, 0.0, 161.0, 0.0, 0.0, 0.0, 0.0, 2.0, 0.0], [42.0, 0.0, 3.0, 102.0, 265.0, 0.0, 2.0, 122.0, 0.0, 0.6, 1.0, 0.0, 0.0, 0.0], [42.0, 1.0, 3.0, 140.0, 226.0, 0.0, 0.0, 178.0, 0.0, 0.0, 0.0, 0.0, 0.0, 0.0], [35.0, 0.0, 3.0, 138.0, 183.0, 0.0, 0.0, 182.0, 0.0, 1.4, 0.0, 0.0, 0.0, 0.0]], \"hovertemplate\": \"condition=%{customdata[13]}<br>thalach=%{customdata[7]}<br>age=%{customdata[0]}<br>sex=%{customdata[1]}<br>cp=%{customdata[2]}<br>trestbps=%{customdata[3]}<br>chol=%{customdata[4]}<br>fbs=%{customdata[5]}<br>restecg=%{customdata[6]}<br>exang=%{customdata[8]}<br>oldpeak=%{customdata[9]}<br>slope=%{customdata[10]}<br>ca=%{customdata[11]}<br>thal=%{customdata[12]}<extra></extra>\", \"legendgroup\": \"0\", \"marker\": {\"color\": \"#636efa\"}, \"name\": \"0\", \"offsetgroup\": \"0\", \"scalegroup\": \"x\", \"showlegend\": false, \"type\": \"violin\", \"x\": [131, 151, 114, 144, 155, 150, 171, 145, 162, 162, 190, 178, 125, 178, 178, 174, 121, 162, 143, 179, 140, 164, 169, 153, 178, 163, 161, 155, 166, 156, 159, 172, 158, 184, 162, 162, 171, 180, 156, 172, 175, 138, 170, 173, 188, 170, 162, 132, 172, 168, 153, 163, 182, 174, 192, 202, 116, 130, 115, 151, 160, 172, 152, 157, 148, 151, 133, 172, 146, 137, 160, 96, 157, 154, 172, 165, 174, 173, 152, 147, 158, 170, 165, 167, 163, 152, 173, 169, 162, 143, 166, 123, 142, 149, 154, 157, 158, 163, 139, 175, 156, 179, 160, 175, 149, 179, 180, 169, 165, 162, 194, 173, 150, 168, 179, 172, 152, 182, 179, 187, 170, 125, 142, 151, 138, 140, 122, 105, 154, 157, 163, 161, 182, 122, 131, 148, 126, 163, 159, 168, 160, 143, 160, 111, 147, 186, 159, 163, 186, 143, 152, 148, 152, 185, 181, 171, 161, 122, 178, 182], \"xaxis\": \"x2\", \"yaxis\": \"y2\"}, {\"alignmentgroup\": \"True\", \"bingroup\": \"x\", \"hovertemplate\": \"condition=1<br>thalach=%{x}<br>count=%{y}<extra></extra>\", \"legendgroup\": \"1\", \"marker\": {\"color\": \"#EF553B\"}, \"name\": \"1\", \"offsetgroup\": \"1\", \"orientation\": \"v\", \"showlegend\": true, \"type\": \"histogram\", \"x\": [174, 145, 159, 125, 162, 132, 182, 120, 103, 160, 152, 174, 141, 164, 195, 168, 112, 146, 150, 150, 131, 158, 97, 155, 134, 165, 173, 150, 142, 163, 139, 126, 152, 147, 162, 125, 109, 141, 108, 129, 163, 125, 71, 165, 132, 114, 127, 158, 96, 132, 147, 154, 169, 136, 132, 144, 160, 145, 99, 106, 154, 140, 146, 125, 169, 138, 161, 132, 142, 141, 157, 170, 160, 144, 161, 140, 142, 143, 90, 162, 140, 131, 130, 105, 146, 111, 171, 156, 112, 124, 88, 143, 123, 115, 133, 103, 144, 105, 150, 111, 132, 145, 117, 130, 109, 113, 126, 108, 116, 155, 95, 161, 160, 168, 142, 122, 173, 128, 126, 166, 150, 118, 120, 144, 147, 144, 153, 177, 120, 136, 125, 158, 114, 181, 140, 130, 156], \"xaxis\": \"x\", \"yaxis\": \"y\"}, {\"alignmentgroup\": \"True\", \"customdata\": [[65.0, 1.0, 0.0, 138.0, 282.0, 1.0, 2.0, 174.0, 0.0, 1.4, 1.0, 1.0, 0.0, 1.0], [61.0, 1.0, 0.0, 134.0, 234.0, 0.0, 0.0, 145.0, 0.0, 2.6, 1.0, 2.0, 0.0, 1.0], [59.0, 1.0, 0.0, 170.0, 288.0, 0.0, 2.0, 159.0, 0.0, 0.2, 1.0, 0.0, 2.0, 1.0], [59.0, 1.0, 0.0, 160.0, 273.0, 0.0, 2.0, 125.0, 0.0, 0.0, 0.0, 0.0, 0.0, 1.0], [59.0, 1.0, 0.0, 134.0, 204.0, 0.0, 0.0, 162.0, 0.0, 0.8, 0.0, 2.0, 0.0, 1.0], [45.0, 1.0, 0.0, 110.0, 264.0, 0.0, 0.0, 132.0, 0.0, 1.2, 1.0, 0.0, 2.0, 1.0], [38.0, 1.0, 0.0, 120.0, 231.0, 0.0, 0.0, 182.0, 1.0, 3.8, 1.0, 0.0, 2.0, 1.0], [66.0, 1.0, 1.0, 160.0, 246.0, 0.0, 0.0, 120.0, 1.0, 0.0, 1.0, 3.0, 1.0, 1.0], [62.0, 1.0, 1.0, 120.0, 281.0, 0.0, 2.0, 103.0, 0.0, 1.4, 1.0, 1.0, 2.0, 1.0], [58.0, 1.0, 1.0, 120.0, 284.0, 0.0, 2.0, 160.0, 0.0, 1.8, 1.0, 0.0, 0.0, 1.0], [58.0, 0.0, 1.0, 136.0, 319.0, 1.0, 2.0, 152.0, 0.0, 0.0, 0.0, 2.0, 0.0, 1.0], [57.0, 0.0, 1.0, 130.0, 236.0, 0.0, 2.0, 174.0, 0.0, 0.0, 1.0, 1.0, 0.0, 1.0], [57.0, 1.0, 1.0, 124.0, 261.0, 0.0, 0.0, 141.0, 0.0, 0.3, 0.0, 0.0, 2.0, 1.0], [57.0, 1.0, 1.0, 154.0, 232.0, 0.0, 2.0, 164.0, 0.0, 0.0, 0.0, 1.0, 0.0, 1.0], [54.0, 1.0, 1.0, 192.0, 283.0, 0.0, 2.0, 195.0, 0.0, 0.0, 0.0, 1.0, 2.0, 1.0], [48.0, 1.0, 1.0, 110.0, 229.0, 0.0, 0.0, 168.0, 0.0, 1.0, 2.0, 0.0, 2.0, 1.0], [70.0, 1.0, 2.0, 160.0, 269.0, 0.0, 0.0, 112.0, 1.0, 2.9, 1.0, 1.0, 2.0, 1.0], [69.0, 1.0, 2.0, 140.0, 254.0, 0.0, 2.0, 146.0, 0.0, 2.0, 1.0, 3.0, 2.0, 1.0], [68.0, 1.0, 2.0, 180.0, 274.0, 1.0, 2.0, 150.0, 1.0, 1.6, 1.0, 0.0, 2.0, 1.0], [67.0, 1.0, 2.0, 152.0, 212.0, 0.0, 2.0, 150.0, 0.0, 0.8, 1.0, 0.0, 2.0, 1.0], [64.0, 1.0, 2.0, 125.0, 309.0, 0.0, 0.0, 131.0, 1.0, 1.8, 1.0, 0.0, 2.0, 1.0], [64.0, 1.0, 2.0, 140.0, 335.0, 0.0, 0.0, 158.0, 0.0, 0.0, 0.0, 0.0, 0.0, 1.0], [62.0, 0.0, 2.0, 130.0, 263.0, 0.0, 0.0, 97.0, 0.0, 1.2, 1.0, 1.0, 2.0, 1.0], [60.0, 1.0, 2.0, 140.0, 185.0, 0.0, 2.0, 155.0, 0.0, 3.0, 1.0, 0.0, 0.0, 1.0], [59.0, 1.0, 2.0, 126.0, 218.0, 1.0, 0.0, 134.0, 0.0, 2.2, 1.0, 1.0, 1.0, 1.0], [58.0, 1.0, 2.0, 112.0, 230.0, 0.0, 2.0, 165.0, 0.0, 2.5, 1.0, 1.0, 2.0, 1.0], [58.0, 1.0, 2.0, 132.0, 224.0, 0.0, 2.0, 173.0, 0.0, 3.2, 0.0, 2.0, 2.0, 1.0], [57.0, 1.0, 2.0, 128.0, 229.0, 0.0, 2.0, 150.0, 0.0, 0.4, 1.0, 1.0, 2.0, 1.0], [56.0, 1.0, 2.0, 130.0, 256.0, 1.0, 2.0, 142.0, 1.0, 0.6, 1.0, 1.0, 1.0, 1.0], [50.0, 1.0, 2.0, 140.0, 233.0, 0.0, 0.0, 163.0, 0.0, 0.6, 1.0, 1.0, 2.0, 1.0], [49.0, 1.0, 2.0, 120.0, 188.0, 0.0, 0.0, 139.0, 0.0, 2.0, 1.0, 3.0, 2.0, 1.0], [49.0, 1.0, 2.0, 118.0, 149.0, 0.0, 2.0, 126.0, 0.0, 0.8, 0.0, 3.0, 0.0, 1.0], [47.0, 1.0, 2.0, 108.0, 243.0, 0.0, 0.0, 152.0, 0.0, 0.0, 0.0, 0.0, 0.0, 1.0], [46.0, 1.0, 2.0, 150.0, 231.0, 0.0, 0.0, 147.0, 0.0, 3.6, 1.0, 0.0, 0.0, 1.0], [77.0, 1.0, 3.0, 125.0, 304.0, 0.0, 2.0, 162.0, 1.0, 0.0, 0.0, 3.0, 0.0, 1.0], [70.0, 1.0, 3.0, 145.0, 174.0, 0.0, 0.0, 125.0, 1.0, 2.6, 2.0, 0.0, 2.0, 1.0], [70.0, 1.0, 3.0, 130.0, 322.0, 0.0, 2.0, 109.0, 0.0, 2.4, 1.0, 3.0, 0.0, 1.0], [68.0, 1.0, 3.0, 144.0, 193.0, 1.0, 0.0, 141.0, 0.0, 3.4, 1.0, 2.0, 2.0, 1.0], [67.0, 1.0, 3.0, 160.0, 286.0, 0.0, 2.0, 108.0, 1.0, 1.5, 1.0, 3.0, 0.0, 1.0], [67.0, 1.0, 3.0, 120.0, 229.0, 0.0, 2.0, 129.0, 1.0, 2.6, 1.0, 2.0, 2.0, 1.0], [67.0, 1.0, 3.0, 125.0, 254.0, 1.0, 0.0, 163.0, 0.0, 0.2, 1.0, 2.0, 2.0, 1.0], [67.0, 1.0, 3.0, 100.0, 299.0, 0.0, 2.0, 125.0, 1.0, 0.9, 1.0, 2.0, 0.0, 1.0], [67.0, 1.0, 3.0, 120.0, 237.0, 0.0, 0.0, 71.0, 0.0, 1.0, 1.0, 0.0, 0.0, 1.0], [66.0, 0.0, 3.0, 178.0, 228.0, 1.0, 0.0, 165.0, 1.0, 1.0, 1.0, 2.0, 2.0, 1.0], [66.0, 1.0, 3.0, 112.0, 212.0, 0.0, 2.0, 132.0, 1.0, 0.1, 0.0, 1.0, 0.0, 1.0], [65.0, 0.0, 3.0, 150.0, 225.0, 0.0, 2.0, 114.0, 0.0, 1.0, 1.0, 3.0, 2.0, 1.0], [65.0, 1.0, 3.0, 135.0, 254.0, 0.0, 2.0, 127.0, 0.0, 2.8, 1.0, 1.0, 2.0, 1.0], [65.0, 1.0, 3.0, 110.0, 248.0, 0.0, 2.0, 158.0, 0.0, 0.6, 0.0, 2.0, 1.0, 1.0], [64.0, 1.0, 3.0, 120.0, 246.0, 0.0, 2.0, 96.0, 1.0, 2.2, 2.0, 1.0, 0.0, 1.0], [64.0, 1.0, 3.0, 145.0, 212.0, 0.0, 2.0, 132.0, 0.0, 2.0, 1.0, 2.0, 1.0, 1.0], [63.0, 1.0, 3.0, 130.0, 254.0, 0.0, 2.0, 147.0, 0.0, 1.4, 1.0, 1.0, 2.0, 1.0], [63.0, 0.0, 3.0, 150.0, 407.0, 0.0, 2.0, 154.0, 0.0, 4.0, 1.0, 3.0, 2.0, 1.0], [63.0, 0.0, 3.0, 108.0, 269.0, 0.0, 0.0, 169.0, 1.0, 1.8, 1.0, 2.0, 0.0, 1.0], [63.0, 0.0, 3.0, 124.0, 197.0, 0.0, 0.0, 136.0, 1.0, 0.0, 1.0, 0.0, 0.0, 1.0], [63.0, 1.0, 3.0, 130.0, 330.0, 1.0, 2.0, 132.0, 1.0, 1.8, 0.0, 3.0, 2.0, 1.0], [63.0, 1.0, 3.0, 140.0, 187.0, 0.0, 2.0, 144.0, 1.0, 4.0, 0.0, 2.0, 2.0, 1.0], [62.0, 0.0, 3.0, 140.0, 268.0, 0.0, 2.0, 160.0, 0.0, 3.6, 2.0, 2.0, 0.0, 1.0], [62.0, 0.0, 3.0, 160.0, 164.0, 0.0, 2.0, 145.0, 0.0, 6.2, 2.0, 3.0, 2.0, 1.0], [62.0, 1.0, 3.0, 120.0, 267.0, 0.0, 0.0, 99.0, 1.0, 1.8, 1.0, 2.0, 2.0, 1.0], [62.0, 0.0, 3.0, 138.0, 294.0, 1.0, 0.0, 106.0, 0.0, 1.9, 1.0, 3.0, 0.0, 1.0], [62.0, 0.0, 3.0, 150.0, 244.0, 0.0, 0.0, 154.0, 1.0, 1.4, 1.0, 0.0, 0.0, 1.0], [61.0, 1.0, 3.0, 120.0, 260.0, 0.0, 0.0, 140.0, 1.0, 3.6, 1.0, 1.0, 2.0, 1.0], [61.0, 0.0, 3.0, 145.0, 307.0, 0.0, 2.0, 146.0, 1.0, 1.0, 1.0, 0.0, 2.0, 1.0], [61.0, 1.0, 3.0, 138.0, 166.0, 0.0, 2.0, 125.0, 1.0, 3.6, 1.0, 1.0, 0.0, 1.0], [61.0, 0.0, 3.0, 130.0, 330.0, 0.0, 2.0, 169.0, 0.0, 0.0, 0.0, 0.0, 0.0, 1.0], [61.0, 1.0, 3.0, 140.0, 207.0, 0.0, 2.0, 138.0, 1.0, 1.9, 0.0, 1.0, 2.0, 1.0], [61.0, 1.0, 3.0, 148.0, 203.0, 0.0, 0.0, 161.0, 0.0, 0.0, 0.0, 1.0, 2.0, 1.0], [60.0, 1.0, 3.0, 130.0, 206.0, 0.0, 2.0, 132.0, 1.0, 2.4, 1.0, 2.0, 2.0, 1.0], [60.0, 1.0, 3.0, 145.0, 282.0, 0.0, 2.0, 142.0, 1.0, 2.8, 1.0, 2.0, 2.0, 1.0], [60.0, 1.0, 3.0, 125.0, 258.0, 0.0, 2.0, 141.0, 1.0, 2.8, 1.0, 1.0, 2.0, 1.0], [60.0, 0.0, 3.0, 150.0, 258.0, 0.0, 2.0, 157.0, 0.0, 2.6, 1.0, 2.0, 2.0, 1.0], [60.0, 1.0, 3.0, 140.0, 293.0, 0.0, 2.0, 170.0, 0.0, 1.2, 1.0, 2.0, 2.0, 1.0], [60.0, 1.0, 3.0, 117.0, 230.0, 1.0, 0.0, 160.0, 1.0, 1.4, 0.0, 2.0, 2.0, 1.0], [60.0, 1.0, 3.0, 130.0, 253.0, 0.0, 0.0, 144.0, 1.0, 1.4, 0.0, 1.0, 2.0, 1.0], [60.0, 0.0, 3.0, 158.0, 305.0, 0.0, 2.0, 161.0, 0.0, 0.0, 0.0, 0.0, 0.0, 1.0], [59.0, 1.0, 3.0, 170.0, 326.0, 0.0, 2.0, 140.0, 1.0, 3.4, 2.0, 0.0, 2.0, 1.0], [59.0, 1.0, 3.0, 110.0, 239.0, 0.0, 2.0, 142.0, 1.0, 1.2, 1.0, 1.0, 2.0, 1.0], [59.0, 0.0, 3.0, 174.0, 249.0, 0.0, 0.0, 143.0, 1.0, 0.0, 1.0, 0.0, 0.0, 1.0], [59.0, 1.0, 3.0, 164.0, 176.0, 1.0, 2.0, 90.0, 0.0, 1.0, 1.0, 2.0, 1.0, 1.0], [59.0, 1.0, 3.0, 140.0, 177.0, 0.0, 0.0, 162.0, 1.0, 0.0, 0.0, 1.0, 2.0, 1.0], [58.0, 1.0, 3.0, 114.0, 318.0, 0.0, 1.0, 140.0, 0.0, 4.4, 2.0, 3.0, 1.0, 1.0], [58.0, 1.0, 3.0, 128.0, 216.0, 0.0, 2.0, 131.0, 1.0, 2.2, 1.0, 3.0, 2.0, 1.0], [58.0, 1.0, 3.0, 128.0, 259.0, 0.0, 2.0, 130.0, 1.0, 3.0, 1.0, 2.0, 2.0, 1.0], [58.0, 1.0, 3.0, 146.0, 218.0, 0.0, 0.0, 105.0, 0.0, 2.0, 1.0, 1.0, 2.0, 1.0], [58.0, 0.0, 3.0, 170.0, 225.0, 1.0, 2.0, 146.0, 1.0, 2.8, 1.0, 2.0, 1.0, 1.0], [58.0, 1.0, 3.0, 150.0, 270.0, 0.0, 2.0, 111.0, 1.0, 0.8, 0.0, 0.0, 2.0, 1.0], [58.0, 1.0, 3.0, 125.0, 300.0, 0.0, 2.0, 171.0, 0.0, 0.0, 0.0, 2.0, 2.0, 1.0], [58.0, 1.0, 3.0, 100.0, 234.0, 0.0, 0.0, 156.0, 0.0, 0.1, 0.0, 1.0, 2.0, 1.0], [57.0, 1.0, 3.0, 150.0, 276.0, 0.0, 2.0, 112.0, 1.0, 0.6, 1.0, 1.0, 1.0, 1.0], [57.0, 1.0, 3.0, 165.0, 289.0, 1.0, 2.0, 124.0, 0.0, 1.0, 1.0, 3.0, 2.0, 1.0], [57.0, 1.0, 3.0, 152.0, 274.0, 0.0, 0.0, 88.0, 1.0, 1.2, 1.0, 1.0, 2.0, 1.0], [57.0, 1.0, 3.0, 110.0, 335.0, 0.0, 0.0, 143.0, 1.0, 3.0, 1.0, 1.0, 2.0, 1.0], [57.0, 0.0, 3.0, 140.0, 241.0, 0.0, 0.0, 123.0, 1.0, 0.2, 1.0, 0.0, 2.0, 1.0], [57.0, 1.0, 3.0, 130.0, 131.0, 0.0, 0.0, 115.0, 1.0, 1.2, 1.0, 1.0, 2.0, 1.0], [56.0, 0.0, 3.0, 200.0, 288.0, 1.0, 2.0, 133.0, 1.0, 4.0, 2.0, 2.0, 2.0, 1.0], [56.0, 1.0, 3.0, 130.0, 283.0, 1.0, 2.0, 103.0, 1.0, 1.6, 2.0, 0.0, 2.0, 1.0], [56.0, 1.0, 3.0, 125.0, 249.0, 1.0, 2.0, 144.0, 1.0, 1.2, 1.0, 1.0, 0.0, 1.0], [56.0, 1.0, 3.0, 132.0, 184.0, 0.0, 2.0, 105.0, 1.0, 2.1, 1.0, 1.0, 1.0, 1.0], [56.0, 0.0, 3.0, 134.0, 409.0, 0.0, 2.0, 150.0, 1.0, 1.9, 1.0, 2.0, 2.0, 1.0], [55.0, 1.0, 3.0, 140.0, 217.0, 0.0, 0.0, 111.0, 1.0, 5.6, 2.0, 0.0, 2.0, 1.0], [55.0, 1.0, 3.0, 132.0, 353.0, 0.0, 0.0, 132.0, 1.0, 1.2, 1.0, 1.0, 2.0, 1.0], [55.0, 1.0, 3.0, 160.0, 289.0, 0.0, 2.0, 145.0, 1.0, 0.8, 1.0, 1.0, 2.0, 1.0], [55.0, 0.0, 3.0, 180.0, 327.0, 0.0, 1.0, 117.0, 1.0, 3.4, 1.0, 0.0, 0.0, 1.0], [55.0, 0.0, 3.0, 128.0, 205.0, 0.0, 1.0, 130.0, 1.0, 2.0, 1.0, 1.0, 2.0, 1.0], [54.0, 1.0, 3.0, 124.0, 266.0, 0.0, 2.0, 109.0, 1.0, 2.2, 1.0, 1.0, 2.0, 1.0], [54.0, 1.0, 3.0, 120.0, 188.0, 0.0, 0.0, 113.0, 0.0, 1.4, 1.0, 1.0, 2.0, 1.0], [54.0, 1.0, 3.0, 110.0, 239.0, 0.0, 0.0, 126.0, 1.0, 2.8, 1.0, 1.0, 2.0, 1.0], [54.0, 1.0, 3.0, 110.0, 206.0, 0.0, 2.0, 108.0, 1.0, 0.0, 1.0, 1.0, 0.0, 1.0], [54.0, 1.0, 3.0, 122.0, 286.0, 0.0, 2.0, 116.0, 1.0, 3.2, 1.0, 2.0, 0.0, 1.0], [53.0, 1.0, 3.0, 140.0, 203.0, 1.0, 2.0, 155.0, 1.0, 3.1, 2.0, 0.0, 2.0, 1.0], [53.0, 1.0, 3.0, 123.0, 282.0, 0.0, 0.0, 95.0, 1.0, 2.0, 1.0, 2.0, 2.0, 1.0], [52.0, 1.0, 3.0, 128.0, 255.0, 0.0, 0.0, 161.0, 1.0, 0.0, 0.0, 1.0, 2.0, 1.0], [52.0, 1.0, 3.0, 112.0, 230.0, 0.0, 0.0, 160.0, 0.0, 0.0, 0.0, 1.0, 0.0, 1.0], [52.0, 1.0, 3.0, 125.0, 212.0, 0.0, 0.0, 168.0, 0.0, 1.0, 0.0, 2.0, 2.0, 1.0], [51.0, 0.0, 3.0, 130.0, 305.0, 0.0, 0.0, 142.0, 1.0, 1.2, 1.0, 0.0, 2.0, 1.0], [51.0, 1.0, 3.0, 140.0, 298.0, 0.0, 0.0, 122.0, 1.0, 4.2, 1.0, 3.0, 2.0, 1.0], [51.0, 1.0, 3.0, 140.0, 299.0, 0.0, 0.0, 173.0, 1.0, 1.6, 0.0, 0.0, 2.0, 1.0], [50.0, 1.0, 3.0, 150.0, 243.0, 0.0, 2.0, 128.0, 0.0, 2.6, 1.0, 0.0, 2.0, 1.0], [50.0, 1.0, 3.0, 144.0, 200.0, 0.0, 2.0, 126.0, 1.0, 0.9, 1.0, 0.0, 2.0, 1.0], [48.0, 1.0, 3.0, 124.0, 274.0, 0.0, 2.0, 166.0, 0.0, 0.5, 1.0, 0.0, 2.0, 1.0], [48.0, 1.0, 3.0, 130.0, 256.0, 1.0, 2.0, 150.0, 1.0, 0.0, 0.0, 2.0, 2.0, 1.0], [47.0, 1.0, 3.0, 110.0, 275.0, 0.0, 2.0, 118.0, 1.0, 1.0, 1.0, 1.0, 0.0, 1.0], [46.0, 1.0, 3.0, 140.0, 311.0, 0.0, 0.0, 120.0, 1.0, 1.8, 1.0, 2.0, 2.0, 1.0], [46.0, 1.0, 3.0, 120.0, 249.0, 0.0, 2.0, 144.0, 0.0, 0.8, 0.0, 0.0, 2.0, 1.0], [45.0, 1.0, 3.0, 142.0, 309.0, 0.0, 2.0, 147.0, 1.0, 0.0, 1.0, 3.0, 2.0, 1.0], [44.0, 1.0, 3.0, 120.0, 169.0, 0.0, 0.0, 144.0, 1.0, 2.8, 2.0, 0.0, 1.0, 1.0], [44.0, 1.0, 3.0, 112.0, 290.0, 0.0, 2.0, 153.0, 0.0, 0.0, 0.0, 1.0, 0.0, 1.0], [44.0, 1.0, 3.0, 110.0, 197.0, 0.0, 2.0, 177.0, 0.0, 0.0, 0.0, 1.0, 0.0, 1.0], [43.0, 1.0, 3.0, 120.0, 177.0, 0.0, 2.0, 120.0, 1.0, 2.5, 1.0, 0.0, 2.0, 1.0], [43.0, 0.0, 3.0, 132.0, 341.0, 1.0, 2.0, 136.0, 1.0, 3.0, 1.0, 0.0, 2.0, 1.0], [42.0, 1.0, 3.0, 136.0, 315.0, 0.0, 0.0, 125.0, 1.0, 1.8, 1.0, 0.0, 1.0, 1.0], [41.0, 1.0, 3.0, 110.0, 172.0, 0.0, 2.0, 158.0, 0.0, 0.0, 0.0, 0.0, 2.0, 1.0], [40.0, 1.0, 3.0, 110.0, 167.0, 0.0, 2.0, 114.0, 1.0, 2.0, 1.0, 0.0, 2.0, 1.0], [40.0, 1.0, 3.0, 152.0, 223.0, 0.0, 0.0, 181.0, 0.0, 0.0, 0.0, 0.0, 2.0, 1.0], [39.0, 1.0, 3.0, 118.0, 219.0, 0.0, 0.0, 140.0, 0.0, 1.2, 1.0, 0.0, 2.0, 1.0], [35.0, 1.0, 3.0, 120.0, 198.0, 0.0, 0.0, 130.0, 1.0, 1.6, 1.0, 0.0, 2.0, 1.0], [35.0, 1.0, 3.0, 126.0, 282.0, 0.0, 2.0, 156.0, 1.0, 0.0, 0.0, 0.0, 2.0, 1.0]], \"hovertemplate\": \"condition=%{customdata[13]}<br>thalach=%{customdata[7]}<br>age=%{customdata[0]}<br>sex=%{customdata[1]}<br>cp=%{customdata[2]}<br>trestbps=%{customdata[3]}<br>chol=%{customdata[4]}<br>fbs=%{customdata[5]}<br>restecg=%{customdata[6]}<br>exang=%{customdata[8]}<br>oldpeak=%{customdata[9]}<br>slope=%{customdata[10]}<br>ca=%{customdata[11]}<br>thal=%{customdata[12]}<extra></extra>\", \"legendgroup\": \"1\", \"marker\": {\"color\": \"#EF553B\"}, \"name\": \"1\", \"offsetgroup\": \"1\", \"scalegroup\": \"x\", \"showlegend\": false, \"type\": \"violin\", \"x\": [174, 145, 159, 125, 162, 132, 182, 120, 103, 160, 152, 174, 141, 164, 195, 168, 112, 146, 150, 150, 131, 158, 97, 155, 134, 165, 173, 150, 142, 163, 139, 126, 152, 147, 162, 125, 109, 141, 108, 129, 163, 125, 71, 165, 132, 114, 127, 158, 96, 132, 147, 154, 169, 136, 132, 144, 160, 145, 99, 106, 154, 140, 146, 125, 169, 138, 161, 132, 142, 141, 157, 170, 160, 144, 161, 140, 142, 143, 90, 162, 140, 131, 130, 105, 146, 111, 171, 156, 112, 124, 88, 143, 123, 115, 133, 103, 144, 105, 150, 111, 132, 145, 117, 130, 109, 113, 126, 108, 116, 155, 95, 161, 160, 168, 142, 122, 173, 128, 126, 166, 150, 118, 120, 144, 147, 144, 153, 177, 120, 136, 125, 158, 114, 181, 140, 130, 156], \"xaxis\": \"x2\", \"yaxis\": \"y2\"}],                        {\"barmode\": \"relative\", \"legend\": {\"title\": {\"text\": \"condition\"}, \"tracegroupgap\": 0}, \"margin\": {\"t\": 60}, \"template\": {\"data\": {\"bar\": [{\"error_x\": {\"color\": \"#2a3f5f\"}, \"error_y\": {\"color\": \"#2a3f5f\"}, \"marker\": {\"line\": {\"color\": \"#E5ECF6\", \"width\": 0.5}}, \"type\": \"bar\"}], \"barpolar\": [{\"marker\": {\"line\": {\"color\": \"#E5ECF6\", \"width\": 0.5}}, \"type\": \"barpolar\"}], \"carpet\": [{\"aaxis\": {\"endlinecolor\": \"#2a3f5f\", \"gridcolor\": \"white\", \"linecolor\": \"white\", \"minorgridcolor\": \"white\", \"startlinecolor\": \"#2a3f5f\"}, \"baxis\": {\"endlinecolor\": \"#2a3f5f\", \"gridcolor\": \"white\", \"linecolor\": \"white\", \"minorgridcolor\": \"white\", \"startlinecolor\": \"#2a3f5f\"}, \"type\": \"carpet\"}], \"choropleth\": [{\"colorbar\": {\"outlinewidth\": 0, \"ticks\": \"\"}, \"type\": \"choropleth\"}], \"contour\": [{\"colorbar\": {\"outlinewidth\": 0, \"ticks\": \"\"}, \"colorscale\": [[0.0, \"#0d0887\"], [0.1111111111111111, \"#46039f\"], [0.2222222222222222, \"#7201a8\"], [0.3333333333333333, \"#9c179e\"], [0.4444444444444444, \"#bd3786\"], [0.5555555555555556, \"#d8576b\"], [0.6666666666666666, \"#ed7953\"], [0.7777777777777778, \"#fb9f3a\"], [0.8888888888888888, \"#fdca26\"], [1.0, \"#f0f921\"]], \"type\": \"contour\"}], \"contourcarpet\": [{\"colorbar\": {\"outlinewidth\": 0, \"ticks\": \"\"}, \"type\": \"contourcarpet\"}], \"heatmap\": [{\"colorbar\": {\"outlinewidth\": 0, \"ticks\": \"\"}, \"colorscale\": [[0.0, \"#0d0887\"], [0.1111111111111111, \"#46039f\"], [0.2222222222222222, \"#7201a8\"], [0.3333333333333333, \"#9c179e\"], [0.4444444444444444, \"#bd3786\"], [0.5555555555555556, \"#d8576b\"], [0.6666666666666666, \"#ed7953\"], [0.7777777777777778, \"#fb9f3a\"], [0.8888888888888888, \"#fdca26\"], [1.0, \"#f0f921\"]], \"type\": \"heatmap\"}], \"heatmapgl\": [{\"colorbar\": {\"outlinewidth\": 0, \"ticks\": \"\"}, \"colorscale\": [[0.0, \"#0d0887\"], [0.1111111111111111, \"#46039f\"], [0.2222222222222222, \"#7201a8\"], [0.3333333333333333, \"#9c179e\"], [0.4444444444444444, \"#bd3786\"], [0.5555555555555556, \"#d8576b\"], [0.6666666666666666, \"#ed7953\"], [0.7777777777777778, \"#fb9f3a\"], [0.8888888888888888, \"#fdca26\"], [1.0, \"#f0f921\"]], \"type\": \"heatmapgl\"}], \"histogram\": [{\"marker\": {\"colorbar\": {\"outlinewidth\": 0, \"ticks\": \"\"}}, \"type\": \"histogram\"}], \"histogram2d\": [{\"colorbar\": {\"outlinewidth\": 0, \"ticks\": \"\"}, \"colorscale\": [[0.0, \"#0d0887\"], [0.1111111111111111, \"#46039f\"], [0.2222222222222222, \"#7201a8\"], [0.3333333333333333, \"#9c179e\"], [0.4444444444444444, \"#bd3786\"], [0.5555555555555556, \"#d8576b\"], [0.6666666666666666, \"#ed7953\"], [0.7777777777777778, \"#fb9f3a\"], [0.8888888888888888, \"#fdca26\"], [1.0, \"#f0f921\"]], \"type\": \"histogram2d\"}], \"histogram2dcontour\": [{\"colorbar\": {\"outlinewidth\": 0, \"ticks\": \"\"}, \"colorscale\": [[0.0, \"#0d0887\"], [0.1111111111111111, \"#46039f\"], [0.2222222222222222, \"#7201a8\"], [0.3333333333333333, \"#9c179e\"], [0.4444444444444444, \"#bd3786\"], [0.5555555555555556, \"#d8576b\"], [0.6666666666666666, \"#ed7953\"], [0.7777777777777778, \"#fb9f3a\"], [0.8888888888888888, \"#fdca26\"], [1.0, \"#f0f921\"]], \"type\": \"histogram2dcontour\"}], \"mesh3d\": [{\"colorbar\": {\"outlinewidth\": 0, \"ticks\": \"\"}, \"type\": \"mesh3d\"}], \"parcoords\": [{\"line\": {\"colorbar\": {\"outlinewidth\": 0, \"ticks\": \"\"}}, \"type\": \"parcoords\"}], \"pie\": [{\"automargin\": true, \"type\": \"pie\"}], \"scatter\": [{\"marker\": {\"colorbar\": {\"outlinewidth\": 0, \"ticks\": \"\"}}, \"type\": \"scatter\"}], \"scatter3d\": [{\"line\": {\"colorbar\": {\"outlinewidth\": 0, \"ticks\": \"\"}}, \"marker\": {\"colorbar\": {\"outlinewidth\": 0, \"ticks\": \"\"}}, \"type\": \"scatter3d\"}], \"scattercarpet\": [{\"marker\": {\"colorbar\": {\"outlinewidth\": 0, \"ticks\": \"\"}}, \"type\": \"scattercarpet\"}], \"scattergeo\": [{\"marker\": {\"colorbar\": {\"outlinewidth\": 0, \"ticks\": \"\"}}, \"type\": \"scattergeo\"}], \"scattergl\": [{\"marker\": {\"colorbar\": {\"outlinewidth\": 0, \"ticks\": \"\"}}, \"type\": \"scattergl\"}], \"scattermapbox\": [{\"marker\": {\"colorbar\": {\"outlinewidth\": 0, \"ticks\": \"\"}}, \"type\": \"scattermapbox\"}], \"scatterpolar\": [{\"marker\": {\"colorbar\": {\"outlinewidth\": 0, \"ticks\": \"\"}}, \"type\": \"scatterpolar\"}], \"scatterpolargl\": [{\"marker\": {\"colorbar\": {\"outlinewidth\": 0, \"ticks\": \"\"}}, \"type\": \"scatterpolargl\"}], \"scatterternary\": [{\"marker\": {\"colorbar\": {\"outlinewidth\": 0, \"ticks\": \"\"}}, \"type\": \"scatterternary\"}], \"surface\": [{\"colorbar\": {\"outlinewidth\": 0, \"ticks\": \"\"}, \"colorscale\": [[0.0, \"#0d0887\"], [0.1111111111111111, \"#46039f\"], [0.2222222222222222, \"#7201a8\"], [0.3333333333333333, \"#9c179e\"], [0.4444444444444444, \"#bd3786\"], [0.5555555555555556, \"#d8576b\"], [0.6666666666666666, \"#ed7953\"], [0.7777777777777778, \"#fb9f3a\"], [0.8888888888888888, \"#fdca26\"], [1.0, \"#f0f921\"]], \"type\": \"surface\"}], \"table\": [{\"cells\": {\"fill\": {\"color\": \"#EBF0F8\"}, \"line\": {\"color\": \"white\"}}, \"header\": {\"fill\": {\"color\": \"#C8D4E3\"}, \"line\": {\"color\": \"white\"}}, \"type\": \"table\"}]}, \"layout\": {\"annotationdefaults\": {\"arrowcolor\": \"#2a3f5f\", \"arrowhead\": 0, \"arrowwidth\": 1}, \"coloraxis\": {\"colorbar\": {\"outlinewidth\": 0, \"ticks\": \"\"}}, \"colorscale\": {\"diverging\": [[0, \"#8e0152\"], [0.1, \"#c51b7d\"], [0.2, \"#de77ae\"], [0.3, \"#f1b6da\"], [0.4, \"#fde0ef\"], [0.5, \"#f7f7f7\"], [0.6, \"#e6f5d0\"], [0.7, \"#b8e186\"], [0.8, \"#7fbc41\"], [0.9, \"#4d9221\"], [1, \"#276419\"]], \"sequential\": [[0.0, \"#0d0887\"], [0.1111111111111111, \"#46039f\"], [0.2222222222222222, \"#7201a8\"], [0.3333333333333333, \"#9c179e\"], [0.4444444444444444, \"#bd3786\"], [0.5555555555555556, \"#d8576b\"], [0.6666666666666666, \"#ed7953\"], [0.7777777777777778, \"#fb9f3a\"], [0.8888888888888888, \"#fdca26\"], [1.0, \"#f0f921\"]], \"sequentialminus\": [[0.0, \"#0d0887\"], [0.1111111111111111, \"#46039f\"], [0.2222222222222222, \"#7201a8\"], [0.3333333333333333, \"#9c179e\"], [0.4444444444444444, \"#bd3786\"], [0.5555555555555556, \"#d8576b\"], [0.6666666666666666, \"#ed7953\"], [0.7777777777777778, \"#fb9f3a\"], [0.8888888888888888, \"#fdca26\"], [1.0, \"#f0f921\"]]}, \"colorway\": [\"#636efa\", \"#EF553B\", \"#00cc96\", \"#ab63fa\", \"#FFA15A\", \"#19d3f3\", \"#FF6692\", \"#B6E880\", \"#FF97FF\", \"#FECB52\"], \"font\": {\"color\": \"#2a3f5f\"}, \"geo\": {\"bgcolor\": \"white\", \"lakecolor\": \"white\", \"landcolor\": \"#E5ECF6\", \"showlakes\": true, \"showland\": true, \"subunitcolor\": \"white\"}, \"hoverlabel\": {\"align\": \"left\"}, \"hovermode\": \"closest\", \"mapbox\": {\"style\": \"light\"}, \"paper_bgcolor\": \"white\", \"plot_bgcolor\": \"#E5ECF6\", \"polar\": {\"angularaxis\": {\"gridcolor\": \"white\", \"linecolor\": \"white\", \"ticks\": \"\"}, \"bgcolor\": \"#E5ECF6\", \"radialaxis\": {\"gridcolor\": \"white\", \"linecolor\": \"white\", \"ticks\": \"\"}}, \"scene\": {\"xaxis\": {\"backgroundcolor\": \"#E5ECF6\", \"gridcolor\": \"white\", \"gridwidth\": 2, \"linecolor\": \"white\", \"showbackground\": true, \"ticks\": \"\", \"zerolinecolor\": \"white\"}, \"yaxis\": {\"backgroundcolor\": \"#E5ECF6\", \"gridcolor\": \"white\", \"gridwidth\": 2, \"linecolor\": \"white\", \"showbackground\": true, \"ticks\": \"\", \"zerolinecolor\": \"white\"}, \"zaxis\": {\"backgroundcolor\": \"#E5ECF6\", \"gridcolor\": \"white\", \"gridwidth\": 2, \"linecolor\": \"white\", \"showbackground\": true, \"ticks\": \"\", \"zerolinecolor\": \"white\"}}, \"shapedefaults\": {\"line\": {\"color\": \"#2a3f5f\"}}, \"ternary\": {\"aaxis\": {\"gridcolor\": \"white\", \"linecolor\": \"white\", \"ticks\": \"\"}, \"baxis\": {\"gridcolor\": \"white\", \"linecolor\": \"white\", \"ticks\": \"\"}, \"bgcolor\": \"#E5ECF6\", \"caxis\": {\"gridcolor\": \"white\", \"linecolor\": \"white\", \"ticks\": \"\"}}, \"title\": {\"x\": 0.05}, \"xaxis\": {\"automargin\": true, \"gridcolor\": \"white\", \"linecolor\": \"white\", \"ticks\": \"\", \"title\": {\"standoff\": 15}, \"zerolinecolor\": \"white\", \"zerolinewidth\": 2}, \"yaxis\": {\"automargin\": true, \"gridcolor\": \"white\", \"linecolor\": \"white\", \"ticks\": \"\", \"title\": {\"standoff\": 15}, \"zerolinecolor\": \"white\", \"zerolinewidth\": 2}}}, \"title\": {\"text\": \"Histogram of \\\"thalach\\\" by condition\"}, \"xaxis\": {\"anchor\": \"y\", \"domain\": [0.0, 1.0], \"title\": {\"text\": \"thalach\"}}, \"xaxis2\": {\"anchor\": \"y2\", \"domain\": [0.0, 1.0], \"matches\": \"x\", \"showgrid\": true, \"showticklabels\": false}, \"yaxis\": {\"anchor\": \"x\", \"domain\": [0.0, 0.7326], \"title\": {\"text\": \"count\"}}, \"yaxis2\": {\"anchor\": \"x2\", \"domain\": [0.7426, 1.0], \"matches\": \"y2\", \"showgrid\": false, \"showline\": false, \"showticklabels\": false, \"ticks\": \"\"}},                        {\"responsive\": true}                    ).then(function(){\n",
       "                            \n",
       "var gd = document.getElementById('1358c052-7292-4552-9a74-0196d6c53eab');\n",
       "var x = new MutationObserver(function (mutations, observer) {{\n",
       "        var display = window.getComputedStyle(gd).display;\n",
       "        if (!display || display === 'none') {{\n",
       "            console.log([gd, 'removed!']);\n",
       "            Plotly.purge(gd);\n",
       "            observer.disconnect();\n",
       "        }}\n",
       "}});\n",
       "\n",
       "// Listen for the removal of the full notebook cells\n",
       "var notebookContainer = gd.closest('#notebook-container');\n",
       "if (notebookContainer) {{\n",
       "    x.observe(notebookContainer, {childList: true});\n",
       "}}\n",
       "\n",
       "// Listen for the clearing of the current output cell\n",
       "var outputEl = gd.closest('.output');\n",
       "if (outputEl) {{\n",
       "    x.observe(outputEl, {childList: true});\n",
       "}}\n",
       "\n",
       "                        })                };                });            </script>        </div>"
      ]
     },
     "metadata": {},
     "output_type": "display_data"
    }
   ],
   "source": [
    "# histogram\n",
    "fig = px.histogram(df,\n",
    "               x = 'thalach',\n",
    "               color = 'condition',\n",
    "               marginal = 'violin',\n",
    "               hover_data = df.columns)\n",
    "fig.update_layout(\n",
    "    title_text = 'Histogram of \"thalach\" by condition')\n",
    "fig.show()"
   ]
  },
  {
   "cell_type": "code",
   "execution_count": 77,
   "metadata": {},
   "outputs": [
    {
     "data": {
      "application/vnd.plotly.v1+json": {
       "config": {
        "plotlyServerURL": "https://plot.ly"
       },
       "data": [
        {
         "autobinx": false,
         "histnorm": "probability density",
         "legendgroup": "heart disease",
         "marker": {
          "color": "rgb(31, 119, 180)"
         },
         "name": "heart disease",
         "opacity": 0.7,
         "type": "histogram",
         "x": [
          174,
          145,
          159,
          125,
          162,
          132,
          182,
          120,
          103,
          160,
          152,
          174,
          141,
          164,
          195,
          168,
          112,
          146,
          150,
          150,
          131,
          158,
          97,
          155,
          134,
          165,
          173,
          150,
          142,
          163,
          139,
          126,
          152,
          147,
          162,
          125,
          109,
          141,
          108,
          129,
          163,
          125,
          71,
          165,
          132,
          114,
          127,
          158,
          96,
          132,
          147,
          154,
          169,
          136,
          132,
          144,
          160,
          145,
          99,
          106,
          154,
          140,
          146,
          125,
          169,
          138,
          161,
          132,
          142,
          141,
          157,
          170,
          160,
          144,
          161,
          140,
          142,
          143,
          90,
          162,
          140,
          131,
          130,
          105,
          146,
          111,
          171,
          156,
          112,
          124,
          88,
          143,
          123,
          115,
          133,
          103,
          144,
          105,
          150,
          111,
          132,
          145,
          117,
          130,
          109,
          113,
          126,
          108,
          116,
          155,
          95,
          161,
          160,
          168,
          142,
          122,
          173,
          128,
          126,
          166,
          150,
          118,
          120,
          144,
          147,
          144,
          153,
          177,
          120,
          136,
          125,
          158,
          114,
          181,
          140,
          130,
          156
         ],
         "xaxis": "x",
         "xbins": {
          "end": 195,
          "size": 0.5,
          "start": 71
         },
         "yaxis": "y"
        },
        {
         "autobinx": false,
         "histnorm": "probability density",
         "legendgroup": "no heart disease",
         "marker": {
          "color": "rgb(255, 127, 14)"
         },
         "name": "no heart disease",
         "opacity": 0.7,
         "type": "histogram",
         "x": [
          131,
          151,
          114,
          144,
          155,
          150,
          171,
          145,
          162,
          162,
          190,
          178,
          125,
          178,
          178,
          174,
          121,
          162,
          143,
          179,
          140,
          164,
          169,
          153,
          178,
          163,
          161,
          155,
          166,
          156,
          159,
          172,
          158,
          184,
          162,
          162,
          171,
          180,
          156,
          172,
          175,
          138,
          170,
          173,
          188,
          170,
          162,
          132,
          172,
          168,
          153,
          163,
          182,
          174,
          192,
          202,
          116,
          130,
          115,
          151,
          160,
          172,
          152,
          157,
          148,
          151,
          133,
          172,
          146,
          137,
          160,
          96,
          157,
          154,
          172,
          165,
          174,
          173,
          152,
          147,
          158,
          170,
          165,
          167,
          163,
          152,
          173,
          169,
          162,
          143,
          166,
          123,
          142,
          149,
          154,
          157,
          158,
          163,
          139,
          175,
          156,
          179,
          160,
          175,
          149,
          179,
          180,
          169,
          165,
          162,
          194,
          173,
          150,
          168,
          179,
          172,
          152,
          182,
          179,
          187,
          170,
          125,
          142,
          151,
          138,
          140,
          122,
          105,
          154,
          157,
          163,
          161,
          182,
          122,
          131,
          148,
          126,
          163,
          159,
          168,
          160,
          143,
          160,
          111,
          147,
          186,
          159,
          163,
          186,
          143,
          152,
          148,
          152,
          185,
          181,
          171,
          161,
          122,
          178,
          182
         ],
         "xaxis": "x",
         "xbins": {
          "end": 202,
          "size": 0.5,
          "start": 96
         },
         "yaxis": "y"
        },
        {
         "legendgroup": "heart disease",
         "marker": {
          "color": "rgb(31, 119, 180)"
         },
         "mode": "lines",
         "name": "heart disease",
         "showlegend": false,
         "type": "scatter",
         "x": [
          71,
          71.248,
          71.496,
          71.744,
          71.992,
          72.24,
          72.488,
          72.736,
          72.984,
          73.232,
          73.48,
          73.728,
          73.976,
          74.224,
          74.472,
          74.72,
          74.968,
          75.216,
          75.464,
          75.712,
          75.96,
          76.208,
          76.456,
          76.704,
          76.952,
          77.2,
          77.44800000000001,
          77.696,
          77.944,
          78.19200000000001,
          78.44,
          78.688,
          78.936,
          79.184,
          79.432,
          79.68,
          79.928,
          80.176,
          80.424,
          80.672,
          80.92,
          81.168,
          81.416,
          81.664,
          81.912,
          82.16,
          82.408,
          82.656,
          82.904,
          83.152,
          83.4,
          83.648,
          83.896,
          84.144,
          84.392,
          84.64,
          84.888,
          85.136,
          85.384,
          85.632,
          85.88,
          86.128,
          86.376,
          86.624,
          86.872,
          87.12,
          87.368,
          87.616,
          87.864,
          88.112,
          88.36,
          88.608,
          88.856,
          89.104,
          89.352,
          89.6,
          89.848,
          90.096,
          90.344,
          90.592,
          90.84,
          91.088,
          91.336,
          91.584,
          91.832,
          92.08,
          92.328,
          92.576,
          92.824,
          93.072,
          93.32,
          93.568,
          93.816,
          94.064,
          94.312,
          94.56,
          94.80799999999999,
          95.056,
          95.304,
          95.55199999999999,
          95.8,
          96.048,
          96.29599999999999,
          96.544,
          96.792,
          97.03999999999999,
          97.288,
          97.536,
          97.78399999999999,
          98.032,
          98.28,
          98.52799999999999,
          98.776,
          99.024,
          99.27199999999999,
          99.52,
          99.768,
          100.01599999999999,
          100.264,
          100.512,
          100.76,
          101.008,
          101.256,
          101.504,
          101.752,
          102,
          102.248,
          102.496,
          102.744,
          102.992,
          103.24000000000001,
          103.488,
          103.73599999999999,
          103.98400000000001,
          104.232,
          104.47999999999999,
          104.72800000000001,
          104.976,
          105.22399999999999,
          105.47200000000001,
          105.72,
          105.968,
          106.21600000000001,
          106.464,
          106.712,
          106.96000000000001,
          107.208,
          107.456,
          107.70400000000001,
          107.952,
          108.2,
          108.44800000000001,
          108.696,
          108.944,
          109.19200000000001,
          109.44,
          109.688,
          109.936,
          110.184,
          110.432,
          110.68,
          110.928,
          111.176,
          111.424,
          111.672,
          111.92,
          112.168,
          112.416,
          112.664,
          112.912,
          113.16,
          113.408,
          113.656,
          113.904,
          114.152,
          114.4,
          114.648,
          114.896,
          115.144,
          115.392,
          115.64,
          115.888,
          116.136,
          116.384,
          116.632,
          116.88,
          117.128,
          117.376,
          117.624,
          117.872,
          118.12,
          118.368,
          118.616,
          118.864,
          119.112,
          119.36,
          119.608,
          119.856,
          120.104,
          120.352,
          120.6,
          120.848,
          121.096,
          121.344,
          121.592,
          121.84,
          122.088,
          122.336,
          122.584,
          122.832,
          123.08,
          123.328,
          123.576,
          123.824,
          124.072,
          124.32,
          124.568,
          124.816,
          125.064,
          125.312,
          125.56,
          125.80799999999999,
          126.056,
          126.304,
          126.55199999999999,
          126.8,
          127.048,
          127.29599999999999,
          127.544,
          127.792,
          128.04,
          128.288,
          128.536,
          128.784,
          129.03199999999998,
          129.28,
          129.528,
          129.776,
          130.024,
          130.272,
          130.52,
          130.768,
          131.016,
          131.264,
          131.512,
          131.76,
          132.008,
          132.256,
          132.504,
          132.752,
          133,
          133.248,
          133.496,
          133.744,
          133.992,
          134.24,
          134.488,
          134.736,
          134.984,
          135.232,
          135.48000000000002,
          135.728,
          135.976,
          136.224,
          136.47199999999998,
          136.72,
          136.96800000000002,
          137.216,
          137.464,
          137.712,
          137.95999999999998,
          138.208,
          138.45600000000002,
          138.704,
          138.952,
          139.2,
          139.44799999999998,
          139.696,
          139.94400000000002,
          140.192,
          140.44,
          140.688,
          140.936,
          141.184,
          141.43200000000002,
          141.68,
          141.928,
          142.176,
          142.424,
          142.672,
          142.92000000000002,
          143.168,
          143.416,
          143.664,
          143.912,
          144.16,
          144.40800000000002,
          144.656,
          144.904,
          145.152,
          145.4,
          145.648,
          145.89600000000002,
          146.144,
          146.392,
          146.64,
          146.888,
          147.136,
          147.38400000000001,
          147.632,
          147.88,
          148.128,
          148.376,
          148.624,
          148.872,
          149.12,
          149.368,
          149.61599999999999,
          149.864,
          150.112,
          150.36,
          150.608,
          150.856,
          151.10399999999998,
          151.352,
          151.6,
          151.848,
          152.096,
          152.344,
          152.59199999999998,
          152.84,
          153.088,
          153.336,
          153.584,
          153.832,
          154.07999999999998,
          154.328,
          154.576,
          154.824,
          155.072,
          155.32,
          155.56799999999998,
          155.816,
          156.064,
          156.312,
          156.56,
          156.808,
          157.05599999999998,
          157.304,
          157.55200000000002,
          157.8,
          158.048,
          158.296,
          158.54399999999998,
          158.792,
          159.04000000000002,
          159.288,
          159.536,
          159.784,
          160.03199999999998,
          160.28,
          160.52800000000002,
          160.776,
          161.024,
          161.272,
          161.51999999999998,
          161.768,
          162.01600000000002,
          162.264,
          162.512,
          162.76,
          163.00799999999998,
          163.256,
          163.50400000000002,
          163.752,
          164,
          164.248,
          164.49599999999998,
          164.744,
          164.99200000000002,
          165.24,
          165.488,
          165.736,
          165.98399999999998,
          166.232,
          166.48000000000002,
          166.728,
          166.976,
          167.224,
          167.47199999999998,
          167.72,
          167.96800000000002,
          168.216,
          168.464,
          168.712,
          168.95999999999998,
          169.208,
          169.45600000000002,
          169.704,
          169.952,
          170.2,
          170.44799999999998,
          170.696,
          170.94400000000002,
          171.192,
          171.44,
          171.688,
          171.936,
          172.184,
          172.43200000000002,
          172.68,
          172.928,
          173.176,
          173.424,
          173.672,
          173.92000000000002,
          174.168,
          174.416,
          174.664,
          174.912,
          175.16,
          175.40800000000002,
          175.656,
          175.904,
          176.152,
          176.4,
          176.648,
          176.89600000000002,
          177.144,
          177.392,
          177.64,
          177.888,
          178.136,
          178.38400000000001,
          178.632,
          178.88,
          179.128,
          179.376,
          179.624,
          179.872,
          180.12,
          180.368,
          180.61599999999999,
          180.864,
          181.112,
          181.36,
          181.608,
          181.856,
          182.10399999999998,
          182.352,
          182.6,
          182.848,
          183.096,
          183.344,
          183.59199999999998,
          183.84,
          184.088,
          184.336,
          184.584,
          184.832,
          185.07999999999998,
          185.328,
          185.576,
          185.824,
          186.072,
          186.32,
          186.56799999999998,
          186.816,
          187.064,
          187.312,
          187.56,
          187.808,
          188.05599999999998,
          188.304,
          188.55200000000002,
          188.8,
          189.048,
          189.296,
          189.54399999999998,
          189.792,
          190.04000000000002,
          190.288,
          190.536,
          190.784,
          191.03199999999998,
          191.28,
          191.52800000000002,
          191.776,
          192.024,
          192.272,
          192.51999999999998,
          192.768,
          193.01600000000002,
          193.264,
          193.512,
          193.76,
          194.00799999999998,
          194.256,
          194.50400000000002,
          194.752
         ],
         "xaxis": "x",
         "y": [
          0.0004336350921207941,
          0.0004396332208243449,
          0.0004456810068886824,
          0.0004517931144515854,
          0.00045798512524099043,
          0.0004642735099112146,
          0.00047067559503392213,
          0.00047720952585770637,
          0.00048389422497681394,
          0.0004907493470755942,
          0.0004977952299404912,
          0.0005050528419557247,
          0.0005125437263219138,
          0.000520289942258722,
          0.000528314003472937,
          0.0005366388141920371,
          0.000545287603080203,
          0.0005542838553687003,
          0.0005636512435454421,
          0.0005734135569593651,
          0.0005835946307037571,
          0.0005942182741489563,
          0.0006053081994986878,
          0.0006168879507458314,
          0.0006289808334024667,
          0.0006416098453756755,
          0.000654797609354862,
          0.0006685663070681806,
          0.0006829376157551866,
          0.0006979326471901162,
          0.0007135718895752403,
          0.0007298751526067387,
          0.0007468615159964798,
          0.00076454928171229,
          0.0007829559301766166,
          0.0008020980806392914,
          0.0008219914559145469,
          0.0008426508516454704,
          0.0008640901102310954,
          0.0008863220995224979,
          0.0009093586963645858,
          0.0009332107750300862,
          0.0009578882005617833,
          0.000983399827008354,
          0.0010097535005085072,
          0.0010369560671477651,
          0.0010650133854822666,
          0.0010939303435945364,
          0.0011237108805176809,
          0.0011543580118368304,
          0.0011858738592501555,
          0.001218259683846754,
          0.0012515159228348302,
          0.001285642229431707,
          0.001320637515606742,
          0.001356499997349827,
          0.001393227242121665,
          0.001430816218127681,
          0.0014692633450452284,
          0.0015085645458238598,
          0.0015487152991709335,
          0.0015897106923296019,
          0.0016315454737536302,
          0.001674214105283211,
          0.0017177108134283263,
          0.0017620296393708722,
          0.001807164487304252,
          0.0018531091707388457,
          0.0018998574564139496,
          0.0019474031054716283,
          0.001995739911564759,
          0.0020448617355909287,
          0.0020947625367653375,
          0.0021454363997694685,
          0.002196877557737823,
          0.002249080410872603,
          0.0023020395405053563,
          0.0023557497184554807,
          0.0024102059115677396,
          0.002465403281344583,
          0.0025213371786236083,
          0.002578003133286308,
          0.0026353968390203956,
          0.0026935141331950363,
          0.002752350971945463,
          0.0028119034006006726,
          0.0028721675196252236,
          0.0029331394462828956,
          0.0029948152722661598,
          0.003057191017570899,
          0.0031202625809301577,
          0.0031840256871535303,
          0.0032484758317504955,
          0.003313608223245472,
          0.0033794177236200996,
          0.0034458987873433565,
          0.0035130453994733054,
          0.003580851013334035,
          0.0036493084882885892,
          0.0037184100281428814,
          0.0037881471207260636,
          0.003858510479200121,
          0.003929489985655047,
          0.004001074637545692,
          0.004073252497522275,
          0.00414601064719839,
          0.00421933514538836,
          0.0042932109913292335,
          0.004367622093382673,
          0.0044425512436873215,
          0.00451798009920375,
          0.0045938891695617,
          0.004670257812082809,
          0.004747064234312011,
          0.004824285504347122,
          0.004901897569208963,
          0.004979875281444302,
          0.005058192434100811,
          0.005136821804157487,
          0.005215735204436139,
          0.0052949035439598035,
          0.005374296896662302,
          0.005453884578291076,
          0.0055336352312817215,
          0.005613516917319573,
          0.0056934972172401265,
          0.00577354333785747,
          0.0058536222252484164,
          0.005933700683960075,
          0.0060137455015507706,
          0.00609372357781914,
          0.006173602058023902,
          0.006253348469348527,
          0.006332930859820214,
          0.006412317938852779,
          0.006491479218547764,
          0.006570385154858181,
          0.006649007287695285,
          0.006727318379040433,
          0.006805292548112262,
          0.006882905402634111,
          0.006960134165248199,
          0.007036957794131265,
          0.007113357096882187,
          0.007189314836774617,
          0.0072648158304974425,
          0.0073398470365430525,
          0.007414397633447233,
          0.007488459087135342,
          0.007562025206687159,
          0.007635092187896585,
          0.007707658644072331,
          0.007779725623601623,
          0.007851296613879781,
          0.007922377531294218,
          0.007992976697041408,
          0.0080631047986491,
          0.008132774837172417,
          0.008202002060131558,
          0.008270803880359672,
          0.008339199781030579,
          0.008407211207238143,
          0.008474861444599965,
          0.008542175485457977,
          0.008609179883345777,
          0.008675902596487551,
          0.008742372821183663,
          0.008808620816024779,
          0.008874677717956952,
          0.008940575351295128,
          0.00900634603085075,
          0.009072022360399789,
          0.009137637027770231,
          0.009203222597872368,
          0.009268811305029927,
          0.009334434845995847,
          0.009400124175051842,
          0.009465909302596155,
          0.009531819098618452,
          0.009597881102445381,
          0.009664121340113047,
          0.00973056415068546,
          0.009797232022790108,
          0.009864145442583072,
          0.009931322754287252,
          0.00999878003436891,
          0.010066530980329695,
          0.010134586814994056,
          0.010202956207067189,
          0.010271645208625876,
          0.010340657210084241,
          0.010409992913051933,
          0.010479650321370403,
          0.010549624750478857,
          0.010619908855122746,
          0.010690492675277968,
          0.01076136370002235,
          0.010832506948945338,
          0.010903905070546312,
          0.010975538456935198,
          0.011047385374014548,
          0.01111942210619314,
          0.011191623114558008,
          0.011263961207314672,
          0.011336407721197482,
          0.01140893271245167,
          0.011481505155899786,
          0.011554093150525965,
          0.011626664129944337,
          0.011699185076063804,
          0.01177162273421901,
          0.011843943828009887,
          0.011916115272078148,
          0.011988104381049544,
          0.012059879072885691,
          0.01213140806491969,
          0.012202661060893719,
          0.012273608927376514,
          0.012344223858011932,
          0.012414479524137224,
          0.012484351210410728,
          0.01255381593420187,
          0.012622852547622547,
          0.012691441821214993,
          0.012759566508458626,
          0.012827211390413859,
          0.012894363299984592,
          0.012961011125451331,
          0.013027145793102232,
          0.01309276022896835,
          0.013157849299850918,
          0.013222409734010489,
          0.01328644002206894,
          0.013349940298854314,
          0.013412912207093168,
          0.013475358744024429,
          0.013537284092170716,
          0.013598693435656787,
          0.013659592763607672,
          0.013719988662291342,
          0.013779888097789326,
          0.013839298191083739,
          0.0138982259875392,
          0.013956678222831219,
          0.014014661087429525,
          0.014072179991783566,
          0.014129239334377885,
          0.01418584227482648,
          0.014241990514158758,
          0.01429768408441213,
          0.014352921149592097,
          0.014407697819985767,
          0.014462007981722307,
          0.014515843143364134,
          0.014569192301184657,
          0.014622041824646114,
          0.014674375363432142,
          0.014726173777218281,
          0.01477741508917959,
          0.01482807446403918,
          0.014878124211258037,
          0.014927533813754189,
          0.014976269982322809,
          0.015024296735707245,
          0.015071575506048837,
          0.015118065269220332,
          0.015163722699327115,
          0.015208502346444932,
          0.015252356836451368,
          0.015295237091607227,
          0.01533709257035092,
          0.015377871524588516,
          0.015417521272595035,
          0.015455988485490266,
          0.01549321948511609,
          0.015529160551025122,
          0.015563758234190457,
          0.015596959674967738,
          0.015628712922782048,
          0.01565896725497515,
          0.015687673492233344,
          0.015714784308023318,
          0.01574025452949203,
          0.015764041427337783,
          0.01578610499223271,
          0.015806408195469447,
          0.015824917231620036,
          0.015841601741127375,
          0.015856435010901712,
          0.015869394151162997,
          0.0158804602469538,
          0.015889618482946025,
          0.01589685824037414,
          0.015902173165148872,
          0.015905561206434108,
          0.015907024625205542,
          0.01590656997254946,
          0.015904208037702403,
          0.01589995376607578,
          0.01589382614774915,
          0.01588584807715381,
          0.01587604618489882,
          0.015864450642914408,
          0.015851094944301116,
          0.015836015659474165,
          0.015819252170381,
          0.01580084638474265,
          0.015780842432426827,
          0.01575928634619941,
          0.015736225729221932,
          0.015711709411763038,
          0.015685787099672336,
          0.015658509017224733,
          0.015629925546981005,
          0.01560008686932685,
          0.015569042604347667,
          0.01553684145866996,
          0.015503530879852253,
          0.015469156720841105,
          0.01543376291692014,
          0.015397391177473286,
          0.015360080694759567,
          0.015321867871756647,
          0.015282786070973314,
          0.015242865385963077,
          0.015202132437087828,
          0.015160610192889355,
          0.015118317818224633,
          0.015075270550112768,
          0.015031479602028327,
          0.01498695209715823,
          0.014941691030921333,
          0.014895695262831186,
          0.014848959537566458,
          0.014801474534900456,
          0.014753226947934498,
          0.014704199588879622,
          0.014654371521439618,
          0.014603718218666876,
          0.014552211744992903,
          0.014499820960976966,
          0.014446511749173335,
          0.014392247259387633,
          0.014336988171479059,
          0.014280692973767259,
          0.014223318255021322,
          0.014164819007943369,
          0.014105148942012377,
          0.014044260803522656,
          0.013982106700638859,
          0.013918638431292088,
          0.01385380781176178,
          0.013787567003823796,
          0.013719868838395625,
          0.013650667133675423,
          0.013579917005850156,
          0.013507575170540237,
          0.013433600233250648,
          0.013357952967213064,
          0.01328059657712587,
          0.013201496947430407,
          0.013120622873899718,
          0.0130379462774595,
          0.012953442399308401,
          0.01286708997655582,
          0.012778871397747088,
          0.012688772837798238,
          0.012596784372014986,
          0.012502900069018481,
          0.012407118062547915,
          0.012309440602251158,
          0.012209874083710694,
          0.012108429058083134,
          0.012005120221852536,
          0.011899966387313487,
          0.011792990434505957,
          0.011684219245421438,
          0.011573683621387446,
          0.011461418184615262,
          0.011347461264963117,
          0.011231854773024066,
          0.01111464406069425,
          0.010995877770413685,
          0.010875607674296755,
          0.010753888504385531,
          0.010630777775264827,
          0.010506335600273661,
          0.010380624502535058,
          0.010253709222004857,
          0.010125656519710221,
          0.00999653498031191,
          0.009866414814080482,
          0.009735367659326696,
          0.00960346638627099,
          0.009470784903277208,
          0.009337397966311384,
          0.009203380992419208,
          0.009068809877946199,
          0.008933760822152666,
          0.008798310156803216,
          0.008662534182236826,
          0.008526509010350878,
          0.008390310414860306,
          0.008254013689121844,
          0.00811769351174445,
          0.007981423820140778,
          0.007845277692110162,
          0.007709327235483223,
          0.007573643485801314,
          0.007438296311950269,
          0.007303354329619359,
          0.007168884822410507,
          0.007034953670383471,
          0.006901625285785158,
          0.006768962555680904,
          0.006637026791177502,
          0.006505877682906181,
          0.006375573262414303,
          0.006246169869102179,
          0.006117722122330212,
          0.005990282898317081,
          0.005863903311446676,
          0.005738632699604426,
          0.005614518613167113,
          0.005491606807279821,
          0.005369941237063755,
          0.005249564055412413,
          0.005130515613049293,
          0.005012834460538707,
          0.00489655735195999,
          0.004781719249977366,
          0.004668353332059379,
          0.0045564909976256295,
          0.004446161875921807,
          0.00433739383444928,
          0.004230212987799421,
          0.004124643706767951,
          0.004020708627648825,
          0.003918428661631224,
          0.003817823004246819,
          0.003718909144836974,
          0.0036217028760313925,
          0.0035262183032506037,
          0.0034324678542639498,
          0.0033404622888531603,
          0.003250210708648277,
          0.0031617205672183125,
          0.003074997680512212,
          0.0029900462377584953,
          0.0029068688129418466,
          0.0028254663769837944,
          0.0027458383107614092,
          0.002667982419103451,
          0.002591894945905995,
          0.0025175705905118744,
          0.00244500252549745,
          0.002374182416008525,
          0.0023051004407831375,
          0.0022377453149941304,
          0.0021721043150364767,
          0.002108163305376597,
          0.0020459067675701343,
          0.001985317831543517,
          0.0019263783092215109,
          0.001869068730569219,
          0.0018133683821015215,
          0.0017592553478970184,
          0.0017067065531363994,
          0.0016556978101675687,
          0.0016062038670813339,
          0.0015581984587630035,
          0.0015116543603658971,
          0.0014665434431338188,
          0.001422836732480275,
          0.001380504468213339,
          0.0013395161667763352,
          0.001299840685356517,
          0.0012614462876964101,
          0.0012243007114258653,
          0.001188371236717133,
          0.0011536247560508495,
          0.0011200278448673779,
          0.001087546832866073,
          0.001056147875704613,
          0.0010257970268415934,
          0.0009964603092585684,
          0.0009681037867921743,
          0.0009406936348035342,
          0.0009141962099104263,
          0.0008885781185080071,
          0.0008638062838060155,
          0.00083984801111454,
          0.0008166710511166106,
          0.0007942436608736265,
          0.0007725346623196338,
          0.0007515134980120076,
          0.0007311502839192751,
          0.0007114158590418317,
          0.0006922818316776179,
          0.000673720622162517
         ],
         "yaxis": "y"
        },
        {
         "legendgroup": "no heart disease",
         "marker": {
          "color": "rgb(255, 127, 14)"
         },
         "mode": "lines",
         "name": "no heart disease",
         "showlegend": false,
         "type": "scatter",
         "x": [
          96,
          96.212,
          96.424,
          96.636,
          96.848,
          97.06,
          97.272,
          97.484,
          97.696,
          97.908,
          98.12,
          98.332,
          98.544,
          98.756,
          98.968,
          99.18,
          99.392,
          99.604,
          99.816,
          100.028,
          100.24,
          100.452,
          100.664,
          100.876,
          101.088,
          101.3,
          101.512,
          101.724,
          101.936,
          102.148,
          102.36,
          102.572,
          102.784,
          102.996,
          103.208,
          103.42,
          103.632,
          103.844,
          104.056,
          104.268,
          104.48,
          104.69200000000001,
          104.904,
          105.116,
          105.328,
          105.53999999999999,
          105.752,
          105.964,
          106.176,
          106.388,
          106.6,
          106.812,
          107.024,
          107.236,
          107.44800000000001,
          107.66,
          107.872,
          108.084,
          108.29599999999999,
          108.508,
          108.72,
          108.932,
          109.144,
          109.356,
          109.568,
          109.78,
          109.992,
          110.20400000000001,
          110.416,
          110.628,
          110.84,
          111.05199999999999,
          111.264,
          111.476,
          111.688,
          111.9,
          112.112,
          112.324,
          112.536,
          112.748,
          112.96000000000001,
          113.172,
          113.384,
          113.596,
          113.80799999999999,
          114.02,
          114.232,
          114.444,
          114.656,
          114.868,
          115.08,
          115.292,
          115.504,
          115.71600000000001,
          115.928,
          116.14,
          116.352,
          116.564,
          116.776,
          116.988,
          117.2,
          117.412,
          117.624,
          117.836,
          118.048,
          118.26,
          118.47200000000001,
          118.684,
          118.896,
          119.108,
          119.32,
          119.532,
          119.744,
          119.956,
          120.168,
          120.38,
          120.592,
          120.804,
          121.01599999999999,
          121.22800000000001,
          121.44,
          121.652,
          121.864,
          122.076,
          122.288,
          122.5,
          122.712,
          122.924,
          123.136,
          123.348,
          123.56,
          123.77199999999999,
          123.98400000000001,
          124.196,
          124.408,
          124.62,
          124.832,
          125.044,
          125.256,
          125.468,
          125.68,
          125.892,
          126.104,
          126.316,
          126.52799999999999,
          126.74,
          126.952,
          127.164,
          127.376,
          127.588,
          127.8,
          128.012,
          128.224,
          128.436,
          128.648,
          128.86,
          129.072,
          129.284,
          129.496,
          129.708,
          129.92000000000002,
          130.132,
          130.344,
          130.55599999999998,
          130.768,
          130.98,
          131.192,
          131.404,
          131.61599999999999,
          131.828,
          132.04,
          132.252,
          132.464,
          132.676,
          132.888,
          133.1,
          133.312,
          133.524,
          133.736,
          133.948,
          134.16,
          134.372,
          134.584,
          134.796,
          135.008,
          135.22,
          135.43200000000002,
          135.644,
          135.856,
          136.06799999999998,
          136.28,
          136.492,
          136.704,
          136.916,
          137.128,
          137.34,
          137.552,
          137.764,
          137.976,
          138.188,
          138.4,
          138.612,
          138.824,
          139.036,
          139.248,
          139.46,
          139.672,
          139.88400000000001,
          140.096,
          140.308,
          140.52,
          140.732,
          140.94400000000002,
          141.156,
          141.368,
          141.57999999999998,
          141.792,
          142.004,
          142.216,
          142.428,
          142.64,
          142.852,
          143.064,
          143.276,
          143.488,
          143.7,
          143.912,
          144.124,
          144.336,
          144.548,
          144.76,
          144.972,
          145.184,
          145.39600000000002,
          145.608,
          145.82,
          146.03199999999998,
          146.244,
          146.45600000000002,
          146.668,
          146.88,
          147.09199999999998,
          147.304,
          147.516,
          147.728,
          147.94,
          148.152,
          148.364,
          148.576,
          148.788,
          149,
          149.212,
          149.424,
          149.636,
          149.848,
          150.06,
          150.272,
          150.484,
          150.696,
          150.90800000000002,
          151.12,
          151.332,
          151.54399999999998,
          151.756,
          151.96800000000002,
          152.18,
          152.392,
          152.60399999999998,
          152.816,
          153.028,
          153.24,
          153.452,
          153.664,
          153.876,
          154.088,
          154.3,
          154.512,
          154.724,
          154.936,
          155.148,
          155.36,
          155.572,
          155.784,
          155.996,
          156.208,
          156.42000000000002,
          156.632,
          156.844,
          157.05599999999998,
          157.268,
          157.48,
          157.692,
          157.904,
          158.11599999999999,
          158.328,
          158.54,
          158.752,
          158.964,
          159.176,
          159.388,
          159.6,
          159.812,
          160.024,
          160.236,
          160.44799999999998,
          160.66,
          160.872,
          161.084,
          161.296,
          161.50799999999998,
          161.72,
          161.93200000000002,
          162.144,
          162.356,
          162.56799999999998,
          162.78,
          162.99200000000002,
          163.204,
          163.416,
          163.628,
          163.84,
          164.05200000000002,
          164.264,
          164.476,
          164.688,
          164.9,
          165.112,
          165.324,
          165.536,
          165.748,
          165.95999999999998,
          166.172,
          166.38400000000001,
          166.596,
          166.808,
          167.01999999999998,
          167.232,
          167.44400000000002,
          167.656,
          167.868,
          168.07999999999998,
          168.292,
          168.50400000000002,
          168.716,
          168.928,
          169.14,
          169.352,
          169.564,
          169.776,
          169.988,
          170.2,
          170.412,
          170.624,
          170.836,
          171.048,
          171.26,
          171.47199999999998,
          171.684,
          171.89600000000002,
          172.108,
          172.32,
          172.53199999999998,
          172.744,
          172.95600000000002,
          173.168,
          173.38,
          173.59199999999998,
          173.804,
          174.01600000000002,
          174.228,
          174.44,
          174.652,
          174.864,
          175.076,
          175.288,
          175.5,
          175.712,
          175.924,
          176.136,
          176.348,
          176.56,
          176.772,
          176.98399999999998,
          177.196,
          177.40800000000002,
          177.62,
          177.832,
          178.04399999999998,
          178.256,
          178.46800000000002,
          178.68,
          178.892,
          179.10399999999998,
          179.316,
          179.52800000000002,
          179.74,
          179.952,
          180.164,
          180.376,
          180.588,
          180.8,
          181.012,
          181.224,
          181.436,
          181.648,
          181.86,
          182.072,
          182.284,
          182.49599999999998,
          182.708,
          182.92000000000002,
          183.132,
          183.344,
          183.55599999999998,
          183.768,
          183.98000000000002,
          184.192,
          184.404,
          184.61599999999999,
          184.828,
          185.04000000000002,
          185.252,
          185.464,
          185.676,
          185.888,
          186.1,
          186.312,
          186.524,
          186.736,
          186.94799999999998,
          187.16,
          187.372,
          187.584,
          187.796,
          188.00799999999998,
          188.22,
          188.43200000000002,
          188.644,
          188.856,
          189.06799999999998,
          189.28,
          189.49200000000002,
          189.704,
          189.916,
          190.128,
          190.34,
          190.55200000000002,
          190.764,
          190.976,
          191.188,
          191.4,
          191.612,
          191.824,
          192.036,
          192.248,
          192.45999999999998,
          192.672,
          192.88400000000001,
          193.096,
          193.308,
          193.51999999999998,
          193.732,
          193.94400000000002,
          194.156,
          194.368,
          194.57999999999998,
          194.792,
          195.00400000000002,
          195.216,
          195.428,
          195.64,
          195.852,
          196.064,
          196.276,
          196.488,
          196.7,
          196.912,
          197.124,
          197.336,
          197.548,
          197.76,
          197.97199999999998,
          198.184,
          198.39600000000002,
          198.608,
          198.82,
          199.03199999999998,
          199.244,
          199.45600000000002,
          199.668,
          199.88,
          200.09199999999998,
          200.304,
          200.51600000000002,
          200.728,
          200.94,
          201.152,
          201.364,
          201.576,
          201.788
         ],
         "xaxis": "x",
         "y": [
          0.0005770502172994777,
          0.0005878741697746004,
          0.0005987625473800732,
          0.0006097236702626557,
          0.0006207666156011882,
          0.0006319012002437351,
          0.0006431379598110147,
          0.0006544881243721132,
          0.000665963590818432,
          0.0006775768920805392,
          0.000689341163350118,
          0.0007012701054853206,
          0.000713377945792461,
          0.00072567939639001,
          0.0007381896103722868,
          0.0007509241359998865,
          0.0007638988691518367,
          0.0007771300042806108,
          0.0007906339841154864,
          0.0008044274483623501,
          0.0008185271816488127,
          0.0008329500609626219,
          0.0008477130028287613,
          0.0008628329104663728,
          0.0008783266211608887,
          0.0008942108540794878,
          0.000910502158749299,
          0.000927216864407882,
          0.0009443710304242888,
          0.0009619803979767888,
          0.000980060343160078,
          0.0009986258316806503,
          0.0010176913752841681,
          0.0010372709900430624,
          0.0010573781566165688,
          0.0010780257825789225,
          0.0010992261668946288,
          0.001120990966602799,
          0.0011433311657555302,
          0.001166257046638314,
          0.0011897781632837403,
          0.0012139033172732282,
          0.0012386405358054656,
          0.0012639970519946787,
          0.0012899792873469118,
          0.0013165928363484025,
          0.0013438424530867726,
          0.0013717320398134352,
          0.0014002646373444706,
          0.001429442417187047,
          0.0014592666752698202,
          0.0014897378271483735,
          0.0015208554045508414,
          0.0015526180531246659,
          0.0015850235312427738,
          0.0016180687097265885,
          0.0016517495723442272,
          0.0016860612169449442,
          0.0017209978570956826,
          0.001756552824092016,
          0.0017927185692243228,
          0.0018294866661905202,
          0.0018668478135588386,
          0.0019047918371983249,
          0.0019433076926106713,
          0.001982383467114385,
          0.0020220063818515484,
          0.0020621627936077904,
          0.0021028381964578883,
          0.0021440172232721102,
          0.0021856836471420157,
          0.002227820382808671,
          0.0022704094882006133,
          0.002313432166213548,
          0.0023568687668880737,
          0.0024006987901653903,
          0.0024449008894240824,
          0.002489452876022449,
          0.0025343317250912955,
          0.0025795135828403696,
          0.0026249737756576883,
          0.002670686821294747,
          0.00271662644244144,
          0.0027627655830022983,
          0.0028090764273901365,
          0.0028555304231539596,
          0.0029020983072552474,
          0.002948750136299755,
          0.002995455321021136,
          0.003042182665297625,
          0.0030889004099638444,
          0.0031355762816562935,
          0.003182177546903749,
          0.00322867107164215,
          0.0032750233862983307,
          0.003321200756548119,
          0.003367169259811767,
          0.0034128948675048345,
          0.003458343533014331,
          0.003503481285319924,
          0.0035482743281279447,
          0.003592689144332636,
          0.0036366926055648886,
          0.003680252086534272,
          0.0037233355838159074,
          0.0037659118386805827,
          0.0038079504635141893,
          0.003849422071322867,
          0.003890298407772439,
          0.00393055248516646,
          0.003970158717726087,
          0.004009093057498286,
          0.004047333130186372,
          0.004084858370169452,
          0.004121650153955159,
          0.004157691931293413,
          0.004192969353168121,
          0.004227470395878988,
          0.004261185480426999,
          0.004294107586424747,
          0.004326232359766567,
          0.004357558213313721,
          0.0043880864198755625,
          0.004417821196800103,
          0.004446769781524594,
          0.004474942497479936,
          0.004502352809790753,
          0.004529017370265247,
          0.004554956051226023,
          0.004580191967793352,
          0.004604751488295785,
          0.004628664232549627,
          0.004651963057816948,
          0.004674684032321585,
          0.0046968663962738905,
          0.004718552510425873,
          0.004739787792249806,
          0.004760620639903754,
          0.0047811023442168605,
          0.004801286988994567,
          0.004821231340009575,
          0.004840994723106884,
          0.004860638891911001,
          0.004880227885679649,
          0.004899827877900746,
          0.004919507016277982,
          0.004939335254794301,
          0.004959384178582312,
          0.004979726822365504,
          0.005000437483264286,
          0.00502159152878602,
          0.00504326520083843,
          0.0050655354166210045,
          0.00508847956725916,
          0.005112175315051447,
          0.005136700390200157,
          0.005162132387891676,
          0.005188548566583716,
          0.005216025648343011,
          0.005244639622059185,
          0.005274465550338366,
          0.005305577380853821,
          0.005338047762900971,
          0.005371947869870332,
          0.005407347228314917,
          0.005444313554248153,
          0.005482912597264982,
          0.005523207993032727,
          0.005565261124649488,
          0.0056091309933168606,
          0.005654874098720503,
          0.005702544329457554,
          0.005752192863793022,
          0.005803868080969809,
          0.005857615483238361,
          0.00591347762871252,
          0.005971494075098445,
          0.006031701334283633,
          0.006094132837713872,
          0.0061588189124265,
          0.006225786767551093,
          0.006295060491031836,
          0.006366661056270553,
          0.006440606338337448,
          0.006516911139345334,
          0.006595587222535799,
          0.006676643354581721,
          0.006760085355568784,
          0.0068459161560822405,
          0.006934135860791919,
          0.007024741817899953,
          0.007117728693792039,
          0.007213088552214571,
          0.007310810937285544,
          0.007410882959640095,
          0.007513289385007761,
          0.007618012724521588,
          0.00772503332606796,
          0.007834329465999067,
          0.007945877440549795,
          0.008059651656324943,
          0.008175624719252367,
          0.008293767521432013,
          0.008414049325349353,
          0.00853643784496515,
          0.008660899323239227,
          0.008787398605696353,
          0.008915899209694487,
          0.009046363389109559,
          0.009178752194207933,
          0.009313025526533672,
          0.009449142188695065,
          0.009587059928992045,
          0.009726735480881309,
          0.009868124597330408,
          0.010011182080163977,
          0.010155861804554024,
          0.010302116738852823,
          0.010449898960007843,
          0.010599159664836379,
          0.010749849177471163,
          0.010901916953315029,
          0.01105531157986676,
          0.011209980774797679,
          0.011365871381670173,
          0.01152292936369671,
          0.011681099795939336,
          0.011840326856345515,
          0.012000553816008395,
          0.012161723029025647,
          0.012323775922314732,
          0.012486652985720308,
          0.012650293762726876,
          0.012814636842061916,
          0.012979619850446766,
          0.013145179446722626,
          0.01331125131754836,
          0.013477770174836371,
          0.013644669755063347,
          0.013811882820564107,
          0.013979341162890326,
          0.014146975608292572,
          0.014314716025362934,
          0.014482491334858965,
          0.014650229521716539,
          0.01481785764924937,
          0.014985301875530637,
          0.015152487471950393,
          0.01531933884394819,
          0.015485779553930363,
          0.015651732346393776,
          0.015817119175296674,
          0.015981861233738178,
          0.01614587898603263,
          0.016309092202291386,
          0.01647141999565429,
          0.01663278086234254,
          0.016793092724733963,
          0.016952272977692678,
          0.017110238538412193,
          0.017266905900055984,
          0.017422191189503246,
          0.017576010229524076,
          0.017728278605721595,
          0.017878911738585832,
          0.018027824961003046,
          0.018174933601558564,
          0.018320153073954293,
          0.018463398972839492,
          0.01860458717632051,
          0.018743633955374296,
          0.018880456090338685,
          0.019014970994595457,
          0.019147096845491728,
          0.01927675272247063,
          0.01940385875229813,
          0.01952833626118129,
          0.0196501079334773,
          0.019769097976590794,
          0.019885232291550824,
          0.01999843864865127,
          0.020108646867429286,
          0.02021578900014744,
          0.020319799517838213,
          0.02042061549786609,
          0.02051817681186557,
          0.020612426312819215,
          0.02070331001996071,
          0.020790777300110738,
          0.020874781043995552,
          0.02095527783604631,
          0.021032228116144983,
          0.02110559633176067,
          0.021175351078919217,
          0.021241465230460367,
          0.021303916050068955,
          0.021362685290615295,
          0.02141775927540633,
          0.021469128961034225,
          0.02151678998061143,
          0.021560742666299815,
          0.021600992050177962,
          0.021637547842640503,
          0.02167042438768785,
          0.021699640594642144,
          0.021725219846011872,
          0.021747189881425013,
          0.021765582657753087,
          0.021780434185757216,
          0.021791784343797582,
          0.021799676669358493,
          0.021804158129350038,
          0.02180527887035193,
          0.021803091950161252,
          0.021797653052195397,
          0.021789020184476957,
          0.02177725336509129,
          0.02176241429615422,
          0.021744566028458354,
          0.021723772619077097,
          0.021700098784296032,
          0.02167360955031083,
          0.021644369904176678,
          0.021612444447517892,
          0.021577897055505058,
          0.021540790543583144,
          0.021501186344385723,
          0.021459144197198184,
          0.021414721852240023,
          0.021367974791919563,
          0.021318955971078225,
          0.0212677155780871,
          0.021214300818485868,
          0.02115875572266534,
          0.02110112097889524,
          0.021041433792785304,
          0.020979727774046313,
          0.02091603285119086,
          0.020850375214580448,
          0.02078277728799297,
          0.020713257728650566,
          0.020641831455420614,
          0.02056850970467565,
          0.020493300113084652,
          0.02041620682640055,
          0.020337230633114895,
          0.020256369121670455,
          0.020173616859757118,
          0.020088965594067604,
          0.02000240446876084,
          0.019913920260765893,
          0.019823497629970724,
          0.019731119382265485,
          0.019636766743358753,
          0.01954041964125357,
          0.01944205699525785,
          0.019341657009411203,
          0.019239197468236022,
          0.019134656032765863,
          0.019028010534862493,
          0.018919239267911506,
          0.01880832127207506,
          0.018695236612383166,
          0.01857996664805992,
          0.018462494291602342,
          0.0183428042562624,
          0.018220883290718023,
          0.018096720399860804,
          0.017970307050771434,
          0.017841637363098576,
          0.01771070828320087,
          0.017577519741553336,
          0.017442074793058298,
          0.017304379740034254,
          0.017164444237783367,
          0.017022281382760476,
          0.01687790778347822,
          0.016731343614388182,
          0.01658261265307469,
          0.016431742301181874,
          0.016278763589574516,
          0.01612371116829742,
          0.015966623281957564,
          0.01580754173119935,
          0.0156465118209837,
          0.015483582296409238,
          0.015318805266836847,
          0.0151522361190917,
          0.014983933420521707,
          0.014813958812693423,
          0.014642376896496953,
          0.014469255109422256,
          0.014294663595752329,
          0.01411867507039858,
          0.013941364677081833,
          0.013762809841537074,
          0.013583090120393167,
          0.013402287046351765,
          0.013220483970260887,
          0.013037765900650969,
          0.012854219341272803,
          0.012669932127151558,
          0.012484993259643001,
          0.012299492740955884,
          0.012113521408580272,
          0.011927170770040492,
          0.011740532838372291,
          0.011553699968705191,
          0.011366764696314757,
          0.011179819576494901,
          0.01099295702658567,
          0.01080626917048028,
          0.010619847685922787,
          0.010433783654897201,
          0.010248167417397333,
          0.01006308842885752,
          0.00987863512151215,
          0.009694894769942472,
          0.009511953361057736,
          0.009329895468744631,
          0.009148804133407719,
          0.008968760746608991,
          0.0087898449409998,
          0.008612134485723353,
          0.008435705187448225,
          0.00826063079717554,
          0.008086982922943053,
          0.007914830948530033,
          0.007744241958244276,
          0.007575280667852394,
          0.00740800936169128,
          0.007242487835975873,
          0.00707877334829579,
          0.006916920573270586,
          0.006756981564310294,
          0.006599005721406589,
          0.006443039764857888,
          0.006289127714811929,
          0.006137310876489865,
          0.00598762783093882,
          0.005840114431142709,
          0.0056948038033080685,
          0.005551726353128069,
          0.005410909776818075,
          0.005272379076708107,
          0.005136156581170426,
          0.005002261968657464,
          0.004870712295623175,
          0.004741522028100863,
          0.004614703076713545,
          0.004490264834896855,
          0.004368214220120522,
          0.004248555717902241,
          0.004131291428417576,
          0.004016421115518801,
          0.0039039422579882385,
          0.0037938501028634535,
          0.003686137720684355,
          0.0035807960625257084,
          0.0034778140186917435,
          0.003377178478962376,
          0.0032788743942934054,
          0.003182884839884703,
          0.0030891910795416556,
          0.0029977726312649645,
          0.0029086073340129355,
          0.002821671415587106,
          0.0027369395615986004,
          0.0026543849854760286,
          0.002573979499478726,
          0.0024956935866797332,
          0.0024194964738816094,
          0.002345356205425697,
          0.00227323971785089,
          0.0022031129153519484,
          0.002134940745979641,
          0.002068687278516533,
          0.0020043157799516202,
          0.0019417887934661349,
          0.0018810682168310146,
          0.0018221153811035344,
          0.001764891129498017,
          0.0017093558962923048,
          0.0016554697856184188,
          0.0016031926499734473,
          0.0015524841682741895,
          0.0015033039232680105,
          0.0014556114781018091,
          0.0014093664518418638,
          0.0013645285937296657,
          0.0013210578559527024,
          0.0012789144647048245,
          0.0012380589893081593,
          0.0011984524091683474,
          0.0011600561783361224,
          0.0011228322874522036,
          0.0010867433228583287,
          0.0010517525226650844,
          0.0010178238295775594,
          0.0009849219402919376
         ],
         "yaxis": "y"
        },
        {
         "legendgroup": "heart disease",
         "marker": {
          "color": "rgb(31, 119, 180)",
          "symbol": "line-ns-open"
         },
         "mode": "markers",
         "name": "heart disease",
         "showlegend": false,
         "type": "scatter",
         "x": [
          174,
          145,
          159,
          125,
          162,
          132,
          182,
          120,
          103,
          160,
          152,
          174,
          141,
          164,
          195,
          168,
          112,
          146,
          150,
          150,
          131,
          158,
          97,
          155,
          134,
          165,
          173,
          150,
          142,
          163,
          139,
          126,
          152,
          147,
          162,
          125,
          109,
          141,
          108,
          129,
          163,
          125,
          71,
          165,
          132,
          114,
          127,
          158,
          96,
          132,
          147,
          154,
          169,
          136,
          132,
          144,
          160,
          145,
          99,
          106,
          154,
          140,
          146,
          125,
          169,
          138,
          161,
          132,
          142,
          141,
          157,
          170,
          160,
          144,
          161,
          140,
          142,
          143,
          90,
          162,
          140,
          131,
          130,
          105,
          146,
          111,
          171,
          156,
          112,
          124,
          88,
          143,
          123,
          115,
          133,
          103,
          144,
          105,
          150,
          111,
          132,
          145,
          117,
          130,
          109,
          113,
          126,
          108,
          116,
          155,
          95,
          161,
          160,
          168,
          142,
          122,
          173,
          128,
          126,
          166,
          150,
          118,
          120,
          144,
          147,
          144,
          153,
          177,
          120,
          136,
          125,
          158,
          114,
          181,
          140,
          130,
          156
         ],
         "xaxis": "x",
         "y": [
          "heart disease",
          "heart disease",
          "heart disease",
          "heart disease",
          "heart disease",
          "heart disease",
          "heart disease",
          "heart disease",
          "heart disease",
          "heart disease",
          "heart disease",
          "heart disease",
          "heart disease",
          "heart disease",
          "heart disease",
          "heart disease",
          "heart disease",
          "heart disease",
          "heart disease",
          "heart disease",
          "heart disease",
          "heart disease",
          "heart disease",
          "heart disease",
          "heart disease",
          "heart disease",
          "heart disease",
          "heart disease",
          "heart disease",
          "heart disease",
          "heart disease",
          "heart disease",
          "heart disease",
          "heart disease",
          "heart disease",
          "heart disease",
          "heart disease",
          "heart disease",
          "heart disease",
          "heart disease",
          "heart disease",
          "heart disease",
          "heart disease",
          "heart disease",
          "heart disease",
          "heart disease",
          "heart disease",
          "heart disease",
          "heart disease",
          "heart disease",
          "heart disease",
          "heart disease",
          "heart disease",
          "heart disease",
          "heart disease",
          "heart disease",
          "heart disease",
          "heart disease",
          "heart disease",
          "heart disease",
          "heart disease",
          "heart disease",
          "heart disease",
          "heart disease",
          "heart disease",
          "heart disease",
          "heart disease",
          "heart disease",
          "heart disease",
          "heart disease",
          "heart disease",
          "heart disease",
          "heart disease",
          "heart disease",
          "heart disease",
          "heart disease",
          "heart disease",
          "heart disease",
          "heart disease",
          "heart disease",
          "heart disease",
          "heart disease",
          "heart disease",
          "heart disease",
          "heart disease",
          "heart disease",
          "heart disease",
          "heart disease",
          "heart disease",
          "heart disease",
          "heart disease",
          "heart disease",
          "heart disease",
          "heart disease",
          "heart disease",
          "heart disease",
          "heart disease",
          "heart disease",
          "heart disease",
          "heart disease",
          "heart disease",
          "heart disease",
          "heart disease",
          "heart disease",
          "heart disease",
          "heart disease",
          "heart disease",
          "heart disease",
          "heart disease",
          "heart disease",
          "heart disease",
          "heart disease",
          "heart disease",
          "heart disease",
          "heart disease",
          "heart disease",
          "heart disease",
          "heart disease",
          "heart disease",
          "heart disease",
          "heart disease",
          "heart disease",
          "heart disease",
          "heart disease",
          "heart disease",
          "heart disease",
          "heart disease",
          "heart disease",
          "heart disease",
          "heart disease",
          "heart disease",
          "heart disease",
          "heart disease",
          "heart disease",
          "heart disease",
          "heart disease",
          "heart disease"
         ],
         "yaxis": "y2"
        },
        {
         "legendgroup": "no heart disease",
         "marker": {
          "color": "rgb(255, 127, 14)",
          "symbol": "line-ns-open"
         },
         "mode": "markers",
         "name": "no heart disease",
         "showlegend": false,
         "type": "scatter",
         "x": [
          131,
          151,
          114,
          144,
          155,
          150,
          171,
          145,
          162,
          162,
          190,
          178,
          125,
          178,
          178,
          174,
          121,
          162,
          143,
          179,
          140,
          164,
          169,
          153,
          178,
          163,
          161,
          155,
          166,
          156,
          159,
          172,
          158,
          184,
          162,
          162,
          171,
          180,
          156,
          172,
          175,
          138,
          170,
          173,
          188,
          170,
          162,
          132,
          172,
          168,
          153,
          163,
          182,
          174,
          192,
          202,
          116,
          130,
          115,
          151,
          160,
          172,
          152,
          157,
          148,
          151,
          133,
          172,
          146,
          137,
          160,
          96,
          157,
          154,
          172,
          165,
          174,
          173,
          152,
          147,
          158,
          170,
          165,
          167,
          163,
          152,
          173,
          169,
          162,
          143,
          166,
          123,
          142,
          149,
          154,
          157,
          158,
          163,
          139,
          175,
          156,
          179,
          160,
          175,
          149,
          179,
          180,
          169,
          165,
          162,
          194,
          173,
          150,
          168,
          179,
          172,
          152,
          182,
          179,
          187,
          170,
          125,
          142,
          151,
          138,
          140,
          122,
          105,
          154,
          157,
          163,
          161,
          182,
          122,
          131,
          148,
          126,
          163,
          159,
          168,
          160,
          143,
          160,
          111,
          147,
          186,
          159,
          163,
          186,
          143,
          152,
          148,
          152,
          185,
          181,
          171,
          161,
          122,
          178,
          182
         ],
         "xaxis": "x",
         "y": [
          "no heart disease",
          "no heart disease",
          "no heart disease",
          "no heart disease",
          "no heart disease",
          "no heart disease",
          "no heart disease",
          "no heart disease",
          "no heart disease",
          "no heart disease",
          "no heart disease",
          "no heart disease",
          "no heart disease",
          "no heart disease",
          "no heart disease",
          "no heart disease",
          "no heart disease",
          "no heart disease",
          "no heart disease",
          "no heart disease",
          "no heart disease",
          "no heart disease",
          "no heart disease",
          "no heart disease",
          "no heart disease",
          "no heart disease",
          "no heart disease",
          "no heart disease",
          "no heart disease",
          "no heart disease",
          "no heart disease",
          "no heart disease",
          "no heart disease",
          "no heart disease",
          "no heart disease",
          "no heart disease",
          "no heart disease",
          "no heart disease",
          "no heart disease",
          "no heart disease",
          "no heart disease",
          "no heart disease",
          "no heart disease",
          "no heart disease",
          "no heart disease",
          "no heart disease",
          "no heart disease",
          "no heart disease",
          "no heart disease",
          "no heart disease",
          "no heart disease",
          "no heart disease",
          "no heart disease",
          "no heart disease",
          "no heart disease",
          "no heart disease",
          "no heart disease",
          "no heart disease",
          "no heart disease",
          "no heart disease",
          "no heart disease",
          "no heart disease",
          "no heart disease",
          "no heart disease",
          "no heart disease",
          "no heart disease",
          "no heart disease",
          "no heart disease",
          "no heart disease",
          "no heart disease",
          "no heart disease",
          "no heart disease",
          "no heart disease",
          "no heart disease",
          "no heart disease",
          "no heart disease",
          "no heart disease",
          "no heart disease",
          "no heart disease",
          "no heart disease",
          "no heart disease",
          "no heart disease",
          "no heart disease",
          "no heart disease",
          "no heart disease",
          "no heart disease",
          "no heart disease",
          "no heart disease",
          "no heart disease",
          "no heart disease",
          "no heart disease",
          "no heart disease",
          "no heart disease",
          "no heart disease",
          "no heart disease",
          "no heart disease",
          "no heart disease",
          "no heart disease",
          "no heart disease",
          "no heart disease",
          "no heart disease",
          "no heart disease",
          "no heart disease",
          "no heart disease",
          "no heart disease",
          "no heart disease",
          "no heart disease",
          "no heart disease",
          "no heart disease",
          "no heart disease",
          "no heart disease",
          "no heart disease",
          "no heart disease",
          "no heart disease",
          "no heart disease",
          "no heart disease",
          "no heart disease",
          "no heart disease",
          "no heart disease",
          "no heart disease",
          "no heart disease",
          "no heart disease",
          "no heart disease",
          "no heart disease",
          "no heart disease",
          "no heart disease",
          "no heart disease",
          "no heart disease",
          "no heart disease",
          "no heart disease",
          "no heart disease",
          "no heart disease",
          "no heart disease",
          "no heart disease",
          "no heart disease",
          "no heart disease",
          "no heart disease",
          "no heart disease",
          "no heart disease",
          "no heart disease",
          "no heart disease",
          "no heart disease",
          "no heart disease",
          "no heart disease",
          "no heart disease",
          "no heart disease",
          "no heart disease",
          "no heart disease",
          "no heart disease",
          "no heart disease",
          "no heart disease",
          "no heart disease",
          "no heart disease",
          "no heart disease",
          "no heart disease",
          "no heart disease",
          "no heart disease",
          "no heart disease",
          "no heart disease",
          "no heart disease"
         ],
         "yaxis": "y2"
        }
       ],
       "layout": {
        "barmode": "overlay",
        "hovermode": "closest",
        "legend": {
         "traceorder": "reversed"
        },
        "template": {
         "data": {
          "bar": [
           {
            "error_x": {
             "color": "#2a3f5f"
            },
            "error_y": {
             "color": "#2a3f5f"
            },
            "marker": {
             "line": {
              "color": "#E5ECF6",
              "width": 0.5
             }
            },
            "type": "bar"
           }
          ],
          "barpolar": [
           {
            "marker": {
             "line": {
              "color": "#E5ECF6",
              "width": 0.5
             }
            },
            "type": "barpolar"
           }
          ],
          "carpet": [
           {
            "aaxis": {
             "endlinecolor": "#2a3f5f",
             "gridcolor": "white",
             "linecolor": "white",
             "minorgridcolor": "white",
             "startlinecolor": "#2a3f5f"
            },
            "baxis": {
             "endlinecolor": "#2a3f5f",
             "gridcolor": "white",
             "linecolor": "white",
             "minorgridcolor": "white",
             "startlinecolor": "#2a3f5f"
            },
            "type": "carpet"
           }
          ],
          "choropleth": [
           {
            "colorbar": {
             "outlinewidth": 0,
             "ticks": ""
            },
            "type": "choropleth"
           }
          ],
          "contour": [
           {
            "colorbar": {
             "outlinewidth": 0,
             "ticks": ""
            },
            "colorscale": [
             [
              0,
              "#0d0887"
             ],
             [
              0.1111111111111111,
              "#46039f"
             ],
             [
              0.2222222222222222,
              "#7201a8"
             ],
             [
              0.3333333333333333,
              "#9c179e"
             ],
             [
              0.4444444444444444,
              "#bd3786"
             ],
             [
              0.5555555555555556,
              "#d8576b"
             ],
             [
              0.6666666666666666,
              "#ed7953"
             ],
             [
              0.7777777777777778,
              "#fb9f3a"
             ],
             [
              0.8888888888888888,
              "#fdca26"
             ],
             [
              1,
              "#f0f921"
             ]
            ],
            "type": "contour"
           }
          ],
          "contourcarpet": [
           {
            "colorbar": {
             "outlinewidth": 0,
             "ticks": ""
            },
            "type": "contourcarpet"
           }
          ],
          "heatmap": [
           {
            "colorbar": {
             "outlinewidth": 0,
             "ticks": ""
            },
            "colorscale": [
             [
              0,
              "#0d0887"
             ],
             [
              0.1111111111111111,
              "#46039f"
             ],
             [
              0.2222222222222222,
              "#7201a8"
             ],
             [
              0.3333333333333333,
              "#9c179e"
             ],
             [
              0.4444444444444444,
              "#bd3786"
             ],
             [
              0.5555555555555556,
              "#d8576b"
             ],
             [
              0.6666666666666666,
              "#ed7953"
             ],
             [
              0.7777777777777778,
              "#fb9f3a"
             ],
             [
              0.8888888888888888,
              "#fdca26"
             ],
             [
              1,
              "#f0f921"
             ]
            ],
            "type": "heatmap"
           }
          ],
          "heatmapgl": [
           {
            "colorbar": {
             "outlinewidth": 0,
             "ticks": ""
            },
            "colorscale": [
             [
              0,
              "#0d0887"
             ],
             [
              0.1111111111111111,
              "#46039f"
             ],
             [
              0.2222222222222222,
              "#7201a8"
             ],
             [
              0.3333333333333333,
              "#9c179e"
             ],
             [
              0.4444444444444444,
              "#bd3786"
             ],
             [
              0.5555555555555556,
              "#d8576b"
             ],
             [
              0.6666666666666666,
              "#ed7953"
             ],
             [
              0.7777777777777778,
              "#fb9f3a"
             ],
             [
              0.8888888888888888,
              "#fdca26"
             ],
             [
              1,
              "#f0f921"
             ]
            ],
            "type": "heatmapgl"
           }
          ],
          "histogram": [
           {
            "marker": {
             "colorbar": {
              "outlinewidth": 0,
              "ticks": ""
             }
            },
            "type": "histogram"
           }
          ],
          "histogram2d": [
           {
            "colorbar": {
             "outlinewidth": 0,
             "ticks": ""
            },
            "colorscale": [
             [
              0,
              "#0d0887"
             ],
             [
              0.1111111111111111,
              "#46039f"
             ],
             [
              0.2222222222222222,
              "#7201a8"
             ],
             [
              0.3333333333333333,
              "#9c179e"
             ],
             [
              0.4444444444444444,
              "#bd3786"
             ],
             [
              0.5555555555555556,
              "#d8576b"
             ],
             [
              0.6666666666666666,
              "#ed7953"
             ],
             [
              0.7777777777777778,
              "#fb9f3a"
             ],
             [
              0.8888888888888888,
              "#fdca26"
             ],
             [
              1,
              "#f0f921"
             ]
            ],
            "type": "histogram2d"
           }
          ],
          "histogram2dcontour": [
           {
            "colorbar": {
             "outlinewidth": 0,
             "ticks": ""
            },
            "colorscale": [
             [
              0,
              "#0d0887"
             ],
             [
              0.1111111111111111,
              "#46039f"
             ],
             [
              0.2222222222222222,
              "#7201a8"
             ],
             [
              0.3333333333333333,
              "#9c179e"
             ],
             [
              0.4444444444444444,
              "#bd3786"
             ],
             [
              0.5555555555555556,
              "#d8576b"
             ],
             [
              0.6666666666666666,
              "#ed7953"
             ],
             [
              0.7777777777777778,
              "#fb9f3a"
             ],
             [
              0.8888888888888888,
              "#fdca26"
             ],
             [
              1,
              "#f0f921"
             ]
            ],
            "type": "histogram2dcontour"
           }
          ],
          "mesh3d": [
           {
            "colorbar": {
             "outlinewidth": 0,
             "ticks": ""
            },
            "type": "mesh3d"
           }
          ],
          "parcoords": [
           {
            "line": {
             "colorbar": {
              "outlinewidth": 0,
              "ticks": ""
             }
            },
            "type": "parcoords"
           }
          ],
          "pie": [
           {
            "automargin": true,
            "type": "pie"
           }
          ],
          "scatter": [
           {
            "marker": {
             "colorbar": {
              "outlinewidth": 0,
              "ticks": ""
             }
            },
            "type": "scatter"
           }
          ],
          "scatter3d": [
           {
            "line": {
             "colorbar": {
              "outlinewidth": 0,
              "ticks": ""
             }
            },
            "marker": {
             "colorbar": {
              "outlinewidth": 0,
              "ticks": ""
             }
            },
            "type": "scatter3d"
           }
          ],
          "scattercarpet": [
           {
            "marker": {
             "colorbar": {
              "outlinewidth": 0,
              "ticks": ""
             }
            },
            "type": "scattercarpet"
           }
          ],
          "scattergeo": [
           {
            "marker": {
             "colorbar": {
              "outlinewidth": 0,
              "ticks": ""
             }
            },
            "type": "scattergeo"
           }
          ],
          "scattergl": [
           {
            "marker": {
             "colorbar": {
              "outlinewidth": 0,
              "ticks": ""
             }
            },
            "type": "scattergl"
           }
          ],
          "scattermapbox": [
           {
            "marker": {
             "colorbar": {
              "outlinewidth": 0,
              "ticks": ""
             }
            },
            "type": "scattermapbox"
           }
          ],
          "scatterpolar": [
           {
            "marker": {
             "colorbar": {
              "outlinewidth": 0,
              "ticks": ""
             }
            },
            "type": "scatterpolar"
           }
          ],
          "scatterpolargl": [
           {
            "marker": {
             "colorbar": {
              "outlinewidth": 0,
              "ticks": ""
             }
            },
            "type": "scatterpolargl"
           }
          ],
          "scatterternary": [
           {
            "marker": {
             "colorbar": {
              "outlinewidth": 0,
              "ticks": ""
             }
            },
            "type": "scatterternary"
           }
          ],
          "surface": [
           {
            "colorbar": {
             "outlinewidth": 0,
             "ticks": ""
            },
            "colorscale": [
             [
              0,
              "#0d0887"
             ],
             [
              0.1111111111111111,
              "#46039f"
             ],
             [
              0.2222222222222222,
              "#7201a8"
             ],
             [
              0.3333333333333333,
              "#9c179e"
             ],
             [
              0.4444444444444444,
              "#bd3786"
             ],
             [
              0.5555555555555556,
              "#d8576b"
             ],
             [
              0.6666666666666666,
              "#ed7953"
             ],
             [
              0.7777777777777778,
              "#fb9f3a"
             ],
             [
              0.8888888888888888,
              "#fdca26"
             ],
             [
              1,
              "#f0f921"
             ]
            ],
            "type": "surface"
           }
          ],
          "table": [
           {
            "cells": {
             "fill": {
              "color": "#EBF0F8"
             },
             "line": {
              "color": "white"
             }
            },
            "header": {
             "fill": {
              "color": "#C8D4E3"
             },
             "line": {
              "color": "white"
             }
            },
            "type": "table"
           }
          ]
         },
         "layout": {
          "annotationdefaults": {
           "arrowcolor": "#2a3f5f",
           "arrowhead": 0,
           "arrowwidth": 1
          },
          "coloraxis": {
           "colorbar": {
            "outlinewidth": 0,
            "ticks": ""
           }
          },
          "colorscale": {
           "diverging": [
            [
             0,
             "#8e0152"
            ],
            [
             0.1,
             "#c51b7d"
            ],
            [
             0.2,
             "#de77ae"
            ],
            [
             0.3,
             "#f1b6da"
            ],
            [
             0.4,
             "#fde0ef"
            ],
            [
             0.5,
             "#f7f7f7"
            ],
            [
             0.6,
             "#e6f5d0"
            ],
            [
             0.7,
             "#b8e186"
            ],
            [
             0.8,
             "#7fbc41"
            ],
            [
             0.9,
             "#4d9221"
            ],
            [
             1,
             "#276419"
            ]
           ],
           "sequential": [
            [
             0,
             "#0d0887"
            ],
            [
             0.1111111111111111,
             "#46039f"
            ],
            [
             0.2222222222222222,
             "#7201a8"
            ],
            [
             0.3333333333333333,
             "#9c179e"
            ],
            [
             0.4444444444444444,
             "#bd3786"
            ],
            [
             0.5555555555555556,
             "#d8576b"
            ],
            [
             0.6666666666666666,
             "#ed7953"
            ],
            [
             0.7777777777777778,
             "#fb9f3a"
            ],
            [
             0.8888888888888888,
             "#fdca26"
            ],
            [
             1,
             "#f0f921"
            ]
           ],
           "sequentialminus": [
            [
             0,
             "#0d0887"
            ],
            [
             0.1111111111111111,
             "#46039f"
            ],
            [
             0.2222222222222222,
             "#7201a8"
            ],
            [
             0.3333333333333333,
             "#9c179e"
            ],
            [
             0.4444444444444444,
             "#bd3786"
            ],
            [
             0.5555555555555556,
             "#d8576b"
            ],
            [
             0.6666666666666666,
             "#ed7953"
            ],
            [
             0.7777777777777778,
             "#fb9f3a"
            ],
            [
             0.8888888888888888,
             "#fdca26"
            ],
            [
             1,
             "#f0f921"
            ]
           ]
          },
          "colorway": [
           "#636efa",
           "#EF553B",
           "#00cc96",
           "#ab63fa",
           "#FFA15A",
           "#19d3f3",
           "#FF6692",
           "#B6E880",
           "#FF97FF",
           "#FECB52"
          ],
          "font": {
           "color": "#2a3f5f"
          },
          "geo": {
           "bgcolor": "white",
           "lakecolor": "white",
           "landcolor": "#E5ECF6",
           "showlakes": true,
           "showland": true,
           "subunitcolor": "white"
          },
          "hoverlabel": {
           "align": "left"
          },
          "hovermode": "closest",
          "mapbox": {
           "style": "light"
          },
          "paper_bgcolor": "white",
          "plot_bgcolor": "#E5ECF6",
          "polar": {
           "angularaxis": {
            "gridcolor": "white",
            "linecolor": "white",
            "ticks": ""
           },
           "bgcolor": "#E5ECF6",
           "radialaxis": {
            "gridcolor": "white",
            "linecolor": "white",
            "ticks": ""
           }
          },
          "scene": {
           "xaxis": {
            "backgroundcolor": "#E5ECF6",
            "gridcolor": "white",
            "gridwidth": 2,
            "linecolor": "white",
            "showbackground": true,
            "ticks": "",
            "zerolinecolor": "white"
           },
           "yaxis": {
            "backgroundcolor": "#E5ECF6",
            "gridcolor": "white",
            "gridwidth": 2,
            "linecolor": "white",
            "showbackground": true,
            "ticks": "",
            "zerolinecolor": "white"
           },
           "zaxis": {
            "backgroundcolor": "#E5ECF6",
            "gridcolor": "white",
            "gridwidth": 2,
            "linecolor": "white",
            "showbackground": true,
            "ticks": "",
            "zerolinecolor": "white"
           }
          },
          "shapedefaults": {
           "line": {
            "color": "#2a3f5f"
           }
          },
          "ternary": {
           "aaxis": {
            "gridcolor": "white",
            "linecolor": "white",
            "ticks": ""
           },
           "baxis": {
            "gridcolor": "white",
            "linecolor": "white",
            "ticks": ""
           },
           "bgcolor": "#E5ECF6",
           "caxis": {
            "gridcolor": "white",
            "linecolor": "white",
            "ticks": ""
           }
          },
          "title": {
           "x": 0.05
          },
          "xaxis": {
           "automargin": true,
           "gridcolor": "white",
           "linecolor": "white",
           "ticks": "",
           "title": {
            "standoff": 15
           },
           "zerolinecolor": "white",
           "zerolinewidth": 2
          },
          "yaxis": {
           "automargin": true,
           "gridcolor": "white",
           "linecolor": "white",
           "ticks": "",
           "title": {
            "standoff": 15
           },
           "zerolinecolor": "white",
           "zerolinewidth": 2
          }
         }
        },
        "title": {
         "text": "Distribution Plot of Thalach by Condition Type"
        },
        "xaxis": {
         "anchor": "y2",
         "domain": [
          0,
          1
         ],
         "zeroline": false
        },
        "yaxis": {
         "anchor": "free",
         "domain": [
          0.35,
          1
         ],
         "position": 0
        },
        "yaxis2": {
         "anchor": "x",
         "domain": [
          0,
          0.25
         ],
         "dtick": 1,
         "showticklabels": false
        }
       }
      },
      "text/html": [
       "<div>                            <div id=\"2a05c70c-f50d-406c-bc3d-95d7b9ad4b6e\" class=\"plotly-graph-div\" style=\"height:525px; width:100%;\"></div>            <script type=\"text/javascript\">                require([\"plotly\"], function(Plotly) {                    window.PLOTLYENV=window.PLOTLYENV || {};                                    if (document.getElementById(\"2a05c70c-f50d-406c-bc3d-95d7b9ad4b6e\")) {                    Plotly.newPlot(                        \"2a05c70c-f50d-406c-bc3d-95d7b9ad4b6e\",                        [{\"autobinx\": false, \"histnorm\": \"probability density\", \"legendgroup\": \"heart disease\", \"marker\": {\"color\": \"rgb(31, 119, 180)\"}, \"name\": \"heart disease\", \"opacity\": 0.7, \"type\": \"histogram\", \"x\": [174, 145, 159, 125, 162, 132, 182, 120, 103, 160, 152, 174, 141, 164, 195, 168, 112, 146, 150, 150, 131, 158, 97, 155, 134, 165, 173, 150, 142, 163, 139, 126, 152, 147, 162, 125, 109, 141, 108, 129, 163, 125, 71, 165, 132, 114, 127, 158, 96, 132, 147, 154, 169, 136, 132, 144, 160, 145, 99, 106, 154, 140, 146, 125, 169, 138, 161, 132, 142, 141, 157, 170, 160, 144, 161, 140, 142, 143, 90, 162, 140, 131, 130, 105, 146, 111, 171, 156, 112, 124, 88, 143, 123, 115, 133, 103, 144, 105, 150, 111, 132, 145, 117, 130, 109, 113, 126, 108, 116, 155, 95, 161, 160, 168, 142, 122, 173, 128, 126, 166, 150, 118, 120, 144, 147, 144, 153, 177, 120, 136, 125, 158, 114, 181, 140, 130, 156], \"xaxis\": \"x\", \"xbins\": {\"end\": 195.0, \"size\": 0.5, \"start\": 71.0}, \"yaxis\": \"y\"}, {\"autobinx\": false, \"histnorm\": \"probability density\", \"legendgroup\": \"no heart disease\", \"marker\": {\"color\": \"rgb(255, 127, 14)\"}, \"name\": \"no heart disease\", \"opacity\": 0.7, \"type\": \"histogram\", \"x\": [131, 151, 114, 144, 155, 150, 171, 145, 162, 162, 190, 178, 125, 178, 178, 174, 121, 162, 143, 179, 140, 164, 169, 153, 178, 163, 161, 155, 166, 156, 159, 172, 158, 184, 162, 162, 171, 180, 156, 172, 175, 138, 170, 173, 188, 170, 162, 132, 172, 168, 153, 163, 182, 174, 192, 202, 116, 130, 115, 151, 160, 172, 152, 157, 148, 151, 133, 172, 146, 137, 160, 96, 157, 154, 172, 165, 174, 173, 152, 147, 158, 170, 165, 167, 163, 152, 173, 169, 162, 143, 166, 123, 142, 149, 154, 157, 158, 163, 139, 175, 156, 179, 160, 175, 149, 179, 180, 169, 165, 162, 194, 173, 150, 168, 179, 172, 152, 182, 179, 187, 170, 125, 142, 151, 138, 140, 122, 105, 154, 157, 163, 161, 182, 122, 131, 148, 126, 163, 159, 168, 160, 143, 160, 111, 147, 186, 159, 163, 186, 143, 152, 148, 152, 185, 181, 171, 161, 122, 178, 182], \"xaxis\": \"x\", \"xbins\": {\"end\": 202.0, \"size\": 0.5, \"start\": 96.0}, \"yaxis\": \"y\"}, {\"legendgroup\": \"heart disease\", \"marker\": {\"color\": \"rgb(31, 119, 180)\"}, \"mode\": \"lines\", \"name\": \"heart disease\", \"showlegend\": false, \"type\": \"scatter\", \"x\": [71.0, 71.248, 71.496, 71.744, 71.992, 72.24, 72.488, 72.736, 72.984, 73.232, 73.48, 73.728, 73.976, 74.224, 74.472, 74.72, 74.968, 75.216, 75.464, 75.712, 75.96, 76.208, 76.456, 76.704, 76.952, 77.2, 77.44800000000001, 77.696, 77.944, 78.19200000000001, 78.44, 78.688, 78.936, 79.184, 79.432, 79.68, 79.928, 80.176, 80.424, 80.672, 80.92, 81.168, 81.416, 81.664, 81.912, 82.16, 82.408, 82.656, 82.904, 83.152, 83.4, 83.648, 83.896, 84.144, 84.392, 84.64, 84.888, 85.136, 85.384, 85.632, 85.88, 86.128, 86.376, 86.624, 86.872, 87.12, 87.368, 87.616, 87.864, 88.112, 88.36, 88.608, 88.856, 89.104, 89.352, 89.6, 89.848, 90.096, 90.344, 90.592, 90.84, 91.088, 91.336, 91.584, 91.832, 92.08, 92.328, 92.576, 92.824, 93.072, 93.32, 93.568, 93.816, 94.064, 94.312, 94.56, 94.80799999999999, 95.056, 95.304, 95.55199999999999, 95.8, 96.048, 96.29599999999999, 96.544, 96.792, 97.03999999999999, 97.288, 97.536, 97.78399999999999, 98.032, 98.28, 98.52799999999999, 98.776, 99.024, 99.27199999999999, 99.52, 99.768, 100.01599999999999, 100.264, 100.512, 100.76, 101.008, 101.256, 101.504, 101.752, 102.0, 102.248, 102.496, 102.744, 102.992, 103.24000000000001, 103.488, 103.73599999999999, 103.98400000000001, 104.232, 104.47999999999999, 104.72800000000001, 104.976, 105.22399999999999, 105.47200000000001, 105.72, 105.968, 106.21600000000001, 106.464, 106.712, 106.96000000000001, 107.208, 107.456, 107.70400000000001, 107.952, 108.2, 108.44800000000001, 108.696, 108.944, 109.19200000000001, 109.44, 109.688, 109.936, 110.184, 110.432, 110.68, 110.928, 111.176, 111.424, 111.672, 111.92, 112.168, 112.416, 112.664, 112.912, 113.16, 113.408, 113.656, 113.904, 114.152, 114.4, 114.648, 114.896, 115.144, 115.392, 115.64, 115.888, 116.136, 116.384, 116.632, 116.88, 117.128, 117.376, 117.624, 117.872, 118.12, 118.368, 118.616, 118.864, 119.112, 119.36, 119.608, 119.856, 120.104, 120.352, 120.6, 120.848, 121.096, 121.344, 121.592, 121.84, 122.088, 122.336, 122.584, 122.832, 123.08, 123.328, 123.576, 123.824, 124.072, 124.32, 124.568, 124.816, 125.064, 125.312, 125.56, 125.80799999999999, 126.056, 126.304, 126.55199999999999, 126.8, 127.048, 127.29599999999999, 127.544, 127.792, 128.04, 128.288, 128.536, 128.784, 129.03199999999998, 129.28, 129.528, 129.776, 130.024, 130.272, 130.52, 130.768, 131.016, 131.264, 131.512, 131.76, 132.008, 132.256, 132.504, 132.752, 133.0, 133.248, 133.496, 133.744, 133.992, 134.24, 134.488, 134.736, 134.984, 135.232, 135.48000000000002, 135.728, 135.976, 136.224, 136.47199999999998, 136.72, 136.96800000000002, 137.216, 137.464, 137.712, 137.95999999999998, 138.208, 138.45600000000002, 138.704, 138.952, 139.2, 139.44799999999998, 139.696, 139.94400000000002, 140.192, 140.44, 140.688, 140.936, 141.184, 141.43200000000002, 141.68, 141.928, 142.176, 142.424, 142.672, 142.92000000000002, 143.168, 143.416, 143.664, 143.912, 144.16, 144.40800000000002, 144.656, 144.904, 145.152, 145.4, 145.648, 145.89600000000002, 146.144, 146.392, 146.64, 146.888, 147.136, 147.38400000000001, 147.632, 147.88, 148.128, 148.376, 148.624, 148.872, 149.12, 149.368, 149.61599999999999, 149.864, 150.112, 150.36, 150.608, 150.856, 151.10399999999998, 151.352, 151.6, 151.848, 152.096, 152.344, 152.59199999999998, 152.84, 153.088, 153.336, 153.584, 153.832, 154.07999999999998, 154.328, 154.576, 154.824, 155.072, 155.32, 155.56799999999998, 155.816, 156.064, 156.312, 156.56, 156.808, 157.05599999999998, 157.304, 157.55200000000002, 157.8, 158.048, 158.296, 158.54399999999998, 158.792, 159.04000000000002, 159.288, 159.536, 159.784, 160.03199999999998, 160.28, 160.52800000000002, 160.776, 161.024, 161.272, 161.51999999999998, 161.768, 162.01600000000002, 162.264, 162.512, 162.76, 163.00799999999998, 163.256, 163.50400000000002, 163.752, 164.0, 164.248, 164.49599999999998, 164.744, 164.99200000000002, 165.24, 165.488, 165.736, 165.98399999999998, 166.232, 166.48000000000002, 166.728, 166.976, 167.224, 167.47199999999998, 167.72, 167.96800000000002, 168.216, 168.464, 168.712, 168.95999999999998, 169.208, 169.45600000000002, 169.704, 169.952, 170.2, 170.44799999999998, 170.696, 170.94400000000002, 171.192, 171.44, 171.688, 171.936, 172.184, 172.43200000000002, 172.68, 172.928, 173.176, 173.424, 173.672, 173.92000000000002, 174.168, 174.416, 174.664, 174.912, 175.16, 175.40800000000002, 175.656, 175.904, 176.152, 176.4, 176.648, 176.89600000000002, 177.144, 177.392, 177.64, 177.888, 178.136, 178.38400000000001, 178.632, 178.88, 179.128, 179.376, 179.624, 179.872, 180.12, 180.368, 180.61599999999999, 180.864, 181.112, 181.36, 181.608, 181.856, 182.10399999999998, 182.352, 182.6, 182.848, 183.096, 183.344, 183.59199999999998, 183.84, 184.088, 184.336, 184.584, 184.832, 185.07999999999998, 185.328, 185.576, 185.824, 186.072, 186.32, 186.56799999999998, 186.816, 187.064, 187.312, 187.56, 187.808, 188.05599999999998, 188.304, 188.55200000000002, 188.8, 189.048, 189.296, 189.54399999999998, 189.792, 190.04000000000002, 190.288, 190.536, 190.784, 191.03199999999998, 191.28, 191.52800000000002, 191.776, 192.024, 192.272, 192.51999999999998, 192.768, 193.01600000000002, 193.264, 193.512, 193.76, 194.00799999999998, 194.256, 194.50400000000002, 194.752], \"xaxis\": \"x\", \"y\": [0.0004336350921207941, 0.0004396332208243449, 0.0004456810068886824, 0.0004517931144515854, 0.00045798512524099043, 0.0004642735099112146, 0.00047067559503392213, 0.00047720952585770637, 0.00048389422497681394, 0.0004907493470755942, 0.0004977952299404912, 0.0005050528419557247, 0.0005125437263219138, 0.000520289942258722, 0.000528314003472937, 0.0005366388141920371, 0.000545287603080203, 0.0005542838553687003, 0.0005636512435454421, 0.0005734135569593651, 0.0005835946307037571, 0.0005942182741489563, 0.0006053081994986878, 0.0006168879507458314, 0.0006289808334024667, 0.0006416098453756755, 0.000654797609354862, 0.0006685663070681806, 0.0006829376157551866, 0.0006979326471901162, 0.0007135718895752403, 0.0007298751526067387, 0.0007468615159964798, 0.00076454928171229, 0.0007829559301766166, 0.0008020980806392914, 0.0008219914559145469, 0.0008426508516454704, 0.0008640901102310954, 0.0008863220995224979, 0.0009093586963645858, 0.0009332107750300862, 0.0009578882005617833, 0.000983399827008354, 0.0010097535005085072, 0.0010369560671477651, 0.0010650133854822666, 0.0010939303435945364, 0.0011237108805176809, 0.0011543580118368304, 0.0011858738592501555, 0.001218259683846754, 0.0012515159228348302, 0.001285642229431707, 0.001320637515606742, 0.001356499997349827, 0.001393227242121665, 0.001430816218127681, 0.0014692633450452284, 0.0015085645458238598, 0.0015487152991709335, 0.0015897106923296019, 0.0016315454737536302, 0.001674214105283211, 0.0017177108134283263, 0.0017620296393708722, 0.001807164487304252, 0.0018531091707388457, 0.0018998574564139496, 0.0019474031054716283, 0.001995739911564759, 0.0020448617355909287, 0.0020947625367653375, 0.0021454363997694685, 0.002196877557737823, 0.002249080410872603, 0.0023020395405053563, 0.0023557497184554807, 0.0024102059115677396, 0.002465403281344583, 0.0025213371786236083, 0.002578003133286308, 0.0026353968390203956, 0.0026935141331950363, 0.002752350971945463, 0.0028119034006006726, 0.0028721675196252236, 0.0029331394462828956, 0.0029948152722661598, 0.003057191017570899, 0.0031202625809301577, 0.0031840256871535303, 0.0032484758317504955, 0.003313608223245472, 0.0033794177236200996, 0.0034458987873433565, 0.0035130453994733054, 0.003580851013334035, 0.0036493084882885892, 0.0037184100281428814, 0.0037881471207260636, 0.003858510479200121, 0.003929489985655047, 0.004001074637545692, 0.004073252497522275, 0.00414601064719839, 0.00421933514538836, 0.0042932109913292335, 0.004367622093382673, 0.0044425512436873215, 0.00451798009920375, 0.0045938891695617, 0.004670257812082809, 0.004747064234312011, 0.004824285504347122, 0.004901897569208963, 0.004979875281444302, 0.005058192434100811, 0.005136821804157487, 0.005215735204436139, 0.0052949035439598035, 0.005374296896662302, 0.005453884578291076, 0.0055336352312817215, 0.005613516917319573, 0.0056934972172401265, 0.00577354333785747, 0.0058536222252484164, 0.005933700683960075, 0.0060137455015507706, 0.00609372357781914, 0.006173602058023902, 0.006253348469348527, 0.006332930859820214, 0.006412317938852779, 0.006491479218547764, 0.006570385154858181, 0.006649007287695285, 0.006727318379040433, 0.006805292548112262, 0.006882905402634111, 0.006960134165248199, 0.007036957794131265, 0.007113357096882187, 0.007189314836774617, 0.0072648158304974425, 0.0073398470365430525, 0.007414397633447233, 0.007488459087135342, 0.007562025206687159, 0.007635092187896585, 0.007707658644072331, 0.007779725623601623, 0.007851296613879781, 0.007922377531294218, 0.007992976697041408, 0.0080631047986491, 0.008132774837172417, 0.008202002060131558, 0.008270803880359672, 0.008339199781030579, 0.008407211207238143, 0.008474861444599965, 0.008542175485457977, 0.008609179883345777, 0.008675902596487551, 0.008742372821183663, 0.008808620816024779, 0.008874677717956952, 0.008940575351295128, 0.00900634603085075, 0.009072022360399789, 0.009137637027770231, 0.009203222597872368, 0.009268811305029927, 0.009334434845995847, 0.009400124175051842, 0.009465909302596155, 0.009531819098618452, 0.009597881102445381, 0.009664121340113047, 0.00973056415068546, 0.009797232022790108, 0.009864145442583072, 0.009931322754287252, 0.00999878003436891, 0.010066530980329695, 0.010134586814994056, 0.010202956207067189, 0.010271645208625876, 0.010340657210084241, 0.010409992913051933, 0.010479650321370403, 0.010549624750478857, 0.010619908855122746, 0.010690492675277968, 0.01076136370002235, 0.010832506948945338, 0.010903905070546312, 0.010975538456935198, 0.011047385374014548, 0.01111942210619314, 0.011191623114558008, 0.011263961207314672, 0.011336407721197482, 0.01140893271245167, 0.011481505155899786, 0.011554093150525965, 0.011626664129944337, 0.011699185076063804, 0.01177162273421901, 0.011843943828009887, 0.011916115272078148, 0.011988104381049544, 0.012059879072885691, 0.01213140806491969, 0.012202661060893719, 0.012273608927376514, 0.012344223858011932, 0.012414479524137224, 0.012484351210410728, 0.01255381593420187, 0.012622852547622547, 0.012691441821214993, 0.012759566508458626, 0.012827211390413859, 0.012894363299984592, 0.012961011125451331, 0.013027145793102232, 0.01309276022896835, 0.013157849299850918, 0.013222409734010489, 0.01328644002206894, 0.013349940298854314, 0.013412912207093168, 0.013475358744024429, 0.013537284092170716, 0.013598693435656787, 0.013659592763607672, 0.013719988662291342, 0.013779888097789326, 0.013839298191083739, 0.0138982259875392, 0.013956678222831219, 0.014014661087429525, 0.014072179991783566, 0.014129239334377885, 0.01418584227482648, 0.014241990514158758, 0.01429768408441213, 0.014352921149592097, 0.014407697819985767, 0.014462007981722307, 0.014515843143364134, 0.014569192301184657, 0.014622041824646114, 0.014674375363432142, 0.014726173777218281, 0.01477741508917959, 0.01482807446403918, 0.014878124211258037, 0.014927533813754189, 0.014976269982322809, 0.015024296735707245, 0.015071575506048837, 0.015118065269220332, 0.015163722699327115, 0.015208502346444932, 0.015252356836451368, 0.015295237091607227, 0.01533709257035092, 0.015377871524588516, 0.015417521272595035, 0.015455988485490266, 0.01549321948511609, 0.015529160551025122, 0.015563758234190457, 0.015596959674967738, 0.015628712922782048, 0.01565896725497515, 0.015687673492233344, 0.015714784308023318, 0.01574025452949203, 0.015764041427337783, 0.01578610499223271, 0.015806408195469447, 0.015824917231620036, 0.015841601741127375, 0.015856435010901712, 0.015869394151162997, 0.0158804602469538, 0.015889618482946025, 0.01589685824037414, 0.015902173165148872, 0.015905561206434108, 0.015907024625205542, 0.01590656997254946, 0.015904208037702403, 0.01589995376607578, 0.01589382614774915, 0.01588584807715381, 0.01587604618489882, 0.015864450642914408, 0.015851094944301116, 0.015836015659474165, 0.015819252170381, 0.01580084638474265, 0.015780842432426827, 0.01575928634619941, 0.015736225729221932, 0.015711709411763038, 0.015685787099672336, 0.015658509017224733, 0.015629925546981005, 0.01560008686932685, 0.015569042604347667, 0.01553684145866996, 0.015503530879852253, 0.015469156720841105, 0.01543376291692014, 0.015397391177473286, 0.015360080694759567, 0.015321867871756647, 0.015282786070973314, 0.015242865385963077, 0.015202132437087828, 0.015160610192889355, 0.015118317818224633, 0.015075270550112768, 0.015031479602028327, 0.01498695209715823, 0.014941691030921333, 0.014895695262831186, 0.014848959537566458, 0.014801474534900456, 0.014753226947934498, 0.014704199588879622, 0.014654371521439618, 0.014603718218666876, 0.014552211744992903, 0.014499820960976966, 0.014446511749173335, 0.014392247259387633, 0.014336988171479059, 0.014280692973767259, 0.014223318255021322, 0.014164819007943369, 0.014105148942012377, 0.014044260803522656, 0.013982106700638859, 0.013918638431292088, 0.01385380781176178, 0.013787567003823796, 0.013719868838395625, 0.013650667133675423, 0.013579917005850156, 0.013507575170540237, 0.013433600233250648, 0.013357952967213064, 0.01328059657712587, 0.013201496947430407, 0.013120622873899718, 0.0130379462774595, 0.012953442399308401, 0.01286708997655582, 0.012778871397747088, 0.012688772837798238, 0.012596784372014986, 0.012502900069018481, 0.012407118062547915, 0.012309440602251158, 0.012209874083710694, 0.012108429058083134, 0.012005120221852536, 0.011899966387313487, 0.011792990434505957, 0.011684219245421438, 0.011573683621387446, 0.011461418184615262, 0.011347461264963117, 0.011231854773024066, 0.01111464406069425, 0.010995877770413685, 0.010875607674296755, 0.010753888504385531, 0.010630777775264827, 0.010506335600273661, 0.010380624502535058, 0.010253709222004857, 0.010125656519710221, 0.00999653498031191, 0.009866414814080482, 0.009735367659326696, 0.00960346638627099, 0.009470784903277208, 0.009337397966311384, 0.009203380992419208, 0.009068809877946199, 0.008933760822152666, 0.008798310156803216, 0.008662534182236826, 0.008526509010350878, 0.008390310414860306, 0.008254013689121844, 0.00811769351174445, 0.007981423820140778, 0.007845277692110162, 0.007709327235483223, 0.007573643485801314, 0.007438296311950269, 0.007303354329619359, 0.007168884822410507, 0.007034953670383471, 0.006901625285785158, 0.006768962555680904, 0.006637026791177502, 0.006505877682906181, 0.006375573262414303, 0.006246169869102179, 0.006117722122330212, 0.005990282898317081, 0.005863903311446676, 0.005738632699604426, 0.005614518613167113, 0.005491606807279821, 0.005369941237063755, 0.005249564055412413, 0.005130515613049293, 0.005012834460538707, 0.00489655735195999, 0.004781719249977366, 0.004668353332059379, 0.0045564909976256295, 0.004446161875921807, 0.00433739383444928, 0.004230212987799421, 0.004124643706767951, 0.004020708627648825, 0.003918428661631224, 0.003817823004246819, 0.003718909144836974, 0.0036217028760313925, 0.0035262183032506037, 0.0034324678542639498, 0.0033404622888531603, 0.003250210708648277, 0.0031617205672183125, 0.003074997680512212, 0.0029900462377584953, 0.0029068688129418466, 0.0028254663769837944, 0.0027458383107614092, 0.002667982419103451, 0.002591894945905995, 0.0025175705905118744, 0.00244500252549745, 0.002374182416008525, 0.0023051004407831375, 0.0022377453149941304, 0.0021721043150364767, 0.002108163305376597, 0.0020459067675701343, 0.001985317831543517, 0.0019263783092215109, 0.001869068730569219, 0.0018133683821015215, 0.0017592553478970184, 0.0017067065531363994, 0.0016556978101675687, 0.0016062038670813339, 0.0015581984587630035, 0.0015116543603658971, 0.0014665434431338188, 0.001422836732480275, 0.001380504468213339, 0.0013395161667763352, 0.001299840685356517, 0.0012614462876964101, 0.0012243007114258653, 0.001188371236717133, 0.0011536247560508495, 0.0011200278448673779, 0.001087546832866073, 0.001056147875704613, 0.0010257970268415934, 0.0009964603092585684, 0.0009681037867921743, 0.0009406936348035342, 0.0009141962099104263, 0.0008885781185080071, 0.0008638062838060155, 0.00083984801111454, 0.0008166710511166106, 0.0007942436608736265, 0.0007725346623196338, 0.0007515134980120076, 0.0007311502839192751, 0.0007114158590418317, 0.0006922818316776179, 0.000673720622162517], \"yaxis\": \"y\"}, {\"legendgroup\": \"no heart disease\", \"marker\": {\"color\": \"rgb(255, 127, 14)\"}, \"mode\": \"lines\", \"name\": \"no heart disease\", \"showlegend\": false, \"type\": \"scatter\", \"x\": [96.0, 96.212, 96.424, 96.636, 96.848, 97.06, 97.272, 97.484, 97.696, 97.908, 98.12, 98.332, 98.544, 98.756, 98.968, 99.18, 99.392, 99.604, 99.816, 100.028, 100.24, 100.452, 100.664, 100.876, 101.088, 101.3, 101.512, 101.724, 101.936, 102.148, 102.36, 102.572, 102.784, 102.996, 103.208, 103.42, 103.632, 103.844, 104.056, 104.268, 104.48, 104.69200000000001, 104.904, 105.116, 105.328, 105.53999999999999, 105.752, 105.964, 106.176, 106.388, 106.6, 106.812, 107.024, 107.236, 107.44800000000001, 107.66, 107.872, 108.084, 108.29599999999999, 108.508, 108.72, 108.932, 109.144, 109.356, 109.568, 109.78, 109.992, 110.20400000000001, 110.416, 110.628, 110.84, 111.05199999999999, 111.264, 111.476, 111.688, 111.9, 112.112, 112.324, 112.536, 112.748, 112.96000000000001, 113.172, 113.384, 113.596, 113.80799999999999, 114.02, 114.232, 114.444, 114.656, 114.868, 115.08, 115.292, 115.504, 115.71600000000001, 115.928, 116.14, 116.352, 116.564, 116.776, 116.988, 117.2, 117.412, 117.624, 117.836, 118.048, 118.26, 118.47200000000001, 118.684, 118.896, 119.108, 119.32, 119.532, 119.744, 119.956, 120.168, 120.38, 120.592, 120.804, 121.01599999999999, 121.22800000000001, 121.44, 121.652, 121.864, 122.076, 122.288, 122.5, 122.712, 122.924, 123.136, 123.348, 123.56, 123.77199999999999, 123.98400000000001, 124.196, 124.408, 124.62, 124.832, 125.044, 125.256, 125.468, 125.68, 125.892, 126.104, 126.316, 126.52799999999999, 126.74, 126.952, 127.164, 127.376, 127.588, 127.8, 128.012, 128.224, 128.436, 128.648, 128.86, 129.072, 129.284, 129.496, 129.708, 129.92000000000002, 130.132, 130.344, 130.55599999999998, 130.768, 130.98, 131.192, 131.404, 131.61599999999999, 131.828, 132.04, 132.252, 132.464, 132.676, 132.888, 133.1, 133.312, 133.524, 133.736, 133.948, 134.16, 134.372, 134.584, 134.796, 135.008, 135.22, 135.43200000000002, 135.644, 135.856, 136.06799999999998, 136.28, 136.492, 136.704, 136.916, 137.128, 137.34, 137.552, 137.764, 137.976, 138.188, 138.4, 138.612, 138.824, 139.036, 139.248, 139.46, 139.672, 139.88400000000001, 140.096, 140.308, 140.52, 140.732, 140.94400000000002, 141.156, 141.368, 141.57999999999998, 141.792, 142.004, 142.216, 142.428, 142.64, 142.852, 143.064, 143.276, 143.488, 143.7, 143.912, 144.124, 144.336, 144.548, 144.76, 144.972, 145.184, 145.39600000000002, 145.608, 145.82, 146.03199999999998, 146.244, 146.45600000000002, 146.668, 146.88, 147.09199999999998, 147.304, 147.516, 147.728, 147.94, 148.152, 148.364, 148.576, 148.788, 149.0, 149.212, 149.424, 149.636, 149.848, 150.06, 150.272, 150.484, 150.696, 150.90800000000002, 151.12, 151.332, 151.54399999999998, 151.756, 151.96800000000002, 152.18, 152.392, 152.60399999999998, 152.816, 153.028, 153.24, 153.452, 153.664, 153.876, 154.088, 154.3, 154.512, 154.724, 154.936, 155.148, 155.36, 155.572, 155.784, 155.996, 156.208, 156.42000000000002, 156.632, 156.844, 157.05599999999998, 157.268, 157.48, 157.692, 157.904, 158.11599999999999, 158.328, 158.54, 158.752, 158.964, 159.176, 159.388, 159.6, 159.812, 160.024, 160.236, 160.44799999999998, 160.66, 160.872, 161.084, 161.296, 161.50799999999998, 161.72, 161.93200000000002, 162.144, 162.356, 162.56799999999998, 162.78, 162.99200000000002, 163.204, 163.416, 163.628, 163.84, 164.05200000000002, 164.264, 164.476, 164.688, 164.9, 165.112, 165.324, 165.536, 165.748, 165.95999999999998, 166.172, 166.38400000000001, 166.596, 166.808, 167.01999999999998, 167.232, 167.44400000000002, 167.656, 167.868, 168.07999999999998, 168.292, 168.50400000000002, 168.716, 168.928, 169.14, 169.352, 169.564, 169.776, 169.988, 170.2, 170.412, 170.624, 170.836, 171.048, 171.26, 171.47199999999998, 171.684, 171.89600000000002, 172.108, 172.32, 172.53199999999998, 172.744, 172.95600000000002, 173.168, 173.38, 173.59199999999998, 173.804, 174.01600000000002, 174.228, 174.44, 174.652, 174.864, 175.076, 175.288, 175.5, 175.712, 175.924, 176.136, 176.348, 176.56, 176.772, 176.98399999999998, 177.196, 177.40800000000002, 177.62, 177.832, 178.04399999999998, 178.256, 178.46800000000002, 178.68, 178.892, 179.10399999999998, 179.316, 179.52800000000002, 179.74, 179.952, 180.164, 180.376, 180.588, 180.8, 181.012, 181.224, 181.436, 181.648, 181.86, 182.072, 182.284, 182.49599999999998, 182.708, 182.92000000000002, 183.132, 183.344, 183.55599999999998, 183.768, 183.98000000000002, 184.192, 184.404, 184.61599999999999, 184.828, 185.04000000000002, 185.252, 185.464, 185.676, 185.888, 186.1, 186.312, 186.524, 186.736, 186.94799999999998, 187.16, 187.372, 187.584, 187.796, 188.00799999999998, 188.22, 188.43200000000002, 188.644, 188.856, 189.06799999999998, 189.28, 189.49200000000002, 189.704, 189.916, 190.128, 190.34, 190.55200000000002, 190.764, 190.976, 191.188, 191.4, 191.612, 191.824, 192.036, 192.248, 192.45999999999998, 192.672, 192.88400000000001, 193.096, 193.308, 193.51999999999998, 193.732, 193.94400000000002, 194.156, 194.368, 194.57999999999998, 194.792, 195.00400000000002, 195.216, 195.428, 195.64, 195.852, 196.064, 196.276, 196.488, 196.7, 196.912, 197.124, 197.336, 197.548, 197.76, 197.97199999999998, 198.184, 198.39600000000002, 198.608, 198.82, 199.03199999999998, 199.244, 199.45600000000002, 199.668, 199.88, 200.09199999999998, 200.304, 200.51600000000002, 200.728, 200.94, 201.152, 201.364, 201.576, 201.788], \"xaxis\": \"x\", \"y\": [0.0005770502172994777, 0.0005878741697746004, 0.0005987625473800732, 0.0006097236702626557, 0.0006207666156011882, 0.0006319012002437351, 0.0006431379598110147, 0.0006544881243721132, 0.000665963590818432, 0.0006775768920805392, 0.000689341163350118, 0.0007012701054853206, 0.000713377945792461, 0.00072567939639001, 0.0007381896103722868, 0.0007509241359998865, 0.0007638988691518367, 0.0007771300042806108, 0.0007906339841154864, 0.0008044274483623501, 0.0008185271816488127, 0.0008329500609626219, 0.0008477130028287613, 0.0008628329104663728, 0.0008783266211608887, 0.0008942108540794878, 0.000910502158749299, 0.000927216864407882, 0.0009443710304242888, 0.0009619803979767888, 0.000980060343160078, 0.0009986258316806503, 0.0010176913752841681, 0.0010372709900430624, 0.0010573781566165688, 0.0010780257825789225, 0.0010992261668946288, 0.001120990966602799, 0.0011433311657555302, 0.001166257046638314, 0.0011897781632837403, 0.0012139033172732282, 0.0012386405358054656, 0.0012639970519946787, 0.0012899792873469118, 0.0013165928363484025, 0.0013438424530867726, 0.0013717320398134352, 0.0014002646373444706, 0.001429442417187047, 0.0014592666752698202, 0.0014897378271483735, 0.0015208554045508414, 0.0015526180531246659, 0.0015850235312427738, 0.0016180687097265885, 0.0016517495723442272, 0.0016860612169449442, 0.0017209978570956826, 0.001756552824092016, 0.0017927185692243228, 0.0018294866661905202, 0.0018668478135588386, 0.0019047918371983249, 0.0019433076926106713, 0.001982383467114385, 0.0020220063818515484, 0.0020621627936077904, 0.0021028381964578883, 0.0021440172232721102, 0.0021856836471420157, 0.002227820382808671, 0.0022704094882006133, 0.002313432166213548, 0.0023568687668880737, 0.0024006987901653903, 0.0024449008894240824, 0.002489452876022449, 0.0025343317250912955, 0.0025795135828403696, 0.0026249737756576883, 0.002670686821294747, 0.00271662644244144, 0.0027627655830022983, 0.0028090764273901365, 0.0028555304231539596, 0.0029020983072552474, 0.002948750136299755, 0.002995455321021136, 0.003042182665297625, 0.0030889004099638444, 0.0031355762816562935, 0.003182177546903749, 0.00322867107164215, 0.0032750233862983307, 0.003321200756548119, 0.003367169259811767, 0.0034128948675048345, 0.003458343533014331, 0.003503481285319924, 0.0035482743281279447, 0.003592689144332636, 0.0036366926055648886, 0.003680252086534272, 0.0037233355838159074, 0.0037659118386805827, 0.0038079504635141893, 0.003849422071322867, 0.003890298407772439, 0.00393055248516646, 0.003970158717726087, 0.004009093057498286, 0.004047333130186372, 0.004084858370169452, 0.004121650153955159, 0.004157691931293413, 0.004192969353168121, 0.004227470395878988, 0.004261185480426999, 0.004294107586424747, 0.004326232359766567, 0.004357558213313721, 0.0043880864198755625, 0.004417821196800103, 0.004446769781524594, 0.004474942497479936, 0.004502352809790753, 0.004529017370265247, 0.004554956051226023, 0.004580191967793352, 0.004604751488295785, 0.004628664232549627, 0.004651963057816948, 0.004674684032321585, 0.0046968663962738905, 0.004718552510425873, 0.004739787792249806, 0.004760620639903754, 0.0047811023442168605, 0.004801286988994567, 0.004821231340009575, 0.004840994723106884, 0.004860638891911001, 0.004880227885679649, 0.004899827877900746, 0.004919507016277982, 0.004939335254794301, 0.004959384178582312, 0.004979726822365504, 0.005000437483264286, 0.00502159152878602, 0.00504326520083843, 0.0050655354166210045, 0.00508847956725916, 0.005112175315051447, 0.005136700390200157, 0.005162132387891676, 0.005188548566583716, 0.005216025648343011, 0.005244639622059185, 0.005274465550338366, 0.005305577380853821, 0.005338047762900971, 0.005371947869870332, 0.005407347228314917, 0.005444313554248153, 0.005482912597264982, 0.005523207993032727, 0.005565261124649488, 0.0056091309933168606, 0.005654874098720503, 0.005702544329457554, 0.005752192863793022, 0.005803868080969809, 0.005857615483238361, 0.00591347762871252, 0.005971494075098445, 0.006031701334283633, 0.006094132837713872, 0.0061588189124265, 0.006225786767551093, 0.006295060491031836, 0.006366661056270553, 0.006440606338337448, 0.006516911139345334, 0.006595587222535799, 0.006676643354581721, 0.006760085355568784, 0.0068459161560822405, 0.006934135860791919, 0.007024741817899953, 0.007117728693792039, 0.007213088552214571, 0.007310810937285544, 0.007410882959640095, 0.007513289385007761, 0.007618012724521588, 0.00772503332606796, 0.007834329465999067, 0.007945877440549795, 0.008059651656324943, 0.008175624719252367, 0.008293767521432013, 0.008414049325349353, 0.00853643784496515, 0.008660899323239227, 0.008787398605696353, 0.008915899209694487, 0.009046363389109559, 0.009178752194207933, 0.009313025526533672, 0.009449142188695065, 0.009587059928992045, 0.009726735480881309, 0.009868124597330408, 0.010011182080163977, 0.010155861804554024, 0.010302116738852823, 0.010449898960007843, 0.010599159664836379, 0.010749849177471163, 0.010901916953315029, 0.01105531157986676, 0.011209980774797679, 0.011365871381670173, 0.01152292936369671, 0.011681099795939336, 0.011840326856345515, 0.012000553816008395, 0.012161723029025647, 0.012323775922314732, 0.012486652985720308, 0.012650293762726876, 0.012814636842061916, 0.012979619850446766, 0.013145179446722626, 0.01331125131754836, 0.013477770174836371, 0.013644669755063347, 0.013811882820564107, 0.013979341162890326, 0.014146975608292572, 0.014314716025362934, 0.014482491334858965, 0.014650229521716539, 0.01481785764924937, 0.014985301875530637, 0.015152487471950393, 0.01531933884394819, 0.015485779553930363, 0.015651732346393776, 0.015817119175296674, 0.015981861233738178, 0.01614587898603263, 0.016309092202291386, 0.01647141999565429, 0.01663278086234254, 0.016793092724733963, 0.016952272977692678, 0.017110238538412193, 0.017266905900055984, 0.017422191189503246, 0.017576010229524076, 0.017728278605721595, 0.017878911738585832, 0.018027824961003046, 0.018174933601558564, 0.018320153073954293, 0.018463398972839492, 0.01860458717632051, 0.018743633955374296, 0.018880456090338685, 0.019014970994595457, 0.019147096845491728, 0.01927675272247063, 0.01940385875229813, 0.01952833626118129, 0.0196501079334773, 0.019769097976590794, 0.019885232291550824, 0.01999843864865127, 0.020108646867429286, 0.02021578900014744, 0.020319799517838213, 0.02042061549786609, 0.02051817681186557, 0.020612426312819215, 0.02070331001996071, 0.020790777300110738, 0.020874781043995552, 0.02095527783604631, 0.021032228116144983, 0.02110559633176067, 0.021175351078919217, 0.021241465230460367, 0.021303916050068955, 0.021362685290615295, 0.02141775927540633, 0.021469128961034225, 0.02151678998061143, 0.021560742666299815, 0.021600992050177962, 0.021637547842640503, 0.02167042438768785, 0.021699640594642144, 0.021725219846011872, 0.021747189881425013, 0.021765582657753087, 0.021780434185757216, 0.021791784343797582, 0.021799676669358493, 0.021804158129350038, 0.02180527887035193, 0.021803091950161252, 0.021797653052195397, 0.021789020184476957, 0.02177725336509129, 0.02176241429615422, 0.021744566028458354, 0.021723772619077097, 0.021700098784296032, 0.02167360955031083, 0.021644369904176678, 0.021612444447517892, 0.021577897055505058, 0.021540790543583144, 0.021501186344385723, 0.021459144197198184, 0.021414721852240023, 0.021367974791919563, 0.021318955971078225, 0.0212677155780871, 0.021214300818485868, 0.02115875572266534, 0.02110112097889524, 0.021041433792785304, 0.020979727774046313, 0.02091603285119086, 0.020850375214580448, 0.02078277728799297, 0.020713257728650566, 0.020641831455420614, 0.02056850970467565, 0.020493300113084652, 0.02041620682640055, 0.020337230633114895, 0.020256369121670455, 0.020173616859757118, 0.020088965594067604, 0.02000240446876084, 0.019913920260765893, 0.019823497629970724, 0.019731119382265485, 0.019636766743358753, 0.01954041964125357, 0.01944205699525785, 0.019341657009411203, 0.019239197468236022, 0.019134656032765863, 0.019028010534862493, 0.018919239267911506, 0.01880832127207506, 0.018695236612383166, 0.01857996664805992, 0.018462494291602342, 0.0183428042562624, 0.018220883290718023, 0.018096720399860804, 0.017970307050771434, 0.017841637363098576, 0.01771070828320087, 0.017577519741553336, 0.017442074793058298, 0.017304379740034254, 0.017164444237783367, 0.017022281382760476, 0.01687790778347822, 0.016731343614388182, 0.01658261265307469, 0.016431742301181874, 0.016278763589574516, 0.01612371116829742, 0.015966623281957564, 0.01580754173119935, 0.0156465118209837, 0.015483582296409238, 0.015318805266836847, 0.0151522361190917, 0.014983933420521707, 0.014813958812693423, 0.014642376896496953, 0.014469255109422256, 0.014294663595752329, 0.01411867507039858, 0.013941364677081833, 0.013762809841537074, 0.013583090120393167, 0.013402287046351765, 0.013220483970260887, 0.013037765900650969, 0.012854219341272803, 0.012669932127151558, 0.012484993259643001, 0.012299492740955884, 0.012113521408580272, 0.011927170770040492, 0.011740532838372291, 0.011553699968705191, 0.011366764696314757, 0.011179819576494901, 0.01099295702658567, 0.01080626917048028, 0.010619847685922787, 0.010433783654897201, 0.010248167417397333, 0.01006308842885752, 0.00987863512151215, 0.009694894769942472, 0.009511953361057736, 0.009329895468744631, 0.009148804133407719, 0.008968760746608991, 0.0087898449409998, 0.008612134485723353, 0.008435705187448225, 0.00826063079717554, 0.008086982922943053, 0.007914830948530033, 0.007744241958244276, 0.007575280667852394, 0.00740800936169128, 0.007242487835975873, 0.00707877334829579, 0.006916920573270586, 0.006756981564310294, 0.006599005721406589, 0.006443039764857888, 0.006289127714811929, 0.006137310876489865, 0.00598762783093882, 0.005840114431142709, 0.0056948038033080685, 0.005551726353128069, 0.005410909776818075, 0.005272379076708107, 0.005136156581170426, 0.005002261968657464, 0.004870712295623175, 0.004741522028100863, 0.004614703076713545, 0.004490264834896855, 0.004368214220120522, 0.004248555717902241, 0.004131291428417576, 0.004016421115518801, 0.0039039422579882385, 0.0037938501028634535, 0.003686137720684355, 0.0035807960625257084, 0.0034778140186917435, 0.003377178478962376, 0.0032788743942934054, 0.003182884839884703, 0.0030891910795416556, 0.0029977726312649645, 0.0029086073340129355, 0.002821671415587106, 0.0027369395615986004, 0.0026543849854760286, 0.002573979499478726, 0.0024956935866797332, 0.0024194964738816094, 0.002345356205425697, 0.00227323971785089, 0.0022031129153519484, 0.002134940745979641, 0.002068687278516533, 0.0020043157799516202, 0.0019417887934661349, 0.0018810682168310146, 0.0018221153811035344, 0.001764891129498017, 0.0017093558962923048, 0.0016554697856184188, 0.0016031926499734473, 0.0015524841682741895, 0.0015033039232680105, 0.0014556114781018091, 0.0014093664518418638, 0.0013645285937296657, 0.0013210578559527024, 0.0012789144647048245, 0.0012380589893081593, 0.0011984524091683474, 0.0011600561783361224, 0.0011228322874522036, 0.0010867433228583287, 0.0010517525226650844, 0.0010178238295775594, 0.0009849219402919376], \"yaxis\": \"y\"}, {\"legendgroup\": \"heart disease\", \"marker\": {\"color\": \"rgb(31, 119, 180)\", \"symbol\": \"line-ns-open\"}, \"mode\": \"markers\", \"name\": \"heart disease\", \"showlegend\": false, \"type\": \"scatter\", \"x\": [174, 145, 159, 125, 162, 132, 182, 120, 103, 160, 152, 174, 141, 164, 195, 168, 112, 146, 150, 150, 131, 158, 97, 155, 134, 165, 173, 150, 142, 163, 139, 126, 152, 147, 162, 125, 109, 141, 108, 129, 163, 125, 71, 165, 132, 114, 127, 158, 96, 132, 147, 154, 169, 136, 132, 144, 160, 145, 99, 106, 154, 140, 146, 125, 169, 138, 161, 132, 142, 141, 157, 170, 160, 144, 161, 140, 142, 143, 90, 162, 140, 131, 130, 105, 146, 111, 171, 156, 112, 124, 88, 143, 123, 115, 133, 103, 144, 105, 150, 111, 132, 145, 117, 130, 109, 113, 126, 108, 116, 155, 95, 161, 160, 168, 142, 122, 173, 128, 126, 166, 150, 118, 120, 144, 147, 144, 153, 177, 120, 136, 125, 158, 114, 181, 140, 130, 156], \"xaxis\": \"x\", \"y\": [\"heart disease\", \"heart disease\", \"heart disease\", \"heart disease\", \"heart disease\", \"heart disease\", \"heart disease\", \"heart disease\", \"heart disease\", \"heart disease\", \"heart disease\", \"heart disease\", \"heart disease\", \"heart disease\", \"heart disease\", \"heart disease\", \"heart disease\", \"heart disease\", \"heart disease\", \"heart disease\", \"heart disease\", \"heart disease\", \"heart disease\", \"heart disease\", \"heart disease\", \"heart disease\", \"heart disease\", \"heart disease\", \"heart disease\", \"heart disease\", \"heart disease\", \"heart disease\", \"heart disease\", \"heart disease\", \"heart disease\", \"heart disease\", \"heart disease\", \"heart disease\", \"heart disease\", \"heart disease\", \"heart disease\", \"heart disease\", \"heart disease\", \"heart disease\", \"heart disease\", \"heart disease\", \"heart disease\", \"heart disease\", \"heart disease\", \"heart disease\", \"heart disease\", \"heart disease\", \"heart disease\", \"heart disease\", \"heart disease\", \"heart disease\", \"heart disease\", \"heart disease\", \"heart disease\", \"heart disease\", \"heart disease\", \"heart disease\", \"heart disease\", \"heart disease\", \"heart disease\", \"heart disease\", \"heart disease\", \"heart disease\", \"heart disease\", \"heart disease\", \"heart disease\", \"heart disease\", \"heart disease\", \"heart disease\", \"heart disease\", \"heart disease\", \"heart disease\", \"heart disease\", \"heart disease\", \"heart disease\", \"heart disease\", \"heart disease\", \"heart disease\", \"heart disease\", \"heart disease\", \"heart disease\", \"heart disease\", \"heart disease\", \"heart disease\", \"heart disease\", \"heart disease\", \"heart disease\", \"heart disease\", \"heart disease\", \"heart disease\", \"heart disease\", \"heart disease\", \"heart disease\", \"heart disease\", \"heart disease\", \"heart disease\", \"heart disease\", \"heart disease\", \"heart disease\", \"heart disease\", \"heart disease\", \"heart disease\", \"heart disease\", \"heart disease\", \"heart disease\", \"heart disease\", \"heart disease\", \"heart disease\", \"heart disease\", \"heart disease\", \"heart disease\", \"heart disease\", \"heart disease\", \"heart disease\", \"heart disease\", \"heart disease\", \"heart disease\", \"heart disease\", \"heart disease\", \"heart disease\", \"heart disease\", \"heart disease\", \"heart disease\", \"heart disease\", \"heart disease\", \"heart disease\", \"heart disease\", \"heart disease\", \"heart disease\", \"heart disease\", \"heart disease\", \"heart disease\"], \"yaxis\": \"y2\"}, {\"legendgroup\": \"no heart disease\", \"marker\": {\"color\": \"rgb(255, 127, 14)\", \"symbol\": \"line-ns-open\"}, \"mode\": \"markers\", \"name\": \"no heart disease\", \"showlegend\": false, \"type\": \"scatter\", \"x\": [131, 151, 114, 144, 155, 150, 171, 145, 162, 162, 190, 178, 125, 178, 178, 174, 121, 162, 143, 179, 140, 164, 169, 153, 178, 163, 161, 155, 166, 156, 159, 172, 158, 184, 162, 162, 171, 180, 156, 172, 175, 138, 170, 173, 188, 170, 162, 132, 172, 168, 153, 163, 182, 174, 192, 202, 116, 130, 115, 151, 160, 172, 152, 157, 148, 151, 133, 172, 146, 137, 160, 96, 157, 154, 172, 165, 174, 173, 152, 147, 158, 170, 165, 167, 163, 152, 173, 169, 162, 143, 166, 123, 142, 149, 154, 157, 158, 163, 139, 175, 156, 179, 160, 175, 149, 179, 180, 169, 165, 162, 194, 173, 150, 168, 179, 172, 152, 182, 179, 187, 170, 125, 142, 151, 138, 140, 122, 105, 154, 157, 163, 161, 182, 122, 131, 148, 126, 163, 159, 168, 160, 143, 160, 111, 147, 186, 159, 163, 186, 143, 152, 148, 152, 185, 181, 171, 161, 122, 178, 182], \"xaxis\": \"x\", \"y\": [\"no heart disease\", \"no heart disease\", \"no heart disease\", \"no heart disease\", \"no heart disease\", \"no heart disease\", \"no heart disease\", \"no heart disease\", \"no heart disease\", \"no heart disease\", \"no heart disease\", \"no heart disease\", \"no heart disease\", \"no heart disease\", \"no heart disease\", \"no heart disease\", \"no heart disease\", \"no heart disease\", \"no heart disease\", \"no heart disease\", \"no heart disease\", \"no heart disease\", \"no heart disease\", \"no heart disease\", \"no heart disease\", \"no heart disease\", \"no heart disease\", \"no heart disease\", \"no heart disease\", \"no heart disease\", \"no heart disease\", \"no heart disease\", \"no heart disease\", \"no heart disease\", \"no heart disease\", \"no heart disease\", \"no heart disease\", \"no heart disease\", \"no heart disease\", \"no heart disease\", \"no heart disease\", \"no heart disease\", \"no heart disease\", \"no heart disease\", \"no heart disease\", \"no heart disease\", \"no heart disease\", \"no heart disease\", \"no heart disease\", \"no heart disease\", \"no heart disease\", \"no heart disease\", \"no heart disease\", \"no heart disease\", \"no heart disease\", \"no heart disease\", \"no heart disease\", \"no heart disease\", \"no heart disease\", \"no heart disease\", \"no heart disease\", \"no heart disease\", \"no heart disease\", \"no heart disease\", \"no heart disease\", \"no heart disease\", \"no heart disease\", \"no heart disease\", \"no heart disease\", \"no heart disease\", \"no heart disease\", \"no heart disease\", \"no heart disease\", \"no heart disease\", \"no heart disease\", \"no heart disease\", \"no heart disease\", \"no heart disease\", \"no heart disease\", \"no heart disease\", \"no heart disease\", \"no heart disease\", \"no heart disease\", \"no heart disease\", \"no heart disease\", \"no heart disease\", \"no heart disease\", \"no heart disease\", \"no heart disease\", \"no heart disease\", \"no heart disease\", \"no heart disease\", \"no heart disease\", \"no heart disease\", \"no heart disease\", \"no heart disease\", \"no heart disease\", \"no heart disease\", \"no heart disease\", \"no heart disease\", \"no heart disease\", \"no heart disease\", \"no heart disease\", \"no heart disease\", \"no heart disease\", \"no heart disease\", \"no heart disease\", \"no heart disease\", \"no heart disease\", \"no heart disease\", \"no heart disease\", \"no heart disease\", \"no heart disease\", \"no heart disease\", \"no heart disease\", \"no heart disease\", \"no heart disease\", \"no heart disease\", \"no heart disease\", \"no heart disease\", \"no heart disease\", \"no heart disease\", \"no heart disease\", \"no heart disease\", \"no heart disease\", \"no heart disease\", \"no heart disease\", \"no heart disease\", \"no heart disease\", \"no heart disease\", \"no heart disease\", \"no heart disease\", \"no heart disease\", \"no heart disease\", \"no heart disease\", \"no heart disease\", \"no heart disease\", \"no heart disease\", \"no heart disease\", \"no heart disease\", \"no heart disease\", \"no heart disease\", \"no heart disease\", \"no heart disease\", \"no heart disease\", \"no heart disease\", \"no heart disease\", \"no heart disease\", \"no heart disease\", \"no heart disease\", \"no heart disease\", \"no heart disease\", \"no heart disease\", \"no heart disease\", \"no heart disease\", \"no heart disease\", \"no heart disease\", \"no heart disease\", \"no heart disease\", \"no heart disease\"], \"yaxis\": \"y2\"}],                        {\"barmode\": \"overlay\", \"hovermode\": \"closest\", \"legend\": {\"traceorder\": \"reversed\"}, \"template\": {\"data\": {\"bar\": [{\"error_x\": {\"color\": \"#2a3f5f\"}, \"error_y\": {\"color\": \"#2a3f5f\"}, \"marker\": {\"line\": {\"color\": \"#E5ECF6\", \"width\": 0.5}}, \"type\": \"bar\"}], \"barpolar\": [{\"marker\": {\"line\": {\"color\": \"#E5ECF6\", \"width\": 0.5}}, \"type\": \"barpolar\"}], \"carpet\": [{\"aaxis\": {\"endlinecolor\": \"#2a3f5f\", \"gridcolor\": \"white\", \"linecolor\": \"white\", \"minorgridcolor\": \"white\", \"startlinecolor\": \"#2a3f5f\"}, \"baxis\": {\"endlinecolor\": \"#2a3f5f\", \"gridcolor\": \"white\", \"linecolor\": \"white\", \"minorgridcolor\": \"white\", \"startlinecolor\": \"#2a3f5f\"}, \"type\": \"carpet\"}], \"choropleth\": [{\"colorbar\": {\"outlinewidth\": 0, \"ticks\": \"\"}, \"type\": \"choropleth\"}], \"contour\": [{\"colorbar\": {\"outlinewidth\": 0, \"ticks\": \"\"}, \"colorscale\": [[0.0, \"#0d0887\"], [0.1111111111111111, \"#46039f\"], [0.2222222222222222, \"#7201a8\"], [0.3333333333333333, \"#9c179e\"], [0.4444444444444444, \"#bd3786\"], [0.5555555555555556, \"#d8576b\"], [0.6666666666666666, \"#ed7953\"], [0.7777777777777778, \"#fb9f3a\"], [0.8888888888888888, \"#fdca26\"], [1.0, \"#f0f921\"]], \"type\": \"contour\"}], \"contourcarpet\": [{\"colorbar\": {\"outlinewidth\": 0, \"ticks\": \"\"}, \"type\": \"contourcarpet\"}], \"heatmap\": [{\"colorbar\": {\"outlinewidth\": 0, \"ticks\": \"\"}, \"colorscale\": [[0.0, \"#0d0887\"], [0.1111111111111111, \"#46039f\"], [0.2222222222222222, \"#7201a8\"], [0.3333333333333333, \"#9c179e\"], [0.4444444444444444, \"#bd3786\"], [0.5555555555555556, \"#d8576b\"], [0.6666666666666666, \"#ed7953\"], [0.7777777777777778, \"#fb9f3a\"], [0.8888888888888888, \"#fdca26\"], [1.0, \"#f0f921\"]], \"type\": \"heatmap\"}], \"heatmapgl\": [{\"colorbar\": {\"outlinewidth\": 0, \"ticks\": \"\"}, \"colorscale\": [[0.0, \"#0d0887\"], [0.1111111111111111, \"#46039f\"], [0.2222222222222222, \"#7201a8\"], [0.3333333333333333, \"#9c179e\"], [0.4444444444444444, \"#bd3786\"], [0.5555555555555556, \"#d8576b\"], [0.6666666666666666, \"#ed7953\"], [0.7777777777777778, \"#fb9f3a\"], [0.8888888888888888, \"#fdca26\"], [1.0, \"#f0f921\"]], \"type\": \"heatmapgl\"}], \"histogram\": [{\"marker\": {\"colorbar\": {\"outlinewidth\": 0, \"ticks\": \"\"}}, \"type\": \"histogram\"}], \"histogram2d\": [{\"colorbar\": {\"outlinewidth\": 0, \"ticks\": \"\"}, \"colorscale\": [[0.0, \"#0d0887\"], [0.1111111111111111, \"#46039f\"], [0.2222222222222222, \"#7201a8\"], [0.3333333333333333, \"#9c179e\"], [0.4444444444444444, \"#bd3786\"], [0.5555555555555556, \"#d8576b\"], [0.6666666666666666, \"#ed7953\"], [0.7777777777777778, \"#fb9f3a\"], [0.8888888888888888, \"#fdca26\"], [1.0, \"#f0f921\"]], \"type\": \"histogram2d\"}], \"histogram2dcontour\": [{\"colorbar\": {\"outlinewidth\": 0, \"ticks\": \"\"}, \"colorscale\": [[0.0, \"#0d0887\"], [0.1111111111111111, \"#46039f\"], [0.2222222222222222, \"#7201a8\"], [0.3333333333333333, \"#9c179e\"], [0.4444444444444444, \"#bd3786\"], [0.5555555555555556, \"#d8576b\"], [0.6666666666666666, \"#ed7953\"], [0.7777777777777778, \"#fb9f3a\"], [0.8888888888888888, \"#fdca26\"], [1.0, \"#f0f921\"]], \"type\": \"histogram2dcontour\"}], \"mesh3d\": [{\"colorbar\": {\"outlinewidth\": 0, \"ticks\": \"\"}, \"type\": \"mesh3d\"}], \"parcoords\": [{\"line\": {\"colorbar\": {\"outlinewidth\": 0, \"ticks\": \"\"}}, \"type\": \"parcoords\"}], \"pie\": [{\"automargin\": true, \"type\": \"pie\"}], \"scatter\": [{\"marker\": {\"colorbar\": {\"outlinewidth\": 0, \"ticks\": \"\"}}, \"type\": \"scatter\"}], \"scatter3d\": [{\"line\": {\"colorbar\": {\"outlinewidth\": 0, \"ticks\": \"\"}}, \"marker\": {\"colorbar\": {\"outlinewidth\": 0, \"ticks\": \"\"}}, \"type\": \"scatter3d\"}], \"scattercarpet\": [{\"marker\": {\"colorbar\": {\"outlinewidth\": 0, \"ticks\": \"\"}}, \"type\": \"scattercarpet\"}], \"scattergeo\": [{\"marker\": {\"colorbar\": {\"outlinewidth\": 0, \"ticks\": \"\"}}, \"type\": \"scattergeo\"}], \"scattergl\": [{\"marker\": {\"colorbar\": {\"outlinewidth\": 0, \"ticks\": \"\"}}, \"type\": \"scattergl\"}], \"scattermapbox\": [{\"marker\": {\"colorbar\": {\"outlinewidth\": 0, \"ticks\": \"\"}}, \"type\": \"scattermapbox\"}], \"scatterpolar\": [{\"marker\": {\"colorbar\": {\"outlinewidth\": 0, \"ticks\": \"\"}}, \"type\": \"scatterpolar\"}], \"scatterpolargl\": [{\"marker\": {\"colorbar\": {\"outlinewidth\": 0, \"ticks\": \"\"}}, \"type\": \"scatterpolargl\"}], \"scatterternary\": [{\"marker\": {\"colorbar\": {\"outlinewidth\": 0, \"ticks\": \"\"}}, \"type\": \"scatterternary\"}], \"surface\": [{\"colorbar\": {\"outlinewidth\": 0, \"ticks\": \"\"}, \"colorscale\": [[0.0, \"#0d0887\"], [0.1111111111111111, \"#46039f\"], [0.2222222222222222, \"#7201a8\"], [0.3333333333333333, \"#9c179e\"], [0.4444444444444444, \"#bd3786\"], [0.5555555555555556, \"#d8576b\"], [0.6666666666666666, \"#ed7953\"], [0.7777777777777778, \"#fb9f3a\"], [0.8888888888888888, \"#fdca26\"], [1.0, \"#f0f921\"]], \"type\": \"surface\"}], \"table\": [{\"cells\": {\"fill\": {\"color\": \"#EBF0F8\"}, \"line\": {\"color\": \"white\"}}, \"header\": {\"fill\": {\"color\": \"#C8D4E3\"}, \"line\": {\"color\": \"white\"}}, \"type\": \"table\"}]}, \"layout\": {\"annotationdefaults\": {\"arrowcolor\": \"#2a3f5f\", \"arrowhead\": 0, \"arrowwidth\": 1}, \"coloraxis\": {\"colorbar\": {\"outlinewidth\": 0, \"ticks\": \"\"}}, \"colorscale\": {\"diverging\": [[0, \"#8e0152\"], [0.1, \"#c51b7d\"], [0.2, \"#de77ae\"], [0.3, \"#f1b6da\"], [0.4, \"#fde0ef\"], [0.5, \"#f7f7f7\"], [0.6, \"#e6f5d0\"], [0.7, \"#b8e186\"], [0.8, \"#7fbc41\"], [0.9, \"#4d9221\"], [1, \"#276419\"]], \"sequential\": [[0.0, \"#0d0887\"], [0.1111111111111111, \"#46039f\"], [0.2222222222222222, \"#7201a8\"], [0.3333333333333333, \"#9c179e\"], [0.4444444444444444, \"#bd3786\"], [0.5555555555555556, \"#d8576b\"], [0.6666666666666666, \"#ed7953\"], [0.7777777777777778, \"#fb9f3a\"], [0.8888888888888888, \"#fdca26\"], [1.0, \"#f0f921\"]], \"sequentialminus\": [[0.0, \"#0d0887\"], [0.1111111111111111, \"#46039f\"], [0.2222222222222222, \"#7201a8\"], [0.3333333333333333, \"#9c179e\"], [0.4444444444444444, \"#bd3786\"], [0.5555555555555556, \"#d8576b\"], [0.6666666666666666, \"#ed7953\"], [0.7777777777777778, \"#fb9f3a\"], [0.8888888888888888, \"#fdca26\"], [1.0, \"#f0f921\"]]}, \"colorway\": [\"#636efa\", \"#EF553B\", \"#00cc96\", \"#ab63fa\", \"#FFA15A\", \"#19d3f3\", \"#FF6692\", \"#B6E880\", \"#FF97FF\", \"#FECB52\"], \"font\": {\"color\": \"#2a3f5f\"}, \"geo\": {\"bgcolor\": \"white\", \"lakecolor\": \"white\", \"landcolor\": \"#E5ECF6\", \"showlakes\": true, \"showland\": true, \"subunitcolor\": \"white\"}, \"hoverlabel\": {\"align\": \"left\"}, \"hovermode\": \"closest\", \"mapbox\": {\"style\": \"light\"}, \"paper_bgcolor\": \"white\", \"plot_bgcolor\": \"#E5ECF6\", \"polar\": {\"angularaxis\": {\"gridcolor\": \"white\", \"linecolor\": \"white\", \"ticks\": \"\"}, \"bgcolor\": \"#E5ECF6\", \"radialaxis\": {\"gridcolor\": \"white\", \"linecolor\": \"white\", \"ticks\": \"\"}}, \"scene\": {\"xaxis\": {\"backgroundcolor\": \"#E5ECF6\", \"gridcolor\": \"white\", \"gridwidth\": 2, \"linecolor\": \"white\", \"showbackground\": true, \"ticks\": \"\", \"zerolinecolor\": \"white\"}, \"yaxis\": {\"backgroundcolor\": \"#E5ECF6\", \"gridcolor\": \"white\", \"gridwidth\": 2, \"linecolor\": \"white\", \"showbackground\": true, \"ticks\": \"\", \"zerolinecolor\": \"white\"}, \"zaxis\": {\"backgroundcolor\": \"#E5ECF6\", \"gridcolor\": \"white\", \"gridwidth\": 2, \"linecolor\": \"white\", \"showbackground\": true, \"ticks\": \"\", \"zerolinecolor\": \"white\"}}, \"shapedefaults\": {\"line\": {\"color\": \"#2a3f5f\"}}, \"ternary\": {\"aaxis\": {\"gridcolor\": \"white\", \"linecolor\": \"white\", \"ticks\": \"\"}, \"baxis\": {\"gridcolor\": \"white\", \"linecolor\": \"white\", \"ticks\": \"\"}, \"bgcolor\": \"#E5ECF6\", \"caxis\": {\"gridcolor\": \"white\", \"linecolor\": \"white\", \"ticks\": \"\"}}, \"title\": {\"x\": 0.05}, \"xaxis\": {\"automargin\": true, \"gridcolor\": \"white\", \"linecolor\": \"white\", \"ticks\": \"\", \"title\": {\"standoff\": 15}, \"zerolinecolor\": \"white\", \"zerolinewidth\": 2}, \"yaxis\": {\"automargin\": true, \"gridcolor\": \"white\", \"linecolor\": \"white\", \"ticks\": \"\", \"title\": {\"standoff\": 15}, \"zerolinecolor\": \"white\", \"zerolinewidth\": 2}}}, \"title\": {\"text\": \"Distribution Plot of Thalach by Condition Type\"}, \"xaxis\": {\"anchor\": \"y2\", \"domain\": [0.0, 1.0], \"zeroline\": false}, \"yaxis\": {\"anchor\": \"free\", \"domain\": [0.35, 1], \"position\": 0.0}, \"yaxis2\": {\"anchor\": \"x\", \"domain\": [0, 0.25], \"dtick\": 1, \"showticklabels\": false}},                        {\"responsive\": true}                    ).then(function(){\n",
       "                            \n",
       "var gd = document.getElementById('2a05c70c-f50d-406c-bc3d-95d7b9ad4b6e');\n",
       "var x = new MutationObserver(function (mutations, observer) {{\n",
       "        var display = window.getComputedStyle(gd).display;\n",
       "        if (!display || display === 'none') {{\n",
       "            console.log([gd, 'removed!']);\n",
       "            Plotly.purge(gd);\n",
       "            observer.disconnect();\n",
       "        }}\n",
       "}});\n",
       "\n",
       "// Listen for the removal of the full notebook cells\n",
       "var notebookContainer = gd.closest('#notebook-container');\n",
       "if (notebookContainer) {{\n",
       "    x.observe(notebookContainer, {childList: true});\n",
       "}}\n",
       "\n",
       "// Listen for the clearing of the current output cell\n",
       "var outputEl = gd.closest('.output');\n",
       "if (outputEl) {{\n",
       "    x.observe(outputEl, {childList: true});\n",
       "}}\n",
       "\n",
       "                        })                };                });            </script>        </div>"
      ]
     },
     "metadata": {},
     "output_type": "display_data"
    }
   ],
   "source": [
    "# distplot\n",
    "## define values\n",
    "t_y = df[df['condition'] == 1]['thalach']\n",
    "t_n = df[df['condition'] == 0]['thalach']\n",
    "hist_data3 = [t_y, t_n]\n",
    "labels = ['heart disease', 'no heart disease']\n",
    "\n",
    "## plot\n",
    "fig = ff.create_distplot(hist_data3, group_labels = labels, bin_size = 0.5)\n",
    "fig.update_layout(title_text = 'Distribution Plot of Thalach by Condition Type')\n",
    "fig.show()"
   ]
  },
  {
   "cell_type": "markdown",
   "metadata": {},
   "source": [
    "### Relationship between 'exang' and 'condition'"
   ]
  },
  {
   "cell_type": "markdown",
   "metadata": {},
   "source": [
    "(provide brief description of what [x] is, and how it might relate to [target])"
   ]
  },
  {
   "cell_type": "code",
   "execution_count": 115,
   "metadata": {},
   "outputs": [
    {
     "data": {
      "application/vnd.plotly.v1+json": {
       "config": {
        "plotlyServerURL": "https://plot.ly"
       },
       "data": [
        {
         "alignmentgroup": "True",
         "hovertemplate": "condition=0<br>exang=%{x}<br>count=%{y}<extra></extra>",
         "legendgroup": "0",
         "marker": {
          "color": "#636efa"
         },
         "name": "0",
         "offsetgroup": "0",
         "orientation": "v",
         "showlegend": true,
         "textposition": "auto",
         "type": "bar",
         "x": [
          "0",
          "1"
         ],
         "xaxis": "x",
         "y": [
          137,
          23
         ],
         "yaxis": "y"
        },
        {
         "alignmentgroup": "True",
         "hovertemplate": "condition=1<br>exang=%{x}<br>count=%{y}<extra></extra>",
         "legendgroup": "1",
         "marker": {
          "color": "#EF553B"
         },
         "name": "1",
         "offsetgroup": "1",
         "orientation": "v",
         "showlegend": true,
         "textposition": "auto",
         "type": "bar",
         "x": [
          "0",
          "1"
         ],
         "xaxis": "x",
         "y": [
          63,
          74
         ],
         "yaxis": "y"
        }
       ],
       "layout": {
        "barmode": "group",
        "legend": {
         "title": {
          "text": "condition"
         },
         "tracegroupgap": 0
        },
        "template": {
         "data": {
          "bar": [
           {
            "error_x": {
             "color": "#2a3f5f"
            },
            "error_y": {
             "color": "#2a3f5f"
            },
            "marker": {
             "line": {
              "color": "#E5ECF6",
              "width": 0.5
             }
            },
            "type": "bar"
           }
          ],
          "barpolar": [
           {
            "marker": {
             "line": {
              "color": "#E5ECF6",
              "width": 0.5
             }
            },
            "type": "barpolar"
           }
          ],
          "carpet": [
           {
            "aaxis": {
             "endlinecolor": "#2a3f5f",
             "gridcolor": "white",
             "linecolor": "white",
             "minorgridcolor": "white",
             "startlinecolor": "#2a3f5f"
            },
            "baxis": {
             "endlinecolor": "#2a3f5f",
             "gridcolor": "white",
             "linecolor": "white",
             "minorgridcolor": "white",
             "startlinecolor": "#2a3f5f"
            },
            "type": "carpet"
           }
          ],
          "choropleth": [
           {
            "colorbar": {
             "outlinewidth": 0,
             "ticks": ""
            },
            "type": "choropleth"
           }
          ],
          "contour": [
           {
            "colorbar": {
             "outlinewidth": 0,
             "ticks": ""
            },
            "colorscale": [
             [
              0,
              "#0d0887"
             ],
             [
              0.1111111111111111,
              "#46039f"
             ],
             [
              0.2222222222222222,
              "#7201a8"
             ],
             [
              0.3333333333333333,
              "#9c179e"
             ],
             [
              0.4444444444444444,
              "#bd3786"
             ],
             [
              0.5555555555555556,
              "#d8576b"
             ],
             [
              0.6666666666666666,
              "#ed7953"
             ],
             [
              0.7777777777777778,
              "#fb9f3a"
             ],
             [
              0.8888888888888888,
              "#fdca26"
             ],
             [
              1,
              "#f0f921"
             ]
            ],
            "type": "contour"
           }
          ],
          "contourcarpet": [
           {
            "colorbar": {
             "outlinewidth": 0,
             "ticks": ""
            },
            "type": "contourcarpet"
           }
          ],
          "heatmap": [
           {
            "colorbar": {
             "outlinewidth": 0,
             "ticks": ""
            },
            "colorscale": [
             [
              0,
              "#0d0887"
             ],
             [
              0.1111111111111111,
              "#46039f"
             ],
             [
              0.2222222222222222,
              "#7201a8"
             ],
             [
              0.3333333333333333,
              "#9c179e"
             ],
             [
              0.4444444444444444,
              "#bd3786"
             ],
             [
              0.5555555555555556,
              "#d8576b"
             ],
             [
              0.6666666666666666,
              "#ed7953"
             ],
             [
              0.7777777777777778,
              "#fb9f3a"
             ],
             [
              0.8888888888888888,
              "#fdca26"
             ],
             [
              1,
              "#f0f921"
             ]
            ],
            "type": "heatmap"
           }
          ],
          "heatmapgl": [
           {
            "colorbar": {
             "outlinewidth": 0,
             "ticks": ""
            },
            "colorscale": [
             [
              0,
              "#0d0887"
             ],
             [
              0.1111111111111111,
              "#46039f"
             ],
             [
              0.2222222222222222,
              "#7201a8"
             ],
             [
              0.3333333333333333,
              "#9c179e"
             ],
             [
              0.4444444444444444,
              "#bd3786"
             ],
             [
              0.5555555555555556,
              "#d8576b"
             ],
             [
              0.6666666666666666,
              "#ed7953"
             ],
             [
              0.7777777777777778,
              "#fb9f3a"
             ],
             [
              0.8888888888888888,
              "#fdca26"
             ],
             [
              1,
              "#f0f921"
             ]
            ],
            "type": "heatmapgl"
           }
          ],
          "histogram": [
           {
            "marker": {
             "colorbar": {
              "outlinewidth": 0,
              "ticks": ""
             }
            },
            "type": "histogram"
           }
          ],
          "histogram2d": [
           {
            "colorbar": {
             "outlinewidth": 0,
             "ticks": ""
            },
            "colorscale": [
             [
              0,
              "#0d0887"
             ],
             [
              0.1111111111111111,
              "#46039f"
             ],
             [
              0.2222222222222222,
              "#7201a8"
             ],
             [
              0.3333333333333333,
              "#9c179e"
             ],
             [
              0.4444444444444444,
              "#bd3786"
             ],
             [
              0.5555555555555556,
              "#d8576b"
             ],
             [
              0.6666666666666666,
              "#ed7953"
             ],
             [
              0.7777777777777778,
              "#fb9f3a"
             ],
             [
              0.8888888888888888,
              "#fdca26"
             ],
             [
              1,
              "#f0f921"
             ]
            ],
            "type": "histogram2d"
           }
          ],
          "histogram2dcontour": [
           {
            "colorbar": {
             "outlinewidth": 0,
             "ticks": ""
            },
            "colorscale": [
             [
              0,
              "#0d0887"
             ],
             [
              0.1111111111111111,
              "#46039f"
             ],
             [
              0.2222222222222222,
              "#7201a8"
             ],
             [
              0.3333333333333333,
              "#9c179e"
             ],
             [
              0.4444444444444444,
              "#bd3786"
             ],
             [
              0.5555555555555556,
              "#d8576b"
             ],
             [
              0.6666666666666666,
              "#ed7953"
             ],
             [
              0.7777777777777778,
              "#fb9f3a"
             ],
             [
              0.8888888888888888,
              "#fdca26"
             ],
             [
              1,
              "#f0f921"
             ]
            ],
            "type": "histogram2dcontour"
           }
          ],
          "mesh3d": [
           {
            "colorbar": {
             "outlinewidth": 0,
             "ticks": ""
            },
            "type": "mesh3d"
           }
          ],
          "parcoords": [
           {
            "line": {
             "colorbar": {
              "outlinewidth": 0,
              "ticks": ""
             }
            },
            "type": "parcoords"
           }
          ],
          "pie": [
           {
            "automargin": true,
            "type": "pie"
           }
          ],
          "scatter": [
           {
            "marker": {
             "colorbar": {
              "outlinewidth": 0,
              "ticks": ""
             }
            },
            "type": "scatter"
           }
          ],
          "scatter3d": [
           {
            "line": {
             "colorbar": {
              "outlinewidth": 0,
              "ticks": ""
             }
            },
            "marker": {
             "colorbar": {
              "outlinewidth": 0,
              "ticks": ""
             }
            },
            "type": "scatter3d"
           }
          ],
          "scattercarpet": [
           {
            "marker": {
             "colorbar": {
              "outlinewidth": 0,
              "ticks": ""
             }
            },
            "type": "scattercarpet"
           }
          ],
          "scattergeo": [
           {
            "marker": {
             "colorbar": {
              "outlinewidth": 0,
              "ticks": ""
             }
            },
            "type": "scattergeo"
           }
          ],
          "scattergl": [
           {
            "marker": {
             "colorbar": {
              "outlinewidth": 0,
              "ticks": ""
             }
            },
            "type": "scattergl"
           }
          ],
          "scattermapbox": [
           {
            "marker": {
             "colorbar": {
              "outlinewidth": 0,
              "ticks": ""
             }
            },
            "type": "scattermapbox"
           }
          ],
          "scatterpolar": [
           {
            "marker": {
             "colorbar": {
              "outlinewidth": 0,
              "ticks": ""
             }
            },
            "type": "scatterpolar"
           }
          ],
          "scatterpolargl": [
           {
            "marker": {
             "colorbar": {
              "outlinewidth": 0,
              "ticks": ""
             }
            },
            "type": "scatterpolargl"
           }
          ],
          "scatterternary": [
           {
            "marker": {
             "colorbar": {
              "outlinewidth": 0,
              "ticks": ""
             }
            },
            "type": "scatterternary"
           }
          ],
          "surface": [
           {
            "colorbar": {
             "outlinewidth": 0,
             "ticks": ""
            },
            "colorscale": [
             [
              0,
              "#0d0887"
             ],
             [
              0.1111111111111111,
              "#46039f"
             ],
             [
              0.2222222222222222,
              "#7201a8"
             ],
             [
              0.3333333333333333,
              "#9c179e"
             ],
             [
              0.4444444444444444,
              "#bd3786"
             ],
             [
              0.5555555555555556,
              "#d8576b"
             ],
             [
              0.6666666666666666,
              "#ed7953"
             ],
             [
              0.7777777777777778,
              "#fb9f3a"
             ],
             [
              0.8888888888888888,
              "#fdca26"
             ],
             [
              1,
              "#f0f921"
             ]
            ],
            "type": "surface"
           }
          ],
          "table": [
           {
            "cells": {
             "fill": {
              "color": "#EBF0F8"
             },
             "line": {
              "color": "white"
             }
            },
            "header": {
             "fill": {
              "color": "#C8D4E3"
             },
             "line": {
              "color": "white"
             }
            },
            "type": "table"
           }
          ]
         },
         "layout": {
          "annotationdefaults": {
           "arrowcolor": "#2a3f5f",
           "arrowhead": 0,
           "arrowwidth": 1
          },
          "coloraxis": {
           "colorbar": {
            "outlinewidth": 0,
            "ticks": ""
           }
          },
          "colorscale": {
           "diverging": [
            [
             0,
             "#8e0152"
            ],
            [
             0.1,
             "#c51b7d"
            ],
            [
             0.2,
             "#de77ae"
            ],
            [
             0.3,
             "#f1b6da"
            ],
            [
             0.4,
             "#fde0ef"
            ],
            [
             0.5,
             "#f7f7f7"
            ],
            [
             0.6,
             "#e6f5d0"
            ],
            [
             0.7,
             "#b8e186"
            ],
            [
             0.8,
             "#7fbc41"
            ],
            [
             0.9,
             "#4d9221"
            ],
            [
             1,
             "#276419"
            ]
           ],
           "sequential": [
            [
             0,
             "#0d0887"
            ],
            [
             0.1111111111111111,
             "#46039f"
            ],
            [
             0.2222222222222222,
             "#7201a8"
            ],
            [
             0.3333333333333333,
             "#9c179e"
            ],
            [
             0.4444444444444444,
             "#bd3786"
            ],
            [
             0.5555555555555556,
             "#d8576b"
            ],
            [
             0.6666666666666666,
             "#ed7953"
            ],
            [
             0.7777777777777778,
             "#fb9f3a"
            ],
            [
             0.8888888888888888,
             "#fdca26"
            ],
            [
             1,
             "#f0f921"
            ]
           ],
           "sequentialminus": [
            [
             0,
             "#0d0887"
            ],
            [
             0.1111111111111111,
             "#46039f"
            ],
            [
             0.2222222222222222,
             "#7201a8"
            ],
            [
             0.3333333333333333,
             "#9c179e"
            ],
            [
             0.4444444444444444,
             "#bd3786"
            ],
            [
             0.5555555555555556,
             "#d8576b"
            ],
            [
             0.6666666666666666,
             "#ed7953"
            ],
            [
             0.7777777777777778,
             "#fb9f3a"
            ],
            [
             0.8888888888888888,
             "#fdca26"
            ],
            [
             1,
             "#f0f921"
            ]
           ]
          },
          "colorway": [
           "#636efa",
           "#EF553B",
           "#00cc96",
           "#ab63fa",
           "#FFA15A",
           "#19d3f3",
           "#FF6692",
           "#B6E880",
           "#FF97FF",
           "#FECB52"
          ],
          "font": {
           "color": "#2a3f5f"
          },
          "geo": {
           "bgcolor": "white",
           "lakecolor": "white",
           "landcolor": "#E5ECF6",
           "showlakes": true,
           "showland": true,
           "subunitcolor": "white"
          },
          "hoverlabel": {
           "align": "left"
          },
          "hovermode": "closest",
          "mapbox": {
           "style": "light"
          },
          "paper_bgcolor": "white",
          "plot_bgcolor": "#E5ECF6",
          "polar": {
           "angularaxis": {
            "gridcolor": "white",
            "linecolor": "white",
            "ticks": ""
           },
           "bgcolor": "#E5ECF6",
           "radialaxis": {
            "gridcolor": "white",
            "linecolor": "white",
            "ticks": ""
           }
          },
          "scene": {
           "xaxis": {
            "backgroundcolor": "#E5ECF6",
            "gridcolor": "white",
            "gridwidth": 2,
            "linecolor": "white",
            "showbackground": true,
            "ticks": "",
            "zerolinecolor": "white"
           },
           "yaxis": {
            "backgroundcolor": "#E5ECF6",
            "gridcolor": "white",
            "gridwidth": 2,
            "linecolor": "white",
            "showbackground": true,
            "ticks": "",
            "zerolinecolor": "white"
           },
           "zaxis": {
            "backgroundcolor": "#E5ECF6",
            "gridcolor": "white",
            "gridwidth": 2,
            "linecolor": "white",
            "showbackground": true,
            "ticks": "",
            "zerolinecolor": "white"
           }
          },
          "shapedefaults": {
           "line": {
            "color": "#2a3f5f"
           }
          },
          "ternary": {
           "aaxis": {
            "gridcolor": "white",
            "linecolor": "white",
            "ticks": ""
           },
           "baxis": {
            "gridcolor": "white",
            "linecolor": "white",
            "ticks": ""
           },
           "bgcolor": "#E5ECF6",
           "caxis": {
            "gridcolor": "white",
            "linecolor": "white",
            "ticks": ""
           }
          },
          "title": {
           "x": 0.05
          },
          "xaxis": {
           "automargin": true,
           "gridcolor": "white",
           "linecolor": "white",
           "ticks": "",
           "title": {
            "standoff": 15
           },
           "zerolinecolor": "white",
           "zerolinewidth": 2
          },
          "yaxis": {
           "automargin": true,
           "gridcolor": "white",
           "linecolor": "white",
           "ticks": "",
           "title": {
            "standoff": 15
           },
           "zerolinecolor": "white",
           "zerolinewidth": 2
          }
         }
        },
        "title": {
         "text": "Excerise-induced angina by condition (0 = no heart disease, 1 = heart disease)"
        },
        "xaxis": {
         "anchor": "y",
         "domain": [
          0,
          1
         ],
         "title": {
          "text": "exang"
         }
        },
        "yaxis": {
         "anchor": "x",
         "domain": [
          0,
          1
         ],
         "title": {
          "text": "count"
         }
        }
       }
      },
      "text/html": [
       "<div>                            <div id=\"4c2c1291-f3da-42a0-af7c-159cd9c9fc21\" class=\"plotly-graph-div\" style=\"height:525px; width:100%;\"></div>            <script type=\"text/javascript\">                require([\"plotly\"], function(Plotly) {                    window.PLOTLYENV=window.PLOTLYENV || {};                                    if (document.getElementById(\"4c2c1291-f3da-42a0-af7c-159cd9c9fc21\")) {                    Plotly.newPlot(                        \"4c2c1291-f3da-42a0-af7c-159cd9c9fc21\",                        [{\"alignmentgroup\": \"True\", \"hovertemplate\": \"condition=0<br>exang=%{x}<br>count=%{y}<extra></extra>\", \"legendgroup\": \"0\", \"marker\": {\"color\": \"#636efa\"}, \"name\": \"0\", \"offsetgroup\": \"0\", \"orientation\": \"v\", \"showlegend\": true, \"textposition\": \"auto\", \"type\": \"bar\", \"x\": [\"0\", \"1\"], \"xaxis\": \"x\", \"y\": [137, 23], \"yaxis\": \"y\"}, {\"alignmentgroup\": \"True\", \"hovertemplate\": \"condition=1<br>exang=%{x}<br>count=%{y}<extra></extra>\", \"legendgroup\": \"1\", \"marker\": {\"color\": \"#EF553B\"}, \"name\": \"1\", \"offsetgroup\": \"1\", \"orientation\": \"v\", \"showlegend\": true, \"textposition\": \"auto\", \"type\": \"bar\", \"x\": [\"0\", \"1\"], \"xaxis\": \"x\", \"y\": [63, 74], \"yaxis\": \"y\"}],                        {\"barmode\": \"group\", \"legend\": {\"title\": {\"text\": \"condition\"}, \"tracegroupgap\": 0}, \"template\": {\"data\": {\"bar\": [{\"error_x\": {\"color\": \"#2a3f5f\"}, \"error_y\": {\"color\": \"#2a3f5f\"}, \"marker\": {\"line\": {\"color\": \"#E5ECF6\", \"width\": 0.5}}, \"type\": \"bar\"}], \"barpolar\": [{\"marker\": {\"line\": {\"color\": \"#E5ECF6\", \"width\": 0.5}}, \"type\": \"barpolar\"}], \"carpet\": [{\"aaxis\": {\"endlinecolor\": \"#2a3f5f\", \"gridcolor\": \"white\", \"linecolor\": \"white\", \"minorgridcolor\": \"white\", \"startlinecolor\": \"#2a3f5f\"}, \"baxis\": {\"endlinecolor\": \"#2a3f5f\", \"gridcolor\": \"white\", \"linecolor\": \"white\", \"minorgridcolor\": \"white\", \"startlinecolor\": \"#2a3f5f\"}, \"type\": \"carpet\"}], \"choropleth\": [{\"colorbar\": {\"outlinewidth\": 0, \"ticks\": \"\"}, \"type\": \"choropleth\"}], \"contour\": [{\"colorbar\": {\"outlinewidth\": 0, \"ticks\": \"\"}, \"colorscale\": [[0.0, \"#0d0887\"], [0.1111111111111111, \"#46039f\"], [0.2222222222222222, \"#7201a8\"], [0.3333333333333333, \"#9c179e\"], [0.4444444444444444, \"#bd3786\"], [0.5555555555555556, \"#d8576b\"], [0.6666666666666666, \"#ed7953\"], [0.7777777777777778, \"#fb9f3a\"], [0.8888888888888888, \"#fdca26\"], [1.0, \"#f0f921\"]], \"type\": \"contour\"}], \"contourcarpet\": [{\"colorbar\": {\"outlinewidth\": 0, \"ticks\": \"\"}, \"type\": \"contourcarpet\"}], \"heatmap\": [{\"colorbar\": {\"outlinewidth\": 0, \"ticks\": \"\"}, \"colorscale\": [[0.0, \"#0d0887\"], [0.1111111111111111, \"#46039f\"], [0.2222222222222222, \"#7201a8\"], [0.3333333333333333, \"#9c179e\"], [0.4444444444444444, \"#bd3786\"], [0.5555555555555556, \"#d8576b\"], [0.6666666666666666, \"#ed7953\"], [0.7777777777777778, \"#fb9f3a\"], [0.8888888888888888, \"#fdca26\"], [1.0, \"#f0f921\"]], \"type\": \"heatmap\"}], \"heatmapgl\": [{\"colorbar\": {\"outlinewidth\": 0, \"ticks\": \"\"}, \"colorscale\": [[0.0, \"#0d0887\"], [0.1111111111111111, \"#46039f\"], [0.2222222222222222, \"#7201a8\"], [0.3333333333333333, \"#9c179e\"], [0.4444444444444444, \"#bd3786\"], [0.5555555555555556, \"#d8576b\"], [0.6666666666666666, \"#ed7953\"], [0.7777777777777778, \"#fb9f3a\"], [0.8888888888888888, \"#fdca26\"], [1.0, \"#f0f921\"]], \"type\": \"heatmapgl\"}], \"histogram\": [{\"marker\": {\"colorbar\": {\"outlinewidth\": 0, \"ticks\": \"\"}}, \"type\": \"histogram\"}], \"histogram2d\": [{\"colorbar\": {\"outlinewidth\": 0, \"ticks\": \"\"}, \"colorscale\": [[0.0, \"#0d0887\"], [0.1111111111111111, \"#46039f\"], [0.2222222222222222, \"#7201a8\"], [0.3333333333333333, \"#9c179e\"], [0.4444444444444444, \"#bd3786\"], [0.5555555555555556, \"#d8576b\"], [0.6666666666666666, \"#ed7953\"], [0.7777777777777778, \"#fb9f3a\"], [0.8888888888888888, \"#fdca26\"], [1.0, \"#f0f921\"]], \"type\": \"histogram2d\"}], \"histogram2dcontour\": [{\"colorbar\": {\"outlinewidth\": 0, \"ticks\": \"\"}, \"colorscale\": [[0.0, \"#0d0887\"], [0.1111111111111111, \"#46039f\"], [0.2222222222222222, \"#7201a8\"], [0.3333333333333333, \"#9c179e\"], [0.4444444444444444, \"#bd3786\"], [0.5555555555555556, \"#d8576b\"], [0.6666666666666666, \"#ed7953\"], [0.7777777777777778, \"#fb9f3a\"], [0.8888888888888888, \"#fdca26\"], [1.0, \"#f0f921\"]], \"type\": \"histogram2dcontour\"}], \"mesh3d\": [{\"colorbar\": {\"outlinewidth\": 0, \"ticks\": \"\"}, \"type\": \"mesh3d\"}], \"parcoords\": [{\"line\": {\"colorbar\": {\"outlinewidth\": 0, \"ticks\": \"\"}}, \"type\": \"parcoords\"}], \"pie\": [{\"automargin\": true, \"type\": \"pie\"}], \"scatter\": [{\"marker\": {\"colorbar\": {\"outlinewidth\": 0, \"ticks\": \"\"}}, \"type\": \"scatter\"}], \"scatter3d\": [{\"line\": {\"colorbar\": {\"outlinewidth\": 0, \"ticks\": \"\"}}, \"marker\": {\"colorbar\": {\"outlinewidth\": 0, \"ticks\": \"\"}}, \"type\": \"scatter3d\"}], \"scattercarpet\": [{\"marker\": {\"colorbar\": {\"outlinewidth\": 0, \"ticks\": \"\"}}, \"type\": \"scattercarpet\"}], \"scattergeo\": [{\"marker\": {\"colorbar\": {\"outlinewidth\": 0, \"ticks\": \"\"}}, \"type\": \"scattergeo\"}], \"scattergl\": [{\"marker\": {\"colorbar\": {\"outlinewidth\": 0, \"ticks\": \"\"}}, \"type\": \"scattergl\"}], \"scattermapbox\": [{\"marker\": {\"colorbar\": {\"outlinewidth\": 0, \"ticks\": \"\"}}, \"type\": \"scattermapbox\"}], \"scatterpolar\": [{\"marker\": {\"colorbar\": {\"outlinewidth\": 0, \"ticks\": \"\"}}, \"type\": \"scatterpolar\"}], \"scatterpolargl\": [{\"marker\": {\"colorbar\": {\"outlinewidth\": 0, \"ticks\": \"\"}}, \"type\": \"scatterpolargl\"}], \"scatterternary\": [{\"marker\": {\"colorbar\": {\"outlinewidth\": 0, \"ticks\": \"\"}}, \"type\": \"scatterternary\"}], \"surface\": [{\"colorbar\": {\"outlinewidth\": 0, \"ticks\": \"\"}, \"colorscale\": [[0.0, \"#0d0887\"], [0.1111111111111111, \"#46039f\"], [0.2222222222222222, \"#7201a8\"], [0.3333333333333333, \"#9c179e\"], [0.4444444444444444, \"#bd3786\"], [0.5555555555555556, \"#d8576b\"], [0.6666666666666666, \"#ed7953\"], [0.7777777777777778, \"#fb9f3a\"], [0.8888888888888888, \"#fdca26\"], [1.0, \"#f0f921\"]], \"type\": \"surface\"}], \"table\": [{\"cells\": {\"fill\": {\"color\": \"#EBF0F8\"}, \"line\": {\"color\": \"white\"}}, \"header\": {\"fill\": {\"color\": \"#C8D4E3\"}, \"line\": {\"color\": \"white\"}}, \"type\": \"table\"}]}, \"layout\": {\"annotationdefaults\": {\"arrowcolor\": \"#2a3f5f\", \"arrowhead\": 0, \"arrowwidth\": 1}, \"coloraxis\": {\"colorbar\": {\"outlinewidth\": 0, \"ticks\": \"\"}}, \"colorscale\": {\"diverging\": [[0, \"#8e0152\"], [0.1, \"#c51b7d\"], [0.2, \"#de77ae\"], [0.3, \"#f1b6da\"], [0.4, \"#fde0ef\"], [0.5, \"#f7f7f7\"], [0.6, \"#e6f5d0\"], [0.7, \"#b8e186\"], [0.8, \"#7fbc41\"], [0.9, \"#4d9221\"], [1, \"#276419\"]], \"sequential\": [[0.0, \"#0d0887\"], [0.1111111111111111, \"#46039f\"], [0.2222222222222222, \"#7201a8\"], [0.3333333333333333, \"#9c179e\"], [0.4444444444444444, \"#bd3786\"], [0.5555555555555556, \"#d8576b\"], [0.6666666666666666, \"#ed7953\"], [0.7777777777777778, \"#fb9f3a\"], [0.8888888888888888, \"#fdca26\"], [1.0, \"#f0f921\"]], \"sequentialminus\": [[0.0, \"#0d0887\"], [0.1111111111111111, \"#46039f\"], [0.2222222222222222, \"#7201a8\"], [0.3333333333333333, \"#9c179e\"], [0.4444444444444444, \"#bd3786\"], [0.5555555555555556, \"#d8576b\"], [0.6666666666666666, \"#ed7953\"], [0.7777777777777778, \"#fb9f3a\"], [0.8888888888888888, \"#fdca26\"], [1.0, \"#f0f921\"]]}, \"colorway\": [\"#636efa\", \"#EF553B\", \"#00cc96\", \"#ab63fa\", \"#FFA15A\", \"#19d3f3\", \"#FF6692\", \"#B6E880\", \"#FF97FF\", \"#FECB52\"], \"font\": {\"color\": \"#2a3f5f\"}, \"geo\": {\"bgcolor\": \"white\", \"lakecolor\": \"white\", \"landcolor\": \"#E5ECF6\", \"showlakes\": true, \"showland\": true, \"subunitcolor\": \"white\"}, \"hoverlabel\": {\"align\": \"left\"}, \"hovermode\": \"closest\", \"mapbox\": {\"style\": \"light\"}, \"paper_bgcolor\": \"white\", \"plot_bgcolor\": \"#E5ECF6\", \"polar\": {\"angularaxis\": {\"gridcolor\": \"white\", \"linecolor\": \"white\", \"ticks\": \"\"}, \"bgcolor\": \"#E5ECF6\", \"radialaxis\": {\"gridcolor\": \"white\", \"linecolor\": \"white\", \"ticks\": \"\"}}, \"scene\": {\"xaxis\": {\"backgroundcolor\": \"#E5ECF6\", \"gridcolor\": \"white\", \"gridwidth\": 2, \"linecolor\": \"white\", \"showbackground\": true, \"ticks\": \"\", \"zerolinecolor\": \"white\"}, \"yaxis\": {\"backgroundcolor\": \"#E5ECF6\", \"gridcolor\": \"white\", \"gridwidth\": 2, \"linecolor\": \"white\", \"showbackground\": true, \"ticks\": \"\", \"zerolinecolor\": \"white\"}, \"zaxis\": {\"backgroundcolor\": \"#E5ECF6\", \"gridcolor\": \"white\", \"gridwidth\": 2, \"linecolor\": \"white\", \"showbackground\": true, \"ticks\": \"\", \"zerolinecolor\": \"white\"}}, \"shapedefaults\": {\"line\": {\"color\": \"#2a3f5f\"}}, \"ternary\": {\"aaxis\": {\"gridcolor\": \"white\", \"linecolor\": \"white\", \"ticks\": \"\"}, \"baxis\": {\"gridcolor\": \"white\", \"linecolor\": \"white\", \"ticks\": \"\"}, \"bgcolor\": \"#E5ECF6\", \"caxis\": {\"gridcolor\": \"white\", \"linecolor\": \"white\", \"ticks\": \"\"}}, \"title\": {\"x\": 0.05}, \"xaxis\": {\"automargin\": true, \"gridcolor\": \"white\", \"linecolor\": \"white\", \"ticks\": \"\", \"title\": {\"standoff\": 15}, \"zerolinecolor\": \"white\", \"zerolinewidth\": 2}, \"yaxis\": {\"automargin\": true, \"gridcolor\": \"white\", \"linecolor\": \"white\", \"ticks\": \"\", \"title\": {\"standoff\": 15}, \"zerolinecolor\": \"white\", \"zerolinewidth\": 2}}}, \"title\": {\"text\": \"Excerise-induced angina by condition (0 = no heart disease, 1 = heart disease)\"}, \"xaxis\": {\"anchor\": \"y\", \"domain\": [0.0, 1.0], \"title\": {\"text\": \"exang\"}}, \"yaxis\": {\"anchor\": \"x\", \"domain\": [0.0, 1.0], \"title\": {\"text\": \"count\"}}},                        {\"responsive\": true}                    ).then(function(){\n",
       "                            \n",
       "var gd = document.getElementById('4c2c1291-f3da-42a0-af7c-159cd9c9fc21');\n",
       "var x = new MutationObserver(function (mutations, observer) {{\n",
       "        var display = window.getComputedStyle(gd).display;\n",
       "        if (!display || display === 'none') {{\n",
       "            console.log([gd, 'removed!']);\n",
       "            Plotly.purge(gd);\n",
       "            observer.disconnect();\n",
       "        }}\n",
       "}});\n",
       "\n",
       "// Listen for the removal of the full notebook cells\n",
       "var notebookContainer = gd.closest('#notebook-container');\n",
       "if (notebookContainer) {{\n",
       "    x.observe(notebookContainer, {childList: true});\n",
       "}}\n",
       "\n",
       "// Listen for the clearing of the current output cell\n",
       "var outputEl = gd.closest('.output');\n",
       "if (outputEl) {{\n",
       "    x.observe(outputEl, {childList: true});\n",
       "}}\n",
       "\n",
       "                        })                };                });            </script>        </div>"
      ]
     },
     "metadata": {},
     "output_type": "display_data"
    }
   ],
   "source": [
    "exang_counts = df.groupby(['exang', 'condition']).size().reset_index(name = 'count')\n",
    "\n",
    "fig = px.bar(exang_counts,\n",
    "             x = 'exang',\n",
    "             y = 'count',\n",
    "             color = 'condition',\n",
    "            barmode = 'group',\n",
    "            title = 'Excerise-induced angina by condition (0 = no heart disease, 1 = heart disease)')\n",
    "fig.show()"
   ]
  },
  {
   "cell_type": "markdown",
   "metadata": {},
   "source": [
    "### Relationship between 'cp' and 'condition'"
   ]
  },
  {
   "cell_type": "markdown",
   "metadata": {},
   "source": [
    "(provide brief description of what [x] is, and how it might relate to [target])"
   ]
  },
  {
   "cell_type": "markdown",
   "metadata": {},
   "source": [
    "__histo and dist don't work great for cp__"
   ]
  },
  {
   "cell_type": "markdown",
   "metadata": {},
   "source": [
    "### Relationship between 'slope' and 'condition'"
   ]
  },
  {
   "cell_type": "markdown",
   "metadata": {},
   "source": [
    "(provide brief description of what [x] is, and how it might relate to [target])"
   ]
  },
  {
   "cell_type": "markdown",
   "metadata": {},
   "source": [
    "__hist and dist don't work for this feature__"
   ]
  },
  {
   "cell_type": "markdown",
   "metadata": {},
   "source": [
    "### Relationship between 'sex' and 'condition'"
   ]
  },
  {
   "cell_type": "markdown",
   "metadata": {},
   "source": [
    "(provide brief description of what [x] is, and how it might relate to [target])"
   ]
  },
  {
   "cell_type": "markdown",
   "metadata": {},
   "source": [
    "### Auxilary Analysis"
   ]
  },
  {
   "cell_type": "markdown",
   "metadata": {},
   "source": [
    "(any other visualization of interest)"
   ]
  },
  {
   "cell_type": "markdown",
   "metadata": {},
   "source": [
    "## Machine Learning"
   ]
  },
  {
   "cell_type": "markdown",
   "metadata": {},
   "source": [
    "### Prepare the data: train test split"
   ]
  },
  {
   "cell_type": "code",
   "execution_count": 7,
   "metadata": {},
   "outputs": [],
   "source": [
    "# train-test-split"
   ]
  },
  {
   "cell_type": "markdown",
   "metadata": {},
   "source": [
    "(explain how you will evaluate the model (accuracy, rocauc, etc)."
   ]
  },
  {
   "cell_type": "markdown",
   "metadata": {},
   "source": [
    "### Evaluation of Different Machine Learning Models"
   ]
  },
  {
   "cell_type": "markdown",
   "metadata": {},
   "source": [
    "(brief prose explaining which models will be tested)"
   ]
  },
  {
   "cell_type": "markdown",
   "metadata": {},
   "source": [
    "#### Logistic Regression"
   ]
  },
  {
   "cell_type": "code",
   "execution_count": 8,
   "metadata": {},
   "outputs": [],
   "source": [
    "# define the model and parameters to search by\n",
    "\n",
    "# fit the grid search model\n",
    "\n",
    "# print results"
   ]
  },
  {
   "cell_type": "code",
   "execution_count": 9,
   "metadata": {},
   "outputs": [],
   "source": [
    "# add to evaluation list"
   ]
  },
  {
   "cell_type": "code",
   "execution_count": 10,
   "metadata": {},
   "outputs": [],
   "source": [
    "# confusion matrix"
   ]
  },
  {
   "cell_type": "markdown",
   "metadata": {},
   "source": [
    "#### Support Vector"
   ]
  },
  {
   "cell_type": "code",
   "execution_count": 11,
   "metadata": {},
   "outputs": [],
   "source": [
    "# define the model and parameters to search by\n",
    "\n",
    "# fit the grid search model\n",
    "\n",
    "# print results"
   ]
  },
  {
   "cell_type": "code",
   "execution_count": 12,
   "metadata": {},
   "outputs": [],
   "source": [
    "# add to evaluation list"
   ]
  },
  {
   "cell_type": "code",
   "execution_count": 13,
   "metadata": {},
   "outputs": [],
   "source": [
    "# confusion matrix"
   ]
  },
  {
   "cell_type": "markdown",
   "metadata": {},
   "source": [
    "#### K Nearest Neighbors Classifier"
   ]
  },
  {
   "cell_type": "code",
   "execution_count": 14,
   "metadata": {},
   "outputs": [],
   "source": [
    "# define the model and parameters to search by\n",
    "\n",
    "# fit the grid search model\n",
    "\n",
    "# print results"
   ]
  },
  {
   "cell_type": "code",
   "execution_count": 15,
   "metadata": {},
   "outputs": [],
   "source": [
    "# add to evaluation list"
   ]
  },
  {
   "cell_type": "code",
   "execution_count": 16,
   "metadata": {},
   "outputs": [],
   "source": [
    "# confusion matrix"
   ]
  },
  {
   "cell_type": "markdown",
   "metadata": {},
   "source": [
    "#### Decision Tree Classifier"
   ]
  },
  {
   "cell_type": "code",
   "execution_count": 17,
   "metadata": {},
   "outputs": [],
   "source": [
    "# define the model and parameters to search by\n",
    "\n",
    "# fit the grid search model\n",
    "\n",
    "# print results"
   ]
  },
  {
   "cell_type": "code",
   "execution_count": 18,
   "metadata": {},
   "outputs": [],
   "source": [
    "# add to evaluation list"
   ]
  },
  {
   "cell_type": "code",
   "execution_count": 19,
   "metadata": {},
   "outputs": [],
   "source": [
    "# confusion matrix"
   ]
  },
  {
   "cell_type": "markdown",
   "metadata": {},
   "source": [
    "#### Random Forest Classifier"
   ]
  },
  {
   "cell_type": "code",
   "execution_count": 20,
   "metadata": {},
   "outputs": [],
   "source": [
    "# define the model and parameters to search by\n",
    "\n",
    "# fit the grid search model\n",
    "\n",
    "# print results"
   ]
  },
  {
   "cell_type": "code",
   "execution_count": 21,
   "metadata": {},
   "outputs": [],
   "source": [
    "# add to evaluation list"
   ]
  },
  {
   "cell_type": "code",
   "execution_count": 22,
   "metadata": {},
   "outputs": [],
   "source": [
    "# confusion matrix"
   ]
  },
  {
   "cell_type": "markdown",
   "metadata": {},
   "source": [
    "#### Gradient Boosting Classifier"
   ]
  },
  {
   "cell_type": "code",
   "execution_count": 23,
   "metadata": {},
   "outputs": [],
   "source": [
    "# define the model and parameters to search by\n",
    "\n",
    "# fit the grid search model\n",
    "\n",
    "# print results"
   ]
  },
  {
   "cell_type": "code",
   "execution_count": 24,
   "metadata": {},
   "outputs": [],
   "source": [
    "# add to evaluation list"
   ]
  },
  {
   "cell_type": "code",
   "execution_count": 25,
   "metadata": {},
   "outputs": [],
   "source": [
    "# confusion matrix"
   ]
  },
  {
   "cell_type": "markdown",
   "metadata": {},
   "source": [
    "### Analysis of Best Model"
   ]
  },
  {
   "cell_type": "code",
   "execution_count": 26,
   "metadata": {},
   "outputs": [],
   "source": [
    "# barplot where each bar is the evaluation score for the various models"
   ]
  },
  {
   "cell_type": "markdown",
   "metadata": {},
   "source": [
    "## References"
   ]
  }
 ],
 "metadata": {
  "kernelspec": {
   "display_name": "Python 3",
   "language": "python",
   "name": "python3"
  },
  "language_info": {
   "codemirror_mode": {
    "name": "ipython",
    "version": 3
   },
   "file_extension": ".py",
   "mimetype": "text/x-python",
   "name": "python",
   "nbconvert_exporter": "python",
   "pygments_lexer": "ipython3",
   "version": "3.7.7"
  }
 },
 "nbformat": 4,
 "nbformat_minor": 4
}
